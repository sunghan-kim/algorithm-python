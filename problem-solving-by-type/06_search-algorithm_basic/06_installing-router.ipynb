{
 "cells": [
  {
   "cell_type": "markdown",
   "metadata": {},
   "source": [
    "# 6. 공유기 설치\n",
    "\n",
    "- 난이도 : 중(Medium)\n",
    "- 유형 : 이진 탐색\n",
    "- 추천 풀이 시간 : 40분\n",
    "- [문제 설명 링크 : https://www.acmicpc.net/problem/2110](https://www.acmicpc.net/problem/2110)"
   ]
  },
  {
   "cell_type": "markdown",
   "metadata": {},
   "source": [
    "<br>\n",
    "\n",
    "## 6.1 문제 설명\n",
    "\n",
    "- 제한 시간 : 2초\n",
    "- 메모리 제한 : 128 MB"
   ]
  },
  {
   "cell_type": "markdown",
   "metadata": {},
   "source": [
    "<br>\n",
    "\n",
    "### 6.1.1 문제\n",
    "\n",
    "도현이의 집 N개가 수직선 위에 있다. 각각의 집의 좌표는 $x_1$, ..., $x_N$이고, 집 여러개가 같은 좌표를 가지는 일은 없다.\n",
    "\n",
    "도현이는 언제 어디서나 와이파이를 즐기기 위해서 집에 공유기 C개를 설치하려고 한다. 최대한 많은 곳에서 와이파이를 사용하려고 하기 때문에, 한 집에는 공유기를 하나만 설치할 수 있고, 가장 인접한 두 공유기 사이의 거리를 가능한 크게 하여 설치하려고 한다.\n",
    "\n",
    "C개의 공유기를 N개의 집에 적당히 설치해서, 가장 인접한 두 공유기 사이의 거리를 최대로 하는 프로그램을 작성하시오."
   ]
  },
  {
   "cell_type": "markdown",
   "metadata": {},
   "source": [
    "<br>\n",
    "\n",
    "### 6.1.2 입력\n",
    "\n",
    "첫째 줄에 집의 개수 N (2 ≤ N ≤ 200,000)과 공유기의 개수 C (2 ≤ C ≤ N)이 하나 이상의 빈 칸을 사이에 두고 주어진다. 둘째 줄부터 N개의 줄에는 집의 좌표를 나타내는 $x_i$ (1 ≤ $x_i$ ≤ 1,000,000,000)가 한 줄에 하나씩 주어진다."
   ]
  },
  {
   "cell_type": "markdown",
   "metadata": {},
   "source": [
    "<br>\n",
    "\n",
    "### 6.1.3 출력\n",
    "\n",
    "첫째 줄에 가장 인접한 두 공유기 사이의 최대 거리를 출력한다."
   ]
  },
  {
   "cell_type": "markdown",
   "metadata": {},
   "source": [
    "<br>\n",
    "\n",
    "### 6.1.4 입출력 예제\n",
    "\n",
    "**예제 입력 1**\n",
    "\n",
    "```\n",
    "5 3\n",
    "1\n",
    "2\n",
    "8\n",
    "4\n",
    "9\n",
    "```\n",
    "\n",
    "**예제 출력 1**\n",
    "\n",
    "```\n",
    "3\n",
    "```"
   ]
  },
  {
   "cell_type": "markdown",
   "metadata": {},
   "source": [
    "<br>\n",
    "\n",
    "### 6.1.5 힌트\n",
    "\n",
    "- 공유기를 1, 4, 8 또는 1, 4, 9에 설치하면 가장 인접한 두 공유기 사이의 거리는 3이고, 이 거리보다 크게 공유기를 3개 설치할 수 없다."
   ]
  },
  {
   "cell_type": "markdown",
   "metadata": {},
   "source": [
    "<br>\n",
    "\n",
    "## 6.2 직접 구현"
   ]
  },
  {
   "cell_type": "markdown",
   "metadata": {},
   "source": [
    "### 6.2.1 직접 구현 코드\n",
    "\n",
    "- 메모리 초과"
   ]
  },
  {
   "cell_type": "code",
   "execution_count": 16,
   "metadata": {},
   "outputs": [
    {
     "name": "stdin",
     "output_type": "stream",
     "text": [
      " 5 3\n",
      " 1\n",
      " 2\n",
      " 8\n",
      " 4\n",
      " 9\n"
     ]
    },
    {
     "name": "stdout",
     "output_type": "stream",
     "text": [
      "3\n"
     ]
    }
   ],
   "source": [
    "from itertools import combinations\n",
    "\n",
    "n, c = map(int, input().split())\n",
    "x = []\n",
    "\n",
    "for _ in range(n):\n",
    "    x.append(int(input()))\n",
    "    \n",
    "x_combinations = list(combinations(x, 3))\n",
    "\n",
    "distances = []\n",
    "for combination in x_combinations:\n",
    "    distances_tmp = []\n",
    "    for i in range(c-1):\n",
    "        for j in range(i+1, c):\n",
    "            distances_tmp.append(abs(combination[i] - combination[j]))\n",
    "    \n",
    "    distances.append(min(distances_tmp))\n",
    "            \n",
    "print(max(distances))"
   ]
  },
  {
   "cell_type": "markdown",
   "metadata": {},
   "source": [
    "<br>\n",
    "\n",
    "## 6.3 해설"
   ]
  },
  {
   "cell_type": "markdown",
   "metadata": {},
   "source": [
    "### 6.3.1 해설 내용\n",
    "\n",
    "- 집의 개수 N은 최대 200,000이며, 집의 좌표 X는 최대 1,000,000,000(10억)이다.\n",
    "  - 어떠한 값이 x와 같이 매우 크고 탐색을 해야 할 경우, 이진 탐색을 고려해 봐야 한다.  \n",
    "  (이진 탐색의 시간 복잡도 = $O(log n)$)  \n",
    "  \n",
    "  \n",
    "- 이진 탐새개을 이용하여 $O \\left( N log X \\right)$에 문제를 해결할 수 있다.\n",
    "  - $O \\left( N log X \\right) \\approx 200,000 \\times 30 = 6,000,000$   \n",
    "  \n",
    "  \n",
    "- 가장 인접한 두 공유기 사이의 **최대 Gap**을 이진 탐색으로 찾는다."
   ]
  },
  {
   "cell_type": "markdown",
   "metadata": {},
   "source": [
    "- 반복적으로 Gap을 설정하며, C개 이상의 공유기를 설치할 수 있는 경우를 찾는다.\n",
    "  - N = 5\n",
    "  - C = 3"
   ]
  },
  {
   "cell_type": "markdown",
   "metadata": {},
   "source": [
    "- 집의 좌표를 입력받은 뒤 정렬을 수행한다.\n",
    "- 가장 작은 값을 가진 집과 가장 큰 값을 가진 집 사이의 거리를 최대 Gap으로 설정한다.\n",
    "  - 최대 Gap = 8 = max  \n",
    "  \n",
    "  \n",
    "- 가장 가까운 두 집 사이의 거리를 최소 Gap으로 설정한다.\n",
    "  - 최소 Gap = 1 = min  \n",
    "  \n",
    "  \n",
    "- 이진 탐색은 min과 max를 설정한 다음 중간값을 반복적으로 찾고 min과 max값을 갱신한 다음 중간값을 찾는 과정을 반복한다.\n",
    "\n",
    "$\\qquad$ <img src=\"./img/installing-router_01.jpg\" width=600 />"
   ]
  },
  {
   "cell_type": "markdown",
   "metadata": {},
   "source": [
    "- 설정한 min과 max의 중간값을 Gap으로 설정한다.\n",
    "  - 중간값 = 4 = mid"
   ]
  },
  {
   "cell_type": "code",
   "execution_count": 18,
   "metadata": {},
   "outputs": [
    {
     "name": "stdout",
     "output_type": "stream",
     "text": [
      "4\n"
     ]
    }
   ],
   "source": [
    "print((8+1) // 2)"
   ]
  },
  {
   "cell_type": "markdown",
   "metadata": {},
   "source": [
    "- 이제 Gap이 4라고 가정하고 공유기를 설치해본다.\n",
    "- 맨 앞의 집부터 차례대로 공유기를 설치한다.\n",
    "- 공유기를 2개밖에 설치할 수 없으므로 Gap을 감소시킨다.\n",
    "\n",
    "$\\qquad$ <img src=\"./img/installing-router_02.jpg\" width=600 />"
   ]
  },
  {
   "cell_type": "markdown",
   "metadata": {},
   "source": [
    "- Gap을 감소시키기 위해 최대 Gap(max)를 기존의 중간값(mid)보다 1 작은 값으로 갱신한다.\n",
    "\n",
    "$\\qquad$ <img src=\"./img/installing-router_03.jpg\" width=600 />"
   ]
  },
  {
   "cell_type": "markdown",
   "metadata": {},
   "source": [
    "- 이렇게 되면 중간값은 2가 된다."
   ]
  },
  {
   "cell_type": "code",
   "execution_count": 19,
   "metadata": {},
   "outputs": [
    {
     "name": "stdout",
     "output_type": "stream",
     "text": [
      "2\n"
     ]
    }
   ],
   "source": [
    "print((3+1) // 2)"
   ]
  },
  {
   "cell_type": "markdown",
   "metadata": {},
   "source": [
    "- 이제 Gap을 2로 설정하고 공유기를 설치해본다.\n",
    "- 그러면 설치할 수 있는 공유기의 개수가 C(=3) 이상이므로 **현재의 Gap을 저장**한 뒤에 Gap을 증가시킨다.\n",
    "  - Gap이 2인 경우 공유기를 설치할 수 있는 것이고, 이 Gap보다 더 큰 Gap이 있는 지를 탐색해보는 것이다.\n",
    "\n",
    "$\\qquad$ <img src=\"./img/installing-router_04.jpg\" width=600 />"
   ]
  },
  {
   "cell_type": "markdown",
   "metadata": {},
   "source": [
    "- 기존 Gap(=2)에서 1 증가시킨 새로운 Gap(=3)을 얻는다.\n",
    "\n",
    "$\\qquad$ <img src=\"./img/installing-router_05.jpg\" width=600 />"
   ]
  },
  {
   "cell_type": "markdown",
   "metadata": {},
   "source": [
    "- Gap이 3인 경우에도 C(=3)개의 공유기를 설치할 수 있다.\n",
    "- 이제 Gap이 최대 Gap과 같으므로 더 이상 Gap을 증가시킬 수 없다.\n",
    "\n",
    "$\\qquad$ <img src=\"./img/installing-router_06.jpg\" width=600 />"
   ]
  },
  {
   "cell_type": "markdown",
   "metadata": {},
   "source": [
    "<br>\n",
    "\n",
    "### 6.3.2 해설 코드\n",
    "\n",
    "- 이진 탐색은 2가지 방법으로 구현할 수 있다.\n",
    "  1. 재귀적으로 구현\n",
    "  2. 반복문으로 구현  \n",
    "  \n",
    "  \n",
    "- 일반적으로 이진 탐색 문제는 반복문으로 구현하는 것이 효율적이다."
   ]
  },
  {
   "cell_type": "code",
   "execution_count": 21,
   "metadata": {},
   "outputs": [
    {
     "name": "stdin",
     "output_type": "stream",
     "text": [
      " 5 3\n",
      " 1\n",
      " 2\n",
      " 8\n",
      " 4\n",
      " 9\n"
     ]
    },
    {
     "name": "stdout",
     "output_type": "stream",
     "text": [
      "3\n"
     ]
    }
   ],
   "source": [
    "n, c = list(map(int, input().split()))\n",
    "\n",
    "array = []\n",
    "for _ in range(n):\n",
    "    array.append(int(input()))\n",
    "array =sorted(array)\n",
    "\n",
    "start = array[1] - array[0] # min\n",
    "end = array[-1] - array[0]  # max\n",
    "result = 0\n",
    "\n",
    "while (start <= end):\n",
    "    mid = (start + end) // 2 # mid = gap\n",
    "    value = array[0]\n",
    "    count = 1 # 첫번째 집에 공유기 1개 설치\n",
    "    for i in range(1, len(array)): # 공유기가 설치된 첫 번째 집을 제외하고 탐색\n",
    "        if array[i] - value >= mid:\n",
    "            # 앞서 공유기가 설치된 집의 값과 공유기를 설치하려는 집 사이의 값이\n",
    "            # 설정한 Gap(mid)보다 큰 경우\n",
    "            # 해당 집에 공유기를 설치할 수 있으므로\n",
    "            # 공유기가 설치된 집을 변경(value = array[i])하고\n",
    "            # 설치된 공유기의 개수를 1 증가시킨다.\n",
    "            value = array[i] \n",
    "            count += 1\n",
    "    \n",
    "    if count >= c: #  C개 이상의 공유기를 설치할 수 있는 경우\n",
    "        start = mid + 1\n",
    "        result = mid\n",
    "    else: # C개 이상의 공유기를 설치할 수 없는 경우\n",
    "        end = mid - 1\n",
    "\n",
    "print(result)"
   ]
  }
 ],
 "metadata": {
  "kernelspec": {
   "display_name": "Python 3",
   "language": "python",
   "name": "python3"
  },
  "language_info": {
   "codemirror_mode": {
    "name": "ipython",
    "version": 3
   },
   "file_extension": ".py",
   "mimetype": "text/x-python",
   "name": "python",
   "nbconvert_exporter": "python",
   "pygments_lexer": "ipython3",
   "version": "3.6.9"
  }
 },
 "nbformat": 4,
 "nbformat_minor": 4
}
