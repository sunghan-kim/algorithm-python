{
 "cells": [
  {
   "cell_type": "markdown",
   "metadata": {},
   "source": [
    "# 5. 문제집\n",
    "\n",
    "- 난이도 : 중(Medium)\n",
    "- 유형 : 힙, 위상 정렬\n",
    "- 추천 풀이 시간 : 40분\n",
    "- [문제 설명 링크 : https://www.acmicpc.net/problem/1766](https://www.acmicpc.net/problem/1766)"
   ]
  },
  {
   "cell_type": "markdown",
   "metadata": {},
   "source": [
    "<br>\n",
    "\n",
    "## 5.1 해설\n",
    "\n",
    "- 본 문제는 전형적인 위상 정렬 문제이다.\n",
    "- 위상 정렬은 **순서가 정해져 있는 작업**을 차례로 수행해야 할 때, 순서를 결정해주는 알고리즘이다.\n",
    "- 위상 정렬의 시간 복잡도는 $O(V+E)$로 문제를 해결할 수 있다."
   ]
  },
  {
   "cell_type": "markdown",
   "metadata": {},
   "source": [
    "<br>\n",
    "\n",
    "### 5.1.1 위상 졍렬(Topology Sort) 알고리즘\n",
    "\n",
    "<img src=\"./img/05_01.jpg\" style=\"width: 400px; margin-left: 10px;\" />\n",
    "\n",
    "1. 진입 차수가 0인 정점을 큐에 삽입한다.\n",
    "2. 큐에서 원소를 꺼내 해당 원소와 간선을 제거한다.\n",
    "3. 제거 이후에 진입 차수가 0이 된 정점을 큐에 삽입한다.\n",
    "4. 큐가 빌 때 까지 2 - 3 과정을 반복한다.  \n",
    "  \n",
    "  \n",
    "- 모든 원소를 방문하기 전에 큐가 빈다면 사이클이 존재하는 것이다.\n",
    "- 모든 원소를 방문했다면 큐에서 꺼낸 순서가 위상 정렬의 결과이다."
   ]
  },
  {
   "cell_type": "markdown",
   "metadata": {},
   "source": [
    "<img src=\"./img/topology-sort.gif\" style=\"width: 600px; margin-left: 10px;\" />"
   ]
  },
  {
   "cell_type": "markdown",
   "metadata": {},
   "source": [
    "<br>\n",
    "\n",
    "## 5.2 구현"
   ]
  },
  {
   "cell_type": "code",
   "execution_count": 2,
   "metadata": {},
   "outputs": [
    {
     "name": "stdin",
     "output_type": "stream",
     "text": [
      " 4 2\n",
      " 4 2\n",
      " 3 1\n"
     ]
    },
    {
     "name": "stdout",
     "output_type": "stream",
     "text": [
      "3 1 4 2 "
     ]
    }
   ],
   "source": [
    "import heapq\n",
    "\n",
    "n, m = map(int, input().split())\n",
    "array = [[] for i in range(n+1)]\n",
    "indegree = [0] * (n+1)\n",
    "\n",
    "heap = []\n",
    "result = []\n",
    "\n",
    "for _ in range(m):\n",
    "    x, y = map(int, input().split())\n",
    "    array[x].append(y)\n",
    "    indegree[y] += 1\n",
    "    \n",
    "for i in range(1, n+1):\n",
    "    if indegree[i] == 0:\n",
    "        heapq.heappush(heap, i)\n",
    "        \n",
    "while heap:\n",
    "    data = heapq.heappop(heap)\n",
    "    result.append(data)\n",
    "    for y in array[data]:\n",
    "        indegree[y] -= 1\n",
    "        if indegree[y] == 0:\n",
    "            heapq.heappush(heap, y)\n",
    "            \n",
    "for i in result:\n",
    "    print(i, end=' ')"
   ]
  }
 ],
 "metadata": {
  "kernelspec": {
   "display_name": "Python 3",
   "language": "python",
   "name": "python3"
  },
  "language_info": {
   "codemirror_mode": {
    "name": "ipython",
    "version": 3
   },
   "file_extension": ".py",
   "mimetype": "text/x-python",
   "name": "python",
   "nbconvert_exporter": "python",
   "pygments_lexer": "ipython3",
   "version": "3.6.9"
  }
 },
 "nbformat": 4,
 "nbformat_minor": 4
}
