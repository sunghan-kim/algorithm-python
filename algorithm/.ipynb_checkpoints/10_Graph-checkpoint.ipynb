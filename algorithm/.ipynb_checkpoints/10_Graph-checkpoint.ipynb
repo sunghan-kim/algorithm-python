{
 "cells": [
  {
   "cell_type": "markdown",
   "metadata": {},
   "source": [
    "# 10. 그래프(Graph) 이해"
   ]
  },
  {
   "cell_type": "markdown",
   "metadata": {},
   "source": [
    "## 10.1 그래프(Graph)란?\n",
    "\n",
    "- 그래프는 실제 세계의 현상이나 사물을 정점(Vertex) 또는 노드(Node)와 간선(Edge)로 표현하기위해 사용\n",
    "- ex) 집에서 회사로 가는 경로를 그래프로 표현한 예\n",
    "\n",
    "<img src=\"https://www.fun-coding.org/00_Images/graph.png\" width=400>"
   ]
  },
  {
   "cell_type": "markdown",
   "metadata": {},
   "source": [
    "<br>\n",
    "\n",
    "## 10.2 그래프 관련 용어"
   ]
  },
  {
   "cell_type": "markdown",
   "metadata": {},
   "source": [
    "### 10.2.1 노드 (Node)\n",
    "\n",
    "- 위치를 말함\n",
    "- 정점(Vertex)라고도 함"
   ]
  },
  {
   "cell_type": "markdown",
   "metadata": {},
   "source": [
    "<br>\n",
    "\n",
    "### 10.2.2 간선 (Edge)\n",
    "\n",
    "- 위치 간의 관계를 표시한 선\n",
    "- 노드를 연결한 선\n",
    "- link 또는 branch라고도 함"
   ]
  },
  {
   "cell_type": "markdown",
   "metadata": {},
   "source": [
    "<br>\n",
    "\n",
    "### 10.2.3 인접 정점 (Adjacent Vertex)\n",
    "\n",
    "- 간선으로 직접 연결된 정점(또는 노드)"
   ]
  },
  {
   "cell_type": "markdown",
   "metadata": {},
   "source": [
    "<br>\n",
    "\n",
    "### 10.2.4 참고 용어\n",
    "\n",
    "**정점의 차수 (Degree)**\n",
    "\n",
    "- 무방향 그래프에서 하나의 정점에 인접한 정점의 수\n",
    "\n",
    "**진입 차수 (In-Degree)**\n",
    "\n",
    "- 방향 그래프에서 외부에서 오는 간선의 수\n",
    "\n",
    "**진출 차수 (Out-Degree)**\n",
    "\n",
    "- 방향 그래프에서 외부로 향하는 간선의 수\n",
    "\n",
    "**경로 길이 (Path Length)**\n",
    "\n",
    "- 경로를 구성하기 위해 사용된 간선의 수\n",
    "\n",
    "**단순 경로 (Simple Path)**\n",
    "\n",
    "- 처음 정점과 끝 정점을 제외하고 중복된 정점이 없는 경로\n",
    "- ex) 단순 경로 (A - B - C)  \n",
    "\n",
    "$\\;$ <img src=\"https://www.fun-coding.org/00_Images/simplepath.png\" width=200>\n",
    "\n",
    "**사이클 (Cycle)**\n",
    "\n",
    "- 단순 경로의 시작 정점과 종료 정점이 동일한 경우"
   ]
  },
  {
   "cell_type": "markdown",
   "metadata": {},
   "source": [
    "<br>\n",
    "\n",
    "## 10.3 그래프(Graph) 종류"
   ]
  },
  {
   "cell_type": "markdown",
   "metadata": {},
   "source": [
    "### 10.3.1 무방향 그래프 (Undirected Graph)\n",
    "\n",
    "- 방향이 없는 그래프\n",
    "- 간선을 통해 노드는 양방향으로 갈 수 있음\n",
    "- 보통 노드 `A`, `B`가 연결되어 있을 경우\n",
    "  - `(A, B)`, `(B, A)`로 표기\n",
    "\n",
    "$\\;$ <img src=\"https://www.fun-coding.org/00_Images/undirectedgraph.png\" width=300>"
   ]
  },
  {
   "cell_type": "markdown",
   "metadata": {},
   "source": [
    "<br>\n",
    "\n",
    "### 10.3.2 방향 그래프 (Directed Graph)\n",
    "\n",
    "- 간선에 방향이 있는 그래프\n",
    "- 노드 `A`, `B`가 `A -> B`로 가는 간선으로 연결되어 있는 경우\n",
    "  - `<A, B>`로표기\n",
    "- 노드 `A`, `B`가 `B -> A`로 가는 간선으로 연결되어 있는 경우\n",
    "  - `<B, A>`로 표기\n",
    "- `<A, B>`와 `<B, A>`는 다른 그래프이다.\n",
    "\n",
    "$\\;$ <img src=\"https://www.fun-coding.org/00_Images/directedgraph.png\" width=300>"
   ]
  },
  {
   "cell_type": "markdown",
   "metadata": {},
   "source": [
    "<br>\n",
    "\n",
    "### 10.3.3 가중치 그래프(Weighted Graph) 또는 네트워크(Network)\n",
    "\n",
    "- 간선에 비용 또는 가중치가 할당된 그래프\n",
    "\n",
    "$\\;$ <img src=\"https://www.fun-coding.org/00_Images/weightedgraph.png\" width=300>"
   ]
  },
  {
   "cell_type": "markdown",
   "metadata": {},
   "source": [
    "<br>\n",
    "\n",
    "### 10.3.4 연결 그래프(Connected Graph)와 비연결 그래프 (Disconnected Graph)\n",
    "\n",
    "**연결 그래프 (Connected Graph)**\n",
    "\n",
    "- 무방향 그래프에 있는 모든 노드에 대해 항상 경로가 존재하는 경우  \n",
    "\n",
    "**비연결 그래프 (Disconnected Graph)**\n",
    "\n",
    "- 무방향 그래프에서 특정 노드에 대해 경로가 존재하지 않는 경우\n",
    "  \n",
    "$\\;\\;$ <img src=\"https://www.fun-coding.org/00_Images/disconnectedgraph.png\" width=300>"
   ]
  },
  {
   "cell_type": "markdown",
   "metadata": {},
   "source": [
    "<br>\n",
    "\n",
    "### 10.3.5 사이클(Cycle)과 비순환 그래프(Acyclic Graph)\n",
    "\n",
    "**사이클 (Cycle)**\n",
    "\n",
    "- 단순 경로의 시작 노드와 종료 노드가 동일한 경우\n",
    "\n",
    "**비순환 그래프 (Acyclic Graph)**\n",
    "\n",
    "- 사이클이 없는 그래프\n",
    "\n",
    "$\\;\\;$ <img src=\"https://www.fun-coding.org/00_Images/acyclicgraph.png\" width=300>"
   ]
  },
  {
   "cell_type": "markdown",
   "metadata": {},
   "source": [
    "<br>\n",
    "\n",
    "### 10.3.6 완전 그래프 (Complete Graph)\n",
    "\n",
    "- 그래프의 모든 노드가 서로 연결되어 있는 그래프\n",
    "\n",
    "$\\;$ <img src=\"https://www.fun-coding.org/00_Images/completegraph.png\" width=300>"
   ]
  },
  {
   "cell_type": "markdown",
   "metadata": {},
   "source": [
    "<br>\n",
    "\n",
    "## 10.4 그래프와 트리의 차이\n",
    "\n",
    "- 트리는 그래프 중에 속한 특별한 종류라고 볼 수 있음\n",
    "\n",
    "<div style=\"text-align:left\">\n",
    "<table>\n",
    "  <tr>\n",
    "    <th></th>\n",
    "    <th style=\"text-align:center\">그래프</th>\n",
    "    <th style=\"text-align:center\">트리</th>\n",
    "  </tr>\n",
    "  <tr>\n",
    "    <td style=\"text-align:center\">정의</td>\n",
    "    <td style=\"text-align:left\">노드와 노드를 연결하는 간선으로 표현되는 자료 구조</td>\n",
    "    <td style=\"text-align:left\">그래프의 한 종류, 방향성이 있는 비순환 그래프</td>\n",
    "  </tr>\n",
    "  <tr>\n",
    "    <td style=\"text-align:center\">방향성</td>\n",
    "    <td style=\"text-align:left\">방향 그래프, 무방향 그래프 둘다 존재함</td>\n",
    "    <td style=\"text-align:left\">방향 그래프만 존재함</td>\n",
    "  </tr>\n",
    "  <tr>\n",
    "    <td style=\"text-align:center\">사이클</td>\n",
    "    <td style=\"text-align:left\">사이클 가능함, 순환 및 비순환 그래프 모두 존재함</td>\n",
    "    <td style=\"text-align:left\">비순환 그래프로 사이클이 존재하지 않음</td>\n",
    "  </tr>\n",
    "  <tr>\n",
    "    <td style=\"text-align:center\">루트 노드</td>\n",
    "    <td style=\"text-align:left\">루트 노드 존재하지 않음</td>\n",
    "    <td style=\"text-align:left\">루트 노드 존재함</td>\n",
    "  </tr>\n",
    "  <tr>\n",
    "    <td style=\"text-align:center\">부모/자식 관계</td>\n",
    "    <td style=\"text-align:left\">부모 자식 개념이 존재하지 않음</td>\n",
    "    <td style=\"text-align:left\">부모 자식 관계가 존재함</td>\n",
    "  </tr>\n",
    "</table>\n",
    "</div>"
   ]
  }
 ],
 "metadata": {
  "kernelspec": {
   "display_name": "Python 3",
   "language": "python",
   "name": "python3"
  },
  "language_info": {
   "codemirror_mode": {
    "name": "ipython",
    "version": 3
   },
   "file_extension": ".py",
   "mimetype": "text/x-python",
   "name": "python",
   "nbconvert_exporter": "python",
   "pygments_lexer": "ipython3",
   "version": "3.6.9"
  }
 },
 "nbformat": 4,
 "nbformat_minor": 4
}
