{
 "cells": [
  {
   "cell_type": "markdown",
   "metadata": {},
   "source": [
    "# 3. 베스트셀러\n",
    "\n",
    "- 난이도 : 하(Easy)\n",
    "- 유형 : 탐색\n",
    "- 추천 풀이 시간 : 20분\n",
    "- [문제 설명 링크 : https://www.acmicpc.net/problem/1302](https://www.acmicpc.net/problem/1302)"
   ]
  },
  {
   "cell_type": "markdown",
   "metadata": {},
   "source": [
    "<br>\n",
    "\n",
    "## 3.1 문제 설명\n",
    "\n",
    "- 제한 시간 : 2초\n",
    "- 메모리 제한 : 128 MB"
   ]
  },
  {
   "cell_type": "markdown",
   "metadata": {},
   "source": [
    "<br>\n",
    "\n",
    "### 3.1.1 문제\n",
    "\n",
    "김형택은 탑문고의 직원이다. 김형택은 계산대에서 계산을 하는 직원이다. 김형택은 그날 근무가 끝난 후에, 오늘 판매한 책의 제목을 보면서 가장 많이 팔린 책의 제목을 칠판에 써놓는 일도 같이 하고 있다.\n",
    "\n",
    "오늘 하루 동안 팔린 책의 제목이 입력으로 들어왔을 때, 가장 많이 팔린 책의 제목을 출력하는 프로그램을 작성하시오."
   ]
  },
  {
   "cell_type": "markdown",
   "metadata": {},
   "source": [
    "<br>\n",
    "\n",
    "### 3.1.2 입력\n",
    "\n",
    "첫째 줄에 오늘 하루 동안 팔린 책의 개수 N이 주어진다. 이 값은 1,000보다 작거나 같은 자연수이다. 둘째부터 N개의 줄에 책의 제목이 입력으로 들어온다. 책의 제목의 길이는 50보다 작거나 같고, 알파벳 소문자로만 이루어져 있다."
   ]
  },
  {
   "cell_type": "markdown",
   "metadata": {},
   "source": [
    "<br>\n",
    "\n",
    "### 3.1.3 출력\n",
    "\n",
    "첫째 줄에 가장 많이 팔린 책의 제목을 출력한다. 만약 가장 많이 팔린 책이 여러 개일 경우에는 사전 순으로 가장 앞서는 제목을 출력한다."
   ]
  },
  {
   "cell_type": "markdown",
   "metadata": {},
   "source": [
    "<br>\n",
    "\n",
    "### 3.1.4 입출력 예제\n",
    "\n",
    "**예제 입력 1**\n",
    "\n",
    "```\n",
    "5\n",
    "top\n",
    "top\n",
    "top\n",
    "top\n",
    "kimtop\n",
    "```\n",
    "\n",
    "**예제 출력 1**\n",
    "\n",
    "```\n",
    "top\n",
    "```"
   ]
  },
  {
   "cell_type": "markdown",
   "metadata": {},
   "source": [
    "<br>\n",
    "\n",
    "## 3.2 직접 구현"
   ]
  },
  {
   "cell_type": "markdown",
   "metadata": {},
   "source": [
    "### 3.2.1 직접 구현 코드\n",
    "\n",
    "- 틀림"
   ]
  },
  {
   "cell_type": "code",
   "execution_count": 11,
   "metadata": {},
   "outputs": [
    {
     "name": "stdin",
     "output_type": "stream",
     "text": [
      " 5\n",
      " top\n",
      " top\n",
      " top\n",
      " top\n",
      " kimtop\n"
     ]
    },
    {
     "name": "stdout",
     "output_type": "stream",
     "text": [
      "top\n"
     ]
    }
   ],
   "source": [
    "n = int(input())\n",
    "books = []\n",
    "\n",
    "for _ in range(n):\n",
    "    books.append(input())\n",
    "    \n",
    "books_count = {b : 0 for b in list(set(books))}\n",
    "\n",
    "for book in books:\n",
    "    for book2 in books_count.keys():\n",
    "        if book == book2:\n",
    "            books_count[book2] += 1\n",
    "\n",
    "books_count = sorted(books_count.items(), key=lambda x: x[1], reverse=True)\n",
    "print(books_count[0][0])"
   ]
  },
  {
   "cell_type": "markdown",
   "metadata": {},
   "source": [
    "<br>\n",
    "\n",
    "## 3.3 해설"
   ]
  },
  {
   "cell_type": "markdown",
   "metadata": {},
   "source": [
    "### 3.3.1 해설 내용\n",
    "\n",
    "- 본 문제는 가장 많이 등장한 문자열을 출력하는 문제와 동일하다.\n",
    "- 등장 횟수를 계산할 때는 파이썬의 Dictionary 자료형을 이용하면 효과적이다."
   ]
  },
  {
   "cell_type": "markdown",
   "metadata": {},
   "source": [
    "<br>\n",
    "\n",
    "### 3.3.2 해설 코드"
   ]
  },
  {
   "cell_type": "code",
   "execution_count": 12,
   "metadata": {},
   "outputs": [
    {
     "name": "stdin",
     "output_type": "stream",
     "text": [
      " 5\n",
      " top\n",
      " top\n",
      " top\n",
      " top\n",
      " t\n"
     ]
    },
    {
     "name": "stdout",
     "output_type": "stream",
     "text": [
      "top\n"
     ]
    }
   ],
   "source": [
    "n = int(input())\n",
    "\n",
    "books = {}\n",
    "\n",
    "for _ in range(n):\n",
    "    book = input()\n",
    "    if book not in books:\n",
    "        books[book] = 1\n",
    "    else:\n",
    "        books[book] += 1\n",
    "        \n",
    "target = max(books.values())\n",
    "array = []\n",
    "\n",
    "for book, number in books.items():\n",
    "    if number == target:\n",
    "        array.append(book)\n",
    "        \n",
    "print(sorted(array)[0])"
   ]
  }
 ],
 "metadata": {
  "kernelspec": {
   "display_name": "Python 3",
   "language": "python",
   "name": "python3"
  },
  "language_info": {
   "codemirror_mode": {
    "name": "ipython",
    "version": 3
   },
   "file_extension": ".py",
   "mimetype": "text/x-python",
   "name": "python",
   "nbconvert_exporter": "python",
   "pygments_lexer": "ipython3",
   "version": "3.6.9"
  }
 },
 "nbformat": 4,
 "nbformat_minor": 4
}
