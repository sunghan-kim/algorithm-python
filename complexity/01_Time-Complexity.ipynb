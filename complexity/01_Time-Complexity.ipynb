{
 "cells": [
  {
   "cell_type": "markdown",
   "metadata": {},
   "source": [
    "# 1. 알고리즘 복잡도 (Algorithm Complexity)"
   ]
  },
  {
   "cell_type": "markdown",
   "metadata": {},
   "source": [
    "## 1.1 알고리즘 복잡도 계산이 필요한 이유\n",
    "\n",
    "하나의 문제를 푸는 알고리즘은 다양할 수 있음\n",
    "\n",
    "ex) 정수의 절대값 구하기 : 1, -1 $\\Rightarrow$ 1\n",
    "\n",
    "- 방법 1 : 정수 값을 제곱한 값에 다시 루트를 씌우기\n",
    "- 방법 2 : 정수가 음수인 지 확인해서 음수일 때만 -1을 곱하기\n",
    "\n",
    "다양한 알고리즘 중 어느 알고리즘이 더 좋은 지를 분석하기 위해 복잡도를 정의하고 계산함"
   ]
  },
  {
   "cell_type": "markdown",
   "metadata": {},
   "source": [
    "<br>"
   ]
  },
  {
   "cell_type": "markdown",
   "metadata": {},
   "source": [
    "## 1.2 알고리즘 복잡도 계산 항목\n",
    "\n",
    "1. **시간 복잡도** : 알고리즘 실행 속도\n",
    "2. **공간 복잡도** : 알고리즘이 사용하는 메모리 사이즈\n",
    "\n",
    "가장 중요한 시간 복잡도를 꼭 이해하고 계산할 수 있어야 함"
   ]
  },
  {
   "cell_type": "markdown",
   "metadata": {},
   "source": [
    "<br>"
   ]
  },
  {
   "cell_type": "markdown",
   "metadata": {},
   "source": [
    "## 1.3 알고리즘 시간 복잡도의 주요 요소\n",
    "\n",
    "반복문이 지배한다.\n",
    "\n",
    "**생각해보기**\n",
    "\n",
    "> 자동차로 서울에서 부산을 가기 위해, 다음과 같이 항목을 나눴을 때, 가장 총 시간에 영향을 많이 미칠 것 같은 요소는?\n",
    "\n",
    "1. 자동차 문 열기\n",
    "2. 자동차 문 닫기\n",
    "3. 자동차 운전석 등받이 조정하기\n",
    "4. 자동차 시동걸기\n",
    "5. 자동차로 서울에서 부산가기\n",
    "6. 자동차 시동끄기\n",
    "7. 자동차 문 열기\n",
    "8. 자동차 문 닫기\n",
    "\n",
    "마찬가지로, 프로그래밍에서 시간 복잡도에 가장 영향을 많이 미치는 요소는 **반복문**이다.\n",
    "\n",
    "입력의 크기가 커지면 커질수록 반복문이 알고리즘 수행 시간을 지배한다."
   ]
  },
  {
   "cell_type": "markdown",
   "metadata": {},
   "source": [
    "<br>"
   ]
  },
  {
   "cell_type": "markdown",
   "metadata": {},
   "source": [
    "## 1.4 알고리즘 성능 표기법"
   ]
  },
  {
   "cell_type": "markdown",
   "metadata": {},
   "source": [
    "### 1.4.1 Big O (빅-오) 표기법 : $O(N)$\n",
    "\n",
    "- 알고리즘 **최악의 실행 시간**을 표기\n",
    "- 가장 많이 / 일반적으로 사용함\n",
    "- 아무리 최악의 상황이라도, 이 정도의 성능은 보장한다는 의미이기 때문"
   ]
  },
  {
   "cell_type": "markdown",
   "metadata": {},
   "source": [
    "<br>"
   ]
  },
  {
   "cell_type": "markdown",
   "metadata": {},
   "source": [
    "### 1.4.2 $\\Omega$ (오메가) 표기법 : $\\Omega(N)$\n",
    "\n",
    "- 오메가 표기법은 알고리즘 **최상의 실행 시간**을 표기"
   ]
  },
  {
   "cell_type": "markdown",
   "metadata": {},
   "source": [
    "<br>"
   ]
  },
  {
   "cell_type": "markdown",
   "metadata": {},
   "source": [
    "### 1.4.3 $\\Theta$ (세타) 표기법 : $\\Theta(N)$\n",
    "\n",
    "- 세타 표기법은 알고리즘 **평균 실행 시간**을 표기"
   ]
  },
  {
   "cell_type": "markdown",
   "metadata": {},
   "source": [
    "<br>"
   ]
  },
  {
   "cell_type": "markdown",
   "metadata": {},
   "source": [
    "### 1.4.4 알고리즘 성능 표기법 사용 방법\n",
    "\n",
    "- 시간 복잡도 계산은 반복문이 핵심 요소임을 인지\n",
    "- 계산 표기는 최상, 평균, 최악 중 최악의 시간인 Big-O 표기법을 중심으로 익히면 됨"
   ]
  },
  {
   "cell_type": "markdown",
   "metadata": {},
   "source": [
    "<br>"
   ]
  },
  {
   "cell_type": "markdown",
   "metadata": {},
   "source": [
    "## 1.5 대문자 O 표기법\n",
    "\n",
    "- 빅 오 표기법, Big-O 표기법이라고도 부름"
   ]
  },
  {
   "cell_type": "markdown",
   "metadata": {},
   "source": [
    "<br>"
   ]
  },
  {
   "cell_type": "markdown",
   "metadata": {},
   "source": [
    "### 1.5.1 형식\n",
    "\n",
    "- $O\\left(입력\\right)$\n",
    "- 입력 n에 따라 결정되는 시간 복잡도 함수"
   ]
  },
  {
   "cell_type": "markdown",
   "metadata": {},
   "source": [
    "<br>"
   ]
  },
  {
   "cell_type": "markdown",
   "metadata": {},
   "source": [
    "### 1.5.2 주요 표기법\n",
    "\n",
    "- $O(1)$\n",
    "- $O(logn)$\n",
    "- $O(n)$\n",
    "- $O(nlogn)$\n",
    "- $O(n^2)$\n",
    "- $O(2^n)$\n",
    "- $O(n!)$"
   ]
  },
  {
   "cell_type": "markdown",
   "metadata": {},
   "source": [
    "- 입력 n의 크기에 따라 기하급수적으로 시간 복잡도가 높아질 수 있다.\n",
    "  - $O(1) \\;<\\; O(logn) \\;<\\; O(n) \\;<\\; O(nlogn) \\;<\\; O(n^2) \\;<\\; O(2^n) \\;<\\; O(n!)$\n",
    "  - (참고) $log \\; n$의 베이스는 $2$ 이다. ($log_2 n$)  "
   ]
  },
  {
   "cell_type": "markdown",
   "metadata": {},
   "source": [
    "<br>"
   ]
  },
  {
   "cell_type": "markdown",
   "metadata": {},
   "source": [
    "### 1.5.3 계산 방법\n",
    "\n",
    "- 단순하게 입력 n에 따라, 몇 번 실행이 되는 지를 계산하면 된다.  \n",
    "- 표현식에 가장 큰 영향을 미치는 n 의 단위로 표기한다.\n",
    "- n이 1이든, 100이든, 1000이든, 10000이든 상관없이 실행 방법에 따라 구분된다."
   ]
  },
  {
   "cell_type": "markdown",
   "metadata": {},
   "source": [
    "**$O(1)$**\n",
    "\n",
    "- 무조건 2회(상수회) 실행한다.\n",
    "\n",
    "```python\n",
    "if n > 10:\n",
    "    print(n)\n",
    "```"
   ]
  },
  {
   "cell_type": "markdown",
   "metadata": {},
   "source": [
    "**$O(n)$**\n",
    "\n",
    "- n에 따라, n번, n+10번, 또는 3n+10번 등 실행한다.\n",
    "\n",
    "```python\n",
    "variable = 1\n",
    "for num in range(3):\n",
    "    for index in range(n):\n",
    "        print(index)\n",
    "```"
   ]
  },
  {
   "cell_type": "markdown",
   "metadata": {},
   "source": [
    "**$O(n^2)$**\n",
    "\n",
    "- n에 따라 $n^2$번, $n^2$+100번, 100$n^2$-100번, 또는 300$n^2$+1번 등 실행한다.\n",
    "\n",
    "```python\n",
    "variable = 1\n",
    "for i in range(300):\n",
    "    for num in range(n):\n",
    "        for index in range(n):\n",
    "            print(index)\n",
    "```"
   ]
  },
  {
   "cell_type": "markdown",
   "metadata": {},
   "source": [
    "<img src=\"../data-structure/img/bigo.png\" width=\"500px\" />"
   ]
  },
  {
   "cell_type": "markdown",
   "metadata": {},
   "source": [
    "<br>"
   ]
  },
  {
   "cell_type": "markdown",
   "metadata": {},
   "source": [
    "### 1.5.4 입력값 표기 방법\n",
    "\n",
    "- 시간 복잡도 함수가 $2n^2 + 3n$인 경우\n",
    "  - 가장 높은 차수 = $2n^2$\n",
    "  - 상수는 실제 큰 영향이 없음\n",
    "  - 결국 빅 오 표기법으로는 $O(n^2)$  \n",
    "  (서울부터 부산까지 가는 자동차의 예를 상기)"
   ]
  },
  {
   "cell_type": "markdown",
   "metadata": {},
   "source": [
    "<br>"
   ]
  },
  {
   "cell_type": "markdown",
   "metadata": {},
   "source": [
    "## 1.6 실제 알고리즘 예시\n",
    "\n",
    "- 실제 알고리즘을 예로 각 알고리즘의 시간 복잡도와 빅 오 표기법 알아보기"
   ]
  },
  {
   "cell_type": "markdown",
   "metadata": {},
   "source": [
    "<br>"
   ]
  },
  {
   "cell_type": "markdown",
   "metadata": {},
   "source": [
    "### 1.6.1 연습문제 1\n",
    "\n",
    "- 1부터 n까지의 합을 구하는 알고리즘 작성"
   ]
  },
  {
   "cell_type": "markdown",
   "metadata": {},
   "source": [
    "<br>"
   ]
  },
  {
   "cell_type": "markdown",
   "metadata": {},
   "source": [
    "#### 1.6.1.1 알고리즘 1\n",
    "\n",
    "- 합을 기록할 변수를 만들고 0을 저장\n",
    "- n을 1부터 1씩 증가하면서 반복\n",
    "- 반복문 안에서 합을 기록할 변수에 1씩 증가된 값을 더함\n",
    "- 반복이 끝나면 합을 출력"
   ]
  },
  {
   "cell_type": "code",
   "execution_count": 1,
   "metadata": {},
   "outputs": [],
   "source": [
    "def sum_all(n):\n",
    "    total = 0\n",
    "    for num in range(1, n+1):\n",
    "        total += num\n",
    "    return total"
   ]
  },
  {
   "cell_type": "code",
   "execution_count": 2,
   "metadata": {},
   "outputs": [
    {
     "data": {
      "text/plain": [
       "5050"
      ]
     },
     "execution_count": 2,
     "metadata": {},
     "output_type": "execute_result"
    }
   ],
   "source": [
    "sum_all(100)"
   ]
  },
  {
   "cell_type": "markdown",
   "metadata": {},
   "source": [
    "**알고리즘 1의 시간 복잡도 계산**\n",
    "\n",
    "- 입력 n에 따라서 덧셈을 n번 해야 한다. (반복문)\n",
    "- 시간 복잡도 : n\n",
    "- 빅 오 표기법 : $O(n)$"
   ]
  },
  {
   "cell_type": "markdown",
   "metadata": {},
   "source": [
    "<br>"
   ]
  },
  {
   "cell_type": "markdown",
   "metadata": {},
   "source": [
    "#### 1.6.1.2 알고리즘 2\n",
    "\n",
    "- 수열의 합 계산 공식 사용\n",
    "\n",
    "$\n",
    "\\qquad\n",
    "S(n) = {n \\left(n+1\\right) \\over 2}\n",
    "$"
   ]
  },
  {
   "cell_type": "code",
   "execution_count": 3,
   "metadata": {},
   "outputs": [],
   "source": [
    "def sum_all2(n):\n",
    "    return int(n*(n+1)/2)"
   ]
  },
  {
   "cell_type": "code",
   "execution_count": 4,
   "metadata": {},
   "outputs": [
    {
     "data": {
      "text/plain": [
       "5050"
      ]
     },
     "execution_count": 4,
     "metadata": {},
     "output_type": "execute_result"
    }
   ],
   "source": [
    "sum_all2(100)"
   ]
  },
  {
   "cell_type": "markdown",
   "metadata": {},
   "source": [
    "**알고리즘 2의 시간 복잡도 계산**\n",
    "\n",
    "- 입력 n이 어떻든 간에, 곱셈/덧셈/나눗셈을 하면 된다. (반복문 없음)\n",
    "- 시간 복잡도 : 1\n",
    "- 빅 오 표기법 : $O(1)$"
   ]
  },
  {
   "cell_type": "markdown",
   "metadata": {},
   "source": [
    "<br>"
   ]
  },
  {
   "cell_type": "markdown",
   "metadata": {},
   "source": [
    "## 1.7 성능이 좋은 알고리즘?\n",
    "\n",
    "- 알고리즘 1 vs 알고리즘 2\n",
    "- $O(n)$ vs $O(1)$"
   ]
  },
  {
   "cell_type": "markdown",
   "metadata": {},
   "source": [
    "- 이와 같이 동일한 문제를 푸는 알고리즘은 다양할 수 있다.\n",
    "- 어느 알고리즘이 보다 좋은 지를 객관적으로 비교하기 위해 빅 오 표기법 등의 시간복잡도 계산법을 사용한다."
   ]
  }
 ],
 "metadata": {
  "kernelspec": {
   "display_name": "Python 3",
   "language": "python",
   "name": "python3"
  },
  "language_info": {
   "codemirror_mode": {
    "name": "ipython",
    "version": 3
   },
   "file_extension": ".py",
   "mimetype": "text/x-python",
   "name": "python",
   "nbconvert_exporter": "python",
   "pygments_lexer": "ipython3",
   "version": "3.6.9"
  }
 },
 "nbformat": 4,
 "nbformat_minor": 4
}
