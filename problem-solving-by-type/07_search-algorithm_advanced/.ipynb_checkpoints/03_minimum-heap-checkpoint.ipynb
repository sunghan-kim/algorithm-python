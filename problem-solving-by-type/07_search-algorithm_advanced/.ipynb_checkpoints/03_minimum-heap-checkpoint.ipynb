{
 "cells": [
  {
   "cell_type": "markdown",
   "metadata": {},
   "source": [
    "# 3. 최소 힙\n",
    "\n",
    "- 난이도 : 하(Easy)\n",
    "- 유형 : 힙, 자료구조\n",
    "- 추천 풀이 시간 : 20분\n",
    "- [문제 설명 링크 : https://www.acmicpc.net/problem/1927](https://www.acmicpc.net/problem/1927)"
   ]
  },
  {
   "cell_type": "markdown",
   "metadata": {},
   "source": [
    "<br>\n",
    "\n",
    "## 3.1 직접 구현\n",
    "\n",
    "- Python3 -> 시간 초과\n",
    "- PyPy3 -> 실패"
   ]
  },
  {
   "cell_type": "code",
   "execution_count": 16,
   "metadata": {},
   "outputs": [
    {
     "name": "stdin",
     "output_type": "stream",
     "text": [
      " 9\n",
      " 0\n",
      " 12345678\n",
      " 1\n",
      " 2\n",
      " 0\n",
      " 0\n",
      " 0\n",
      " 0\n",
      " 32\n"
     ]
    },
    {
     "name": "stdout",
     "output_type": "stream",
     "text": [
      "0\n",
      "1\n",
      "2\n",
      "12345678\n",
      "0\n",
      "\n"
     ]
    }
   ],
   "source": [
    "class Heap:\n",
    "    def __init__(self):\n",
    "        self.array = list()\n",
    "        self.array.append(None)\n",
    "        \n",
    "    def move_down(self, popped_idx):\n",
    "        left_idx = popped_idx * 2\n",
    "        right_idx = popped_idx * 2 + 1\n",
    "        \n",
    "        if left_idx >= len(self.array): # case 1 : 왼쪽 자식 노드가 없을 때\n",
    "            return False\n",
    "        elif right_idx >= len(self.array): # case 2 : 오른쪽 자식 노드만 없을 때\n",
    "            if self.array[popped_idx] > self.array[left_idx]:\n",
    "                return True\n",
    "            else:\n",
    "                return False\n",
    "        else: # case 3 : 왼쪽, 오른쪽 자식 노드 모두 있을 때\n",
    "            if self.array[left_idx] > self.array[right_idx]:\n",
    "                if self.array[popped_idx] > self.array[left_idx]:\n",
    "                    return True\n",
    "                else:\n",
    "                    return False\n",
    "            else:\n",
    "                if self.array[popped_idx] > self.array[right_idx]:\n",
    "                    return True\n",
    "                else:\n",
    "                    return False\n",
    "    \n",
    "    def pop(self):\n",
    "        if len(self.array) <= 1:\n",
    "            return 0\n",
    "        \n",
    "        returned_data = self.array[1]\n",
    "        self.array[1] = self.array[-1]\n",
    "        del self.array[-1]\n",
    "        popped_idx = 1\n",
    "        \n",
    "        while self.move_down(popped_idx):\n",
    "            left_idx = popped_idx * 2\n",
    "            right_idx = popped_idx * 2 + 1\n",
    "            \n",
    "            if right_idx >= len(self.array):\n",
    "                if self.array[popped_idx] > self.array[left_idx]:\n",
    "                    self.array[popped_idx], self.array[left_idx] = \\\n",
    "                    self.array[left_idx], self.array[popped_idx]\n",
    "                    popped_idx = left_idx\n",
    "            else:\n",
    "                if self.array[left_idx] < self.array[right_idx]:\n",
    "                    if self.array[popped_idx] > self.array[left_idx]:\n",
    "                        self.array[popped_idx], self.array[left_idx] = \\\n",
    "                        self.array[left_idx], self.array[popped_idx]\n",
    "                        popped_idx = left_idx\n",
    "                else:\n",
    "                    if self.array[popped_idx] > self.array[right_idx]:\n",
    "                        self.array[popped_idx], self.array[right_idx] = \\\n",
    "                        self.array[right_idx], self.array[popped_idx]\n",
    "                        popped_idx = right_idx\n",
    "                        \n",
    "        return returned_data\n",
    "    \n",
    "    def move_up(self, inserted_idx):\n",
    "        if inserted_idx <= 1:\n",
    "            return False\n",
    "        \n",
    "        parent_idx = inserted_idx // 2\n",
    "        if self.array[inserted_idx] < self.array[parent_idx]:\n",
    "            return True\n",
    "        else:\n",
    "            return False\n",
    "        \n",
    "    def insert(self, data):\n",
    "        if len(self.array) == 1:\n",
    "            self.array.append(data)\n",
    "            return True\n",
    "        \n",
    "        self.array.append(data)\n",
    "        inserted_idx = len(self.array) - 1\n",
    "        \n",
    "        while self.move_up(inserted_idx):\n",
    "            parent_idx = inserted_idx // 2\n",
    "            self.array[inserted_idx], self.array[parent_idx] = \\\n",
    "            self.array[parent_idx], self.array[inserted_idx]\n",
    "            inserted_idx = parent_idx\n",
    "        \n",
    "        return True\n",
    "            \n",
    "heap = Heap()\n",
    "\n",
    "n = int(input())\n",
    "result = ''\n",
    "\n",
    "for _ in range(n):\n",
    "    data = int(input())\n",
    "    \n",
    "    if data == 0:\n",
    "        result += str(heap.pop()) + '\\n'\n",
    "    else:\n",
    "        heap.insert(data)\n",
    "        \n",
    "print(result)"
   ]
  },
  {
   "cell_type": "markdown",
   "metadata": {},
   "source": [
    "<br>\n",
    "\n",
    "## 3.2 해설\n",
    "\n",
    "- 최소 힙의 기본적인 기능을 구현한다.\n",
    "- 파이썬에서 `heapq` 라이브러리를 이용하면 간단히 힙을 구현할 수 있다."
   ]
  },
  {
   "cell_type": "markdown",
   "metadata": {},
   "source": [
    "- Python3 -> 시간 초과\n",
    "- PyPy3 -> 성공"
   ]
  },
  {
   "cell_type": "code",
   "execution_count": 17,
   "metadata": {},
   "outputs": [
    {
     "name": "stdin",
     "output_type": "stream",
     "text": [
      " 9\n",
      " 0\n",
      " 12345678\n",
      " 1\n",
      " 2\n",
      " 0\n",
      " 0\n",
      " 0\n",
      " 0\n",
      " 32\n"
     ]
    },
    {
     "name": "stdout",
     "output_type": "stream",
     "text": [
      "0\n",
      "1\n",
      "2\n",
      "12345678\n",
      "0\n"
     ]
    }
   ],
   "source": [
    "import heapq\n",
    "\n",
    "n = int(input())\n",
    "heap = []\n",
    "result = []\n",
    "\n",
    "for _ in range(n):\n",
    "    data = int(input())\n",
    "    if data == 0:\n",
    "        if heap:\n",
    "            result.append(heapq.heappop(heap))\n",
    "        else:\n",
    "            result.append(0)\n",
    "    else:\n",
    "        heapq.heappush(heap, data)\n",
    "        \n",
    "for data in result:\n",
    "    print(data)"
   ]
  },
  {
   "cell_type": "code",
   "execution_count": null,
   "metadata": {},
   "outputs": [],
   "source": []
  }
 ],
 "metadata": {
  "kernelspec": {
   "display_name": "Python 3",
   "language": "python",
   "name": "python3"
  },
  "language_info": {
   "codemirror_mode": {
    "name": "ipython",
    "version": 3
   },
   "file_extension": ".py",
   "mimetype": "text/x-python",
   "name": "python",
   "nbconvert_exporter": "python",
   "pygments_lexer": "ipython3",
   "version": "3.6.9"
  }
 },
 "nbformat": 4,
 "nbformat_minor": 4
}
