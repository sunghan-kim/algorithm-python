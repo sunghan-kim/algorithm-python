{
 "cells": [
  {
   "cell_type": "markdown",
   "metadata": {},
   "source": [
    "# 3. 바이러스\n",
    "\n",
    "- 난이도 : 하(Easy)\n",
    "- 유형 : DFS, BFS\n",
    "- 추천 풀이 시간 : 30분\n",
    "- [문제 설명 링크 : https://www.acmicpc.net/problem/2606](https://www.acmicpc.net/problem/2606)"
   ]
  },
  {
   "cell_type": "markdown",
   "metadata": {},
   "source": [
    "<br>\n",
    "\n",
    "## 3.1 직접 풀이"
   ]
  },
  {
   "cell_type": "markdown",
   "metadata": {},
   "source": [
    "### 3.1.1 DFS 활용\n",
    "\n",
    "- 성공"
   ]
  },
  {
   "cell_type": "code",
   "execution_count": 2,
   "metadata": {},
   "outputs": [
    {
     "name": "stdin",
     "output_type": "stream",
     "text": [
      " 7\n",
      " 6\n",
      " 1 2\n",
      " 2 3\n",
      " 1 5\n",
      " 5 2\n",
      " 5 6\n",
      " 4 7\n"
     ]
    },
    {
     "name": "stdout",
     "output_type": "stream",
     "text": [
      "4\n"
     ]
    }
   ],
   "source": [
    "n = int(input())\n",
    "m = int(input())\n",
    "\n",
    "graph = [[] for _ in range(n+1)]\n",
    "\n",
    "for _ in range(m):\n",
    "    x, y = map(int, input().split())\n",
    "    graph[x].append(y)\n",
    "    graph[y].append(x)\n",
    "    \n",
    "def dfs(x):\n",
    "    target = graph[x]\n",
    "    visited[x] = True\n",
    "    result.append(x)\n",
    "    \n",
    "    for t in target:\n",
    "        if not visited[t]:\n",
    "            dfs(t)\n",
    "    \n",
    "visited = [False] * (n+1)\n",
    "result = []\n",
    "dfs(1)\n",
    "\n",
    "print(len(result)-1)"
   ]
  },
  {
   "cell_type": "markdown",
   "metadata": {},
   "source": [
    "<br>\n",
    "\n",
    "### 3.1.2 BFS 활용\n",
    "\n",
    "- 성공"
   ]
  },
  {
   "cell_type": "code",
   "execution_count": 6,
   "metadata": {},
   "outputs": [
    {
     "name": "stdin",
     "output_type": "stream",
     "text": [
      " 7\n",
      " 6\n",
      " 1 2\n",
      " 2 3\n",
      " 1 5\n",
      " 5 2\n",
      " 5 6\n",
      " 4 7\n"
     ]
    },
    {
     "name": "stdout",
     "output_type": "stream",
     "text": [
      "4\n"
     ]
    }
   ],
   "source": [
    "from collections import deque\n",
    "\n",
    "n = int(input())\n",
    "m = int(input())\n",
    "graph = [[] for _ in range(n+1)]\n",
    "\n",
    "for _ in range(m):\n",
    "    a, b = map(int, input().split())\n",
    "    graph[a].append(b)\n",
    "    graph[b].append(a)\n",
    "    \n",
    "def bfs(x):\n",
    "    q = deque()\n",
    "    q.append(x)\n",
    "    visited[x] = True\n",
    "    result.append(x)\n",
    "    \n",
    "    while q:\n",
    "        next_val = q.popleft()\n",
    "        for v in graph[next_val]:\n",
    "            if not visited[v]:\n",
    "                visited[v] = True\n",
    "                q.append(v)\n",
    "                result.append(v)\n",
    "\n",
    "visited = [False] * (n+1)\n",
    "result = []\n",
    "bfs(1)\n",
    "\n",
    "print(len(result)-1)"
   ]
  },
  {
   "cell_type": "markdown",
   "metadata": {},
   "source": [
    "<br>\n",
    "\n",
    "## 3.2 해설"
   ]
  },
  {
   "cell_type": "markdown",
   "metadata": {},
   "source": [
    "### 3.2.1 해설 내용\n",
    "\n",
    "- 단순히 시작 정점에서부터 도달할 수 있는 노드의 수를 계산하는 문제이다.\n",
    "- 따라서 DFS 혹은 BFS를 이용하여 방문하게 되는 노드의 개수를 계산하면 된다.\n",
    "- 컴퓨터(노드)의 수가 적으므로, DFS를 이용해 문제를 푸는 것이 유리하다.\n",
    "  - DFS와 BFS를 둘 다 사용할 수 있을 경우에는 보통 BFS가 선호된다.\n",
    "  - 그 이유는 재귀 함수를 덜 사용할 때 얻을 수 있는 이점이 있기 때문이다. (DFS는 재귀 함수 사용)\n",
    "  - 노드의 개수가 적을 때에는 재귀 함수를 사용하는 DFS를 사용하는 것이 보다 문제를 빠르게 해결할 수 있다."
   ]
  },
  {
   "cell_type": "markdown",
   "metadata": {},
   "source": [
    "<br>\n",
    "\n",
    "### 3.2.2 해설 코드"
   ]
  },
  {
   "cell_type": "code",
   "execution_count": 7,
   "metadata": {},
   "outputs": [
    {
     "name": "stdin",
     "output_type": "stream",
     "text": [
      " 7\n",
      " 6\n",
      " 1 2\n",
      " 2 3\n",
      " 1 5\n",
      " 5 2\n",
      " 5 6\n",
      " 4 7\n"
     ]
    },
    {
     "name": "stdout",
     "output_type": "stream",
     "text": [
      "4\n"
     ]
    }
   ],
   "source": [
    "n = int(input())\n",
    "m = int(input())\n",
    "adj = [[] for _ in range(n+1)]\n",
    "visited = [False] * (n+1)\n",
    "count = 0\n",
    "\n",
    "for _ in range(m):\n",
    "    x, y = map(int, input().split())\n",
    "    adj[x].append(y)\n",
    "    adj[y].append(x)\n",
    "    \n",
    "def dfs(now_pos):\n",
    "    global count\n",
    "    count += 1\n",
    "    visited[now_pos] = True\n",
    "    for next_pos in adj[now_pos]:\n",
    "        if not visited[next_pos]:\n",
    "            dfs(next_pos)\n",
    "            \n",
    "dfs(1)\n",
    "print(count - 1)"
   ]
  }
 ],
 "metadata": {
  "kernelspec": {
   "display_name": "Python 3",
   "language": "python",
   "name": "python3"
  },
  "language_info": {
   "codemirror_mode": {
    "name": "ipython",
    "version": 3
   },
   "file_extension": ".py",
   "mimetype": "text/x-python",
   "name": "python",
   "nbconvert_exporter": "python",
   "pygments_lexer": "ipython3",
   "version": "3.6.9"
  }
 },
 "nbformat": 4,
 "nbformat_minor": 4
}
