{
 "cells": [
  {
   "cell_type": "markdown",
   "metadata": {},
   "source": [
    "# 2. 뒤집기\n",
    "\n",
    "- 난이도 : 하(Easy)\n",
    "- 유형 : 그리디\n",
    "- 추천 풀이 시간 : 20분\n",
    "- [문제 설명 링크 : https://www.acmicpc.net/problem/1439](https://www.acmicpc.net/problem/1439)"
   ]
  },
  {
   "cell_type": "markdown",
   "metadata": {},
   "source": [
    "<br>\n",
    "\n",
    "## 2.1 문제 풀이"
   ]
  },
  {
   "cell_type": "code",
   "execution_count": null,
   "metadata": {},
   "outputs": [],
   "source": []
  },
  {
   "cell_type": "markdown",
   "metadata": {},
   "source": [
    "<br>\n",
    "\n",
    "## 2.2 해설"
   ]
  },
  {
   "cell_type": "markdown",
   "metadata": {},
   "source": [
    "### 2.2.1 문제풀이 핵심 아이디어\n",
    "\n",
    "- 문자열에 있는 숫자를 모두 0 혹은 1로 만들어야 한다.\n",
    "- 다음 2가지 경우를 모두 계산하면 된다.\n",
    "\n",
    "1. 모두 0으로 만드는 경우  \n",
    "\n",
    "<img src=\"./img/02_01.jpg\" style=\"width: 600px; margin-left: 25px\" />\n",
    "\n",
    "2. 모두 1로 만드는 경우\n",
    "\n",
    "<img src=\"./img/02_02.jpg\" style=\"width: 600px; margin-left: 25px\" />\n",
    "\n",
    "- 문자열 S의 길이는 1,000,000 이하이므로, 시간 복잡도는 O(N)에 해결해야 한다."
   ]
  },
  {
   "cell_type": "markdown",
   "metadata": {},
   "source": [
    "<br>\n",
    "\n",
    "### 2.2.2 예시 (모두 1로 만드는 경우)\n",
    "\n",
    "- 모두 1로 만드는 경우, 다음과 같은 상황이 발생했을 때 횟수를 1 증가 시킨다.\n",
    "  - 첫 번째 원소가 0인 경우\n",
    "  - 2개씩 원소를 비교할 때, 1에서 0으로 바뀌는 경우"
   ]
  },
  {
   "cell_type": "markdown",
   "metadata": {},
   "source": [
    "- 첫 번째 원소가 0이므로 횟수를 1 증가 시킨다. (횟수 = 1)\n",
    "\n",
    "<img src=\"./img/02_03.jpg\" style=\"width: 300px; margin-left: 25px\" />"
   ]
  },
  {
   "cell_type": "markdown",
   "metadata": {},
   "source": [
    "- 첫 번째 원소와 두 번째 원소가 각각 0, 0 이므로 횟수를 증가시키지 않는다. (횟수 = 1)\n",
    "\n",
    "<img src=\"./img/02_04.jpg\" style=\"width: 300px; margin-left: 25px\" />"
   ]
  },
  {
   "cell_type": "markdown",
   "metadata": {},
   "source": [
    "- 두 번째 원소와 세 번째 원소가 각각 0, 0 이므로 횟수를 증가시키지 않는다. (횟수 = 1)\n",
    "\n",
    "<img src=\"./img/02_05.jpg\" style=\"width: 300px; margin-left: 25px\" />"
   ]
  },
  {
   "cell_type": "markdown",
   "metadata": {},
   "source": [
    "- 세 번째 원소와 네 번째 원소가 각각 0, 1 이므로 횟수를 증가시키지 않는다. (횟수 = 1)\n",
    "\n",
    "<img src=\"./img/02_06.jpg\" style=\"width: 300px; margin-left: 25px\" />"
   ]
  },
  {
   "cell_type": "markdown",
   "metadata": {},
   "source": [
    "- 네 번째 원소와 다섯 번째 원소가 각각 1, 1 이므로 횟수를 증가시키지 않는다. (횟수 = 1)\n",
    "\n",
    "<img src=\"./img/02_07.jpg\" style=\"width: 300px; margin-left: 25px\" />"
   ]
  },
  {
   "cell_type": "markdown",
   "metadata": {},
   "source": [
    "- 다섯 번째 원소와 여섯 번째 원소가 각각 1, 0 이므로 횟수를 증가시킨다. (횟수 = 2)\n",
    "\n",
    "<img src=\"./img/02_08.jpg\" style=\"width: 300px; margin-left: 25px\" />"
   ]
  },
  {
   "cell_type": "markdown",
   "metadata": {},
   "source": [
    "- 여섯 번째 원소와 일곱 번째 원소가 각각 0, 0 이므로 횟수를 증가시키지 않는다. (횟수 = 2)\n",
    "\n",
    "<img src=\"./img/02_09.jpg\" style=\"width: 300px; margin-left: 25px\" />"
   ]
  },
  {
   "cell_type": "markdown",
   "metadata": {},
   "source": [
    "<br>\n",
    "\n",
    "### 2.2.3 해설 코드"
   ]
  },
  {
   "cell_type": "code",
   "execution_count": 1,
   "metadata": {},
   "outputs": [
    {
     "name": "stdin",
     "output_type": "stream",
     "text": [
      " 0001100\n"
     ]
    },
    {
     "name": "stdout",
     "output_type": "stream",
     "text": [
      "1\n"
     ]
    }
   ],
   "source": [
    "data = input()\n",
    "count0 = 0 # 전부 0으로 바꾸는 경우\n",
    "count1 = 0 # 전부 1로 바꾸는 경우\n",
    "\n",
    "if data[0] == '1':\n",
    "    count0 += 1\n",
    "else:\n",
    "    count1 += 1\n",
    "    \n",
    "for i in range(len(data)-1):\n",
    "    if data[i] != data[i+1]:\n",
    "        if data[i+1] == '1': # 다음 수에서 1로 바뀌는 경우\n",
    "            count0 += 1\n",
    "        else: # 다음 수에서 0으로 바뀌는 경우\n",
    "            count1 += 1\n",
    "            \n",
    "print(min(count0, count1))"
   ]
  }
 ],
 "metadata": {
  "kernelspec": {
   "display_name": "Python 3",
   "language": "python",
   "name": "python3"
  },
  "language_info": {
   "codemirror_mode": {
    "name": "ipython",
    "version": 3
   },
   "file_extension": ".py",
   "mimetype": "text/x-python",
   "name": "python",
   "nbconvert_exporter": "python",
   "pygments_lexer": "ipython3",
   "version": "3.8.10"
  }
 },
 "nbformat": 4,
 "nbformat_minor": 4
}
