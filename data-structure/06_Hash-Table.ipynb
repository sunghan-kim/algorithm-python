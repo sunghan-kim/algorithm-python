{
 "cells": [
  {
   "cell_type": "markdown",
   "metadata": {},
   "source": [
    "# 6. 해쉬 테이블 (Hash Table)"
   ]
  },
  {
   "cell_type": "markdown",
   "metadata": {},
   "source": [
    "## 6.1 해쉬 구조\n",
    "\n",
    "- 키(Key)에 데이터(Value)를 저장하는 데이터 구조\n",
    "- Key를 통해 바로 데이터를 받아올 수 있으므로, 속도가 획기적으로 빨라짐\n",
    "- 파이썬 딕셔너리(Dictionary) 타입이 해쉬 테이블의 예  \n",
    "(Key를 가지고 데이터(value)를 꺼냄)\n",
    "- 보통 배열로 미리 Hash Table 사이즈 만큼 생성 후에 사용  \n",
    "(공간과 탐색 시간을 맞바꾸는 기법)\n",
    "- 단, 파이썬에서는 해쉬를 별도 구현할 이유가 없음  \n",
    "(딕셔너리 타입을 사용하면 됨)"
   ]
  },
  {
   "cell_type": "code",
   "execution_count": null,
   "metadata": {},
   "outputs": [],
   "source": []
  }
 ],
 "metadata": {
  "kernelspec": {
   "display_name": "Python 3",
   "language": "python",
   "name": "python3"
  },
  "language_info": {
   "codemirror_mode": {
    "name": "ipython",
    "version": 3
   },
   "file_extension": ".py",
   "mimetype": "text/x-python",
   "name": "python",
   "nbconvert_exporter": "python",
   "pygments_lexer": "ipython3",
   "version": "3.6.9"
  }
 },
 "nbformat": 4,
 "nbformat_minor": 4
}
