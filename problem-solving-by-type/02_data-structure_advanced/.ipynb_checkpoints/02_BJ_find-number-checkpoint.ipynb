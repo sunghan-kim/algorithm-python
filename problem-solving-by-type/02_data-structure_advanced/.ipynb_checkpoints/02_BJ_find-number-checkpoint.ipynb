{
 "cells": [
  {
   "cell_type": "markdown",
   "metadata": {},
   "source": [
    "# 2. 수 찾기\n",
    "\n",
    "- 난이도 : 하(Easy)\n",
    "- 유형 : 해시, 배열, 구현\n",
    "- 추천 풀이 시간 : 20분\n",
    "- [문제 설명 링크 : https://www.acmicpc.net/problem/1920](https://www.acmicpc.net/problem/1920)"
   ]
  },
  {
   "cell_type": "markdown",
   "metadata": {},
   "source": [
    "<br>\n",
    "\n",
    "## 2.1 문제 설명"
   ]
  },
  {
   "cell_type": "markdown",
   "metadata": {},
   "source": [
    "### 2.1.1 문제\n",
    "\n",
    "N개의 정수 A[1], A[2], …, A[N]이 주어져 있을 때, 이 안에 X라는 정수가 존재하는지 알아내는 프로그램을 작성하시오."
   ]
  },
  {
   "cell_type": "markdown",
   "metadata": {},
   "source": [
    "<br>\n",
    "\n",
    "### 2.1.2 입력\n",
    "\n",
    "첫째 줄에 자연수 N(1≤N≤100,000)이 주어진다. 다음 줄에는 N개의 정수 A[1], A[2], …, A[N]이 주어진다. 다음 줄에는 M(1≤M≤100,000)이 주어진다. 다음 줄에는 M개의 수들이 주어지는데, 이 수들이 A안에 존재하는지 알아내면 된다. 모든 정수의 범위는 $-2^{31}$ 보다 크거나 같고 $2^{31}$보다 작다."
   ]
  },
  {
   "cell_type": "markdown",
   "metadata": {},
   "source": [
    "<br>\n",
    "\n",
    "### 2.1.3 출력\n",
    "\n",
    "M개의 줄에 답을 출력한다. 존재하면 1을, 존재하지 않으면 0을 출력한다."
   ]
  },
  {
   "cell_type": "markdown",
   "metadata": {},
   "source": [
    "<br>\n",
    "\n",
    "### 2.1.4 입출력 예제\n",
    "\n",
    "**예제 입력 1**\n",
    "\n",
    "```\n",
    "5\n",
    "4 1 5 2 3\n",
    "5\n",
    "1 3 7 9 5\n",
    "```\n",
    "\n",
    "**예제 출력 1**\n",
    "\n",
    "```\n",
    "1\n",
    "1\n",
    "0\n",
    "0\n",
    "1\n",
    "```"
   ]
  },
  {
   "cell_type": "markdown",
   "metadata": {},
   "source": [
    "## 2.2 직접 구현\n",
    "\n",
    "- 파이썬에서는 딕셔너리를 활용하면 간단한 해쉬 기능을 사용할 수 있다."
   ]
  },
  {
   "cell_type": "markdown",
   "metadata": {},
   "source": [
    "- 코드 구현 소요 시간 : 39분"
   ]
  },
  {
   "cell_type": "markdown",
   "metadata": {},
   "source": [
    "<br>\n",
    "\n",
    "### 2.2.1 실제 구현 코드 1\n",
    "\n",
    "- 시간 초과"
   ]
  },
  {
   "cell_type": "code",
   "execution_count": 10,
   "metadata": {},
   "outputs": [
    {
     "name": "stdin",
     "output_type": "stream",
     "text": [
      " 5\n",
      " 4 1 5 2 3\n",
      " 5\n",
      " 1 3 7 9 5\n"
     ]
    },
    {
     "name": "stdout",
     "output_type": "stream",
     "text": [
      "1\n",
      "1\n",
      "0\n",
      "0\n",
      "1\n"
     ]
    }
   ],
   "source": [
    "N = int(input())\n",
    "\n",
    "dataList = [int(d) for d in input().split(' ')]\n",
    "\n",
    "M = int(input())\n",
    "targetList = [[int(target), 0] for target in input().split(' ')]\n",
    "\n",
    "for target in targetList:\n",
    "    for data in dataList:\n",
    "        if target[0] == data:\n",
    "            target[1] = 1\n",
    "    print(target[1])"
   ]
  },
  {
   "cell_type": "markdown",
   "metadata": {},
   "source": [
    "<br>\n",
    "\n",
    "### 2.2.2 실제 구현 코드 2\n",
    "\n",
    "- 시간 초과"
   ]
  },
  {
   "cell_type": "code",
   "execution_count": 21,
   "metadata": {},
   "outputs": [
    {
     "name": "stdin",
     "output_type": "stream",
     "text": [
      " 5\n",
      " 4 1 5 2 3\n",
      " 5\n",
      " 1 3 7 9 5\n"
     ]
    },
    {
     "name": "stdout",
     "output_type": "stream",
     "text": [
      "1\n",
      "1\n",
      "0\n",
      "0\n",
      "1\n"
     ]
    }
   ],
   "source": [
    "N = int(input())\n",
    "\n",
    "dataList = [int(d) for d in input().split(' ')]\n",
    "\n",
    "M = int(input())\n",
    "targetList = [[int(target), 0] for target in input().split(' ')]\n",
    "\n",
    "for target in targetList:\n",
    "    if target[0] in dataList:\n",
    "        target[1] = 1\n",
    "    print(target[1])"
   ]
  },
  {
   "cell_type": "markdown",
   "metadata": {},
   "source": [
    "<br>\n",
    "\n",
    "### 2.2.3 실제 구현 코드 3\n",
    "\n",
    "- 메모리 초과"
   ]
  },
  {
   "cell_type": "code",
   "execution_count": 19,
   "metadata": {},
   "outputs": [
    {
     "name": "stdin",
     "output_type": "stream",
     "text": [
      " 5\n",
      " 4 1 5 2 3\n",
      " 5\n",
      " 1 3 7 9 5\n"
     ]
    },
    {
     "name": "stdout",
     "output_type": "stream",
     "text": [
      "1\n",
      "1\n",
      "0\n",
      "0\n",
      "1\n"
     ]
    }
   ],
   "source": [
    "N = int(input())\n",
    "dataList = [int(d) for d in input().split(' ')]\n",
    "\n",
    "M = int(input())\n",
    "targetList = [int(d) for d in input().split(' ')]\n",
    "\n",
    "A = [0 for d in range(max(targetList)+1)]\n",
    "\n",
    "for data in dataList:\n",
    "    A[data] = data\n",
    "\n",
    "for target in targetList:\n",
    "    if A[target] != 0:\n",
    "        print(1)\n",
    "    else:\n",
    "        print(0)"
   ]
  },
  {
   "cell_type": "markdown",
   "metadata": {},
   "source": [
    "<br>\n",
    "\n",
    "### 2.2.4 실제 구현 코드 4\n",
    "\n",
    "- 메모리 : 47068 KB\n",
    "- 시간 : 208 ms"
   ]
  },
  {
   "cell_type": "code",
   "execution_count": 26,
   "metadata": {},
   "outputs": [
    {
     "name": "stdin",
     "output_type": "stream",
     "text": [
      " 5\n",
      " 4 1 5 2 3\n",
      " 5\n",
      " 1 3 7 9 5\n"
     ]
    },
    {
     "name": "stdout",
     "output_type": "stream",
     "text": [
      "1\n",
      "1\n",
      "0\n",
      "0\n",
      "1\n"
     ]
    }
   ],
   "source": [
    "N = int(input())\n",
    "\n",
    "dataList = [int(d) for d in input().split(' ')]\n",
    "\n",
    "A = {data: 1 for data in dataList}\n",
    "\n",
    "M = int(input())\n",
    "\n",
    "for target in input().split(' '):\n",
    "    if int(target) in A.keys():\n",
    "        print(1)\n",
    "    else:\n",
    "        print(0)"
   ]
  },
  {
   "cell_type": "markdown",
   "metadata": {},
   "source": [
    "<br>\n",
    "\n",
    "## 2.3 해설"
   ]
  },
  {
   "cell_type": "markdown",
   "metadata": {},
   "source": [
    "### 2.3.1 해설 내용\n",
    "\n",
    "- 특정 정수의 등장 여부만을 간단히 체크하면 된다.\n",
    "- 파이썬에서는 dictionary 자료형을 해시처럼 사용할 수 있다.\n",
    "- 본 문제는 set 자료형을 이용해 더욱 간단히 풀 수 있다."
   ]
  },
  {
   "cell_type": "markdown",
   "metadata": {},
   "source": [
    "<br>\n",
    "\n",
    "### 2.3.2 해설 코드\n",
    "\n",
    "- 메모리 : 48048 KB\n",
    "- 시간 : 188 ms"
   ]
  },
  {
   "cell_type": "code",
   "execution_count": 27,
   "metadata": {},
   "outputs": [
    {
     "name": "stdin",
     "output_type": "stream",
     "text": [
      " 5\n",
      " 4 1 5 2 3\n",
      " 5\n",
      " 1 3 7 9 5\n"
     ]
    },
    {
     "name": "stdout",
     "output_type": "stream",
     "text": [
      "1\n",
      "1\n",
      "0\n",
      "0\n",
      "1\n"
     ]
    }
   ],
   "source": [
    "n = int(input())\n",
    "array = set(map(int, input().split()))\n",
    "m = int(input())\n",
    "x = list(map(int, input().split()))\n",
    "\n",
    "for i in x:\n",
    "    if i not in array:\n",
    "        print('0')\n",
    "    else:\n",
    "        print('1')"
   ]
  },
  {
   "cell_type": "code",
   "execution_count": null,
   "metadata": {},
   "outputs": [],
   "source": []
  }
 ],
 "metadata": {
  "kernelspec": {
   "display_name": "Python 3",
   "language": "python",
   "name": "python3"
  },
  "language_info": {
   "codemirror_mode": {
    "name": "ipython",
    "version": 3
   },
   "file_extension": ".py",
   "mimetype": "text/x-python",
   "name": "python",
   "nbconvert_exporter": "python",
   "pygments_lexer": "ipython3",
   "version": "3.6.9"
  }
 },
 "nbformat": 4,
 "nbformat_minor": 4
}
