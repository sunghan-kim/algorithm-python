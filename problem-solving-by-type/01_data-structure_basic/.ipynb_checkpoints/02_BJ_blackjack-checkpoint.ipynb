{
 "cells": [
  {
   "cell_type": "markdown",
   "metadata": {},
   "source": [
    "# 2. 블랙잭\n",
    "\n",
    "- 난이도 : 하(Easy)\n",
    "- 유형 : 배열, 완전 탐색(모든 경우의 수 탐색)\n",
    "- 추천 풀이 시간 : 20분\n",
    "- [문제 설명 링크 : https://www.acmicpc.net/problem/2798](https://www.acmicpc.net/problem/2798)"
   ]
  },
  {
   "cell_type": "markdown",
   "metadata": {},
   "source": [
    "<br>\n",
    "\n",
    "## 2.1 직접 구현"
   ]
  },
  {
   "cell_type": "markdown",
   "metadata": {},
   "source": [
    "### 2.1.1 실제 구현 코드"
   ]
  },
  {
   "cell_type": "code",
   "execution_count": 52,
   "metadata": {},
   "outputs": [
    {
     "name": "stdin",
     "output_type": "stream",
     "text": [
      " 10 500 93 181 245 214 315 36 185 138 216 295\n"
     ]
    },
    {
     "name": "stdout",
     "output_type": "stream",
     "text": [
      "[36, 93, 138, 181, 185, 214, 216, 245, 295, 315]\n",
      "497\n"
     ]
    }
   ],
   "source": [
    "inputStr = input()\n",
    "\n",
    "N = 0\n",
    "M = 0\n",
    "cardList = []\n",
    "\n",
    "for index, data in enumerate(inputStr.split(\" \")):\n",
    "    if index == 0:\n",
    "        N = int(data)\n",
    "    elif index == 1:\n",
    "        M = int(data)\n",
    "    else:\n",
    "        cardList.append(int(data))\n",
    "\n",
    "cardList.sort()\n",
    "\n",
    "total = 0\n",
    "for i in range(len(cardList)):\n",
    "    for j in range(i+1, len(cardList)):\n",
    "        for k in range(j+1, len(cardList)):\n",
    "            tempTotal = cardList[i] + cardList[j] + cardList[k]\n",
    "            if tempTotal <= M and total < tempTotal:\n",
    "                total = tempTotal\n",
    "\n",
    "print(total)"
   ]
  },
  {
   "cell_type": "markdown",
   "metadata": {},
   "source": [
    "<br>\n",
    "\n",
    "### 2.1.2 보완 코드"
   ]
  },
  {
   "cell_type": "code",
   "execution_count": 57,
   "metadata": {},
   "outputs": [
    {
     "name": "stdin",
     "output_type": "stream",
     "text": [
      " 10 500\n",
      " 93 181 245 214 315 36 185 138 216 295\n"
     ]
    },
    {
     "name": "stdout",
     "output_type": "stream",
     "text": [
      "497\n"
     ]
    }
   ],
   "source": [
    "N, M = [int(s) for s in input().split(\" \")]\n",
    "cardList = [int(s) for s in input().split(\" \")]\n",
    "\n",
    "total = 0\n",
    "for i in range(len(cardList)):\n",
    "    for j in range(i+1, len(cardList)):\n",
    "        for k in range(j+1, len(cardList)):\n",
    "            tempTotal = cardList[i] + cardList[j] + cardList[k]\n",
    "            if tempTotal <= M and total < tempTotal:\n",
    "                total = tempTotal\n",
    "\n",
    "print(total)"
   ]
  },
  {
   "cell_type": "markdown",
   "metadata": {},
   "source": [
    "<br>\n",
    "\n",
    "## 2.2 해설\n",
    "\n",
    "- 문제에서 `N`은 최대 100이라고 명시되어 있다.\n",
    "- N개의 카드 중에서 3개를 뽑는 모든 경우의 수는 다음과 같다.\n",
    "\n",
    "$$\n",
    "C(n,3) = \\frac{n(n-1)(n-2)}{3!}\n",
    "$$\n",
    "\n",
    "- 따라서 `N`이 최대 100이므로 가능한 모든 경우의 수는 약 1,000,000이 된다.\n",
    "- 이는 컴퓨터가 충분히 계산할 수 있는 양이다.\n",
    "- 따라서 이번 문제는 **완전 탐색**을 통해 해결할 수 있다.\n",
    "- cf) 파이썬은 1초에 2천만 정도의 연산을 수행한다."
   ]
  },
  {
   "cell_type": "markdown",
   "metadata": {},
   "source": [
    "<br>\n",
    "\n",
    "## 2.3 해설 코드"
   ]
  },
  {
   "cell_type": "code",
   "execution_count": 59,
   "metadata": {},
   "outputs": [
    {
     "name": "stdin",
     "output_type": "stream",
     "text": [
      " 10 500\n",
      " 93 181 245 214 315 36 185 138 216 295\n"
     ]
    },
    {
     "name": "stdout",
     "output_type": "stream",
     "text": [
      "497\n"
     ]
    }
   ],
   "source": [
    "n, m = list(map(int, input().split(\" \")))\n",
    "data = list(map(int, input().split(\" \")))\n",
    "\n",
    "result = 0\n",
    "length = len(data)\n",
    "\n",
    "count = 0\n",
    "for i in range(0, length):\n",
    "    for j in range(i+1, length):\n",
    "        for k in range(j+1, length):\n",
    "            sum_value = data[i] + data[j] + data[k]\n",
    "            if sum_value <= m:\n",
    "                result = max(result, sum_value)\n",
    "                \n",
    "print(result)"
   ]
  },
  {
   "cell_type": "markdown",
   "metadata": {},
   "source": [
    "<br>\n",
    "\n",
    "## 2.4 비교\n",
    "\n",
    "- 내 코드에서는 임시 합계와 기존 합계를 조건문의 조건으로 비교\n",
    "- 해설 코드에서는 `max()` 함수를 이용하여 대소 비교"
   ]
  }
 ],
 "metadata": {
  "kernelspec": {
   "display_name": "Python 3",
   "language": "python",
   "name": "python3"
  },
  "language_info": {
   "codemirror_mode": {
    "name": "ipython",
    "version": 3
   },
   "file_extension": ".py",
   "mimetype": "text/x-python",
   "name": "python",
   "nbconvert_exporter": "python",
   "pygments_lexer": "ipython3",
   "version": "3.6.9"
  }
 },
 "nbformat": 4,
 "nbformat_minor": 4
}
