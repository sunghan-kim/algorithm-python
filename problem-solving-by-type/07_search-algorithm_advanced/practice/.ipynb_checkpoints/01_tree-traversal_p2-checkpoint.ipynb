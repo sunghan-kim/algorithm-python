{
 "cells": [
  {
   "cell_type": "markdown",
   "metadata": {
    "jupyter": {
     "outputs_hidden": true
    },
    "pycharm": {
     "name": "#%% md\n"
    }
   },
   "source": [
    "# 1. 트리 순회\n",
    "\n",
    "- 난이도 : 하(Easy)\n",
    "- 유형 : 트리, 구현\n",
    "- 추천 풀이 시간 : 20분\n",
    "- [문제 설명 링크 : https://www.acmicpc.net/problem/1991](https://www.acmicpc.net/problem/1991)"
   ]
  },
  {
   "cell_type": "code",
   "execution_count": 5,
   "metadata": {
    "collapsed": false,
    "jupyter": {
     "outputs_hidden": false
    },
    "pycharm": {
     "name": "#%%\n"
    }
   },
   "outputs": [
    {
     "name": "stdin",
     "output_type": "stream",
     "text": [
      " 7\n",
      " A B C\n",
      " B D .\n",
      " C E F\n",
      " E . .\n",
      " F . G\n",
      " D . .\n",
      " G . .\n"
     ]
    },
    {
     "name": "stdout",
     "output_type": "stream",
     "text": [
      "ABDCEFG\n",
      "DBAECFG\n",
      "DBEGFCA\n"
     ]
    }
   ],
   "source": [
    "class Node:\n",
    "    def __init__(self, data, leftNode, rightNode):\n",
    "        self.data = data\n",
    "        self.leftNode = leftNode\n",
    "        self.rightNode = rightNode\n",
    "\n",
    "n = int(input())\n",
    "tree = {}\n",
    "\n",
    "for _ in range(n):\n",
    "    data, leftNode, rightNode = input().split()\n",
    "    tree[data] = Node(data, leftNode, rightNode)\n",
    "    \n",
    "pre_result, in_result, post_result = '', '', ''\n",
    "\n",
    "def pre_order(data):\n",
    "    global pre_result\n",
    "    pre_result += tree[data].data\n",
    "    if tree[data].leftNode != '.':\n",
    "        pre_order(tree[data].leftNode)\n",
    "    if tree[data].rightNode != '.':\n",
    "        pre_order(tree[data].rightNode)\n",
    "        \n",
    "def in_order(data):\n",
    "    global in_result\n",
    "    if tree[data].leftNode != '.':\n",
    "        in_order(tree[data].leftNode)\n",
    "    in_result += tree[data].data\n",
    "    if tree[data].rightNode != '.':\n",
    "        in_order(tree[data].rightNode)\n",
    "\n",
    "def post_order(data):\n",
    "    global post_result\n",
    "    if tree[data].leftNode != '.':\n",
    "        post_order(tree[data].leftNode)\n",
    "    if tree[data].rightNode != '.':\n",
    "        post_order(tree[data].rightNode)\n",
    "    post_result += tree[data].data\n",
    "        \n",
    "pre_order('A')\n",
    "in_order('A')\n",
    "post_order('A')\n",
    "\n",
    "print(pre_result)\n",
    "print(in_result)\n",
    "print(post_result)"
   ]
  },
  {
   "cell_type": "code",
   "execution_count": null,
   "metadata": {},
   "outputs": [],
   "source": []
  }
 ],
 "metadata": {
  "kernelspec": {
   "display_name": "Python 3",
   "language": "python",
   "name": "python3"
  },
  "language_info": {
   "codemirror_mode": {
    "name": "ipython",
    "version": 3
   },
   "file_extension": ".py",
   "mimetype": "text/x-python",
   "name": "python",
   "nbconvert_exporter": "python",
   "pygments_lexer": "ipython3",
   "version": "3.6.9"
  }
 },
 "nbformat": 4,
 "nbformat_minor": 4
}
