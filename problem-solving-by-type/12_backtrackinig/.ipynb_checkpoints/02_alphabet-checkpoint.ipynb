{
 "cells": [
  {
   "cell_type": "markdown",
   "metadata": {},
   "source": [
    "# 2. 알파벳\n",
    "\n",
    "- 난이도 : 중(Medium)\n",
    "- 유형 : 백트래킹\n",
    "- 추천 풀이 시간 : 40분\n",
    "- [문제 설명 링크 : https://www.acmicpc.net/problem/1987](https://www.acmicpc.net/problem/1987)"
   ]
  },
  {
   "cell_type": "markdown",
   "metadata": {},
   "source": [
    "<br>\n",
    "\n",
    "## 2.1 문제 풀이"
   ]
  },
  {
   "cell_type": "code",
   "execution_count": null,
   "metadata": {},
   "outputs": [],
   "source": []
  },
  {
   "cell_type": "markdown",
   "metadata": {},
   "source": [
    "<br>\n",
    "\n",
    "## 2.2 해설"
   ]
  },
  {
   "cell_type": "markdown",
   "metadata": {},
   "source": [
    "### 2.2.1 문제 풀이 핵심 아이디어\n",
    "\n",
    "- 말은 상, 하, 좌, 우 네 가지 방향으로 이동할 수 있다.\n",
    "- 지금까지 지나온 모든 칸에 적혀 있는 알파벳과 *다른 알파벳이 적힌 칸으로 이동*해야 한다.\n",
    "- 행의 길이(R)와 열의 길이(C)가 20 이하이므로, 백트래킹을 이용하여 모든 경우의 수를 고려한다."
   ]
  },
  {
   "cell_type": "markdown",
   "metadata": {},
   "source": [
    "<br>\n",
    "\n",
    "### 2.2.2 그림을 통한 예시\n",
    "\n",
    "- R = 2, C = 4 일 때의 정답 예시는 다음과 같다."
   ]
  },
  {
   "cell_type": "markdown",
   "metadata": {},
   "source": [
    "<img src=\"./img/02_01.jpg\" style=\"width: 250px; margin-left: 25px\" />"
   ]
  },
  {
   "cell_type": "markdown",
   "metadata": {},
   "source": [
    "<img src=\"./img/02_02.jpg\" style=\"width: 250px; margin-left: 25px\" />"
   ]
  },
  {
   "cell_type": "markdown",
   "metadata": {},
   "source": [
    "<img src=\"./img/02_03.jpg\" style=\"width: 250px; margin-left: 25px\" />"
   ]
  },
  {
   "cell_type": "markdown",
   "metadata": {},
   "source": [
    "<img src=\"./img/02_04.jpg\" style=\"width: 250px; margin-left: 25px\" />"
   ]
  },
  {
   "cell_type": "markdown",
   "metadata": {},
   "source": [
    "<br>\n",
    "\n",
    "### 2.2.3 해설 코드"
   ]
  },
  {
   "cell_type": "code",
   "execution_count": 26,
   "metadata": {},
   "outputs": [
    {
     "name": "stdin",
     "output_type": "stream",
     "text": [
      " 2 4\n",
      " CAAB\n",
      " ADCB\n"
     ]
    },
    {
     "name": "stdout",
     "output_type": "stream",
     "text": [
      "3\n"
     ]
    }
   ],
   "source": [
    "# 이동 좌표 (좌, 우, 상, 하)\n",
    "dx = [-1, 1, 0, 0]\n",
    "dy = [0, 0, -1, 1]\n",
    "\n",
    "def bfs(x, y):\n",
    "    global result\n",
    "    \n",
    "    # 동일한 경우는 한 번만 계산하기 위하여 집합(Set) 자료형 사용\n",
    "    q = set()\n",
    "    q.add((x, y, array[x][y]))\n",
    "    \n",
    "    while q:\n",
    "        x, y, step = q.pop()\n",
    "        # 가장 긴 이동 거리를 저장\n",
    "        result = max(result, len(step))\n",
    "        \n",
    "        # 네 방향 (좌, 우, 상, 하)으로 이동하는 경우를 각각 확인\n",
    "        for i in range(4):\n",
    "            nx = x + dx[i]\n",
    "            ny = y + dy[i]\n",
    "            \n",
    "            # 이동할 수 있는 위치이면서, 새로운 알파벳인 경우\n",
    "            if ((0 <= nx and nx < r) and (0 <= ny and ny < c) and array[nx][ny] not in step):\n",
    "                q.add((nx, ny, step + array[nx][ny]))\n",
    "\n",
    "# 전체 보드 데이터를 입력 받음\n",
    "r, c = map(int, input().split())\n",
    "array = []\n",
    "for _ in range(r):\n",
    "    array.append(input())\n",
    "    \n",
    "# 백트래킹 수행 결과를 출력\n",
    "result = 0\n",
    "bfs(0, 0)\n",
    "print(result)"
   ]
  },
  {
   "cell_type": "markdown",
   "metadata": {},
   "source": [
    "<br>\n",
    "\n",
    "## 2.3 복습"
   ]
  },
  {
   "cell_type": "code",
   "execution_count": 28,
   "metadata": {},
   "outputs": [
    {
     "name": "stdin",
     "output_type": "stream",
     "text": [
      " 2 4\n",
      " CAAB\n",
      " ADCB\n"
     ]
    },
    {
     "name": "stdout",
     "output_type": "stream",
     "text": [
      "3\n"
     ]
    }
   ],
   "source": [
    "dx = [-1, 1, 0, 0]\n",
    "dy = [0, 0, -1, 1]\n",
    "\n",
    "def bfs(x, y):\n",
    "    global result\n",
    "    \n",
    "    q = set()\n",
    "    q.add((x, y, array[x][y]))\n",
    "    \n",
    "    while q:\n",
    "        a, b, step = q.pop()\n",
    "        result = max(result, len(step))\n",
    "        \n",
    "        for i in range(4):\n",
    "            nx = a + dx[i]\n",
    "            ny = b + dy[i]\n",
    "            \n",
    "            if ((0 <= nx < r) and (0 <= ny < c) and (array[nx][ny] not in step)):\n",
    "                q.add((nx, ny, step + array[nx][ny]))\n",
    "\n",
    "r, c = map(int, input().split())\n",
    "array = [input() for _ in range(r)]\n",
    "\n",
    "result = 0\n",
    "bfs(0, 0)\n",
    "print(result)"
   ]
  }
 ],
 "metadata": {
  "kernelspec": {
   "display_name": "Python 3",
   "language": "python",
   "name": "python3"
  },
  "language_info": {
   "codemirror_mode": {
    "name": "ipython",
    "version": 3
   },
   "file_extension": ".py",
   "mimetype": "text/x-python",
   "name": "python",
   "nbconvert_exporter": "python",
   "pygments_lexer": "ipython3",
   "version": "3.6.9"
  }
 },
 "nbformat": 4,
 "nbformat_minor": 4
}
