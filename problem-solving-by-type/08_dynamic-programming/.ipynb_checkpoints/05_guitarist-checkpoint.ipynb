{
 "cells": [
  {
   "cell_type": "markdown",
   "metadata": {},
   "source": [
    "### 5. 기타리스트\n",
    "\n",
    "- 난이도 : 중(Medium)\n",
    "- 유형 : 동적 프로그래밍\n",
    "- 추천 풀이 시간 : 40분\n",
    "- [문제 설명 링크 : https://www.acmicpc.net/problem/1495](https://www.acmicpc.net/problem/1495)"
   ]
  },
  {
   "cell_type": "markdown",
   "metadata": {},
   "source": [
    "<br>\n",
    "\n",
    "## 5.1 풀이"
   ]
  },
  {
   "cell_type": "code",
   "execution_count": null,
   "metadata": {},
   "outputs": [],
   "source": [
    "n, s, m = map(int, input().split())\n",
    "v = [int(i) for i in input().split()]\n",
    "\n",
    "\n",
    "\n",
    "for i in range(n):\n",
    "    "
   ]
  },
  {
   "cell_type": "markdown",
   "metadata": {},
   "source": [
    "<br>\n",
    "\n",
    "## 5.2 해설"
   ]
  },
  {
   "cell_type": "markdown",
   "metadata": {},
   "source": [
    "### 5.2.1 해설 내용\n",
    "\n",
    "- 차례대로 곡을 연주한다는 점에서 동적 프로그래밍으로 해결할 수 있는 문제이다.\n",
    "- 곡의 개수가 N, 볼륨의 최댓값이 M이다.\n",
    "- 동적 프로그래밍을 이용하여 시간 복잡도 O(NM) 으로 문제를 해결할 수 있다."
   ]
  },
  {
   "cell_type": "markdown",
   "metadata": {},
   "source": [
    "<br>\n",
    "\n",
    "### 5.2.2 핵심 아이디어\n",
    "\n",
    "> **모든 볼륨**에 대하여 연주 가능 여부 계산\n",
    "\n",
    "- $D[i][j+1]$ : $i$번 째 노래일 때, $j$ 크기의 볼륨으로 연주 가능한 지 여부\n",
    "- 노래를 순서대로 확인하며, 매 번 모든 크기의 볼륨에 대하여 검사한다.\n",
    "- $D[i][i - V[i]] = True \\quad \\text{if } \\; D[i-1][j] = True$\n",
    "- $D[i][i + V[i]] = True \\quad \\text{if } \\; D[i-1][j] = True$"
   ]
  },
  {
   "cell_type": "markdown",
   "metadata": {},
   "source": [
    "<br>\n",
    "\n",
    "### 5.2.3 그림 예시\n",
    "\n",
    "- N=3, S=5, M=10 일 때를 확인"
   ]
  },
  {
   "cell_type": "markdown",
   "metadata": {},
   "source": [
    "<br>\n",
    "\n",
    "**N = 0 일 때**\n",
    "\n",
    "<img src=\"./img/05_01.jpg\" style=\"width: 800px; margin-left: 10px\" />"
   ]
  },
  {
   "cell_type": "markdown",
   "metadata": {},
   "source": [
    "<br>\n",
    "\n",
    "**N = 1 일 때**\n",
    "\n",
    "<img src=\"./img/05_02.jpg\" style=\"width: 800px; margin-left: 10px\" />"
   ]
  },
  {
   "cell_type": "markdown",
   "metadata": {},
   "source": [
    "<br>\n",
    "\n",
    "**N = 2 일 때**\n",
    "\n",
    "<img src=\"./img/05_03.jpg\" style=\"width: 800px; margin-left: 10px\" />"
   ]
  },
  {
   "cell_type": "markdown",
   "metadata": {},
   "source": [
    "<br>\n",
    "\n",
    "**N = 3 일 때**\n",
    "\n",
    "<img src=\"./img/05_04.jpg\" style=\"width: 800px; margin-left: 10px\" />"
   ]
  },
  {
   "cell_type": "markdown",
   "metadata": {},
   "source": [
    "<br>\n",
    "\n",
    "### 5.2.4 해설 코드"
   ]
  },
  {
   "cell_type": "code",
   "execution_count": 2,
   "metadata": {},
   "outputs": [
    {
     "name": "stdin",
     "output_type": "stream",
     "text": [
      " 3 5 10\n",
      " 5 3 7\n"
     ]
    },
    {
     "name": "stdout",
     "output_type": "stream",
     "text": [
      "10\n"
     ]
    }
   ],
   "source": [
    "n, s, m = map(int, input().split())\n",
    "array = list(map(int, input().split()))\n",
    "\n",
    "dp = [[0] * (m+1) for _ in range(n+1)]\n",
    "dp[0][s] = 1\n",
    "\n",
    "for i in range(1, n+1):\n",
    "    for j in range(m+1):\n",
    "        if dp[i-1][j] == 0:\n",
    "            continue\n",
    "        if j - array[i-1] >= 0:\n",
    "            dp[i][j - array[i-1]] = 1\n",
    "        if j + array[i-1] <= m:\n",
    "            dp[i][j + array[i-1]] = 1\n",
    "            \n",
    "result = -1\n",
    "for i in range(m, -1, -1):\n",
    "    if dp[n][i] == 1:\n",
    "        result = i\n",
    "        break\n",
    "        \n",
    "print(result)"
   ]
  }
 ],
 "metadata": {
  "kernelspec": {
   "display_name": "Python 3",
   "language": "python",
   "name": "python3"
  },
  "language_info": {
   "codemirror_mode": {
    "name": "ipython",
    "version": 3
   },
   "file_extension": ".py",
   "mimetype": "text/x-python",
   "name": "python",
   "nbconvert_exporter": "python",
   "pygments_lexer": "ipython3",
   "version": "3.6.9"
  }
 },
 "nbformat": 4,
 "nbformat_minor": 4
}
