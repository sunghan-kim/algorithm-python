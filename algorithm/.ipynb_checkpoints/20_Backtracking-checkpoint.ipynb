{
 "cells": [
  {
   "cell_type": "markdown",
   "metadata": {},
   "source": [
    "# 20. 백트래킹 (Backtracking)"
   ]
  },
  {
   "cell_type": "markdown",
   "metadata": {},
   "source": [
    "## 20.1 백트래킹이란?\n",
    "\n",
    "- 백트래킹(backtracking) 또는 퇴각 검색(backtrack)으로 부름"
   ]
  },
  {
   "cell_type": "markdown",
   "metadata": {},
   "source": [
    "<br>\n",
    "\n",
    "### 20.1.1 제약 조건 만족 문제(Constraint Satisfaction Problem)\n",
    "\n",
    "- 백트래킹은 제약 조건 만족 문제(Constraint Satisfaction Problem)에서 해를 찾기 위한 전략\n",
    "  - 해를 찾기 위해 후보군에 제약 조건을 점진적으로 체크\n",
    "  - 해당 후보군이 제약 조건을 만족할 수 없다고 판단되는 즉시 backtrack 함  \n",
    "  (backtrack : 다시는 이 후보군을 체크하지 않을 것을 표기)\n",
    "  - 바로 다른 후보군으로 넘어감\n",
    "  - 결국 최적의 해를 찾는 방법"
   ]
  },
  {
   "cell_type": "markdown",
   "metadata": {},
   "source": [
    "<br>\n",
    "\n",
    "### 20.1.2 백트래킹 실제 구현\n",
    "\n",
    "- 백트래킹 실제 구현 시, 고려할 수 있는 모든 경우의 수(후보군)를 **상태 공간 트리(State Space Tree)**를 통해 표현\n",
    "  - 각 후보군을 DFS 방식으로 확인\n",
    "  - 상태 공간 트리를 탐색하면서 제약이 맞지 않으면 해의 후보가 될만한 곳으로 바로 넘어가서 탐색  \n",
    "  \n",
    "  \n",
    "- Promising\n",
    "  - 해당 루트가 조건에 맞는 지를 검사하는 기법  \n",
    "  \n",
    "  \n",
    "- Pruning (가지치기)\n",
    "  - 조건에 맞지 않으면 포기하고 다른 루트로 바로 돌아섬\n",
    "  - 탐색의 시간을 절약하는 기법  "
   ]
  },
  {
   "cell_type": "markdown",
   "metadata": {},
   "source": [
    "<br>\n",
    "\n",
    "### 20.1.3 백트래킹 요약\n",
    "\n",
    "- 백트래킹은 트리 구조를 기반으로 DFS로 깊이 탐색을 진행하면서 각 루트에 대해 조건에 부합하는 지를 체크(Promising)\n",
    "- 만약, 해당 트리(나무)에서 조건에 맞지 않는 노드는 더 이상 DFS로 깊이 탐색을 진행하지 않고, 가지를 쳐버림(Pruning)"
   ]
  },
  {
   "cell_type": "markdown",
   "metadata": {},
   "source": [
    "<br>\n",
    "\n",
    "### 20.1.4 상태 공간 트리 (State Space Tree)\n",
    "\n",
    "- 문제 해결 과정의 중간 상태를 각각의 노드로 나타낸 트리\n",
    "\n",
    "<div style=\"margin-left:20px\">\n",
    "<img src=\"https://www.fun-coding.org/00_Images/statespacetree.png\" width=300>\n",
    "</div>"
   ]
  },
  {
   "cell_type": "markdown",
   "metadata": {},
   "source": [
    "<br>\n",
    "\n",
    "## 20.2 N Queen 문제 이해\n",
    "\n",
    "- 대표적인 백트래킹 문제\n",
    "- N x N 크기의 체스판에 N개의 퀸을 서로 공격할 수 없도록 배치하는 문제\n",
    "- 퀸은 다음과 같이 이동할 수 있으므로, 배치된 퀸 간에 공격할 수 없는 위치로 배치해야 함\n",
    "\n",
    "<div style=\"margin-left:20px\">\n",
    "    <img src=\"https://www.fun-coding.org/00_Images/queen_move.png\">\n",
    "</div>"
   ]
  },
  {
   "cell_type": "markdown",
   "metadata": {},
   "source": [
    "<br>\n",
    "\n",
    "### 20.2.1 Pruning(가지치기) for N Queen 문제\n",
    "\n",
    "- 한 행에는 하나의 퀸 밖에 위치할 수 없음 (퀸은 수평 이동이 가능하기 때문)\n",
    "- 맨 위에 있는 행부터 퀸을 배치\n",
    "- 다음 행에 해당 퀸이 이동할 수 없는 위치를 찾아 퀸을 배치  \n",
    "  \n",
    "  \n",
    "- 만약 앞선 행에 배치한 퀸으로 인해, 다음 행에 해당 퀸들이 이동할 수 없는 위치가 없을 경우\n",
    "  - 더 이상 퀸을 배치하지 않음\n",
    "  - 이전 행의 퀸의 위치를 바꿈  \n",
    "  \n",
    "  \n",
    "- 즉, 맨 위의 행부터 전체 행까지 퀸의 배치가 가능한 경우의 수를 상태 공간 트리 형태로 만듬\n",
    "- 각 경우를 맨 위의 행부터 DFS 방식으로 접근\n",
    "- 해당 경우가 진행이 어려울 경우, 더 이상 진행하지 않고 다른 경우를 체크하는 방식\n",
    "\n",
    "<div style=\"margin-left:20px\">\n",
    "    <img src=\"https://www.fun-coding.org/00_Images/backtracking.png\">\n",
    "</div>"
   ]
  },
  {
   "cell_type": "markdown",
   "metadata": {},
   "source": [
    "<br>\n",
    "\n",
    "### 20.2.2 Promising for N Queen 문제\n",
    "\n",
    "- 해당 루트가 조건에 맞는 지를 검사하는 기법을 활용\n",
    "- 현재까지 앞선 행에서 배치한 퀸이 이동할 수 없는 위치가 있는 지를 다음과 같은 조건으로 확인\n",
    "- 한 행에 어차피 하나의 퀸만 배치가 가능하므로 수평 체크는 별도로 필요하지 않음\n",
    "\n",
    "<div style=\"margin-left:20px\">\n",
    "    <img src=\"https://www.fun-coding.org/00_Images/nqueen.png\">\n",
    "</div>"
   ]
  },
  {
   "cell_type": "markdown",
   "metadata": {},
   "source": [
    "<br>\n",
    "\n",
    "### 20.2.3 N Queen 문제 파이썬 코드 작성"
   ]
  },
  {
   "cell_type": "code",
   "execution_count": 3,
   "metadata": {},
   "outputs": [],
   "source": [
    "def is_available(candidate, current_col):\n",
    "    current_row = len(candidate)\n",
    "    for queen_row in range(current_row):\n",
    "        if candidate[queen_row] == current_col or abs(candidate[queen_row] - current_col) == current_row - queen_row:\n",
    "            return False\n",
    "    return True\n",
    "\n",
    "def DFS(N, current_row, current_candidate, final_result):\n",
    "    if current_row == N:\n",
    "        final_result.append(current_candidate[:])\n",
    "        return\n",
    "    \n",
    "    for candidate_col in range(N):\n",
    "        if is_available(current_candidate, candidate_col):\n",
    "            current_candidate.append(candidate_col)\n",
    "            DFS(N, current_row + 1, current_candidate, final_result)\n",
    "            current_candidate.pop()\n",
    "            \n",
    "def solve_n_queens(N):\n",
    "    final_result = []\n",
    "    DFS(N, 0, [], final_result)\n",
    "    return final_result        "
   ]
  },
  {
   "cell_type": "code",
   "execution_count": 4,
   "metadata": {},
   "outputs": [
    {
     "data": {
      "text/plain": [
       "[[1, 3, 0, 2], [2, 0, 3, 1]]"
      ]
     },
     "execution_count": 4,
     "metadata": {},
     "output_type": "execute_result"
    }
   ],
   "source": [
    "solve_n_queens(4)"
   ]
  }
 ],
 "metadata": {
  "kernelspec": {
   "display_name": "Python 3",
   "language": "python",
   "name": "python3"
  },
  "language_info": {
   "codemirror_mode": {
    "name": "ipython",
    "version": 3
   },
   "file_extension": ".py",
   "mimetype": "text/x-python",
   "name": "python",
   "nbconvert_exporter": "python",
   "pygments_lexer": "ipython3",
   "version": "3.6.9"
  }
 },
 "nbformat": 4,
 "nbformat_minor": 4
}
