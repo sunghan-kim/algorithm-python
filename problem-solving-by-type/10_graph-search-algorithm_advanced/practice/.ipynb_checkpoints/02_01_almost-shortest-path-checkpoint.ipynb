{
 "cells": [
  {
   "cell_type": "markdown",
   "metadata": {},
   "source": [
    "# 2. 거의 최단 경로 (복습)\n",
    "\n",
    "- [문제 설명 링크 : https://www.acmicpc.net/problem/5719](https://www.acmicpc.net/problem/5719)"
   ]
  },
  {
   "cell_type": "code",
   "execution_count": 5,
   "metadata": {},
   "outputs": [
    {
     "name": "stdin",
     "output_type": "stream",
     "text": [
      " 7 9\n",
      " 0 6\n",
      " 0 1 1\n",
      " 0 2 1\n",
      " 0 3 2\n",
      " 0 4 3\n",
      " 1 5 2\n",
      " 2 6 4\n",
      " 3 6 2\n",
      " 4 6 4\n",
      " 5 6 1\n"
     ]
    },
    {
     "name": "stdout",
     "output_type": "stream",
     "text": [
      "5\n"
     ]
    },
    {
     "name": "stdin",
     "output_type": "stream",
     "text": [
      " 4 6\n",
      " 0 2\n",
      " 0 1 1\n",
      " 1 2 1\n",
      " 1 3 1\n",
      " 3 2 1\n",
      " 2 0 3\n",
      " 3 0 2\n"
     ]
    },
    {
     "name": "stdout",
     "output_type": "stream",
     "text": [
      "-1\n"
     ]
    },
    {
     "name": "stdin",
     "output_type": "stream",
     "text": [
      " 6 8\n",
      " 0 1\n",
      " 0 1 1\n",
      " 0 2 2\n",
      " 0 3 3\n",
      " 2 5 3\n",
      " 3 4 2\n",
      " 4 1 1\n",
      " 5 1 1\n",
      " 3 0 1\n"
     ]
    },
    {
     "name": "stdout",
     "output_type": "stream",
     "text": [
      "6\n"
     ]
    },
    {
     "name": "stdin",
     "output_type": "stream",
     "text": [
      " 0 0\n"
     ]
    }
   ],
   "source": [
    "import heapq\n",
    "from collections import deque\n",
    "\n",
    "def dijkstra():\n",
    "    heap_data = []\n",
    "    heapq.heappush(heap_data, (0, start))\n",
    "    distances[start] = 0\n",
    "    \n",
    "    while heap_data:\n",
    "        now_dist, now_pos = heapq.heappop(heap_data)\n",
    "        if distances[now_pos] < now_dist:\n",
    "            continue\n",
    "        for next_pos, next_dist in graph[now_pos]:\n",
    "            new_dist = now_dist + next_dist\n",
    "            if distances[next_pos] > new_dist and not dropped[now_pos][next_pos]:\n",
    "                distances[next_pos] = new_dist\n",
    "                heapq.heappush(heap_data, (new_dist, next_pos))\n",
    "                \n",
    "def bfs():\n",
    "    queue = deque()\n",
    "    queue.append(end)\n",
    "    \n",
    "    while queue:\n",
    "        now_pos = queue.popleft()\n",
    "        if now_pos == start:\n",
    "            continue\n",
    "        for prev_pos, prev_dist in reversed_graph[now_pos]:\n",
    "            if distances[now_pos] == distances[prev_pos] + prev_dist:\n",
    "                dropped[prev_pos][now_pos] = True\n",
    "                queue.append(prev_pos)\n",
    "\n",
    "while True:\n",
    "    n, m = map(int, input().split())\n",
    "    \n",
    "    if n == 0:\n",
    "        break\n",
    "    \n",
    "    start, end = map(int, input().split())\n",
    "    \n",
    "    graph = [[] for _ in range(n+1)]\n",
    "    reversed_graph = [[] for _ in range(n+1)]\n",
    "    \n",
    "    for _ in range(m):\n",
    "        a, b, dist = map(int, input().split())\n",
    "        graph[a].append((b, dist))\n",
    "        reversed_graph[b].append((a, dist))\n",
    "        \n",
    "    dropped = [[False] * (n+1) for _ in range(n+1)]\n",
    "    \n",
    "    distances = [1e9] * (n+1)\n",
    "    dijkstra()\n",
    "    \n",
    "    bfs()\n",
    "    \n",
    "    distances = [1e9] * (n+1)\n",
    "    dijkstra()\n",
    "    \n",
    "    if distances[end] != 1e9:\n",
    "        print(distances[end])\n",
    "    else:\n",
    "        print(-1)"
   ]
  }
 ],
 "metadata": {
  "kernelspec": {
   "display_name": "Python 3",
   "language": "python",
   "name": "python3"
  },
  "language_info": {
   "codemirror_mode": {
    "name": "ipython",
    "version": 3
   },
   "file_extension": ".py",
   "mimetype": "text/x-python",
   "name": "python",
   "nbconvert_exporter": "python",
   "pygments_lexer": "ipython3",
   "version": "3.6.9"
  }
 },
 "nbformat": 4,
 "nbformat_minor": 4
}
