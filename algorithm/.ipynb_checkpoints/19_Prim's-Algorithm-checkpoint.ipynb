{
 "cells": [
  {
   "cell_type": "markdown",
   "metadata": {},
   "source": [
    "# 19. 프림 알고리즘 (Prim's Algorithm)\n",
    "\n",
    "- 크루스칼 알고리즘과 함께 대표적인 최소 신장 트리 알고리즘"
   ]
  },
  {
   "cell_type": "markdown",
   "metadata": {},
   "source": [
    "<br>\n",
    "\n",
    "## 19.1 프림 알고리즘 로직\n",
    "\n",
    "- 시작 정점을 선택\n",
    "- 정점에 인접한 간선 중 최소 간선으로 연결된 정점을 선택\n",
    "- 해당 정점에서 다시 최소 간선으로 연결된 정점을 선택\n",
    "- 위와 같은 방식으로 최소 신장 트리를 확장해가는 방식"
   ]
  },
  {
   "cell_type": "markdown",
   "metadata": {},
   "source": [
    "<br>\n",
    "\n",
    "## 19.2 크루스칼 알고리즘과 비교\n",
    "\n",
    "- 둘 다 **탐욕 알고리즘을 기초**로 하고 있음\n",
    "  - 당장 눈 앞의 최소 비용을 선택\n",
    "  - 결과적으로 최적의 솔루션을 찾음  \n",
    "  \n",
    "  \n",
    "- 크루스칼 알고리즘\n",
    "  - 가장 가중치가 작은 간선부터 선택하면서 MST를 구함  \n",
    "  \n",
    "  \n",
    "- 프림 알고리즘\n",
    "  - 특정 정점에서 시작\n",
    "  - 해당 정점에 연결된 가장 가중치가 작은 간선 선택\n",
    "  - 간선으로 연결된 정점들에 연결된 간선 중에서 가장 가중치가 작은 간선 선택\n",
    "  - 위와 같은 방식으로 MST를 구함"
   ]
  },
  {
   "cell_type": "markdown",
   "metadata": {},
   "source": [
    "<br>\n",
    "\n",
    "## 19.3 그림으로 이해하는 프림 알고리즘"
   ]
  },
  {
   "cell_type": "markdown",
   "metadata": {},
   "source": [
    "1. 임의의 정점을 선택하여 \"연결된 노드 집합\"에 삽입\n",
    "2. 선택된 정점에 연결된 간선들을 간선 리스트에 삽입\n",
    "3. 간선 리스트에서 최소 가중치를 가지는 간선부터 추출\n",
    "  - 해당 간선에 연결된 인접 정점이 \"연결된 노드 집합\"에 이미 들어 있음  \n",
    "  $\\rightarrow$ 스킵 (cycle 발생 방지)\n",
    "  - 해당 간선에 연결된 인접 정점이 \"연결된 노드 집합\"에 들어 있지 않음  \n",
    "  $\\rightarrow$ 해당 간선을 선택하고, 해당 간선 정보를 \"최소 신장 트리\"에 삽입\n",
    "4. 추출한 간선은 간선 리스트에서 제거\n",
    "5. 간선 리스트에 더 이상의 간선이 없을 때 까지 3-4번을 반복"
   ]
  },
  {
   "cell_type": "markdown",
   "metadata": {},
   "source": [
    "<img src=\"./img/prim_01.jpg\" width=300 />\n",
    "\n",
    "<img src=\"./img/prim_02.jpg\" width=300 />\n",
    "\n",
    "<img src=\"./img/prim_03.jpg\" width=300 />\n",
    "\n",
    "<img src=\"./img/prim_04.jpg\" width=300 />\n",
    "\n",
    "<img src=\"./img/prim_05.jpg\" width=300 />\n",
    "\n",
    "<img src=\"./img/prim_06.jpg\" width=300 />"
   ]
  },
  {
   "cell_type": "markdown",
   "metadata": {},
   "source": [
    "<br>\n",
    "\n",
    "## 19.4 프림 알고리즘(Prim's Algorithm) 코드 작성"
   ]
  },
  {
   "cell_type": "markdown",
   "metadata": {},
   "source": [
    "### 19.4.1 (참고) `heapq` 라이브러리를 활용한 우선순위 큐 사용"
   ]
  },
  {
   "cell_type": "markdown",
   "metadata": {},
   "source": [
    "#### 19.4.1.1 `heapq.heappush()`\n",
    "\n",
    "- 데이터를 heap 형태로 삽입\n",
    "- `0`번 인덱스를 우선 순위로 인지"
   ]
  },
  {
   "cell_type": "markdown",
   "metadata": {},
   "source": [
    "<br>\n",
    "\n",
    "#### 19.4.1.2 `heapq.heappop()`\n",
    "\n",
    "- 가장 우선순위가 높은 데이터 반환\n",
    "- 반환된 데이터는 삭제됨"
   ]
  },
  {
   "cell_type": "code",
   "execution_count": 1,
   "metadata": {},
   "outputs": [
    {
     "name": "stdout",
     "output_type": "stream",
     "text": [
      "[2, 'A']\n",
      "[3, 'C']\n",
      "[5, 'B']\n",
      "[]\n"
     ]
    }
   ],
   "source": [
    "import heapq\n",
    "\n",
    "queue = []\n",
    "graph_data = [[2, 'A'], [5, 'B'], [3, 'C']]\n",
    "\n",
    "for edge in graph_data:\n",
    "    heapq.heappush(queue, edge)\n",
    "    \n",
    "for index in range(len(queue)):\n",
    "    print(heapq.heappop(queue))\n",
    "    \n",
    "print(queue)"
   ]
  },
  {
   "cell_type": "markdown",
   "metadata": {},
   "source": [
    "<br>\n",
    "\n",
    "#### 19.4.1.3 `heapq.heapify()`\n",
    "\n",
    "- 리스트 데이터를 heap 형태로 한 번에 변환\n",
    "- `0`번 인덱스를 우선순위로 인지함"
   ]
  },
  {
   "cell_type": "code",
   "execution_count": 3,
   "metadata": {},
   "outputs": [
    {
     "name": "stdout",
     "output_type": "stream",
     "text": [
      "[2, 'A']\n",
      "[3, 'C']\n",
      "[5, 'B']\n",
      "[]\n"
     ]
    }
   ],
   "source": [
    "import heapq\n",
    "\n",
    "graph_data = [[2, 'A'], [5, 'B'], [3, 'C']]\n",
    "\n",
    "heapq.heapify(graph_data)\n",
    "\n",
    "for index in range(len(graph_data)):\n",
    "    print(heapq.heappop(graph_data))\n",
    "\n",
    "print(graph_data)"
   ]
  },
  {
   "cell_type": "markdown",
   "metadata": {},
   "source": [
    "<br>\n",
    "\n",
    "### 19.4.2 (참고) `collections` 라이브러리의 `defaultdict` 함수 활용\n",
    "\n",
    "- `defaultdict` 함수를 사용해서 `key`에 대한 `value`를 지정하지 않았을 시, 빈 리스트로 초기화하기"
   ]
  },
  {
   "cell_type": "code",
   "execution_count": 1,
   "metadata": {},
   "outputs": [
    {
     "name": "stdout",
     "output_type": "stream",
     "text": [
      "[]\n"
     ]
    }
   ],
   "source": [
    "from collections import defaultdict\n",
    "\n",
    "list_dict = defaultdict(list)\n",
    "print(list_dict['key1'])"
   ]
  },
  {
   "cell_type": "markdown",
   "metadata": {},
   "source": [
    "<br>\n",
    "\n",
    "### 19.4.3 프림 알고리즘 파이썬 코드\n",
    "\n",
    "0. 모든 간선 정보를 저장 (`adjacent_edges`)  \n",
    "  \n",
    "  \n",
    "1. 임의의 정점을 선택, \"연결된 노드 집합(`connected_nodes`)\"에 삽입  \n",
    "  \n",
    "  \n",
    "2. 선택된 정점에 연결된 간선들을 간선 리스트(`candidate_edge_list`)에 삽입  \n",
    "  \n",
    "  \n",
    "3. 간선 리스트(`candidate_edge_list`)에서 최소 가중치를 가지는 간선부터 추출\n",
    "  - 해당 간선에 연결된 인접 정점이 \"연결된 노드 집합\"에 이미 들어 있는 경우\n",
    "    - 스킵 (cycle 발생 방지)\n",
    "  - 해당 간선에 연결된 인접 정점이 \"연결된 노드 집합\"에 들어 있지 않는 경우\n",
    "    - 해당 간선을 선택\n",
    "    - 해당 간선 정보를 \"최소 신장 트리(`mst`)\"에 삽입\n",
    "  - 해당 간선에 연결된 인접 정점의 간선들 중, \"연결된 노드 집합(`connected_nodes`)\"에 없는 노드와 연결된 간선들만 간선 리스트(`candidate_edge_list`)\"에 삽입\n",
    "    - \"연결된 노드 집합(`connected_nodes`)에 있는 노드와 연결된 간선들을 간선 리스트에 삽입해도, 해당 간선은 스킵될 것이기 때문\n",
    "    - 어차피 스킵될 간선을 간선 리스트(`candidate_edge_list`)에 넣지 않으므로 해서, 간선 리스트(`candidate_edge_list`)에서 최소 가중치를 가지는 간선부터 추출하기 위한 자료구조 유지를 위한 노력을 줄일 수 있음  \n",
    "    (ex. 최소힙 구조 사용)  \n",
    "  \n",
    "  \n",
    "4. 선택된 간선은 간선 리스트에서 제거  \n",
    "  \n",
    "  \n",
    "5. 간선 리스트에 더 이상의 간선이 없을 때 까지 3-4번을 반복"
   ]
  },
  {
   "cell_type": "markdown",
   "metadata": {},
   "source": [
    "<img src=\"./img/prim-algorithm.jpg\" width=250 />"
   ]
  },
  {
   "cell_type": "code",
   "execution_count": 1,
   "metadata": {},
   "outputs": [],
   "source": [
    "myedges = [\n",
    "    (7, 'A', 'B'), (5, 'A', 'D'),\n",
    "    (8, 'B', 'C'), (9, 'B', 'D'), (7, 'B', 'E'),\n",
    "    (5, 'C', 'E'),\n",
    "    (7, 'D', 'E'), (6, 'D', 'F'),\n",
    "    (8, 'E', 'F'), (9, 'E', 'G'),\n",
    "    (11, 'F', 'G')\n",
    "]"
   ]
  },
  {
   "cell_type": "code",
   "execution_count": 2,
   "metadata": {},
   "outputs": [],
   "source": [
    "from collections import defaultdict\n",
    "from heapq import *\n",
    "\n",
    "def prim(start_node, edges):\n",
    "    mst = list()\n",
    "    adjacent_edges = defaultdict(list)\n",
    "    for weight, n1, n2 in edges:\n",
    "        adjacent_edges[n1].append((weight, n1, n2))\n",
    "        adjacent_edges[n2].append((weight, n2, n1))\n",
    "        \n",
    "    connected_nodes = set(start_node)\n",
    "    candidate_edge_list = adjacent_edges[start_node]\n",
    "    heapify(candidate_edge_list)\n",
    "    \n",
    "    while candidate_edge_list:\n",
    "        weight, n1, n2 = heappop(candidate_edge_list)\n",
    "        if n2 not in connected_nodes:\n",
    "            connected_nodes.add(n2)\n",
    "            mst.append((weight, n1, n2))\n",
    "            \n",
    "            for edge in adjacent_edges[n2]:\n",
    "                if edge[2] not in connected_nodes:\n",
    "                    heappush(candidate_edge_list, edge)\n",
    "                    \n",
    "    return mst"
   ]
  },
  {
   "cell_type": "code",
   "execution_count": 3,
   "metadata": {},
   "outputs": [
    {
     "data": {
      "text/plain": [
       "[(5, 'A', 'D'),\n",
       " (6, 'D', 'F'),\n",
       " (7, 'A', 'B'),\n",
       " (7, 'B', 'E'),\n",
       " (5, 'E', 'C'),\n",
       " (9, 'E', 'G')]"
      ]
     },
     "execution_count": 3,
     "metadata": {},
     "output_type": "execute_result"
    }
   ],
   "source": [
    "prim('A', myedges)"
   ]
  },
  {
   "cell_type": "code",
   "execution_count": null,
   "metadata": {},
   "outputs": [],
   "source": []
  }
 ],
 "metadata": {
  "kernelspec": {
   "display_name": "Python 3",
   "language": "python",
   "name": "python3"
  },
  "language_info": {
   "codemirror_mode": {
    "name": "ipython",
    "version": 3
   },
   "file_extension": ".py",
   "mimetype": "text/x-python",
   "name": "python",
   "nbconvert_exporter": "python",
   "pygments_lexer": "ipython3",
   "version": "3.6.9"
  }
 },
 "nbformat": 4,
 "nbformat_minor": 4
}
