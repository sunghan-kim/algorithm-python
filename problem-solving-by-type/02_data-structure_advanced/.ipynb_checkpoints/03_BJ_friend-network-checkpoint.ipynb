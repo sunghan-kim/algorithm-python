{
 "cells": [
  {
   "cell_type": "markdown",
   "metadata": {},
   "source": [
    "# 3. 친구 네트워크\n",
    "\n",
    "- 난이도 : 중(Medium)\n",
    "- 유형 : 해시, 집합, 그래프\n",
    "- 추천 풀이 시간 : 50분\n",
    "- [문제 설명 링크 : https://www.acmicpc.net/problem/4195](https://www.acmicpc.net/problem/4195)"
   ]
  },
  {
   "cell_type": "markdown",
   "metadata": {},
   "source": [
    "<br>\n",
    "\n",
    "## 3.1 문제 설명"
   ]
  },
  {
   "cell_type": "markdown",
   "metadata": {},
   "source": [
    "### 3.1.1 문제\n",
    "\n",
    "민혁이는 소셜 네트워크 사이트에서 친구를 만드는 것을 좋아하는 친구이다. 우표를 모으는 취미가 있듯이, 민혁이는 소셜 네트워크 사이트에서 친구를 모으는 것이 취미이다.\n",
    "\n",
    "어떤 사이트의 친구 관계가 생긴 순서대로 주어졌을 때, 두 사람의 친구 네트워크에 몇 명이 있는지 구하는 프로그램을 작성하시오.\n",
    "\n",
    "친구 네트워크란 친구 관계만으로 이동할 수 있는 사이를 말한다."
   ]
  },
  {
   "cell_type": "markdown",
   "metadata": {},
   "source": [
    "<br>\n",
    "\n",
    "### 3.1.2 입력\n",
    "\n",
    "첫째 줄에 테스트 케이스의 개수가 주어진다. 각 테스트 케이스의 첫째 줄에는 친구 관계의 수 F가 주어지며, 이 값은 100,000을 넘지 않는다. 다음 F개의 줄에는 친구 관계가 생긴 순서대로 주어진다. 친구 관계는 두 사용자의 아이디로 이루어져 있으며, 알파벳 대문자 또는 소문자로만 이루어진 길이 20 이하의 문자열이다."
   ]
  },
  {
   "cell_type": "markdown",
   "metadata": {},
   "source": [
    "<br>\n",
    "\n",
    "### 3.1.3 출력\n",
    "\n",
    "친구 관계가 생길 때마다, 두 사람의 친구 네트워크에 몇 명이 있는지 구하는 프로그램을 작성하시오."
   ]
  },
  {
   "cell_type": "markdown",
   "metadata": {},
   "source": [
    "<br>\n",
    "\n",
    "### 3.1.4 입출력 예제\n",
    "\n",
    "**예제 입력 1**\n",
    "\n",
    "```\n",
    "2\n",
    "3\n",
    "Fred Barney\n",
    "Barney Betty\n",
    "Betty Wilma\n",
    "3\n",
    "Fred Barney\n",
    "Betty Wilma\n",
    "Barney Betty\n",
    "```\n",
    "\n",
    "**예제 출력 1**\n",
    "\n",
    "```\n",
    "2\n",
    "3\n",
    "4\n",
    "2\n",
    "2\n",
    "4\n",
    "```"
   ]
  },
  {
   "cell_type": "markdown",
   "metadata": {},
   "source": [
    "<br>\n",
    "\n",
    "## 3.2 직접 구현\n",
    "\n",
    "- 집합을 효율적으로 구현"
   ]
  },
  {
   "cell_type": "markdown",
   "metadata": {},
   "source": [
    "### 3.2.1 실제 구현 코드\n",
    "\n",
    "- 구현 실패.."
   ]
  },
  {
   "cell_type": "code",
   "execution_count": 15,
   "metadata": {},
   "outputs": [
    {
     "name": "stdin",
     "output_type": "stream",
     "text": [
      " 1\n",
      " 1\n",
      "  a \n"
     ]
    },
    {
     "name": "stdout",
     "output_type": "stream",
     "text": [
      "{'a'}\n"
     ]
    }
   ],
   "source": [
    "test_case = int(input())\n",
    "\n",
    "for _ in range(test_case):\n",
    "    F = int(input())\n",
    "    \n",
    "    network = []\n",
    "    \n",
    "    for _ in range(F):\n",
    "        tmp_network = {p for p in input().split()}\n",
    "        print(tmp_network)     "
   ]
  },
  {
   "cell_type": "markdown",
   "metadata": {},
   "source": [
    "<br>\n",
    "\n",
    "## 3.3 해설"
   ]
  },
  {
   "cell_type": "markdown",
   "metadata": {},
   "source": [
    "### 3.3.1 해설내용\n",
    "\n",
    "- 해시를 활용한 Union-Find 알고리즘을 이용해 문제를 풀 수 있다.\n",
    "  - Union-Find 알고리즘 : 집합을 표현해주는 알고리즘 (합집합 찾기)\n",
    "- 파이썬에서는 dictionary 자료형을 해시처럼 사용할 수 있다."
   ]
  },
  {
   "cell_type": "markdown",
   "metadata": {},
   "source": [
    "<br>\n",
    "\n",
    "#### 3.3.1.1 합집합 찾기(Union-Find) 알고리즘\n",
    "\n",
    "- 원소들의 연결 여부를 확인하는 알고리즘이다.\n",
    "- 현재 자신이 어떤 집합에 속해 있는 지를 확인하는 알고리즘이다.  "
   ]
  },
  {
   "cell_type": "markdown",
   "metadata": {},
   "source": [
    "<br>\n",
    "\n",
    "#### 3.3.1.2 Union-Find 알고리즘 수행 과정 예시\n",
    "\n",
    "- 현재는 각각 자기 자신만을 집합으로 가지고 있다.\n",
    "\n",
    "<span style='margin-left: 20px;'><img src='./img/union-find-01.jpg' width=500 /></span>"
   ]
  },
  {
   "cell_type": "markdown",
   "metadata": {},
   "source": [
    "<br>\n",
    "\n",
    "- 이제 `1-4` 사이에 관계가 설정됐다고 해보자.\n",
    "- 그러면 다음 그림과 같이 관계를 표현할 수 있다.\n",
    "- 다음 그림에서 더 작은 원소를 부모로 삼도록 가정한다.\n",
    "- 그러므로 `4` 원소의 부모 원소는 `1`로 변경된다.\n",
    "\n",
    "<span style='margin-left: 20px;'><img src='./img/union-find-02.jpg' width=500 /></span>\n",
    "\n",
    "- 현재 부모 테이블의 값의 종류가 3개인 것을 통해 현재 4개의 값들이 총 3개의 집합으로 분류되어 있다는 것을 알 수 있다.\n",
    "  - `{1, 4}, {2}, {3}`"
   ]
  },
  {
   "cell_type": "markdown",
   "metadata": {},
   "source": [
    "<br>\n",
    "\n",
    "- 다음으로 `2-4` 사이에 관계가 설정됐다고 해보자.\n",
    "- `2-4` 사이에 관계가 설정된 것이지만 이는 실질적으로 `1-2` 사이에 관계가 설정됐다고 볼 수 있다.\n",
    "  - 이 때 재귀적으로 관계를 확인한다.\n",
    "- `1-2` 사이의 관계 설정 시, 더 작은 원소를 부모로 하므로 `2`의 부모가 `1`로 설정된다.\n",
    "\n",
    "<span style='margin-left: 20px;'><img src='./img/union-find-03.jpg' width=500 /></span>\n",
    "\n",
    "- 현재 부모 테이블을 통해 `1, 2, 4`가 같은 집합에 속해 있고, `3` 이 별도의 집합으로 존재한다는 것을 알 수 있다.\n",
    "  - `{1, 2, 4}, {3}`"
   ]
  },
  {
   "cell_type": "markdown",
   "metadata": {},
   "source": [
    "<br>\n",
    "\n",
    "#### 3.3.1.3 Union-Find 알고리즘 코드 구현"
   ]
  },
  {
   "cell_type": "code",
   "execution_count": 21,
   "metadata": {},
   "outputs": [
    {
     "name": "stdout",
     "output_type": "stream",
     "text": [
      "2 2 3 2 "
     ]
    }
   ],
   "source": [
    "def find(x):\n",
    "    \"\"\"\n",
    "    find 함수\n",
    "    - x의 부모를 재귀적으로 찾아서 x의 부모 원소 세팅 및 반환\n",
    "    \"\"\"\n",
    "    if x == parent[x]:\n",
    "        return x\n",
    "    else:\n",
    "        p = find(parent[x])\n",
    "        parent[x] = p\n",
    "        return parent[x]\n",
    "\n",
    "def union(x, y):\n",
    "    \"\"\"\n",
    "    union 함수\n",
    "    - x, y 각각의 부모 원소를 찾음\n",
    "    - 두 부모 원소를 연결\n",
    "    - y의 부모 원소를 x로 설정함 (더 작은 원소를 부모로 설정하는 것과 같은 방법 중 하나)\n",
    "    \"\"\"\n",
    "    x = find(x)\n",
    "    y = find(y)\n",
    "    \n",
    "    parent[y] = x\n",
    "\n",
    "parent = []\n",
    "\n",
    "for i in range(0, 5):\n",
    "    parent.append(i)\n",
    "\n",
    "union(1, 4)\n",
    "union(2, 4)\n",
    "\n",
    "for i in range(1, len(parent)):\n",
    "    print(find(i), end=' ')"
   ]
  },
  {
   "cell_type": "markdown",
   "metadata": {},
   "source": [
    "<br>\n",
    "\n",
    "#### 3.3.1.4 실제 문제에 대한 union-find 알고리즘 수행 과정\n",
    "\n",
    "- 초기 상태는 다음 그림과 같다.\n",
    "- `Fred`, `Barney` 각각 부모 원소로 자기 자신을 갖게 된다.\n",
    "\n",
    "<span style='margin-left: 20px;'><img src='./img/problem-01.jpg' width=500 /></span>"
   ]
  },
  {
   "cell_type": "markdown",
   "metadata": {},
   "source": [
    "<br>\n",
    "\n",
    "- `Fred`와 `Barney` 사이의 관계를 설정한다.\n",
    "- `Barney`의 부모 원소는 `Fred`로 설정된다.\n",
    "- 각각의 원소의 네트워크 크기도 2로 증가한다.\n",
    "\n",
    "<span style='margin-left: 20px;'><img src='./img/problem-02.jpg' width=500 /></span>"
   ]
  },
  {
   "cell_type": "markdown",
   "metadata": {},
   "source": [
    "<br>\n",
    "\n",
    "- 다음으로 `Betty`, `Wilma`가 원소로 추가된다.\n",
    "- 추가된 각각의 원소의 부모 원소는 자기 자신으로 설정된다.\n",
    "\n",
    "<span style='margin-left: 20px;'><img src='./img/problem-03.jpg' width=500 /></span>"
   ]
  },
  {
   "cell_type": "markdown",
   "metadata": {},
   "source": [
    "<br>\n",
    "\n",
    "- 다음으로 `Betty`, `Wilma` 사이의 관계가 설정된다.\n",
    "- `Wilma`의 부모 원소가 `Betty`로 변경된다.\n",
    "- `Betty`, `Wilma`의 네트워크 크기가 각각 2로 증가된다.\n",
    "\n",
    "<span style='margin-left: 20px;'><img src='./img/problem-04.jpg' width=500 /></span>"
   ]
  },
  {
   "cell_type": "markdown",
   "metadata": {},
   "source": [
    "<br>\n",
    "\n",
    "- 마지막으로 `Barney`와 `Betty`의 관계가 설정된다.\n",
    "- `Betty`의 부모 원소가 `Barney`로 설정되야 한다.\n",
    "- `Barney`의 부모 원소가 `Fred`이므로 `Betty`와 `Wilma`의 부모 원소가 모두 `Fred`로 설정된다.\n",
    "\n",
    "<span style='margin-left: 20px;'><img src='./img/problem-05.jpg' width=500 /></span>"
   ]
  },
  {
   "cell_type": "markdown",
   "metadata": {},
   "source": [
    "<br>\n",
    "\n",
    "### 3.3.2 해설 코드\n",
    "\n",
    "- 메모리 : 30108 KB\n",
    "- 시간 : 8112 ms"
   ]
  },
  {
   "cell_type": "code",
   "execution_count": 23,
   "metadata": {},
   "outputs": [
    {
     "name": "stdin",
     "output_type": "stream",
     "text": [
      " 2\n",
      " 3\n",
      " Fred Barney\n"
     ]
    },
    {
     "name": "stdout",
     "output_type": "stream",
     "text": [
      "2\n"
     ]
    },
    {
     "name": "stdin",
     "output_type": "stream",
     "text": [
      " Barney Betty\n"
     ]
    },
    {
     "name": "stdout",
     "output_type": "stream",
     "text": [
      "3\n"
     ]
    },
    {
     "name": "stdin",
     "output_type": "stream",
     "text": [
      " Betty Wilma\n"
     ]
    },
    {
     "name": "stdout",
     "output_type": "stream",
     "text": [
      "4\n"
     ]
    },
    {
     "name": "stdin",
     "output_type": "stream",
     "text": [
      " 3\n",
      " Fred Barney\n"
     ]
    },
    {
     "name": "stdout",
     "output_type": "stream",
     "text": [
      "2\n"
     ]
    },
    {
     "name": "stdin",
     "output_type": "stream",
     "text": [
      " Betty Wilma\n"
     ]
    },
    {
     "name": "stdout",
     "output_type": "stream",
     "text": [
      "2\n"
     ]
    },
    {
     "name": "stdin",
     "output_type": "stream",
     "text": [
      " Barney Betty\n"
     ]
    },
    {
     "name": "stdout",
     "output_type": "stream",
     "text": [
      "4\n"
     ]
    }
   ],
   "source": [
    "def find(x):\n",
    "    if x == parent[x]:\n",
    "        return x\n",
    "    else:\n",
    "        p = find(parent[x])\n",
    "        parent[x] = p\n",
    "        return parent[x]\n",
    "    \n",
    "def union(x, y):\n",
    "    x = find(x)\n",
    "    y = find(y)\n",
    "    \n",
    "    if x != y:\n",
    "        parent[y] = x\n",
    "        number[x] += number[y]\n",
    "        \n",
    "####\n",
    "\n",
    "test_case = int(input())\n",
    "\n",
    "for _ in range(test_case):\n",
    "    parent = dict()\n",
    "    number = dict()\n",
    "    \n",
    "    f = int(input())\n",
    "    \n",
    "    for _ in range(f):\n",
    "        x, y = input().split()\n",
    "        \n",
    "        if x not in parent:\n",
    "            parent[x] = x\n",
    "            number[x] = 1\n",
    "        \n",
    "        if y not in parent:\n",
    "            parent[y] = y\n",
    "            number[y] = 1\n",
    "            \n",
    "        union(x, y)\n",
    "        \n",
    "        print(number[find(x)])"
   ]
  }
 ],
 "metadata": {
  "kernelspec": {
   "display_name": "Python 3",
   "language": "python",
   "name": "python3"
  },
  "language_info": {
   "codemirror_mode": {
    "name": "ipython",
    "version": 3
   },
   "file_extension": ".py",
   "mimetype": "text/x-python",
   "name": "python",
   "nbconvert_exporter": "python",
   "pygments_lexer": "ipython3",
   "version": "3.6.9"
  }
 },
 "nbformat": 4,
 "nbformat_minor": 4
}
