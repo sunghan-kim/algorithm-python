{
 "cells": [
  {
   "cell_type": "markdown",
   "metadata": {},
   "source": [
    "# 4. 카드 정렬하기\n",
    "\n",
    "- 난이도 : 하(Easy)\n",
    "- 유형 : 힙, 자료구조, 그리디\n",
    "- 추천 풀이 시간 : 20분\n",
    "- [문제 설명 링크 : https://www.acmicpc.net/problem/1715](https://www.acmicpc.net/problem/1715)"
   ]
  },
  {
   "cell_type": "code",
   "execution_count": 2,
   "metadata": {},
   "outputs": [
    {
     "name": "stdin",
     "output_type": "stream",
     "text": [
      " 3\n",
      " 10\n",
      " 20\n",
      " 40\n"
     ]
    },
    {
     "name": "stdout",
     "output_type": "stream",
     "text": [
      "100\n"
     ]
    }
   ],
   "source": [
    "import heapq as hq\n",
    "\n",
    "n = int(input())\n",
    "\n",
    "heap = []\n",
    "\n",
    "for _ in range(n):\n",
    "    data = int(input())\n",
    "    hq.heappush(heap, data)\n",
    "    \n",
    "result = 0\n",
    "\n",
    "while len(heap) != 1:\n",
    "    val1 = hq.heappop(heap)\n",
    "    val2 = hq.heappop(heap)\n",
    "    sum_val = val1 + val2\n",
    "    result += sum_val\n",
    "    hq.heappush(heap, sum_val)\n",
    "    \n",
    "print(result)"
   ]
  }
 ],
 "metadata": {
  "kernelspec": {
   "display_name": "Python 3",
   "language": "python",
   "name": "python3"
  },
  "language_info": {
   "codemirror_mode": {
    "name": "ipython",
    "version": 3
   },
   "file_extension": ".py",
   "mimetype": "text/x-python",
   "name": "python",
   "nbconvert_exporter": "python",
   "pygments_lexer": "ipython3",
   "version": "3.6.9"
  }
 },
 "nbformat": 4,
 "nbformat_minor": 4
}
