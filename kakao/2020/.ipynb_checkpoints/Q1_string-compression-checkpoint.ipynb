{
 "cells": [
  {
   "cell_type": "markdown",
   "metadata": {},
   "source": [
    "# 1. 문자열 압축"
   ]
  },
  {
   "cell_type": "code",
   "execution_count": 1,
   "metadata": {},
   "outputs": [],
   "source": [
    "str1 = \"aabbaccc\" # 7\n",
    "str2 = \"ababcdcdababcdcd\" # 9\n",
    "str3 = \"abcabcdede\" # 8\n",
    "str4 = \"abcabcabcabcdededededede\" # 14\n",
    "str5 = \"xababcdcdababcdcd\" # 17"
   ]
  },
  {
   "cell_type": "code",
   "execution_count": 13,
   "metadata": {},
   "outputs": [],
   "source": [
    "def solution(s):\n",
    "    answer = len(s)\n",
    "    result = \"\"\n",
    "    for cut in range(1, (len(s)//2)+1):\n",
    "        print('cut : ', cut)\n",
    "        count = 1\n",
    "        tempStr = s[:cut]\n",
    "        for i in range(cut, len(s), cut):\n",
    "            if s[i:i+cut] == tempStr:\n",
    "                count += 1\n",
    "            else:\n",
    "                if count == 1:\n",
    "                    count = \"\"\n",
    "                result += str(count) + tempStr\n",
    "                tempStr = s[i:i+cut]\n",
    "                print('temp : ', tempStr)\n",
    "                count = 1\n",
    "                \n",
    "        if count == 1:\n",
    "            count = \"\"\n",
    "        result += str(count) + tempStr\n",
    "        if answer > len(result):\n",
    "            answer = len(result)\n",
    "        result = \"\"\n",
    "        \n",
    "    return answer"
   ]
  },
  {
   "cell_type": "code",
   "execution_count": 14,
   "metadata": {},
   "outputs": [
    {
     "name": "stdout",
     "output_type": "stream",
     "text": [
      "cut :  1\n",
      "cut :  2\n",
      "cut :  3\n",
      "cut :  4\n",
      "7\n"
     ]
    }
   ],
   "source": [
    "print(solution(str1))"
   ]
  },
  {
   "cell_type": "code",
   "execution_count": 9,
   "metadata": {},
   "outputs": [
    {
     "name": "stdout",
     "output_type": "stream",
     "text": [
      "9\n"
     ]
    }
   ],
   "source": [
    "str2 = \"ababcdcdababcdcd\" # 9\n",
    "print(solution(str2))"
   ]
  },
  {
   "cell_type": "code",
   "execution_count": 10,
   "metadata": {},
   "outputs": [
    {
     "name": "stdout",
     "output_type": "stream",
     "text": [
      "8\n"
     ]
    }
   ],
   "source": [
    "str3 = \"abcabcdede\" # 8\n",
    "print(solution(str3))"
   ]
  },
  {
   "cell_type": "code",
   "execution_count": 11,
   "metadata": {},
   "outputs": [
    {
     "name": "stdout",
     "output_type": "stream",
     "text": [
      "14\n"
     ]
    }
   ],
   "source": [
    "str4 = \"abcabcabcabcdededededede\" # 14\n",
    "print(solution(str4))"
   ]
  },
  {
   "cell_type": "code",
   "execution_count": 12,
   "metadata": {},
   "outputs": [
    {
     "name": "stdout",
     "output_type": "stream",
     "text": [
      "17\n"
     ]
    }
   ],
   "source": [
    "str5 = \"xababcdcdababcdcd\" # 17\n",
    "print(solution(str5))"
   ]
  },
  {
   "cell_type": "code",
   "execution_count": 76,
   "metadata": {},
   "outputs": [],
   "source": [
    "def solution2(s):\n",
    "    length = []\n",
    "    result = \"\"\n",
    "    \n",
    "    if len(s) == 1:\n",
    "        return 1\n",
    "    \n",
    "    for cut in range(1, (len(s)//2)+1):\n",
    "        count = 1\n",
    "        tempStr = s[:cut]\n",
    "        \n",
    "        for i in range(1, len(s), cut):\n",
    "            if s[i:i+cut] == tempStr:\n",
    "                count += 1\n",
    "            else:\n",
    "                if count == 1:\n",
    "                    count = \"\"\n",
    "                result += str(count) + tempStr\n",
    "                tempStr = s[i:i+cut]\n",
    "                count = 1\n",
    "                \n",
    "        if count == 1:\n",
    "            count = \"\"\n",
    "        result += str(count) + tempStr\n",
    "        length.append(len(result))\n",
    "        result = \"\"\n",
    "        \n",
    "    return min(length)"
   ]
  },
  {
   "cell_type": "code",
   "execution_count": 79,
   "metadata": {},
   "outputs": [
    {
     "name": "stdout",
     "output_type": "stream",
     "text": [
      "7\n"
     ]
    }
   ],
   "source": [
    "str1 = \"aabbaccc\" # 7\n",
    "print(solution2(str1))"
   ]
  },
  {
   "cell_type": "code",
   "execution_count": 80,
   "metadata": {},
   "outputs": [
    {
     "name": "stdout",
     "output_type": "stream",
     "text": [
      "16\n"
     ]
    }
   ],
   "source": [
    "str2 = \"ababcdcdababcdcd\" # 9\n",
    "print(solution2(str2))"
   ]
  },
  {
   "cell_type": "code",
   "execution_count": 81,
   "metadata": {},
   "outputs": [
    {
     "name": "stdout",
     "output_type": "stream",
     "text": [
      "10\n"
     ]
    }
   ],
   "source": [
    "str3 = \"abcabcdede\" # 8\n",
    "print(solution2(str3))"
   ]
  },
  {
   "cell_type": "code",
   "execution_count": 82,
   "metadata": {},
   "outputs": [
    {
     "name": "stdout",
     "output_type": "stream",
     "text": [
      "18\n"
     ]
    }
   ],
   "source": [
    "str4 = \"abcabcabcabcdededededede\" # 14\n",
    "print(solution2(str4))"
   ]
  },
  {
   "cell_type": "code",
   "execution_count": 83,
   "metadata": {},
   "outputs": [
    {
     "name": "stdout",
     "output_type": "stream",
     "text": [
      "14\n"
     ]
    }
   ],
   "source": [
    "str5 = \"xababcdcdababcdcd\" # 17\n",
    "print(solution2(str5))"
   ]
  }
 ],
 "metadata": {
  "kernelspec": {
   "display_name": "Python 3",
   "language": "python",
   "name": "python3"
  },
  "language_info": {
   "codemirror_mode": {
    "name": "ipython",
    "version": 3
   },
   "file_extension": ".py",
   "mimetype": "text/x-python",
   "name": "python",
   "nbconvert_exporter": "python",
   "pygments_lexer": "ipython3",
   "version": "3.6.9"
  }
 },
 "nbformat": 4,
 "nbformat_minor": 4
}
