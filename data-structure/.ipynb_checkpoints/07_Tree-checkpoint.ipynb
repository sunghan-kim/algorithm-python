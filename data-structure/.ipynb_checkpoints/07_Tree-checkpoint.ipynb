{
 "cells": [
  {
   "cell_type": "markdown",
   "metadata": {},
   "source": [
    "# 7. 트리 (Tree)"
   ]
  },
  {
   "cell_type": "markdown",
   "metadata": {},
   "source": [
    "## 7.1 트리 (Tree) 구조\n",
    "\n",
    "- Node와 Branch를 이용해서 사이클을 이루지 않도록 구성한 데이터 구조"
   ]
  },
  {
   "cell_type": "markdown",
   "metadata": {},
   "source": [
    "<br>"
   ]
  },
  {
   "cell_type": "markdown",
   "metadata": {},
   "source": [
    "### 7.1.1 트리가 많이 사용되는 경우\n",
    "\n",
    "- 트리 중 이진 트리(Binary Tree) 형태의 구조로, 탐색(검색) 알고리즘 구현을 위해 많이 사용됨"
   ]
  },
  {
   "cell_type": "markdown",
   "metadata": {},
   "source": [
    "<br>"
   ]
  },
  {
   "cell_type": "markdown",
   "metadata": {},
   "source": [
    "## 7.2 트리 관련 용어"
   ]
  },
  {
   "cell_type": "markdown",
   "metadata": {},
   "source": [
    "### 7.2.1 Node\n",
    "\n",
    "- 트리에서 데이터를 저장하는 기본 요소\n",
    "- 데이터와 다른 연결된 노드에 대한 Branch 정보 포함"
   ]
  },
  {
   "cell_type": "markdown",
   "metadata": {},
   "source": [
    "<br>"
   ]
  },
  {
   "cell_type": "markdown",
   "metadata": {},
   "source": [
    "### 7.2.2 Root Node\n",
    "\n",
    "- 트리 맨 위에 있는 노드"
   ]
  },
  {
   "cell_type": "markdown",
   "metadata": {},
   "source": [
    "<br>"
   ]
  },
  {
   "cell_type": "markdown",
   "metadata": {},
   "source": [
    "### 7.2.3 Level\n",
    "\n",
    "- 최상위 노드를 Level 0 으로 하였을 때, 하위 Branch로 연결된 노드의 깊이를 나타냄"
   ]
  },
  {
   "cell_type": "markdown",
   "metadata": {},
   "source": [
    "<br>"
   ]
  },
  {
   "cell_type": "markdown",
   "metadata": {},
   "source": [
    "### 7.2.4 Parent Node\n",
    "\n",
    "- 어떤 노드의 다음 레벨에 연결된 노드"
   ]
  },
  {
   "cell_type": "markdown",
   "metadata": {},
   "source": [
    "<br>"
   ]
  },
  {
   "cell_type": "markdown",
   "metadata": {},
   "source": [
    "### 7.2.5 Child Node\n",
    "\n",
    "- 어떤 노드의 상위 레벨에 연결된 노드"
   ]
  },
  {
   "cell_type": "markdown",
   "metadata": {},
   "source": [
    "<br>"
   ]
  },
  {
   "cell_type": "markdown",
   "metadata": {},
   "source": [
    "### 7.2.6 Leaf Node (Terminal Node)\n",
    "\n",
    "- Child Node가 하나도 없는 노드"
   ]
  },
  {
   "cell_type": "markdown",
   "metadata": {},
   "source": [
    "<br>"
   ]
  },
  {
   "cell_type": "markdown",
   "metadata": {},
   "source": [
    "### 7.2.7 Sibling (Brother Node)\n",
    "\n",
    "- 동일한 Parent Node를 가진 노드"
   ]
  },
  {
   "cell_type": "markdown",
   "metadata": {},
   "source": [
    "<br>"
   ]
  },
  {
   "cell_type": "markdown",
   "metadata": {},
   "source": [
    "### 7.2.8 Depth\n",
    "\n",
    "- 트리에서 Node가 가질 수 있는 최대 Level"
   ]
  },
  {
   "cell_type": "markdown",
   "metadata": {},
   "source": [
    "<img src=\"img/tree.png\" width=\"600px\" />"
   ]
  },
  {
   "cell_type": "markdown",
   "metadata": {},
   "source": [
    "<br>"
   ]
  },
  {
   "cell_type": "markdown",
   "metadata": {},
   "source": [
    "## 7.3 이진 트리와 이진 탐색 트리 (Binary Search Tree)"
   ]
  },
  {
   "cell_type": "markdown",
   "metadata": {},
   "source": [
    "### 7.3.1 이진 트리\n",
    "\n",
    "- 노드의 최대 Branch가 2인 트리"
   ]
  },
  {
   "cell_type": "markdown",
   "metadata": {},
   "source": [
    "<br>"
   ]
  },
  {
   "cell_type": "markdown",
   "metadata": {},
   "source": [
    "### 7.3.2 이진 탐색 트리 (Binary Search Tree, BST)\n",
    "\n",
    "- 이진 트리에 다음과 같은 추가적인 조건이 있는 트리\n",
    "- 조건 : 왼쪽 노드는 해당 노드보다 작은 값, 오른쪽 노드는 해당 노드보다 큰 값을 가지고 있음"
   ]
  },
  {
   "cell_type": "markdown",
   "metadata": {},
   "source": [
    "<img src=\"https://www.mathwarehouse.com/programming/images/binary-search-tree/binary-search-tree-insertion-animation.gif\" />"
   ]
  },
  {
   "cell_type": "markdown",
   "metadata": {},
   "source": [
    "<br>"
   ]
  },
  {
   "cell_type": "markdown",
   "metadata": {},
   "source": [
    "## 7.4 자료 구조 이진 탐색 트리의 장점과 주요 용도"
   ]
  },
  {
   "cell_type": "markdown",
   "metadata": {},
   "source": [
    "### 7.4.1 장점\n",
    "\n",
    "- 탐색 속도를 개선할 수 있음"
   ]
  },
  {
   "cell_type": "markdown",
   "metadata": {},
   "source": [
    "<br>"
   ]
  },
  {
   "cell_type": "markdown",
   "metadata": {},
   "source": [
    "### 7.4.2 주요 용도\n",
    "\n",
    "- 데이터 검색(탐색)"
   ]
  },
  {
   "cell_type": "markdown",
   "metadata": {},
   "source": [
    "<br>"
   ]
  },
  {
   "cell_type": "markdown",
   "metadata": {},
   "source": [
    "## 7.5 이진 트리와 정렬된 배열간의 탐색 비교\n",
    "\n",
    "<img src=\"https://www.mathwarehouse.com/programming/images/binary-search-tree/binary-search-tree-sorted-array-animation.gif\" />"
   ]
  },
  {
   "cell_type": "markdown",
   "metadata": {},
   "source": [
    "<br>"
   ]
  },
  {
   "cell_type": "markdown",
   "metadata": {},
   "source": [
    "## 7.6 이진 탐색 트리 구현"
   ]
  },
  {
   "cell_type": "markdown",
   "metadata": {},
   "source": [
    "### 7.6.1 노드 클래스 만들기"
   ]
  },
  {
   "cell_type": "code",
   "execution_count": 1,
   "metadata": {},
   "outputs": [],
   "source": [
    "class Node:\n",
    "    def __init__(self, value):\n",
    "        self.value = value\n",
    "        self.left = None\n",
    "        self.right = None"
   ]
  },
  {
   "cell_type": "markdown",
   "metadata": {},
   "source": [
    "<br>"
   ]
  },
  {
   "cell_type": "markdown",
   "metadata": {},
   "source": [
    "### 7.6.2 이진 탐색 트리에 데이터 넣기\n",
    "\n",
    "- 이진 탐색 트리 조건에 부합하게 데이터를 넣어야 함"
   ]
  },
  {
   "cell_type": "code",
   "execution_count": 2,
   "metadata": {},
   "outputs": [],
   "source": [
    "class NodeMgmt:\n",
    "    def __init__(self, head):\n",
    "        self.head = head\n",
    "        \n",
    "    def insert(self, value):\n",
    "        self.current_node = self.head\n",
    "        \n",
    "        while True:\n",
    "            if value < self.current_node.value:\n",
    "                if self.current_node.left != None:\n",
    "                    self.current_node = self.current_node.left\n",
    "                else:\n",
    "                    self.current_node.left = Node(value)\n",
    "                    break\n",
    "            else:\n",
    "                if self.current_node.right != None:\n",
    "                    self.current_node = self.current_node.right\n",
    "                else:\n",
    "                    self.current_node.right = Node(value)\n",
    "                    break"
   ]
  },
  {
   "cell_type": "code",
   "execution_count": 3,
   "metadata": {},
   "outputs": [],
   "source": [
    "head = Node(1)\n",
    "BST = NodeMgmt(head)\n",
    "BST.insert(2)"
   ]
  },
  {
   "cell_type": "markdown",
   "metadata": {},
   "source": [
    "<br>"
   ]
  },
  {
   "cell_type": "markdown",
   "metadata": {},
   "source": [
    "### 7.6.3 이진 탐색 트리 탐색"
   ]
  },
  {
   "cell_type": "code",
   "execution_count": 4,
   "metadata": {},
   "outputs": [],
   "source": [
    "class NodeMgmt:\n",
    "    def __init__(self, head):\n",
    "        self.head = head\n",
    "        \n",
    "    def insert(self, value):\n",
    "        self.current_node = self.head\n",
    "        \n",
    "        while True:\n",
    "            if value < self.current_node.value:\n",
    "                if self.current_node.left != None:\n",
    "                    self.current_node = self.current_node.left\n",
    "                else:\n",
    "                    self.current_node.left = Node(value)\n",
    "                    break\n",
    "            else:\n",
    "                if self.current_node.right != None:\n",
    "                    self.current_node = self.current_node.right\n",
    "                else:\n",
    "                    self.current_node.right = Node(value)\n",
    "                    break\n",
    "                    \n",
    "    def search(self, value):\n",
    "        self.current_node = self.head\n",
    "        \n",
    "        while self.current_node:\n",
    "            if self.current_node.value == value:\n",
    "                return True\n",
    "            elif value < self.current_node.value:\n",
    "                self.current_node = self.current_node.left\n",
    "            else:\n",
    "                self.current_node = self.current_node.right\n",
    "        return False"
   ]
  },
  {
   "cell_type": "code",
   "execution_count": 5,
   "metadata": {},
   "outputs": [],
   "source": [
    "head = Node(1)\n",
    "BST = NodeMgmt(head)\n",
    "BST.insert(2)\n",
    "BST.insert(3)\n",
    "BST.insert(0)\n",
    "BST.insert(4)\n",
    "BST.insert(8)"
   ]
  },
  {
   "cell_type": "code",
   "execution_count": 6,
   "metadata": {},
   "outputs": [
    {
     "data": {
      "text/plain": [
       "False"
      ]
     },
     "execution_count": 6,
     "metadata": {},
     "output_type": "execute_result"
    }
   ],
   "source": [
    "BST.search(-1)"
   ]
  },
  {
   "cell_type": "markdown",
   "metadata": {},
   "source": [
    "<br>"
   ]
  },
  {
   "cell_type": "markdown",
   "metadata": {},
   "source": [
    "### 7.6.4 이진 탐색 트리 삭제\n",
    "\n",
    "- 매우 복잡하다.\n",
    "- 경우를 나누어서 이해하는 것이 좋음"
   ]
  },
  {
   "cell_type": "markdown",
   "metadata": {},
   "source": [
    "<br>"
   ]
  },
  {
   "cell_type": "markdown",
   "metadata": {},
   "source": [
    "#### 7.6.4.1 Leaf Node 삭제\n",
    "\n",
    "- Leaf Node : Child Node가 없는 Node\n",
    "- 삭제할 Node의 Parent Node가 삭제할 Node를 가리키지 않도록 한다.\n",
    "\n",
    "<img src=\"img/remove_leaf_node.png\" width=\"500px\" />"
   ]
  },
  {
   "cell_type": "markdown",
   "metadata": {},
   "source": [
    "<br>"
   ]
  },
  {
   "cell_type": "markdown",
   "metadata": {},
   "source": [
    "#### 7.6.4.2 Child Node가 하나인 Node 삭제\n",
    "\n",
    "- 삭제할 Node의 Parent Node가 삭제할 Node의 Child Node를 가리키도록 한다.\n",
    "\n",
    "<img src=\"img/remove_have_one_child_node.png\" width=\"500px\" />"
   ]
  },
  {
   "cell_type": "markdown",
   "metadata": {},
   "source": [
    "<br>"
   ]
  },
  {
   "cell_type": "markdown",
   "metadata": {},
   "source": [
    "#### 7.6.4.3 Child Node가 두 개인 Node 삭제\n",
    "\n",
    "1. 삭제할 Node의 오른쪽 자식 중, 가장 작은 값을 삭제할 Node의 Parent Node가 가리키도록 한다.\n",
    "  - 삭제할 Node의 오른쪽 자식 선택\n",
    "  - 오른쪽 자식의 가장 왼쪽에 있는 Node를 선택\n",
    "  - 해당 Node를 삭제할 Node의 Parent Node의 왼쪽 Branch가 가리키게 함\n",
    "  - 해당 Node의 왼쪽 Branch가 삭제할 Node의 왼쪽 Child Node를 기리키게 함\n",
    "  - 해당 Node의 오른쪽 Branch가 삭제할 Node의 오른쪽 Child Node를 가리키게 함\n",
    "  - 만약 해당 Node가 오른쪽 Child Node를 가지고 있었을 경우에는 해당 Node의 본래 Parent Node의 왼쪽 Branch가 해당 오른쪽 Child Node를 가리키게 함\n",
    "2. 삭제할 Node의 왼쪽 자식 중, 가장 큰 값을 삭제할 Node의 Parent Node가 가리키도록 한다.\n",
    "\n",
    "<img src=\"img/remove_have_two_child_node.png\" width=\"500px\" />"
   ]
  },
  {
   "cell_type": "markdown",
   "metadata": {},
   "source": [
    "<br>"
   ]
  },
  {
   "cell_type": "markdown",
   "metadata": {},
   "source": [
    "### 7.6.5 이진 탐색 트리 삭제 코드 구현과 분석"
   ]
  },
  {
   "cell_type": "markdown",
   "metadata": {},
   "source": [
    "#### 7.6.5.1 삭제할 Node 탐색\n",
    "\n",
    "- 삭제할 Node가 없는 경우도 처리해야 함\n",
    "- 이를 위해 삭제할 Node가 없는 경우는 False를 리턴하고 함수를 종료 시킴"
   ]
  },
  {
   "cell_type": "markdown",
   "metadata": {},
   "source": [
    "```python\n",
    "def delete(self, value):\n",
    "    searched = False\n",
    "    self.current_node = self.head\n",
    "    self.parent = self.head\n",
    "    \n",
    "    while self.current_node:\n",
    "        if self.current_node.value == value:\n",
    "            searched = True\n",
    "            break\n",
    "        elif value < self.current_node.value:\n",
    "            self.parent = self.current_node\n",
    "            self.current_node = self.current_node.left\n",
    "        else:\n",
    "            self.parent = self.current_node\n",
    "            self.current_node = self.current_node.right\n",
    "            \n",
    "    if searched == False:\n",
    "        return False\n",
    "    \n",
    "    ### 이후부터 Case들을 분리해서 코드 작성\n",
    "```    "
   ]
  },
  {
   "cell_type": "markdown",
   "metadata": {},
   "source": [
    "<br>"
   ]
  },
  {
   "cell_type": "markdown",
   "metadata": {},
   "source": [
    "#### 7.6.5.2 CASE1 : 삭제할 Node가 Leaf Node인 경우\n",
    "\n",
    "<img src=\"img/case1.png\" width=\"400px\" />"
   ]
  },
  {
   "cell_type": "markdown",
   "metadata": {},
   "source": [
    "```python\n",
    "# self.current_node가 삭제할 Node\n",
    "# self.parent는 삭제할 Node의 Parent Node인 상태\n",
    "    if self.current_node.left == None and self.current_node.right == None:\n",
    "        if value < self.parent.value:\n",
    "            self.parent.left = None\n",
    "        else:\n",
    "            self.parent.right = None\n",
    "        del self.current_node\n",
    "```"
   ]
  },
  {
   "cell_type": "markdown",
   "metadata": {},
   "source": [
    "<br>"
   ]
  },
  {
   "cell_type": "markdown",
   "metadata": {},
   "source": [
    "#### 7.6.5.3 CASE2 : 삭제할 Node가 Child Node를 한 개 가지고 있을 경우\n",
    "\n",
    "<img src=\"img/case2.png\" width=\"300px\" />"
   ]
  },
  {
   "cell_type": "markdown",
   "metadata": {},
   "source": [
    "```python\n",
    "    if self.current_node.left != None and self.current_node.right == None:\n",
    "        if value < self.parent.value:\n",
    "            self.parent.left = self.current_node.left\n",
    "        else:\n",
    "            self.parent.right = self.current_node.left\n",
    "        \n",
    "    elif self.current_node.left == None and self.current_node.right != None:\n",
    "        if value < self.parent.value:\n",
    "            self.parent.left = self.current_node.right\n",
    "        else:\n",
    "            self.parent.right = self.current_node.right\n",
    "```"
   ]
  },
  {
   "cell_type": "markdown",
   "metadata": {},
   "source": [
    "<br>"
   ]
  },
  {
   "cell_type": "markdown",
   "metadata": {},
   "source": [
    "#### 7.6.5.4 CASE3-1 : 삭제할 Node가 Child Node를 두 개 가지고 있을 경우 (삭제할 Node가 Parent Node *왼쪽*에 있을 때)"
   ]
  },
  {
   "cell_type": "markdown",
   "metadata": {},
   "source": [
    "- 기본 사용 가능 전략\n",
    "  1. **삭제할 Node의 오른쪽 자식 중, 가장 작은 값을 삭제할 Node의 Parent Node가 가리키도록 한다.**\n",
    "  2. 삭제할 Node의 왼쪽 자식 중, 가장 큰 값을 삭제할 Node의 Parent Node가 가리키도록 한다."
   ]
  },
  {
   "cell_type": "markdown",
   "metadata": {},
   "source": [
    "- 기본 사용 가능 전략 중, **1번 전략을 사용**하여 코드를 구현하도록 함"
   ]
  },
  {
   "cell_type": "markdown",
   "metadata": {},
   "source": [
    "- 경우의 수가 또 다시 두 가지가 있음\n",
    "  - **CASE3-1-1**  \n",
    "    - 삭제할 Node가 Parent Node의 왼쪽에 있음\n",
    "    - 그리고 삭제할 Node의 오른쪽 자식 중, 가장 작은 값을 가진 Node의 Child Node가 없을 때\n",
    "  - **CASE3-1-2**\n",
    "    - 삭제할 Node가 Parent Node의 왼쪽에 있음\n",
    "    - 그리고 삭제할 Node의 오른쪽 자식 중, 가장 작은 값을 가진 Node의 오른쪽에 Child Node가 있을 때\n",
    "    - 가장 작은 값을 가진 Node의 Child Node가 왼쪽에 있을 경우는 없음\n",
    "    - 왜냐하면 왼쪽 Node가 있다는 것은 해당 Node보다 더 작은 값을 가진 Node가 있다는 뜻이기 때문이다."
   ]
  },
  {
   "cell_type": "markdown",
   "metadata": {},
   "source": [
    "<img src=\"img/case3-1.png\" width=\"400px\" />"
   ]
  },
  {
   "cell_type": "markdown",
   "metadata": {},
   "source": [
    "```python\n",
    "    if self.current_node.left != None and self.current_node.right != None: # case3\n",
    "        if value < self.parent.value: # case3-1\n",
    "            self.change_node = self.current_node.right\n",
    "            self.change_node_parent = self.current_node.right\n",
    "            \n",
    "            while self.change_node.left != None:\n",
    "                self.change_node_parent = self.change_node\n",
    "                self.change_node = self.change_node.left\n",
    "            \n",
    "            if self.change_node.right != None:\n",
    "                self.change_node_parent.left = self.change_node.right\n",
    "            else:\n",
    "                self.change_node_parent.left = None\n",
    "            \n",
    "            self.parent.left = self.change_node\n",
    "            self.change_node.right = self.current_node.right\n",
    "            self.change_node.left = self.change_node.left\n",
    "```"
   ]
  },
  {
   "cell_type": "markdown",
   "metadata": {},
   "source": [
    "<br>"
   ]
  },
  {
   "cell_type": "markdown",
   "metadata": {},
   "source": [
    "#### 7.6.5.5 CASE3-2 : 삭제할 Node가 Child Node를 두 개 가지고 있을 경우 (삭제할 Node가 Parent Node *오른쪽*에 있을 때)"
   ]
  },
  {
   "cell_type": "markdown",
   "metadata": {},
   "source": [
    "- 기본 사용 가능 전략\n",
    "  1. **삭제할 Node의 오른쪽 자식 중, 가장 작은 값을 삭제할 Node의 Parent Node가 가리키도록 한다.**\n",
    "  2. 삭제할 Node의 왼쪽 자식 중, 가장 큰 값을 삭제할 Node의 Parent Node가 가리키도록 한다."
   ]
  },
  {
   "cell_type": "markdown",
   "metadata": {},
   "source": [
    "- 기본 사용 가능 전략 중, **1번 전략을 사용**하여 코드를 구현하기로 함"
   ]
  },
  {
   "cell_type": "markdown",
   "metadata": {},
   "source": [
    "- 경우의 수가 또 다시 두 가지가 있음\n",
    "  - **CASE3-2-1**\n",
    "    - 삭제할 Node가 Parent Node의 오른쪽에 있음\n",
    "    - 그리고 삭제할 Node의 오른쪽 자식 중, 가장 작은 값을 가진 Node의 Child Node가 없을 때\n",
    "  - **CASE3-2-2**\n",
    "    - 삭제할 Node가 Parent Node의 오른쪽에 있음\n",
    "    - 그리고 삭제할 Node의 오른쪽 자식 중, 가장 작은 값을 가진 Node의 오른쪽에 Child Node가 있을 때\n",
    "    - 가장 작은 값을 가진 Node의 Child Node가 왼쪽에 있을 경우는 없음\n",
    "    - 왜냐하면 왼쪽 Node가 있다는 것은 해당 Node보다 더 작은 값을 가진 Node가 있다는 뜻이기 때문"
   ]
  },
  {
   "cell_type": "markdown",
   "metadata": {},
   "source": [
    "<img src=\"img/case3-2.png\" width=\"400px\" />"
   ]
  },
  {
   "cell_type": "markdown",
   "metadata": {},
   "source": [
    "```python\n",
    "    else:\n",
    "        self.change_node = self.current_node.right\n",
    "        self.change_node_parent = self.current_node.right\n",
    "        \n",
    "        while self.change_node.left != None:\n",
    "            self.change_node_parent = self.change_node\n",
    "            self.change_node = self.change_node.left\n",
    "            \n",
    "        if self.change_node.right != None:\n",
    "            self.change_node_parent.left = self.change_node.right\n",
    "        else:\n",
    "            self.change_node_parent.left = None\n",
    "            \n",
    "        self.parent.right = self.change_node\n",
    "        self.change_node.left = self.current_node.left\n",
    "        self.change_node.right = self.current_node.right\n",
    "```"
   ]
  },
  {
   "cell_type": "markdown",
   "metadata": {},
   "source": [
    "<br>"
   ]
  },
  {
   "cell_type": "markdown",
   "metadata": {},
   "source": [
    "#### 7.6.5.6 파이썬 전체 코드 구현"
   ]
  },
  {
   "cell_type": "code",
   "execution_count": 13,
   "metadata": {},
   "outputs": [],
   "source": [
    "class Node:\n",
    "    def __init__(self, value):\n",
    "        self.value = value\n",
    "        self.left = None\n",
    "        self.right = None\n",
    "        \n",
    "class NodeMgmt:\n",
    "    def __init__(self, head):\n",
    "        self.head = head\n",
    "        \n",
    "    def insert(self, value):\n",
    "        \n",
    "        self.current_node = self.head\n",
    "        \n",
    "        while True:\n",
    "            if value < self.current_node.value:\n",
    "                if self.current_node.left != None:\n",
    "                    self.current_node = self.current_node.left\n",
    "                else:\n",
    "                    self.current_node.left = Node(value)\n",
    "                    break\n",
    "            else:\n",
    "                if self.current_node.right != None:\n",
    "                    self.current_node = self.current_node.right\n",
    "                else:\n",
    "                    self.current_node.right = Node(value)\n",
    "                    break\n",
    "                    \n",
    "    def search(self, value):\n",
    "        \n",
    "        self.current_node = self.head\n",
    "        \n",
    "        while self.current_node:\n",
    "            if self.current_node.value == value:\n",
    "                return True\n",
    "            elif value < self.current_node.value:\n",
    "                self.current_node = self.current_node.left\n",
    "            else:\n",
    "                self.current_node = self.current_node.right\n",
    "                \n",
    "        return False\n",
    "    \n",
    "    def delete(self, value):\n",
    "        \n",
    "        # 삭제할 노드 탐색\n",
    "        searched = False\n",
    "        self.current_node = self.head\n",
    "        self.parent = self.head\n",
    "        \n",
    "        while self.current_node:\n",
    "            if self.current_node.value == value:\n",
    "                searched = True\n",
    "                break\n",
    "            elif value < self.current_node.value:\n",
    "                self.parent = self.current_node\n",
    "                self.current_node = self.current_node.left\n",
    "            else:\n",
    "                self.parent = self.current_node\n",
    "                self.current_node = self.current_node.right\n",
    "        \n",
    "        if searched == False:\n",
    "            return False\n",
    "        \n",
    "        # case1 : current_node가 leaf Node인 경우\n",
    "        if self.current_node.left == None and self.current_node.right == None:\n",
    "            if value < self.parent.value:\n",
    "                self.parent.left = None\n",
    "            else:\n",
    "                self.parent.right = None\n",
    "                \n",
    "        # case2 : current_node의 Child Node가 1개만 존재할 경우\n",
    "        # case2-1 : current_node의 왼쪽 Node만 존재할 경우\n",
    "        elif self.current_node.left != None and self.current_node.right == None:\n",
    "            if value < self.parent.value:\n",
    "                self.parent.left = self.current_node.left\n",
    "            else:\n",
    "                self.parent.right = self.current_node.left\n",
    "        \n",
    "        # case2-2 : current_node의 오른쪽 Node만 존재할 경우\n",
    "        elif self.current_node.left == None and self.current_node.right != None:\n",
    "            if value < self.parent.value:\n",
    "                self.parent.left = self.current_node.right\n",
    "            else:\n",
    "                self.parent.right = self.current_node.right\n",
    "        \n",
    "        # case3 : current_node의 Child Node가 2개 존재할 경우\n",
    "        elif self.current_node.left != None and self.current_node.right != None:\n",
    "            # case3-1\n",
    "            if value < self.parent.value:\n",
    "                self.change_node = self.current_node.right\n",
    "                self.change_node_parent = self.current_node.right\n",
    "                \n",
    "                while self.change_node.left != None:\n",
    "                    self.change_node_parent = self.change_node\n",
    "                    self.change_node = self.change_node.left\n",
    "                \n",
    "                if self.change_node.right != None:\n",
    "                    self.change_node_parent.left = self.change_node.right\n",
    "                else:\n",
    "                    self.change_node_parent.left = None\n",
    "                \n",
    "                self.parent.left = self.change_node\n",
    "                self.change_node.right = self.current_node.right\n",
    "                self.change_node.left = self.change_node.left\n",
    "                \n",
    "            # case3-2\n",
    "            else:\n",
    "                self.change_node = self.current_node.right\n",
    "                self.change_node_parent = self.current_node.right\n",
    "                \n",
    "                while self.change_node.left != None:\n",
    "                    self.change_node_parent = self.change_node\n",
    "                    self.change_node = self.change_node.left\n",
    "                    \n",
    "                if self.change_node.right != None:\n",
    "                    self.change_node_parent.left = self.change_node.right\n",
    "                else:\n",
    "                    self.change_node_parent.left = None\n",
    "                    \n",
    "                self.parent.right = self.change_node\n",
    "                self.change_node.right = self.current_node.right\n",
    "                self.change_node.left = self.current_node.left\n",
    "                \n",
    "        return True"
   ]
  },
  {
   "cell_type": "markdown",
   "metadata": {},
   "source": [
    "참고: [http://ejklike.github.io/2018/01/09/traversing-a-binary-tree-1.html](http://ejklike.github.io/2018/01/09/traversing-a-binary-tree-1.html)"
   ]
  },
  {
   "cell_type": "markdown",
   "metadata": {},
   "source": [
    "<br>"
   ]
  },
  {
   "cell_type": "markdown",
   "metadata": {},
   "source": [
    "#### 7.6.5.7 파이썬 전체 코드 테스트\n",
    "\n",
    "- `random` 라이브러리 활용\n",
    "- `random.randint(첫번째 숫자, 마지막 숫자)`\n",
    "  - 첫 번째 숫자부터 마지막 숫자 사이에 있는 숫자를 랜덤하게 선택해서 리턴\n",
    "  - ex) `random.randint(0, 99)`  \n",
    "  : 0에서 99까지 숫자 중 특정 숫자를 랜덤하게 선택해서 리턴해줌"
   ]
  },
  {
   "cell_type": "code",
   "execution_count": 11,
   "metadata": {},
   "outputs": [
    {
     "name": "stdout",
     "output_type": "stream",
     "text": [
      "{521, 522, 524, 13, 532, 33, 40, 48, 51, 567, 60, 64, 576, 70, 72, 585, 77, 80, 88, 601, 92, 610, 113, 631, 647, 136, 650, 139, 657, 662, 164, 167, 174, 695, 696, 187, 701, 190, 704, 705, 710, 203, 717, 719, 208, 722, 729, 217, 734, 757, 758, 761, 763, 256, 769, 779, 786, 275, 790, 279, 283, 796, 284, 795, 800, 810, 309, 310, 823, 319, 833, 834, 321, 840, 845, 335, 348, 354, 871, 879, 882, 374, 379, 389, 907, 910, 398, 417, 421, 941, 949, 437, 956, 465, 478, 483, 493, 495, 496, 509}\n"
     ]
    }
   ],
   "source": [
    "# 0 ~ 999 숫자 중에서 임의로 100개를 추출해서\n",
    "# 이진 탐색 트리에 입력, 검색, 삭제\n",
    "import random\n",
    "\n",
    "# 0 ~ 999 중, 100개의 숫자 랜덤 선택\n",
    "bst_nums = set()\n",
    "\n",
    "while len(bst_nums) != 100:\n",
    "    bst_nums.add(random.randint(0, 999))\n",
    "    \n",
    "print(bst_nums)"
   ]
  },
  {
   "cell_type": "code",
   "execution_count": 14,
   "metadata": {},
   "outputs": [],
   "source": [
    "# 선택된 100개의 숫자를 이진 탐색 트리에 입력\n",
    "# 임의로 루트노드는 500을 넣기로 함\n",
    "head = Node(500)\n",
    "binary_tree = NodeMgmt(head)\n",
    "\n",
    "for num in bst_nums:\n",
    "    binary_tree.insert(num)"
   ]
  },
  {
   "cell_type": "code",
   "execution_count": 16,
   "metadata": {},
   "outputs": [
    {
     "data": {
      "text/plain": [
       "{217, 335, 483, 576, 585, 657, 710, 719, 734, 907}"
      ]
     },
     "execution_count": 16,
     "metadata": {},
     "output_type": "execute_result"
    }
   ],
   "source": [
    "# 입력한 100개의 숫자 중 10개의 숫자를 랜덤 선택\n",
    "delete_nums = set()\n",
    "bst_nums = list(bst_nums)\n",
    "while len(delete_nums) != 10:\n",
    "        delete_nums.add(bst_nums[random.randint(0, 99)])\n",
    "        \n",
    "delete_nums"
   ]
  },
  {
   "cell_type": "code",
   "execution_count": 17,
   "metadata": {},
   "outputs": [],
   "source": [
    "# 선택한 10개의 숫자를 삭제 (삭제 기능 확인)\n",
    "for del_num in delete_nums:\n",
    "    if binary_tree.delete(del_num) == False:\n",
    "        print('delete failed', del_num)"
   ]
  },
  {
   "cell_type": "markdown",
   "metadata": {},
   "source": [
    "<br>"
   ]
  },
  {
   "cell_type": "markdown",
   "metadata": {},
   "source": [
    "## 7.7 이진 탐색 트리의 시간 복잡도와 단점"
   ]
  },
  {
   "cell_type": "markdown",
   "metadata": {},
   "source": [
    "### 7.7.1 시간 복잡도 (탐색 시)\n",
    "\n",
    "- depth(트리의 높이)를 $h$라고 표기한다면,  \n",
    "$\\Rightarrow$ 시간복잡도 : $O(h)$\n",
    "\n",
    "- $n$개의 노드를 가진다면 $h = log_2{n}$에 가까우므로,  \n",
    "$\\Rightarrow$ 시간복잡도 : $O(log{n})$\n",
    "\n",
    "- (참고) 빅오 표기법에서 $log n$에서의 $log$의 밑은 10이 아니라 2이다.\n",
    "  - 한 번 실행시마다, 50%의 실행할 수도 있는 명령을 제거한다는 의미\n",
    "  - 즉, 50%의 실행시간을 단축시킬 수 있다는 것을 의미함"
   ]
  },
  {
   "cell_type": "markdown",
   "metadata": {},
   "source": [
    "<img src=\"https://www.mathwarehouse.com/programming/images/binary-search-tree/binary-search-tree-sorted-array-animation.gif\" />"
   ]
  },
  {
   "cell_type": "markdown",
   "metadata": {},
   "source": [
    "<br>"
   ]
  },
  {
   "cell_type": "markdown",
   "metadata": {},
   "source": [
    "### 7.7.2 이진 탐색 트리 단점\n",
    "\n",
    "- 평균 시간 복잡도는 $O(log n)$이다.\n",
    "- 하지만 이는 트리가 균형잡혀 있을 때의 평균 시간 복잡도이다.\n",
    "- 다음 예와 같이 구성되어 있을 경우, 최악의 경우는 링크드 리스트 등과 동일한 성능을 보여준다. (즉, 최악의 시간 복잡도는 $O(n)$이다.)"
   ]
  },
  {
   "cell_type": "markdown",
   "metadata": {},
   "source": [
    "<img src=\"img/worst_tree.png\" width=\"300px\" />"
   ]
  }
 ],
 "metadata": {
  "kernelspec": {
   "display_name": "Python 3",
   "language": "python",
   "name": "python3"
  },
  "language_info": {
   "codemirror_mode": {
    "name": "ipython",
    "version": 3
   },
   "file_extension": ".py",
   "mimetype": "text/x-python",
   "name": "python",
   "nbconvert_exporter": "python",
   "pygments_lexer": "ipython3",
   "version": "3.6.9"
  }
 },
 "nbformat": 4,
 "nbformat_minor": 4
}
