{
 "cells": [
  {
   "cell_type": "markdown",
   "metadata": {},
   "source": [
    "# 3. 이진 탐색 트리 구현 코드 테스트"
   ]
  },
  {
   "cell_type": "markdown",
   "metadata": {},
   "source": [
    "## 3.1 이진 탐색 트리 구현 코드"
   ]
  },
  {
   "cell_type": "code",
   "execution_count": 7,
   "metadata": {},
   "outputs": [],
   "source": [
    "# Node 클래스 구현\n",
    "class Node:\n",
    "    def __init__(self, value):\n",
    "        self.value = value\n",
    "        self.left = None\n",
    "        self.right = None\n",
    "\n",
    "# 이진 탐색 트리 클래스 구현\n",
    "class NodeMgmt:\n",
    "    \n",
    "    def __init__(self, head):\n",
    "        self.head = head\n",
    "    \n",
    "    # 데이터 입력(insert) 메서드\n",
    "    def insert(self, value):\n",
    "        self.current_node = self.head\n",
    "        \n",
    "        while True:\n",
    "            if value < self.current_node.value:\n",
    "                if self.current_node.left != None:\n",
    "                    self.current_node = self.current_node.left \n",
    "                else:\n",
    "                    self.current_node.left = Node(value)\n",
    "                    break\n",
    "            else:\n",
    "                if self.current_node.right != None:\n",
    "                    self.current_node = self.current_node.right\n",
    "                else:\n",
    "                    self.current_node.right = Node(value)\n",
    "                    break\n",
    "                    \n",
    "    # 데이터 탐색(search) 메서드\n",
    "    def search(self, value):\n",
    "        self.current_node = self.head\n",
    "        \n",
    "        while self.current_node:\n",
    "            if self.current_node.value == value:\n",
    "                return True\n",
    "            elif value < self.current_node.value:\n",
    "                self.current_node = self.current_node.left\n",
    "            else:\n",
    "                self.current_node = self.current_node.right\n",
    "                \n",
    "        return False\n",
    "    \n",
    "    # 데이터 삭제(delete) 메서드\n",
    "    def delete(self, value):\n",
    "        \n",
    "        print(\"삭제할 값 : \", value)\n",
    "\n",
    "        # 삭제할 노드 탐색\n",
    "        searched = False\n",
    "        self.current_node = self.head\n",
    "        self.parent = self.head\n",
    "\n",
    "        while self.current_node:\n",
    "            if self.current_node.value == value:\n",
    "                searched = True\n",
    "                break\n",
    "            elif value < self.current_node.value:\n",
    "                self.parent = self.current_node\n",
    "                self.current_node = self.current_node.left\n",
    "            else:\n",
    "                self.parent = self.current_node\n",
    "                self.current_node = self.current_node.right\n",
    "\n",
    "        if searched == False:\n",
    "            return False  \n",
    "\n",
    "        # case 1 : 삭제할 Node가 Leaf Node일 경우\n",
    "        if self.current_node.left == None and self.current_node.right == None:\n",
    "            if value < self.parent.value:\n",
    "                self.parent.left = None\n",
    "            else:\n",
    "                self.parent.right = None\n",
    "                \n",
    "            del self.current_node\n",
    "\n",
    "        # case 2 : 삭제할 Node가 Child Node를 한 개 가지고 있을 경우\n",
    "        if self.current_node.left != None and self.current_node.right == None: # 2-1) 삭제할 노드의 왼쪽 Child Node가 있을 경우\n",
    "            if value < self.parent.value: # 2-1-1) 삭제할 노드가 parent node의 왼쪽에 있을 경우\n",
    "                self.parent.left = self.current_node.left\n",
    "            else: # 2-1-2) 삭제할 노드가 parent node의 오른쪽에 있을 경우\n",
    "                self.parent.right = self.current_node.left\n",
    "\n",
    "        elif self.current_node.left == None and self.current_node.right != None: # 2-2) 삭제할 노드의 오른쪽 Child Node가 있을 경우\n",
    "            if value < self.parent.value: # 2-2-1) 삭제할 노드가 parent node의 왼쪽에 있을 경우\n",
    "                self.parent.left = self.current_node.right\n",
    "            else: # 2-2-2) 삭제할 노드가 parent node의 오른쪽에 있을 경우\n",
    "                self.parent.right = self.current_node.right\n",
    "\n",
    "        # case 3 : 삭제할 Node가 Child Node를 두 개 가지고 있을 경우\n",
    "        if self.current_node.left != None and self.current_node.right != None:\n",
    "\n",
    "            if value < self.parent.value: # 3-1) 삭제할 Node가 Parent Node의 왼쪽에 있을 경우\n",
    "\n",
    "                self.change_node = self.current_node.right\n",
    "                self.change_node_parent = self.current_node.right\n",
    "\n",
    "                while self.change_node.left != None:\n",
    "                    self.change_node_parent = self.change_node\n",
    "                    self.change_node = self.change_node.left\n",
    "\n",
    "                if self.change_node.right != None: # 3-1-2) 삭제할 Node의 오른쪽 자식 중, 가장 작은 값을 가진 Node의 오른쪽에 Child Node가 있는 경우\n",
    "                    self.change_node_parent.left = self.change_node.right\n",
    "                else: # 3-1-1) 삭제할 Node의 오른쪽 자식 중, 가장 작은 값을 가진 Node의 Child 노드가 없는 경우\n",
    "                    self.change_node_parent.left = None\n",
    "\n",
    "                self.parent.left = self.change_node\n",
    "                self.change_node.right = self.current_node.right\n",
    "                self.change_node.left = self.current_node.left\n",
    "\n",
    "            else: # 3-2) 삭제할 Node가 Parent Node의 오른쪽에 있을 경우\n",
    "\n",
    "                self.change_node = self.current_node.right\n",
    "                self.change_node_parent = self.current_node.right\n",
    "\n",
    "                while self.change_node.left != None:\n",
    "                    self.change_node_parent = self.change_node\n",
    "                    self.change_node = self.change_node.left\n",
    "\n",
    "                if self.change_node.right != None: # 3-2-2) 삭제할 Node의 오른쪽 자식 중, 가장 작은 값을 가진 Node의 오른쪽에 Child Node가 있는 경우\n",
    "                    self.change_node_parent.left = self.change_node.right\n",
    "                else: # 3-2-1) 삭제할 Node의 오른쪽 자식 중, 가장 작은 값을 가진 Node의 Child 노드가 없는 경우\n",
    "                    self.change_node_parent.left = None\n",
    "\n",
    "                self.parent.right = self.change_node\n",
    "                self.change_node.left = self.current_node.left\n",
    "                self.change_node.right = self.current_node.right        "
   ]
  },
  {
   "cell_type": "markdown",
   "metadata": {},
   "source": [
    "<br>\n",
    "\n",
    "## 3.2 이진 탐색 트리 구현 코드 테스트"
   ]
  },
  {
   "cell_type": "markdown",
   "metadata": {},
   "source": [
    "### 3.2.1 테스트 데이터 생성"
   ]
  },
  {
   "cell_type": "code",
   "execution_count": 8,
   "metadata": {},
   "outputs": [
    {
     "name": "stdout",
     "output_type": "stream",
     "text": [
      "{6, 537, 541, 32, 38, 40, 44, 47, 55, 59, 72, 588, 76, 596, 86, 103, 115, 117, 118, 119, 640, 134, 651, 654, 143, 656, 659, 661, 151, 156, 160, 678, 185, 704, 713, 204, 722, 723, 739, 228, 231, 242, 760, 249, 255, 265, 271, 275, 787, 280, 792, 796, 296, 817, 312, 314, 826, 315, 318, 833, 323, 333, 336, 856, 857, 859, 871, 873, 362, 882, 372, 375, 388, 904, 393, 915, 926, 932, 426, 429, 432, 437, 440, 959, 448, 961, 964, 966, 458, 972, 973, 978, 982, 473, 989, 994, 483, 482, 486, 498}\n"
     ]
    }
   ],
   "source": [
    "import random\n",
    "\n",
    "bst_nums = set() # set() : 중복 제거 역할\n",
    "\n",
    "while len(bst_nums) != 100:\n",
    "    bst_nums.add(random.randint(0, 999))\n",
    "    \n",
    "print(bst_nums)"
   ]
  },
  {
   "cell_type": "markdown",
   "metadata": {},
   "source": [
    "<br>\n",
    "\n",
    "### 3.2.2 이진 탐색 트리에 데이터 입력 (Insert)\n",
    "\n",
    "- 임의로 루트 노드는 500을 입력"
   ]
  },
  {
   "cell_type": "code",
   "execution_count": 9,
   "metadata": {},
   "outputs": [],
   "source": [
    "head = Node(500)\n",
    "binary_tree = NodeMgmt(head)\n",
    "\n",
    "for num in bst_nums:\n",
    "    binary_tree.insert(num)"
   ]
  },
  {
   "cell_type": "markdown",
   "metadata": {},
   "source": [
    "<br>\n",
    "\n",
    "### 3.2.3 이진 탐색 트리 데이터 탐색 (Search)\n",
    "\n",
    "- 입력한 100개의 숫자 중 10개의 숫자 탐색\n",
    "- 해당 10개의 숫자를 삭제 대상으로 지정"
   ]
  },
  {
   "cell_type": "code",
   "execution_count": 10,
   "metadata": {},
   "outputs": [
    {
     "name": "stdout",
     "output_type": "stream",
     "text": [
      "[6, 537, 541, 32, 38, 40, 44, 47, 55, 59, 72, 588, 76, 596, 86, 103, 115, 117, 118, 119, 640, 134, 651, 654, 143, 656, 659, 661, 151, 156, 160, 678, 185, 704, 713, 204, 722, 723, 739, 228, 231, 242, 760, 249, 255, 265, 271, 275, 787, 280, 792, 796, 296, 817, 312, 314, 826, 315, 318, 833, 323, 333, 336, 856, 857, 859, 871, 873, 362, 882, 372, 375, 388, 904, 393, 915, 926, 932, 426, 429, 432, 437, 440, 959, 448, 961, 964, 966, 458, 972, 973, 978, 982, 473, 989, 994, 483, 482, 486, 498]\n"
     ]
    }
   ],
   "source": [
    "delete_nums = set() # set() : 중복 제거 역할\n",
    "bst_nums = list(bst_nums)\n",
    "print(bst_nums)"
   ]
  },
  {
   "cell_type": "code",
   "execution_count": 11,
   "metadata": {},
   "outputs": [
    {
     "name": "stdout",
     "output_type": "stream",
     "text": [
      "{961, 483, 72, 972, 271, 117, 375, 280, 857, 255}\n"
     ]
    }
   ],
   "source": [
    "while len(delete_nums) != 10:\n",
    "    delete_nums.add(bst_nums[random.randint(0, 99)])\n",
    "    \n",
    "print(delete_nums)"
   ]
  },
  {
   "cell_type": "markdown",
   "metadata": {},
   "source": [
    "<br>\n",
    "\n",
    "### 3.2.4 이진 탐색 트리 데이터 삭제 (Delete)"
   ]
  },
  {
   "cell_type": "code",
   "execution_count": 12,
   "metadata": {},
   "outputs": [
    {
     "name": "stdout",
     "output_type": "stream",
     "text": [
      "삭제할 값 :  961\n",
      "삭제할 값 :  483\n",
      "삭제할 값 :  72\n",
      "삭제할 값 :  972\n",
      "삭제할 값 :  271\n",
      "삭제할 값 :  117\n",
      "삭제할 값 :  375\n",
      "삭제할 값 :  280\n",
      "삭제할 값 :  857\n",
      "삭제할 값 :  255\n"
     ]
    }
   ],
   "source": [
    "for del_num in delete_nums:\n",
    "    if binary_tree.delete(del_num) == False:\n",
    "        print('delete failed', del_num)"
   ]
  }
 ],
 "metadata": {
  "kernelspec": {
   "display_name": "Python 3",
   "language": "python",
   "name": "python3"
  },
  "language_info": {
   "codemirror_mode": {
    "name": "ipython",
    "version": 3
   },
   "file_extension": ".py",
   "mimetype": "text/x-python",
   "name": "python",
   "nbconvert_exporter": "python",
   "pygments_lexer": "ipython3",
   "version": "3.6.9"
  }
 },
 "nbformat": 4,
 "nbformat_minor": 4
}
