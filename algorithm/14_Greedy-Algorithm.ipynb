{
 "cells": [
  {
   "cell_type": "markdown",
   "metadata": {},
   "source": [
    "# 14. 탐욕 알고리즘(Greedy Algorithm)의 이해"
   ]
  },
  {
   "cell_type": "markdown",
   "metadata": {},
   "source": [
    "## 14.1 탐욕 알고리즘이란?\n",
    "\n",
    "- 최적의 해에 가까운 값을 구하기 위해 사용\n",
    "- 여러 경우 중 하나를 결정해야 할 때마다, **매 순간 최적이라고 생각되는 경우를 선택**하는 방식으로 진행하여 최종적인 값을 구하는 방식\n",
    "- 여러 조합을 생각하지 않고 매 순간 최적의 조합을 선택한다."
   ]
  },
  {
   "cell_type": "markdown",
   "metadata": {},
   "source": [
    "<br>\n",
    "\n",
    "## 14.2 탐욕 알고리즘 예"
   ]
  },
  {
   "cell_type": "markdown",
   "metadata": {},
   "source": [
    "### 14.2.1 문제 1 : 동전 문제\n",
    "\n",
    "- 지불해야 하는  값이 4,720원일 때 1원, 50원, 100원, 500원 동전으로 동전의 수가 가장 적게 지불하시오.\n",
    "- 가장 큰 동전부터 최대한 지불해야 하는 값을 채우는 방식으로 구현 가능\n",
    "- 탐욕 알고리즘으로 매 순간 최적이라고 생각되는 경우를 선택하면 됨  \n",
    "  \n",
    "  \n",
    "- **동전의 수를 가장 적게 -> 동전을 가장 큰 크기 순으로 정렬**"
   ]
  },
  {
   "cell_type": "code",
   "execution_count": 1,
   "metadata": {},
   "outputs": [
    {
     "name": "stdout",
     "output_type": "stream",
     "text": [
      "[1, 100, 50, 500]\n"
     ]
    }
   ],
   "source": [
    "coin_list = [1, 100, 50, 500]\n",
    "print(coin_list)"
   ]
  },
  {
   "cell_type": "code",
   "execution_count": 2,
   "metadata": {},
   "outputs": [
    {
     "name": "stdout",
     "output_type": "stream",
     "text": [
      "[500, 100, 50, 1]\n"
     ]
    }
   ],
   "source": [
    "coin_list.sort(reverse=True)\n",
    "print(coin_list)"
   ]
  },
  {
   "cell_type": "code",
   "execution_count": 3,
   "metadata": {},
   "outputs": [],
   "source": [
    "coin_list = [500, 100, 50, 1]\n",
    "\n",
    "def min_coin_count(value, coin_list):\n",
    "    total_coin_count = 0\n",
    "    details = list() # 어떤 동전이 몇 개 사용되었는 지를 저장\n",
    "    coin_list.sort(reverse=True) # 가장 큰 동전 순으로 정렬 (리스트의 sort() 메서드 사용)\n",
    "    for coin in coin_list:\n",
    "        coin_num = value // coin # 몫 구하기\n",
    "        total_coin_count += coin_num\n",
    "        value -= coin_num * coin\n",
    "        details.append([coin, coin_num])\n",
    "    return total_coin_count, details # 총 동전 개수, 어떤 동전이 몇 개 사용됐는 지"
   ]
  },
  {
   "cell_type": "code",
   "execution_count": 4,
   "metadata": {},
   "outputs": [
    {
     "data": {
      "text/plain": [
       "(31, [[500, 9], [100, 2], [50, 0], [1, 20]])"
      ]
     },
     "execution_count": 4,
     "metadata": {},
     "output_type": "execute_result"
    }
   ],
   "source": [
    "min_coin_count(4720, coin_list)"
   ]
  },
  {
   "cell_type": "markdown",
   "metadata": {},
   "source": [
    "<br>\n",
    "\n",
    "### 14.2.2 문제 2 : 부분 배낭 문제 (Fractional Knapsack Problem)\n",
    "\n",
    "- 무게 제한이 `k`인 배낭에 최대 가치를 가지도록 물건을 넣는 문제  \n",
    "  \n",
    "  \n",
    "- 각 물건은 무게(`w`)와 가치(`v`)로 표현될 수 있음\n",
    "- 물건은 **쪼갤 수 있으므로** 물건의 일부분이 배낭에 넣어질 수 있음\n",
    "- 그래서 Fractional Knapsack Problem으로 부른다.  \n",
    "  \n",
    "  \n",
    "- Fractional Knapsack Problem의 반대로 물건을 쪼개서 넣을 수 없는 배낭 문제도 존재한다.  \n",
    "(0/1 Knapsack Problem으로 부름)\n",
    "\n",
    "<img src=\"https://www.fun-coding.org/00_Images/knapsack.png\">"
   ]
  },
  {
   "cell_type": "code",
   "execution_count": 8,
   "metadata": {},
   "outputs": [],
   "source": [
    "data_list = [(10, 10), (15, 12), (20, 10), (25, 8), (30, 5)]"
   ]
  },
  {
   "cell_type": "markdown",
   "metadata": {},
   "source": [
    "- 배낭 안에 가치를 최대로 -> 무게대비 가치가 가장 큰 순서대로 정렬"
   ]
  },
  {
   "cell_type": "code",
   "execution_count": 6,
   "metadata": {},
   "outputs": [],
   "source": [
    "def get_max_value(data_list, capacity):\n",
    "    # 가치(v)/무게(w)가 큰 순서대로 정렬\n",
    "    data_list = sorted(data_list, key=lambda x: x[1] / x[0], reverse=True)\n",
    "    total_value = 0\n",
    "    details = list()\n",
    "    \n",
    "    for data in data_list:\n",
    "        if capacity - data[0] >= 0:\n",
    "            capacity -= data[0]\n",
    "            total_value += data[1]\n",
    "            details.append([data[0], data[1], 1])\n",
    "        else:\n",
    "            fraction = capacity / data[0]\n",
    "            total_value += data[1] * fraction\n",
    "            details.append([data[0], data[1], fraction])\n",
    "            break\n",
    "    return total_value, details"
   ]
  },
  {
   "cell_type": "code",
   "execution_count": 7,
   "metadata": {},
   "outputs": [
    {
     "data": {
      "text/plain": [
       "(24.5, [[10, 10, 1], [15, 12, 1], [20, 10, 0.25]])"
      ]
     },
     "execution_count": 7,
     "metadata": {},
     "output_type": "execute_result"
    }
   ],
   "source": [
    "get_max_value(data_list, 30)"
   ]
  },
  {
   "cell_type": "markdown",
   "metadata": {},
   "source": [
    "<br>\n",
    "\n",
    "## 14.3 탐욕 알고리즘의 한계\n",
    "\n",
    "- 탐욕 알고리즘은 근사치 추정에 활용\n",
    "- 반드시 최적의 해를 구할 수 있는 것은 아니기 때문\n",
    "- 최적의 해에 가까운 값을 구하는 방법 중의 하나임"
   ]
  },
  {
   "cell_type": "markdown",
   "metadata": {},
   "source": [
    "<br>\n",
    "\n",
    "### 14.3.1 한계 예시\n",
    "\n",
    "<img src=\"https://www.fun-coding.org/00_Images/greedy.png\" width=300>\n",
    "\n",
    "- \"시작\" 노드에서 시작해서 가장 작은 값을 찾아 leaf node까지 가는 경로 찾기  \n",
    "  \n",
    "  \n",
    "- Greedy 알고리즘 적용 시\n",
    "  - 시작 -> 7 -> 12\n",
    "  - 7 + 12 = 19가 된다.  \n",
    "  \n",
    "  \n",
    "- 하지만 실제 가장 작은 값은 다음과 같다.\n",
    "  - 시작 -> 10 -> 5\n",
    "  - 10 + 5 = 15가 정답이다.  "
   ]
  }
 ],
 "metadata": {
  "kernelspec": {
   "display_name": "Python 3",
   "language": "python",
   "name": "python3"
  },
  "language_info": {
   "codemirror_mode": {
    "name": "ipython",
    "version": 3
   },
   "file_extension": ".py",
   "mimetype": "text/x-python",
   "name": "python",
   "nbconvert_exporter": "python",
   "pygments_lexer": "ipython3",
   "version": "3.6.9"
  }
 },
 "nbformat": 4,
 "nbformat_minor": 4
}
