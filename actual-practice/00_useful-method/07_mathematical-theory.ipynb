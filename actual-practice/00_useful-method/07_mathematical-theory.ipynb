{
 "cells": [
  {
   "cell_type": "markdown",
   "metadata": {},
   "source": [
    "# 7. 코딩 테스트에 나오는 수학"
   ]
  },
  {
   "cell_type": "markdown",
   "metadata": {},
   "source": [
    "- 코딩 테스트에 나오는 수학은 **정수론** 그리고 **기하**가 대표적이다.\n",
    "- 코딩 테스트 내의 기하\n",
    "  - 피타고라스의 정리를 활용한 점 사이의 거리 등을 쉽게 알 수 있는 내용\n",
    "  - CCW, 컨벡스헐, 좌표기하 등 내용이 어려워 난이도 격차가 꽤 있는 분야"
   ]
  },
  {
   "cell_type": "markdown",
   "metadata": {},
   "source": [
    "- 다뤄볼 주제\n",
    "  - gcd, lcm\n",
    "  - 소수 체크와 소인수 분해\n",
    "  - **에라토스테네스의 체 활용**\n",
    "  - 거듭제곱 연산"
   ]
  },
  {
   "cell_type": "markdown",
   "metadata": {},
   "source": [
    "<br>\n",
    "\n",
    "## 7.1 GCD와 LCM\n",
    "\n",
    "- GCD : Greatest Common Divider, 최대 공약수\n",
    "- LCM : Least Common Multiple, 최소 공배수  \n",
    "  \n",
    "  \n",
    "- 최대 공약수 / 최소 공배수 문제의 90% 이상은 **유클리드 호제법 알고리즘**을 사용한다.\n",
    "- 최소공배수(LCM)의 경우에는 다음과 같은 식으로 풀 수 있으므로 최대공약수(GCD)만 알면 된다.\n",
    "\n",
    "$$\n",
    "LCM(a,b) = \\frac{a \\times b}{GCD(a,b)}\n",
    "$$\n",
    "\n",
    "- GCD, LCM 문제 해결 방법\n",
    "  - 단순 반복문으로 하는 방법\n",
    "  - 유클리드 호제법을 이용한 방법\n",
    "  - 라이브러리를 사용하는 방법"
   ]
  },
  {
   "cell_type": "markdown",
   "metadata": {},
   "source": [
    "- 유클리드 호제법의 경우는 다음 성질을 활용한 방법이다.\n",
    "\n",
    "$$\n",
    "GCD(a,b) = GCD(b, a\\%b)\n",
    "$$\n",
    "\n",
    "- a와 b의 최대공약수는 b와 a/b의 나머지의 최대공약수와 같다."
   ]
  },
  {
   "cell_type": "code",
   "execution_count": 1,
   "metadata": {},
   "outputs": [],
   "source": [
    "# 방법 1 : 단순 반복문 사용\n",
    "#  - 시간 복잡도 : O(n)\n",
    "def gcd_naive(a, b):\n",
    "    for i in range(min(a,b),0,-1):\n",
    "        if a % i == 0 and b % i == 0: return i"
   ]
  },
  {
   "cell_type": "code",
   "execution_count": 23,
   "metadata": {},
   "outputs": [
    {
     "name": "stdout",
     "output_type": "stream",
     "text": [
      "Wall time: 0 ns\n",
      "20\n"
     ]
    }
   ],
   "source": [
    "%time\n",
    "print(gcd_naive(100000000, 2*30))"
   ]
  },
  {
   "cell_type": "code",
   "execution_count": 9,
   "metadata": {},
   "outputs": [],
   "source": [
    "# 방법 2-1 : 유클리드 호제법 이용\n",
    "def gcd(a, b):\n",
    "    if a % b == 0: return b # a/b의 나머지가 0일 떄 a 와 b 중 작은 수가 최대공약수이다.\n",
    "    return gcd(b, a%b)"
   ]
  },
  {
   "cell_type": "code",
   "execution_count": 10,
   "metadata": {},
   "outputs": [],
   "source": [
    "def gcd(a, b):\n",
    "    return gcd(b, a%b) if a%b != 0 else b"
   ]
  },
  {
   "cell_type": "code",
   "execution_count": 24,
   "metadata": {},
   "outputs": [
    {
     "name": "stdout",
     "output_type": "stream",
     "text": [
      "Wall time: 0 ns\n",
      "20\n"
     ]
    }
   ],
   "source": [
    "%time\n",
    "print(gcd(100000000, 2*30))"
   ]
  },
  {
   "cell_type": "code",
   "execution_count": 5,
   "metadata": {},
   "outputs": [],
   "source": [
    "# 방법 2-2 : 반복문으로 변경\n",
    "def gcd2(a, b):\n",
    "    while a % b != 0: a, b = b, a%b\n",
    "    return b"
   ]
  },
  {
   "cell_type": "code",
   "execution_count": 27,
   "metadata": {},
   "outputs": [
    {
     "name": "stdout",
     "output_type": "stream",
     "text": [
      "Wall time: 0 ns\n",
      "20\n"
     ]
    }
   ],
   "source": [
    "%time\n",
    "print(gcd2(100000000, 2*30))"
   ]
  },
  {
   "cell_type": "code",
   "execution_count": 31,
   "metadata": {},
   "outputs": [
    {
     "name": "stdout",
     "output_type": "stream",
     "text": [
      "1\n"
     ]
    }
   ],
   "source": [
    "# 방법 3 : math의 gcd 사용\n",
    "#  - 이 방법이 속도가 가장 빠르다\n",
    "import math\n",
    "\n",
    "print(math.gcd(1,2))"
   ]
  },
  {
   "cell_type": "code",
   "execution_count": 28,
   "metadata": {},
   "outputs": [
    {
     "name": "stdout",
     "output_type": "stream",
     "text": [
      "Wall time: 0 ns\n",
      "20\n"
     ]
    }
   ],
   "source": [
    "%time\n",
    "print(math.gcd(100000000, 2*30))"
   ]
  },
  {
   "cell_type": "markdown",
   "metadata": {},
   "source": [
    "<br>\n",
    "\n",
    "- LCM은 `gcd`를 활용하여 계산한다.\n",
    "- Python이 아닌 다른 언어의 경우 int overflow가 발생할 수 있다.\n",
    "- 그러므로 `a` / `gcd(a,b)` * `b` 순으로 하는 것을 추천한다"
   ]
  },
  {
   "cell_type": "code",
   "execution_count": 14,
   "metadata": {},
   "outputs": [],
   "source": [
    "def lcm(a, b):\n",
    "    return int(a*b/gcd(a,b))"
   ]
  },
  {
   "cell_type": "code",
   "execution_count": 15,
   "metadata": {},
   "outputs": [
    {
     "name": "stdout",
     "output_type": "stream",
     "text": [
      "120\n"
     ]
    }
   ],
   "source": [
    "print(lcm(10, 24))"
   ]
  },
  {
   "cell_type": "markdown",
   "metadata": {},
   "source": [
    "<br>\n",
    "\n",
    "## 7.2 소수 체크와 소인수 분해\n",
    "\n",
    "- 소수 체크와 소인수 분해도 많이 나오는 유형이다.\n",
    "- 소수 체크 : 반복문으로 진행\n",
    "- 소인수 분해 : 약간의 트릭 활용\n",
    "- 두 알고리즘의 시간 복잡도는 모두 $O\\left(\\sqrt{N}\\right)$ 이다."
   ]
  },
  {
   "cell_type": "markdown",
   "metadata": {},
   "source": [
    "<br>\n",
    "\n",
    "### 7.2.1 소수 체크"
   ]
  },
  {
   "cell_type": "code",
   "execution_count": 32,
   "metadata": {},
   "outputs": [],
   "source": [
    "# 소수 체크 기본\n",
    "# (prime_check 말고 isPrime 등의 관용적인 함수명을 사용)\n",
    "def isPrime(N):\n",
    "    for i in range(2, N):\n",
    "        if N%i == 0: return False # 나눠지면 해당 수는 소수가 아님\n",
    "        if i*i > N: break # i가 루트 N 보다 커지면 리턴 (시간 효율성을 위한 로직)\n",
    "    return True"
   ]
  },
  {
   "cell_type": "code",
   "execution_count": 33,
   "metadata": {},
   "outputs": [
    {
     "name": "stdout",
     "output_type": "stream",
     "text": [
      "True\n"
     ]
    }
   ],
   "source": [
    "print(isPrime(3))"
   ]
  },
  {
   "cell_type": "code",
   "execution_count": 34,
   "metadata": {},
   "outputs": [
    {
     "name": "stdout",
     "output_type": "stream",
     "text": [
      "False\n"
     ]
    }
   ],
   "source": [
    "print(isPrime(6))"
   ]
  },
  {
   "cell_type": "markdown",
   "metadata": {},
   "source": [
    "<br>\n",
    "\n",
    "### 7.2.2 소인수 분해"
   ]
  },
  {
   "cell_type": "code",
   "execution_count": 36,
   "metadata": {},
   "outputs": [],
   "source": [
    "# 소인수분해 기본\n",
    "def prime_factorization(N):\n",
    "    p, fac = 2, []\n",
    "    while p**2 <= N: # 시간 효율성을 높이기 위한 로직\n",
    "        if N%p == 0:\n",
    "            N //= p # N = N/p\n",
    "            fac.append(p)\n",
    "        else:\n",
    "            p += 1\n",
    "    if N > 1: fac.append(N)\n",
    "    return fac"
   ]
  },
  {
   "cell_type": "code",
   "execution_count": 37,
   "metadata": {},
   "outputs": [
    {
     "name": "stdout",
     "output_type": "stream",
     "text": [
      "[2, 2, 3]\n"
     ]
    }
   ],
   "source": [
    "print(prime_factorization(12))"
   ]
  },
  {
   "cell_type": "code",
   "execution_count": 38,
   "metadata": {},
   "outputs": [
    {
     "name": "stdout",
     "output_type": "stream",
     "text": [
      "[3, 5, 823]\n"
     ]
    }
   ],
   "source": [
    "print(prime_factorization(12345))"
   ]
  },
  {
   "cell_type": "markdown",
   "metadata": {},
   "source": [
    "<br>\n",
    "\n",
    "### 7.2.3 에라토스테네스의 체를 활용한 소수 리스트 구하기\n",
    "\n",
    "- 이런 알고리즘이 단 한 번 사용하거나 빠르게 체크할 때는 좋다.\n",
    "- 하지만 여러 쿼리를 묻는 문제 등의 경우에는 시간 복잡도가 꽤 크다.\n",
    "- 이런 문제를 해결하기 위해 소수 리스트를 미리 만드는 방법이 있는데 이것이 **에라토스테네스의 체** 이다."
   ]
  },
  {
   "cell_type": "code",
   "execution_count": 43,
   "metadata": {},
   "outputs": [],
   "source": [
    "# 에라토스테네스의 체를 활용한 소수 리스트 구하기\n",
    "# - 0 ~ N 까지의 숫자 중 소수 리스트 구하기\n",
    "# - 작은 수 부터 해당 숫자가 소수인 지 확인\n",
    "# - 해당 숫자가 소수이면 그 숫자의 배수들을 모두 제거\n",
    "# - 다음 숫자부터 위 과정 반복\n",
    "def era_prime(N):\n",
    "    A, p = [0 for _ in range(N+1)], []\n",
    "    for i in range(2, N):\n",
    "        if A[i] == 0: p.append(i) # A 에 체크가 안되어 있다. -> 합성수가 아니다 = 소수이다.\n",
    "        else: continue\n",
    "        for j in range(i**2, N, i):\n",
    "            A[j] = 1\n",
    "    return p"
   ]
  },
  {
   "cell_type": "code",
   "execution_count": 44,
   "metadata": {},
   "outputs": [
    {
     "name": "stdout",
     "output_type": "stream",
     "text": [
      "[2, 3, 5, 7, 11]\n"
     ]
    }
   ],
   "source": [
    "print(era_prime(12))"
   ]
  },
  {
   "cell_type": "code",
   "execution_count": 45,
   "metadata": {},
   "outputs": [
    {
     "name": "stdout",
     "output_type": "stream",
     "text": [
      "[2, 3, 5, 7, 11, 13, 17, 19, 23, 29, 31, 37, 41, 43, 47, 53, 59, 61, 67, 71, 73, 79, 83, 89, 97]\n"
     ]
    }
   ],
   "source": [
    "print(era_prime(100))"
   ]
  },
  {
   "cell_type": "markdown",
   "metadata": {},
   "source": [
    "<br>\n",
    "\n",
    "- 이런 소수 리스트를 만들면 소인수분해도 다음과 같이 할 수 있다."
   ]
  },
  {
   "cell_type": "code",
   "execution_count": 48,
   "metadata": {},
   "outputs": [],
   "source": [
    "# 소수 리스트가 있는 경우 소인수분해\n",
    "# 소수 리스트의 크기는 sqrt(N) 보다 커야 함\n",
    "def prime_factorization_2(N, p):\n",
    "    fac = []\n",
    "    for i in p:\n",
    "        if N == 1 or N > i*i: break\n",
    "        while N%i == 0:\n",
    "            fac.append(i)\n",
    "            N //= 0\n",
    "    return fac"
   ]
  },
  {
   "cell_type": "markdown",
   "metadata": {},
   "source": [
    "<br>\n",
    "\n",
    "## 7.3 빠른 거듭제곱과 모듈러\n",
    "\n",
    "- Python에서는 크게 고민할 부분은 아니지만 거듭제곱 연산을 해야 할 때가 있다.\n",
    "- 이런 거듭제곱을 순수하게 반복문으로 진행하는 것이 아니라 효율적으로 할 수 있는 방법이 있다.\n",
    "  - $a^{11} = a^{1} \\times a^{2} \\times a^{8}$"
   ]
  },
  {
   "cell_type": "code",
   "execution_count": 54,
   "metadata": {},
   "outputs": [
    {
     "name": "stdout",
     "output_type": "stream",
     "text": [
      "Wall time: 0 ns\n",
      "Wall time: 0 ns\n",
      "Wall time: 3.41 s\n"
     ]
    },
    {
     "data": {
      "text/plain": [
       "769346453"
      ]
     },
     "execution_count": 54,
     "metadata": {},
     "output_type": "execute_result"
    }
   ],
   "source": [
    "def pow_advanced(a, b, mod):\n",
    "    ret = 1\n",
    "    while b > 0:\n",
    "        if b % 2: ret = ret*a%mod\n",
    "        a, b = a*a%mod, b//2\n",
    "    return ret\n",
    "\n",
    "%time pow_advanced(3, 10000000, 1000000007)\n",
    "%time pow(3, 10000000, 1000000007)\n",
    "%time 3**10000000%1000000007"
   ]
  },
  {
   "cell_type": "code",
   "execution_count": 50,
   "metadata": {
    "collapsed": true,
    "jupyter": {
     "outputs_hidden": true,
     "source_hidden": true
    }
   },
   "outputs": [
    {
     "name": "stdout",
     "output_type": "stream",
     "text": [
      "[]\n"
     ]
    }
   ],
   "source": [
    "print(prime_factorization_2(100, era_prime(100)))"
   ]
  }
 ],
 "metadata": {
  "kernelspec": {
   "display_name": "Python 3",
   "language": "python",
   "name": "python3"
  },
  "language_info": {
   "codemirror_mode": {
    "name": "ipython",
    "version": 3
   },
   "file_extension": ".py",
   "mimetype": "text/x-python",
   "name": "python",
   "nbconvert_exporter": "python",
   "pygments_lexer": "ipython3",
   "version": "3.6.9"
  }
 },
 "nbformat": 4,
 "nbformat_minor": 4
}
