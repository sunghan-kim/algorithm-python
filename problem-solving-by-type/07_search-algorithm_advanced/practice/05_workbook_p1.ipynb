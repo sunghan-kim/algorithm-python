{
 "cells": [
  {
   "cell_type": "markdown",
   "metadata": {},
   "source": [
    "# 5. 문제집\n",
    "\n",
    "- 난이도 : 중(Medium)\n",
    "- 유형 : 힙, 위상 정렬\n",
    "- 추천 풀이 시간 : 40분\n",
    "- [문제 설명 링크 : https://www.acmicpc.net/problem/1766](https://www.acmicpc.net/problem/1766)"
   ]
  },
  {
   "cell_type": "code",
   "execution_count": 4,
   "metadata": {},
   "outputs": [
    {
     "name": "stdin",
     "output_type": "stream",
     "text": [
      " 4 2\n",
      " 4 2\n",
      " 3 1\n"
     ]
    },
    {
     "name": "stdout",
     "output_type": "stream",
     "text": [
      "3 1 4 2 "
     ]
    }
   ],
   "source": [
    "import heapq as hq\n",
    "\n",
    "n, m = map(int, input().split())\n",
    "\n",
    "trees = [[] for _ in range(n+1)]\n",
    "inDegree = [0] * (n+1)\n",
    "heap = []\n",
    "\n",
    "for _ in range(m):\n",
    "    x, y = map(int, input().split())\n",
    "    trees[x].append(y)\n",
    "    inDegree[y] += 1\n",
    "    \n",
    "for i in range(1, n+1):\n",
    "    if inDegree[i] == 0:\n",
    "        hq.heappush(heap, i)\n",
    "\n",
    "result = []\n",
    "\n",
    "while len(heap) > 0:\n",
    "    data = hq.heappop(heap)\n",
    "    result.append(data)\n",
    "    for y in trees[data]:\n",
    "        inDegree[y] -= 1\n",
    "        if inDegree[y] == 0:\n",
    "            hq.heappush(heap, y)\n",
    "    \n",
    "for d in result:\n",
    "    print(d, end=' ')"
   ]
  },
  {
   "cell_type": "code",
   "execution_count": null,
   "metadata": {},
   "outputs": [],
   "source": []
  }
 ],
 "metadata": {
  "kernelspec": {
   "display_name": "Python 3",
   "language": "python",
   "name": "python3"
  },
  "language_info": {
   "codemirror_mode": {
    "name": "ipython",
    "version": 3
   },
   "file_extension": ".py",
   "mimetype": "text/x-python",
   "name": "python",
   "nbconvert_exporter": "python",
   "pygments_lexer": "ipython3",
   "version": "3.6.9"
  }
 },
 "nbformat": 4,
 "nbformat_minor": 4
}
