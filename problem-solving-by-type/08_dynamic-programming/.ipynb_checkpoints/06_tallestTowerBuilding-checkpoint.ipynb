{
 "cells": [
  {
   "cell_type": "markdown",
   "metadata": {},
   "source": [
    "### 6. 가장 높은 탑 쌓기\n",
    "\n",
    "- 난이도 : 상(Hard)\n",
    "- 유형 : 동적 프로그래밍, LIS\n",
    "- 추천 풀이 시간 : 50분\n",
    "- [문제 설명 링크 : https://www.acmicpc.net/problem/2655](https://www.acmicpc.net/problem/2655)"
   ]
  },
  {
   "cell_type": "markdown",
   "metadata": {},
   "source": [
    "<br>\n",
    "\n",
    "## 6.1 해설"
   ]
  },
  {
   "cell_type": "markdown",
   "metadata": {},
   "source": [
    "### 6.1.1 해설 내용\n",
    "\n",
    "- 벽돌을 가장 높에 쌓는 것이 목적이기 때문에, 가장 긴 증가하는 부분 수열(LIS) 문제의 심화 변형 문제로 볼 수 있다.\n",
    "- 벽돌의 수가 N개 일 때, 시간 복잡도 $O(N^2)$ 으로 해결할 수 있다.\n",
    "- 벽돌의 번호를 출력해야 한다는 점에서, 계산된 테이블을 역추적할 수 있어야 한다."
   ]
  },
  {
   "cell_type": "markdown",
   "metadata": {},
   "source": [
    "<br>\n",
    "\n",
    "### 6.1.2 핵심 아이디어\n",
    "\n",
    "- 가장 먼저 벽돌을 무게 기준으로 정렬한다.\n",
    "- $D[i]$ : 인덱스가 $i$인 벽돌을 가장 아래에 두었을 때의 최대 높이\n",
    "- 각 벽돌에 대해서 확인하며 $D[i]$를 갱신한다.\n",
    "- 모든 $0 \\leq j \\lt i$에 대하여, $D[i] = max \\left( D[i], \\; D[j] + height[i] \\right) \\quad \\text{if } \\; area[i] \\gt area[j]$\n",
    "  - 벽돌의 너비($area$)가 더 넣다면, 높이를 증가시킨다."
   ]
  },
  {
   "cell_type": "markdown",
   "metadata": {},
   "source": [
    "<br>\n",
    "\n",
    "### 6.1.3 그림 예시\n",
    "\n",
    "- N = 5 일 때, 예시 벽돌들에 대하여 다음과 같이 계산할 수 있다."
   ]
  },
  {
   "cell_type": "markdown",
   "metadata": {},
   "source": [
    "<br>\n",
    "\n",
    "**벽돌 무게 기준 정렬**\n",
    "\n",
    "- 테이블을 잘 처리하기 위해 크기가 0인 벽돌을 넣어 준다.\n",
    "- 그런 다음 각 벽돌들을 무게 기준으로 정렬한다.\n",
    "- 각각의 벽돌을 튜플(번호, 너비, 높이, 무게)로 정의해주면 된다.\n",
    "\n",
    "<img src=\"./img/06_01.jpg\" style=\"width: 800px; margin-left: 10px\" />"
   ]
  },
  {
   "cell_type": "markdown",
   "metadata": {},
   "source": [
    "<br>\n",
    "\n",
    "**첫 번째 벽돌**\n",
    "\n",
    "- 첫 번째 벽돌의 너비는 0 이다.\n",
    "- 그러므로 0 ~ 5번 벽돌 모두의 위에 쌓을 수 있다.\n",
    "- 또한 첫 번째 벽돌의 높이는 0이므로 각각 0 ~ 5번 벽돌 위에 쌓았을 때의 높이도 0 이다.\n",
    "\n",
    "<img src=\"./img/06_02.jpg\" style=\"width: 800px; margin-left: 10px\" />"
   ]
  },
  {
   "cell_type": "markdown",
   "metadata": {},
   "source": [
    "<br>\n",
    "\n",
    "**두 번째 벽돌**\n",
    "\n",
    "\n",
    "\n",
    "<img src=\"./img/06_03.jpg\" style=\"width: 800px; margin-left: 10px\" />"
   ]
  },
  {
   "cell_type": "markdown",
   "metadata": {},
   "source": [
    "<br>\n",
    "\n",
    "**dd**\n",
    "\n",
    "<img src=\"./img/06_04.jpg\" style=\"width: 800px; margin-left: 10px\" />"
   ]
  },
  {
   "cell_type": "markdown",
   "metadata": {},
   "source": [
    "\n",
    "<br>\n",
    "\n",
    "**dd**\n",
    "\n",
    "<img src=\"./img/06_05.jpg\" style=\"width: 800px; margin-left: 10px\" />"
   ]
  },
  {
   "cell_type": "markdown",
   "metadata": {},
   "source": [
    "\n",
    "<br>\n",
    "\n",
    "**dd**\n",
    "\n",
    "<img src=\"./img/06_06.jpg\" style=\"width: 800px; margin-left: 10px\" />"
   ]
  },
  {
   "cell_type": "markdown",
   "metadata": {},
   "source": [
    "\n",
    "<br>\n",
    "\n",
    "**dd**\n",
    "\n",
    "<img src=\"./img/06_07.jpg\" style=\"width: 800px; margin-left: 10px\" />"
   ]
  },
  {
   "cell_type": "markdown",
   "metadata": {},
   "source": [
    "<br>\n",
    "\n",
    "- 이후에 Max Value(=10) 위치부터 테이블을 역추적한다."
   ]
  },
  {
   "cell_type": "markdown",
   "metadata": {},
   "source": [
    "<br>\n",
    "\n",
    "### 6.1.4 해설 코드"
   ]
  },
  {
   "cell_type": "code",
   "execution_count": null,
   "metadata": {},
   "outputs": [],
   "source": []
  }
 ],
 "metadata": {
  "kernelspec": {
   "display_name": "Python 3",
   "language": "python",
   "name": "python3"
  },
  "language_info": {
   "codemirror_mode": {
    "name": "ipython",
    "version": 3
   },
   "file_extension": ".py",
   "mimetype": "text/x-python",
   "name": "python",
   "nbconvert_exporter": "python",
   "pygments_lexer": "ipython3",
   "version": "3.6.9"
  }
 },
 "nbformat": 4,
 "nbformat_minor": 4
}
