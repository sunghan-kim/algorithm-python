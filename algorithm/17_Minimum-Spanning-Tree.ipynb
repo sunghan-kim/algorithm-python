{
 "cells": [
  {
   "cell_type": "markdown",
   "metadata": {},
   "source": [
    "# 17. 최소 신장 트리(Minimum Spanning Tree, MST)의 이해"
   ]
  },
  {
   "cell_type": "markdown",
   "metadata": {},
   "source": [
    "## 17.1 신장 트리(Spanning Tree)란?\n",
    "\n",
    "- \"신장 트리\"라는 말보다 \"Spanning Tree\"가 더 자연스러운 표현이다.  \n",
    "  \n",
    "  \n",
    "- 원래의 그래프의 모든 노드가 연결되어 있으면서 트리의 속성을 만족하는 그래프\n",
    "  - 트리 : 사이클이 없는 그래프"
   ]
  },
  {
   "cell_type": "markdown",
   "metadata": {},
   "source": [
    "<br>\n",
    "\n",
    "### 17.1.1 신장 트리의 조건\n",
    "\n",
    "1. 본래의 그래프의 모든 노드를 포함해야 한다.\n",
    "2. 모든 노드가 서로 연결되어야 한다.\n",
    "3. 트리의 속성(사이클이 존재하지 않음)을 만족시켜야 한다.\n",
    "\n",
    "<img src=\"https://www.fun-coding.org/00_Images/spanningtree.png\">"
   ]
  },
  {
   "cell_type": "markdown",
   "metadata": {},
   "source": [
    "<br>\n",
    "\n",
    "## 17.2 최소 신장 트리 (Minimum Spanning Tree, MST)\n",
    "\n",
    "- 가능한 Spanninig Tree 중에서, **간선의 가중치 합이 최소**인 Spanning Tree를 지칭한다.\n",
    "\n",
    "<img src=\"https://www.fun-coding.org/00_Images/mst.png\" width=\"500px\">"
   ]
  },
  {
   "cell_type": "markdown",
   "metadata": {},
   "source": [
    "<br>\n",
    "\n",
    "### 17.2.1 최소 신장 트리 알고리즘\n",
    "\n",
    "- 그래프에서 최소 신장 트리를 찾을 수 있는 알고리즘이 존재한다.\n",
    "- 대표적인 최소 신장 트리 알고리즘\n",
    "  - 크루스칼 알고리즘 (Kruskal's Algorithm)\n",
    "  - 프림 알고리즘 (Prim's Algorithm)"
   ]
  }
 ],
 "metadata": {
  "kernelspec": {
   "display_name": "Python 3",
   "language": "python",
   "name": "python3"
  },
  "language_info": {
   "codemirror_mode": {
    "name": "ipython",
    "version": 3
   },
   "file_extension": ".py",
   "mimetype": "text/x-python",
   "name": "python",
   "nbconvert_exporter": "python",
   "pygments_lexer": "ipython3",
   "version": "3.8.10"
  }
 },
 "nbformat": 4,
 "nbformat_minor": 4
}
