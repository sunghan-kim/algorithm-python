{
 "cells": [
  {
   "cell_type": "markdown",
   "metadata": {},
   "source": [
    "# 09. 이진 탐색 (Binary Search)"
   ]
  },
  {
   "cell_type": "markdown",
   "metadata": {},
   "source": [
    "## 9.1 이진 탐색(Binary Search)이란?\n",
    "\n",
    "- 탐색할 자료를 둘로 나누어 해당 데이터가 있을 만한 곳을 탐색하는 방법"
   ]
  },
  {
   "cell_type": "markdown",
   "metadata": {},
   "source": [
    "<br>\n",
    "\n",
    "## 9.2 이진 탐색의 이해"
   ]
  },
  {
   "cell_type": "markdown",
   "metadata": {},
   "source": [
    "### 9.2.1 문제\n",
    "\n",
    "<img src=\"https://www.fun-coding.org/00_Images/binarysearch.png\" />"
   ]
  },
  {
   "cell_type": "markdown",
   "metadata": {},
   "source": [
    "<br>\n",
    "\n",
    "### 9.2.2 순차 탐색과 비교하여 이해\n",
    "\n",
    "<img src=\"https://www.mathwarehouse.com/programming/images/binary-vs-linear-search/binary-and-linear-search-animations.gif\">\n",
    "\n",
    "* [저작자] by penjee.com [이미지 출처](https://blog.penjee.com/binary-vs-linear-search-animated-gifs)"
   ]
  },
  {
   "cell_type": "markdown",
   "metadata": {},
   "source": [
    "<br>\n",
    "\n",
    "## 9.3 분할 정복 알고리즘과 이진 탐색"
   ]
  },
  {
   "cell_type": "markdown",
   "metadata": {},
   "source": [
    "### 9.3.1 분할 정복 알고리즘 (Divide and Conquer)\n",
    "\n",
    "- Divide\n",
    "  - 문제를 하나 또는 둘 이상으로 나눈다.\n",
    "  \n",
    "  \n",
    "- Conquer\n",
    "  - 나눠진 문제가 충분히 작고, 해결이 가능하다면 해결하고, 그렇지 않다면 다시 나눈다."
   ]
  },
  {
   "cell_type": "markdown",
   "metadata": {},
   "source": [
    "<br>\n",
    "\n",
    "### 9.3.2 이진 탐색\n",
    "\n",
    "- Divide\n",
    "  - 리스트를 두 개의 서브 리스트로 나눈다.  \n",
    "  \n",
    "  \n",
    "- Conquer\n",
    "  - 검색할 숫자(`search`) > 중간값 $\\rightarrow$ 뒷 부분의 서브 리스트에서 검색할 숫자를 찾는다.\n",
    "  - 검색할 숫자(`search`) < 중간값 $\\rightarrow$ 앞 부분의 서브 리스트에서 검색할 숫자를 찾는다."
   ]
  },
  {
   "cell_type": "markdown",
   "metadata": {},
   "source": [
    "<br>\n",
    "\n",
    "## 9.4 이진 탐색 구현 방법\n",
    "\n",
    "- 이진 탐색은 데이터가 정렬되어 있는 상태에서 진행\n",
    "- 데이터가 `[2, 3, 8, 12, 20]`로 주어졌다고 하자.\n",
    "- `binary_search(data_list, find_data)` 함수 정의\n",
    "  - `find_data` : 찾는 숫자\n",
    "  - `data_list` : 데이터 리스트\n",
    "- `data_list`의 중간값을 `find_data`와 비교\n",
    "  - `find_data < data_list의 중간값`  \n",
    "  $\\rightarrow$ 맨 앞부터 `data_list`의 중간까지에서 다시 `find_data` 찾기\n",
    "  - `find_data > data_list의 중간값`  \n",
    "  $\\rightarrow$ `data_list`의 중간부터 맨 끝까지에서 다시 `find_data` 찾기\n",
    "  - 그렇지 않다면 `data_list`의 중간값이 `find_data`이므로 `return data_list 중간 위치`"
   ]
  },
  {
   "cell_type": "markdown",
   "metadata": {},
   "source": [
    "<br>\n",
    "\n",
    "## 9.5 이진 탐색 알고리즘 구현"
   ]
  },
  {
   "cell_type": "code",
   "execution_count": 1,
   "metadata": {},
   "outputs": [],
   "source": [
    "def binary_search(data, search):\n",
    "    print(data)\n",
    "    if len(data) == 1 and search == data[0]:\n",
    "        return True\n",
    "    if len(data) == 1 and search != data[0]:\n",
    "        return False\n",
    "    if len(data) == 0:\n",
    "        return False\n",
    "    \n",
    "    medium = len(data) // 2\n",
    "    if search == data[medium]:\n",
    "        return True\n",
    "    else:\n",
    "        if search > data[medium]:\n",
    "            return binary_search(data[medium+1:], search)\n",
    "        else:\n",
    "            return binary_search(data[:medium], search)"
   ]
  },
  {
   "cell_type": "code",
   "execution_count": 2,
   "metadata": {},
   "outputs": [
    {
     "data": {
      "text/plain": [
       "[64, 24, 88, 13, 44, 34, 28, 9, 0, 20]"
      ]
     },
     "execution_count": 2,
     "metadata": {},
     "output_type": "execute_result"
    }
   ],
   "source": [
    "import random\n",
    "\n",
    "data_list = random.sample(range(100), 10)\n",
    "data_list"
   ]
  },
  {
   "cell_type": "code",
   "execution_count": 3,
   "metadata": {},
   "outputs": [
    {
     "data": {
      "text/plain": [
       "[0, 9, 13, 20, 24, 28, 34, 44, 64, 88]"
      ]
     },
     "execution_count": 3,
     "metadata": {},
     "output_type": "execute_result"
    }
   ],
   "source": [
    "data_list.sort()\n",
    "data_list"
   ]
  },
  {
   "cell_type": "code",
   "execution_count": 4,
   "metadata": {},
   "outputs": [
    {
     "name": "stdout",
     "output_type": "stream",
     "text": [
      "[0, 9, 13, 20, 24, 28, 34, 44, 64, 88]\n",
      "[34, 44, 64, 88]\n",
      "[88]\n"
     ]
    },
    {
     "data": {
      "text/plain": [
       "False"
      ]
     },
     "execution_count": 4,
     "metadata": {},
     "output_type": "execute_result"
    }
   ],
   "source": [
    "binary_search(data_list, 66)"
   ]
  },
  {
   "cell_type": "code",
   "execution_count": 6,
   "metadata": {},
   "outputs": [
    {
     "name": "stdout",
     "output_type": "stream",
     "text": [
      "[0, 9, 13, 20, 24, 28, 34, 44, 64, 88]\n",
      "[34, 44, 64, 88]\n",
      "[34, 44]\n",
      "[34]\n"
     ]
    },
    {
     "data": {
      "text/plain": [
       "True"
      ]
     },
     "execution_count": 6,
     "metadata": {},
     "output_type": "execute_result"
    }
   ],
   "source": [
    "binary_search(data_list, 34)"
   ]
  },
  {
   "cell_type": "markdown",
   "metadata": {},
   "source": [
    "<br>\n",
    "\n",
    "## 9.6 알고리즘 분석\n",
    "\n",
    "- `n`개의 리스트를 매 번 `2`로 나누어 `1`이 될 때까지 비교 연산을 `k`회 진행\n",
    "  - $n \\times {1 \\over 2} \\times {1 \\over 2} \\times \\cdots = 1$\n",
    "  - $n \\times \\left( {1 \\over 2} \\right)^k = 1$\n",
    "  - $n = 2^k$\n",
    "  - $log_2 n = log_2 2^k$\n",
    "  - $log_2 n = k$  \n",
    "  \n",
    "  \n",
    "- 빅 오 표기법으로는 $k+1$이 결국 최종 시간 복잡도이다. (`1`이 되었을 때도 비교 연산을 한 번 수행)\n",
    "- 결국 $O(log_2 n + 1)$\n",
    "- `2`, `1`, 상수는 삭제되므로 $O(log n)$"
   ]
  },
  {
   "cell_type": "markdown",
   "metadata": {},
   "source": [
    "<br>\n",
    "\n",
    "## 9.7 프로그래밍 연습\n",
    "\n",
    "- 다음 10,000개의 데이터를 삽입 정렬, 퀵 정렬로 정렬하는 함수를 각각 만듬\n",
    "- 각각의 정렬 시간을 출력\n",
    "- **10,000개의 데이터로 수행할 경우, 퀵 정렬에서 재귀 제한 횟수에 걸려 2,500으로 줄임**"
   ]
  },
  {
   "cell_type": "markdown",
   "metadata": {},
   "source": [
    "<br>\n",
    "\n",
    "### 9.7.1 데이터 생성"
   ]
  },
  {
   "cell_type": "code",
   "execution_count": 31,
   "metadata": {},
   "outputs": [],
   "source": [
    "import random\n",
    "\n",
    "data_list = random.sample(range(100000), 2500)"
   ]
  },
  {
   "cell_type": "markdown",
   "metadata": {},
   "source": [
    "<br>\n",
    "\n",
    "### 9.7.2 삽입 정렬"
   ]
  },
  {
   "cell_type": "code",
   "execution_count": 32,
   "metadata": {},
   "outputs": [],
   "source": [
    "def insertion_sort(data):\n",
    "    for index in range(len(data) - 1):\n",
    "        for index2 in range(index + 1, 0, -1):\n",
    "            if data[index2] < data[index2 - 1]:\n",
    "                data[index2], data[index2 - 1] = data[index2 - 1], data[index2]\n",
    "            else:\n",
    "                break\n",
    "    return data"
   ]
  },
  {
   "cell_type": "code",
   "execution_count": 33,
   "metadata": {},
   "outputs": [
    {
     "name": "stdout",
     "output_type": "stream",
     "text": [
      "0:00:00.552810\n"
     ]
    }
   ],
   "source": [
    "import  datetime\n",
    "\n",
    "start_time = datetime.datetime.now()\n",
    "sorted_data_list = insertion_sort(data_list)\n",
    "end_time = datetime.datetime.now()\n",
    "\n",
    "print(end_time - start_time)"
   ]
  },
  {
   "cell_type": "markdown",
   "metadata": {},
   "source": [
    "<br>\n",
    "\n",
    "### 9.7.3 퀵 정렬"
   ]
  },
  {
   "cell_type": "code",
   "execution_count": 34,
   "metadata": {},
   "outputs": [],
   "source": [
    "def quick_sort(data):\n",
    "    if len(data) <= 1:\n",
    "        return data\n",
    "    pivot = data[0]\n",
    "    left = [item for item in data[1:] if item < pivot]\n",
    "    right = [item for item in data[1:] if item > pivot]\n",
    "    return quick_sort(left) + [pivot] + quick_sort(right)"
   ]
  },
  {
   "cell_type": "code",
   "execution_count": 35,
   "metadata": {},
   "outputs": [
    {
     "name": "stdout",
     "output_type": "stream",
     "text": [
      "0:00:00.402661\n"
     ]
    }
   ],
   "source": [
    "import  datetime\n",
    "\n",
    "start_time = datetime.datetime.now()\n",
    "sorted_data_list = quick_sort(data_list)\n",
    "end_time = datetime.datetime.now()\n",
    "\n",
    "print(end_time - start_time)"
   ]
  }
 ],
 "metadata": {
  "kernelspec": {
   "display_name": "Python 3",
   "language": "python",
   "name": "python3"
  },
  "language_info": {
   "codemirror_mode": {
    "name": "ipython",
    "version": 3
   },
   "file_extension": ".py",
   "mimetype": "text/x-python",
   "name": "python",
   "nbconvert_exporter": "python",
   "pygments_lexer": "ipython3",
   "version": "3.6.9"
  }
 },
 "nbformat": 4,
 "nbformat_minor": 4
}
