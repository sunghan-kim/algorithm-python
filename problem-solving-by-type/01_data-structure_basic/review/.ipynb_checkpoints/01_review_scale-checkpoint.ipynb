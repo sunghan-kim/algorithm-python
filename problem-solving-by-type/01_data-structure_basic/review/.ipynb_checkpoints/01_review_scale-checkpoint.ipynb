{
 "cells": [
  {
   "cell_type": "markdown",
   "metadata": {},
   "source": [
    "# 1. 음계 (복습)"
   ]
  },
  {
   "cell_type": "markdown",
   "metadata": {},
   "source": [
    "## 1.1 구현 코드"
   ]
  },
  {
   "cell_type": "code",
   "execution_count": 12,
   "metadata": {},
   "outputs": [
    {
     "name": "stdin",
     "output_type": "stream",
     "text": [
      " 1 2 3 4 5 6 7 8\n"
     ]
    },
    {
     "name": "stdout",
     "output_type": "stream",
     "text": [
      "ascending\n"
     ]
    }
   ],
   "source": [
    "data = [int(d) for d in input().split(' ')]\n",
    "\n",
    "ascending = False\n",
    "descending = False\n",
    "\n",
    "for i in range(len(data)):\n",
    "    if i < len(data)-1:\n",
    "        if data[i+1] - data[i] > 0:\n",
    "            ascending = True\n",
    "        elif data[i+1] - data[i] < 0:\n",
    "            descending = True\n",
    "\n",
    "if ascending and descending:\n",
    "    print('mixed')\n",
    "elif ascending:\n",
    "    print('ascending')\n",
    "elif descending:\n",
    "    print('descending')"
   ]
  },
  {
   "cell_type": "code",
   "execution_count": 13,
   "metadata": {},
   "outputs": [
    {
     "name": "stdin",
     "output_type": "stream",
     "text": [
      " 1 2 3 4 5 6 7 8\n"
     ]
    },
    {
     "name": "stdout",
     "output_type": "stream",
     "text": [
      "ascending\n"
     ]
    }
   ],
   "source": [
    "data = [int(d) for d in input().split(' ')]\n",
    "\n",
    "ascending = False\n",
    "descending = False\n",
    "\n",
    "for i in range(len(data)-1):\n",
    "    if data[i+1] - data[i] > 0:\n",
    "        ascending = True\n",
    "    elif data[i+1] - data[i] < 0:\n",
    "        descending = True\n",
    "\n",
    "if ascending and descending:\n",
    "    print('mixed')\n",
    "elif ascending:\n",
    "    print('ascending')\n",
    "elif descending:\n",
    "    print('descending')"
   ]
  },
  {
   "cell_type": "markdown",
   "metadata": {},
   "source": [
    "<br>\n",
    "\n",
    "## 1.2 해설 코드"
   ]
  },
  {
   "cell_type": "code",
   "execution_count": 9,
   "metadata": {},
   "outputs": [
    {
     "name": "stdin",
     "output_type": "stream",
     "text": [
      " 8 7 6 5 4 3 2 1\n"
     ]
    },
    {
     "name": "stdout",
     "output_type": "stream",
     "text": [
      "descending\n"
     ]
    }
   ],
   "source": [
    "a = list(map(int, input().split(\" \")))\n",
    "\n",
    "ascending = True\n",
    "descending = True\n",
    "\n",
    "for i in range(1, 8):\n",
    "    if a[i] > a[i-1]:\n",
    "        descending = False\n",
    "    elif a[i] < a[i-1]:\n",
    "        ascending = False\n",
    "\n",
    "if ascending:\n",
    "    print(\"ascending\")\n",
    "elif descending:\n",
    "    print(\"descending\")\n",
    "else:\n",
    "    print(\"mixed\")"
   ]
  }
 ],
 "metadata": {
  "kernelspec": {
   "display_name": "Python 3",
   "language": "python",
   "name": "python3"
  },
  "language_info": {
   "codemirror_mode": {
    "name": "ipython",
    "version": 3
   },
   "file_extension": ".py",
   "mimetype": "text/x-python",
   "name": "python",
   "nbconvert_exporter": "python",
   "pygments_lexer": "ipython3",
   "version": "3.6.9"
  }
 },
 "nbformat": 4,
 "nbformat_minor": 4
}
