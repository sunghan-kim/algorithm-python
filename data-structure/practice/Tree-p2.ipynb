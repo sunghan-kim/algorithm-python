{
 "cells": [
  {
   "cell_type": "markdown",
   "metadata": {},
   "source": [
    "# 2. 이진 탐색 트리(BST) 구현\n",
    "\n",
    "- 링크드 리스트를 이용하여 이진 탐색 트리 구현"
   ]
  },
  {
   "cell_type": "markdown",
   "metadata": {},
   "source": [
    "<br>\n",
    "\n",
    "## 2.1 노드 클래스 생성"
   ]
  },
  {
   "cell_type": "code",
   "execution_count": 1,
   "metadata": {},
   "outputs": [],
   "source": [
    "class Node:\n",
    "    def __init__(self, value):\n",
    "        self.value = value\n",
    "        self.left = None\n",
    "        self.right = None"
   ]
  },
  {
   "cell_type": "markdown",
   "metadata": {},
   "source": [
    "<br>\n",
    "\n",
    "## 2.2 이진 탐색 트리에 데이터 넣기 (`insert`)"
   ]
  },
  {
   "cell_type": "code",
   "execution_count": 2,
   "metadata": {},
   "outputs": [],
   "source": [
    "class NodeMgmt:\n",
    "    \n",
    "    def __init__(self, head):\n",
    "        self.head = head # NodeMgmt 에 처음으로 들어가는 노드는 root node가 된다.\n",
    "        \n",
    "    def insert(self, value):\n",
    "        self.current_node = self.head\n",
    "        \n",
    "        while True:\n",
    "            if value < self.current_node.value: # 왼쪽\n",
    "                if self.current_node.left != None: # 왼쪽에 노드가 있는 지 확인\n",
    "                    # 있으면 현재 노드를 왼쪽 노드로 변경\n",
    "                    self.current_node = self.current_node.left \n",
    "                    # while문 반복\n",
    "                else: # 왼쪽에 노드가 없는 경우\n",
    "                    # 새로 들어온 값을 갖는 노드를 현재 노드의 왼쪽으로 지정\n",
    "                    self.current_node.left = Node(value)\n",
    "                    break # while문 종료\n",
    "            else: # 오른쪽\n",
    "                if self.current_node.right != None: # 오른쪽에 노드가 있는 지 확인\n",
    "                    # 있으면 현재 노드를 오른쪽 노드로 변경\n",
    "                    self.current_node = self.current_node.right\n",
    "                    # while문 반복\n",
    "                else: # 오른쪽에 노드가 없는 경우\n",
    "                    # 새로 들어온 값을 갖는 노드를 현재 노드의 오른쪽으로 지정\n",
    "                    self.current_node.right = Node(value)\n",
    "                    break # while문 종료"
   ]
  },
  {
   "cell_type": "code",
   "execution_count": 3,
   "metadata": {},
   "outputs": [],
   "source": [
    "head = Node(1)\n",
    "BST = NodeMgmt(head)\n",
    "BST.insert(2)"
   ]
  },
  {
   "cell_type": "code",
   "execution_count": 4,
   "metadata": {},
   "outputs": [
    {
     "data": {
      "text/plain": [
       "<__main__.NodeMgmt at 0x7f4a0c1ca898>"
      ]
     },
     "execution_count": 4,
     "metadata": {},
     "output_type": "execute_result"
    }
   ],
   "source": [
    "BST"
   ]
  },
  {
   "cell_type": "markdown",
   "metadata": {},
   "source": [
    "<br>\n",
    "\n",
    "## 2.3 이진 탐색 트리 탐색 (`search`)\n",
    "\n",
    "- 해당 값이 있는 지 없는 지 확인 (`True`, `False` return)"
   ]
  },
  {
   "cell_type": "code",
   "execution_count": 10,
   "metadata": {},
   "outputs": [],
   "source": [
    "class NodeMgmt:\n",
    "    \n",
    "    def __init__(self, head):\n",
    "        self.head = head # NodeMgmt 에 처음으로 들어가는 노드는 root node가 된다.\n",
    "        \n",
    "    def insert(self, value):\n",
    "        self.current_node = self.head\n",
    "        \n",
    "        while True:\n",
    "            if value < self.current_node.value: # 왼쪽\n",
    "                if self.current_node.left != None: # 왼쪽에 노드가 있는 지 확인\n",
    "                    # 있으면 현재 노드를 왼쪽 노드로 변경\n",
    "                    self.current_node = self.current_node.left \n",
    "                    # while문 반복\n",
    "                else: # 왼쪽에 노드가 없는 경우\n",
    "                    # 새로 들어온 값을 갖는 노드를 현재 노드의 왼쪽으로 지정\n",
    "                    self.current_node.left = Node(value)\n",
    "                    break # while문 종료\n",
    "            else: # 오른쪽\n",
    "                if self.current_node.right != None: # 오른쪽에 노드가 있는 지 확인\n",
    "                    # 있으면 현재 노드를 오른쪽 노드로 변경\n",
    "                    self.current_node = self.current_node.right\n",
    "                    # while문 반복\n",
    "                else: # 오른쪽에 노드가 없는 경우\n",
    "                    # 새로 들어온 값을 갖는 노드를 현재 노드의 오른쪽으로 지정\n",
    "                    self.current_node.right = Node(value)\n",
    "                    break # while문 종료\n",
    "                    \n",
    "    def search(self, value):\n",
    "        self.current_node = self.head\n",
    "        \n",
    "        while self.current_node: # 현재 노드가 None일 때까지 반복\n",
    "            if self.current_node.value == value:\n",
    "                return True # while문 종료\n",
    "            elif value < self.current_node.value: # 왼쪽\n",
    "                self.current_node = self.current_node.left\n",
    "                # while문 반복\n",
    "            else: # 오른쪽\n",
    "                self.current_node = self.current_node.right\n",
    "                # while문 반복\n",
    "                \n",
    "        return False # While문이 종료된다는 것은 해당 값을 갖는 노드를 탐색하지 못한 것을 의미"
   ]
  },
  {
   "cell_type": "code",
   "execution_count": 11,
   "metadata": {},
   "outputs": [],
   "source": [
    "head = Node(1)\n",
    "BST = NodeMgmt(head)\n",
    "\n",
    "BST.insert(2)\n",
    "BST.insert(3)\n",
    "BST.insert(0)\n",
    "BST.insert(4)\n",
    "BST.insert(8)"
   ]
  },
  {
   "cell_type": "code",
   "execution_count": 12,
   "metadata": {},
   "outputs": [
    {
     "data": {
      "text/plain": [
       "True"
      ]
     },
     "execution_count": 12,
     "metadata": {},
     "output_type": "execute_result"
    }
   ],
   "source": [
    "BST.search(1)"
   ]
  },
  {
   "cell_type": "code",
   "execution_count": 13,
   "metadata": {},
   "outputs": [
    {
     "data": {
      "text/plain": [
       "True"
      ]
     },
     "execution_count": 13,
     "metadata": {},
     "output_type": "execute_result"
    }
   ],
   "source": [
    "BST.search(3)"
   ]
  },
  {
   "cell_type": "code",
   "execution_count": 14,
   "metadata": {},
   "outputs": [
    {
     "data": {
      "text/plain": [
       "False"
      ]
     },
     "execution_count": 14,
     "metadata": {},
     "output_type": "execute_result"
    }
   ],
   "source": [
    "BST.search(5)"
   ]
  }
 ],
 "metadata": {
  "kernelspec": {
   "display_name": "Python 3",
   "language": "python",
   "name": "python3"
  },
  "language_info": {
   "codemirror_mode": {
    "name": "ipython",
    "version": 3
   },
   "file_extension": ".py",
   "mimetype": "text/x-python",
   "name": "python",
   "nbconvert_exporter": "python",
   "pygments_lexer": "ipython3",
   "version": "3.6.10"
  }
 },
 "nbformat": 4,
 "nbformat_minor": 4
}
