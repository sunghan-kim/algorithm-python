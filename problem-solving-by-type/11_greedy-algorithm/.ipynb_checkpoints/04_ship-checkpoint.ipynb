{
 "cells": [
  {
   "cell_type": "markdown",
   "metadata": {},
   "source": [
    "# 4. 배\n",
    "\n",
    "- 난이도 : 중(Medium)\n",
    "- 유형 : 그리디\n",
    "- 추천 풀이 시간 : 35분\n",
    "- [문제 설명 링크 : https://www.acmicpc.net/problem/1092](https://www.acmicpc.net/problem/1092)"
   ]
  },
  {
   "cell_type": "markdown",
   "metadata": {},
   "source": [
    "<br>\n",
    "\n",
    "## 4.1 문제 풀이"
   ]
  },
  {
   "cell_type": "code",
   "execution_count": null,
   "metadata": {},
   "outputs": [],
   "source": [
    "n = int(input())\n",
    "weight_limit = map(int, input().split())\n",
    "m = int(input())\n",
    "box_weight = map(int, input().split())\n",
    "\n",
    "weight_limit.sort(reverse=True)\n",
    "box_weight.sort(reverse=True)\n",
    "\n"
   ]
  }
 ],
 "metadata": {
  "kernelspec": {
   "display_name": "Python 3",
   "language": "python",
   "name": "python3"
  },
  "language_info": {
   "codemirror_mode": {
    "name": "ipython",
    "version": 3
   },
   "file_extension": ".py",
   "mimetype": "text/x-python",
   "name": "python",
   "nbconvert_exporter": "python",
   "pygments_lexer": "ipython3",
   "version": "3.6.9"
  }
 },
 "nbformat": 4,
 "nbformat_minor": 4
}
