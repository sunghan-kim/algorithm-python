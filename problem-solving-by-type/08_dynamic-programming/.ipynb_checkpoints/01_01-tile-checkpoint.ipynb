{
 "cells": [
  {
   "cell_type": "markdown",
   "metadata": {},
   "source": [
    "# 1. 01타일\n",
    "\n",
    "- 난이도 : 하(Easy)\n",
    "- 유형 : 동적 프로그래밍\n",
    "- 추천 풀이 시간 : 20분\n",
    "- [문제 설명 링크 : https://www.acmicpc.net/problem/1904](https://www.acmicpc.net/problem/1904)"
   ]
  },
  {
   "cell_type": "markdown",
   "metadata": {},
   "source": [
    "<br>\n",
    "\n",
    "## 1.1 해설\n",
    "\n",
    "- 사용할 수 있는 타일의 종류는 2개이다.\n",
    "\n",
    "<img src=\"./img/01_01.jpg\" style=\"width: 300px; margin-left: 25px\" />\n",
    "\n",
    "- 두 가지 종류의 타일을 이용하여, N 길이의 수열을 만드는 모든 경우의 수를 구해야 한다.\n",
    "- 가장 전형적인 동적 프로그래밍 문제이다.\n",
    "  - 동적 프로그래밍에선 한 번 계산한 값은 다시 구하지 않는 것이 특징이다.\n",
    "  - 길이가 짧을 때 구할 수 있는 모든 경우의 수를 차례대로 구해서 먼저 계산을 한 후, 길이가 길어졌을 때 앞에서 구한 작은 길이의 경우의 수의 값들을 합해서 더 큰 문제를 해결한다.\n",
    "  - 먼저 구한 값들을 특정 리스트에 담아 둔다. (memorization)\n",
    "- N이 최대 1,000,000이므로 시간 복잡도 O(N)으로 해결해야 한다."
   ]
  },
  {
   "cell_type": "markdown",
   "metadata": {},
   "source": [
    "- 타일을 왼쪽에서부터 오른쪽으로 이어서 붙인다고 가정한다."
   ]
  },
  {
   "cell_type": "markdown",
   "metadata": {},
   "source": [
    "- N이 3일 때, 경우의 수는 3가지 이다.\n",
    "\n",
    "<img src=\"./img/01_02.jpg\" style=\"width: 500px; margin-left: 25px\" />"
   ]
  },
  {
   "cell_type": "markdown",
   "metadata": {},
   "source": [
    "- N이 4일 때, 경우의 수는 5가지 이다.\n",
    "\n",
    "<img src=\"./img/01_03.jpg\" style=\"width: 500px; margin-left: 25px\" />"
   ]
  },
  {
   "cell_type": "markdown",
   "metadata": {},
   "source": [
    "- 동적 프로그래밍 문제를 풀기 위해서는 **점화식**을 세워야 한다.\n",
    "  - 점화식 : 인접한 항들 사이의 관계식  \n",
    "  \n",
    "  \n",
    "- D[i] = \"수열의 길이가 i일 때의 경우의 수\"\n",
    "  - D[3] = 3\n",
    "  - D[4] = 5"
   ]
  },
  {
   "cell_type": "markdown",
   "metadata": {},
   "source": [
    "- 타일을 왼쪽에서부터 오른쪽으로 이어서 붙인다고 가정해보자.\n",
    "- 길이가 i인 수열을 형성하는 방법은 다음 2가지 뿐이다.\n",
    "\n",
    "<img src=\"./img/01_04.jpg\" style=\"width: 500px; margin-left: 25px\" />\n",
    "\n",
    "- 따라서 D[i] = \"수열의 길이가 i일 때의 경우의 수\" 라고 하면 점화식은 다음과 같다.\n",
    "\n",
    "> D[i] = D[i-1] + D[i-2]\n",
    "\n",
    "- 다시 말해 이 문제는 **피보나치 수열과 동일한 문제**이다."
   ]
  },
  {
   "cell_type": "markdown",
   "metadata": {},
   "source": [
    "<br>\n",
    "\n",
    "## 1.2 해설 코드"
   ]
  },
  {
   "cell_type": "code",
   "execution_count": 4,
   "metadata": {},
   "outputs": [
    {
     "name": "stdin",
     "output_type": "stream",
     "text": [
      " 4\n"
     ]
    },
    {
     "name": "stdout",
     "output_type": "stream",
     "text": [
      "5\n"
     ]
    }
   ],
   "source": [
    "n = int(input())\n",
    "\n",
    "dp = [0] * 1000001\n",
    "dp[1] = 1\n",
    "dp[2] = 2\n",
    "\n",
    "for i in range(3, n+1):\n",
    "    # % 15746 은 값이 너무 커지는 것을 막기 위해 넣어 준다.\n",
    "    dp[i] = (dp[i-1] + dp[i-2]) % 15746\n",
    "    \n",
    "print(dp[n])"
   ]
  }
 ],
 "metadata": {
  "kernelspec": {
   "display_name": "Python 3",
   "language": "python",
   "name": "python3"
  },
  "language_info": {
   "codemirror_mode": {
    "name": "ipython",
    "version": 3
   },
   "file_extension": ".py",
   "mimetype": "text/x-python",
   "name": "python",
   "nbconvert_exporter": "python",
   "pygments_lexer": "ipython3",
   "version": "3.6.9"
  }
 },
 "nbformat": 4,
 "nbformat_minor": 4
}
