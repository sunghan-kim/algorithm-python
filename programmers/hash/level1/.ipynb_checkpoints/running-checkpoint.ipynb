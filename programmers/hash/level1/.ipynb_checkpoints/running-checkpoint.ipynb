{
 "cells": [
  {
   "cell_type": "markdown",
   "metadata": {},
   "source": [
    "# 완주하지 못한 선수\n",
    "\n",
    "---"
   ]
  },
  {
   "cell_type": "markdown",
   "metadata": {},
   "source": [
    "[프로그래머스 - 완주하지 못한 선수](https://programmers.co.kr/learn/courses/30/lessons/42576)"
   ]
  },
  {
   "cell_type": "markdown",
   "metadata": {},
   "source": [
    "## 문제 설명\n",
    "\n",
    "수많은 마라톤 선수들이 마라톤에 참여하였습니다. 단 한 명의 선수를 제외하고는 모든 선수가 마라톤을 완주하였습니다.  \n",
    "  \n",
    "마라톤에 참여한 선수들의 이름이 담긴 배열 participant와 완주한 선수들의 이름이 담긴 배열 completion이 주어질 때, 완주하지 못한 선수의 이름을 return 하도록 solution 함수를 작성해주세요."
   ]
  },
  {
   "cell_type": "markdown",
   "metadata": {},
   "source": [
    "## 제한사항\n",
    "\n",
    "- 마라톤 경기에 참여한 선수의 수는 1명 이상 100,000명 이하입니다.\n",
    "- completion의 길이는 participant의 길이보다 1 작습니다.\n",
    "- 참가자의 이름은 1개 이상 20개 이하의 알파벳 소문자로 이루어져 있습니다.\n",
    "- 참가자 중에는 동명이인이 있을 수 있습니다."
   ]
  },
  {
   "cell_type": "markdown",
   "metadata": {},
   "source": [
    "## 입출력 예"
   ]
  },
  {
   "cell_type": "markdown",
   "metadata": {},
   "source": [
    "<div style=\"text-align: left; margin-left: 30px\">\n",
    "    <img src=\"./img/img001.jpg\" width=\"600px\"/>\n",
    "</div>"
   ]
  },
  {
   "cell_type": "markdown",
   "metadata": {},
   "source": [
    "## 입출력 예 설명\n",
    "\n",
    "### 예제 #1\n",
    "leo는 참여자 명단에는 있지만, 완주자 명단에는 없기 때문에 완주하지 못했습니다.\n",
    "\n",
    "### 예제 #2\n",
    "vinko는 참여자 명단에는 있지만, 완주자 명단에는 없기 때문에 완주하지 못했습니다.\n",
    "\n",
    "### 예제 #3\n",
    "mislav는 참여자 명단에는 두 명이 있지만, 완주자 명단에는 한 명밖에 없기 때문에 한명은 완주하지 못했습니다."
   ]
  },
  {
   "cell_type": "markdown",
   "metadata": {},
   "source": [
    "<br>"
   ]
  },
  {
   "cell_type": "code",
   "execution_count": 1,
   "metadata": {},
   "outputs": [],
   "source": [
    "# 입출력 예시 데이터\n",
    "\n",
    "participant1 = [\"leo\", \"kiki\", \"eden\"]\n",
    "completion1 = [\"eden\", \"kiki\"]\n",
    "\n",
    "participant2 = [\"marina\", \"josipa\", \"nikola\", \"vinko\", \"filipa\"]\n",
    "completion2 = [\"josipa\", \"filipa\", \"marina\", \"nikola\"]\n",
    "\n",
    "participant3 = [\"mislav\", \"stanko\", \"mislav\", \"ana\"]\n",
    "completion3 = [\"stanko\", \"ana\", \"mislav\"]"
   ]
  },
  {
   "cell_type": "markdown",
   "metadata": {},
   "source": [
    "# solution1"
   ]
  },
  {
   "cell_type": "code",
   "execution_count": 2,
   "metadata": {},
   "outputs": [],
   "source": [
    "def solution1(participant, completion) :\n",
    "    \n",
    "    participant.sort()\n",
    "    completion.sort()\n",
    "    \n",
    "    answer = \"\"\n",
    "    \n",
    "    for i in range(len(completion)) :\n",
    "        \n",
    "        if participant[i] != completion[i] :\n",
    "            \n",
    "            return participant[i]\n",
    "        \n",
    "    return participant[len(participant)-1]"
   ]
  },
  {
   "cell_type": "code",
   "execution_count": 3,
   "metadata": {},
   "outputs": [
    {
     "name": "stdout",
     "output_type": "stream",
     "text": [
      "leo\n",
      "vinko\n",
      "mislav\n"
     ]
    }
   ],
   "source": [
    "answer11 = solution1(participant1, completion1)\n",
    "print(answer11) # leo\n",
    "\n",
    "answer12 = solution1(participant2, completion2)\n",
    "print(answer12) # vinko\n",
    "\n",
    "answer13 = solution1(participant3, completion3)\n",
    "print(answer13) # mislav"
   ]
  },
  {
   "cell_type": "markdown",
   "metadata": {},
   "source": [
    "# solution2\n",
    "\n",
    "https://programmers.co.kr/learn/courses/30/lessons/42576/solution_groups?language=python3\n",
    "\n",
    "- 김형준 , ii , - , YoungHo Choi , 민홍 외 251 명\n",
    "- `collections` 사용"
   ]
  },
  {
   "cell_type": "code",
   "execution_count": 4,
   "metadata": {},
   "outputs": [],
   "source": [
    "import collections\n",
    "\n",
    "def solution2(participant, completion) :\n",
    "    \n",
    "    answer = collections.Counter(participant) - collections.Counter(completion)\n",
    "    \n",
    "    return list(answer.keys())[0]"
   ]
  },
  {
   "cell_type": "code",
   "execution_count": 5,
   "metadata": {},
   "outputs": [
    {
     "name": "stdout",
     "output_type": "stream",
     "text": [
      "leo\n",
      "vinko\n",
      "mislav\n"
     ]
    }
   ],
   "source": [
    "answer21 = solution2(participant1, completion1)\n",
    "print(answer21) # leo\n",
    "\n",
    "answer22 = solution2(participant2, completion2)\n",
    "print(answer22) # vinko\n",
    "\n",
    "answer23 = solution2(participant3, completion3)\n",
    "print(answer23) # mislav"
   ]
  },
  {
   "cell_type": "markdown",
   "metadata": {},
   "source": [
    "# solution3\n",
    "\n",
    "https://programmers.co.kr/learn/courses/30/lessons/42576/solution_groups?language=python3\n",
    "\n",
    "- 조민범 , 김세천 , 호리 , 박주형 , Demi 외 123 명\n",
    "- `zip` 사용"
   ]
  },
  {
   "cell_type": "code",
   "execution_count": 6,
   "metadata": {},
   "outputs": [],
   "source": [
    "def solution3(participant, completion) :\n",
    "    \n",
    "    participant.sort()\n",
    "    completion.sort()\n",
    "    \n",
    "    for p, c in zip(participant, completion) :\n",
    "        \n",
    "        if p != c :\n",
    "            \n",
    "            return p\n",
    "        \n",
    "    return participant[-1]"
   ]
  },
  {
   "cell_type": "code",
   "execution_count": 7,
   "metadata": {},
   "outputs": [
    {
     "name": "stdout",
     "output_type": "stream",
     "text": [
      "leo\n",
      "vinko\n",
      "mislav\n"
     ]
    }
   ],
   "source": [
    "answer31 = solution3(participant1, completion1)\n",
    "print(answer31) # leo\n",
    "\n",
    "answer32 = solution3(participant2, completion2)\n",
    "print(answer32) # vinko\n",
    "\n",
    "answer33 = solution3(participant3, completion3)\n",
    "print(answer33) # mislav"
   ]
  }
 ],
 "metadata": {
  "kernelspec": {
   "display_name": "Python 3",
   "language": "python",
   "name": "python3"
  },
  "language_info": {
   "codemirror_mode": {
    "name": "ipython",
    "version": 3
   },
   "file_extension": ".py",
   "mimetype": "text/x-python",
   "name": "python",
   "nbconvert_exporter": "python",
   "pygments_lexer": "ipython3",
   "version": "3.6.8"
  }
 },
 "nbformat": 4,
 "nbformat_minor": 2
}
