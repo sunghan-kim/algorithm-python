{
 "cells": [
  {
   "cell_type": "markdown",
   "metadata": {},
   "source": [
    "# 6. 병합 정렬 (Merge Sort)"
   ]
  },
  {
   "cell_type": "markdown",
   "metadata": {},
   "source": [
    "## 6.1 병합 정렬(Merge Sort) 이란?\n",
    "\n",
    "- 재귀 용법을 활용한 정렬 알고리즘  \n",
    "  \n",
    "  \n",
    "1. 리스트를 절반으로 잘라 비슷한 크기의 두 부분 리스트로 나눈다.\n",
    "2. 각 부분 리스트를 재귀적으로 합병 정렬을 이용해 정렬한다.\n",
    "3. 두 부분 리스트를 다시 하나의 정렬된 리스트로 합병한다.  \n",
    "  \n",
    "  \n",
    "- [시뮬레이션 링크](https://visualgo.net/en/sorting)\n",
    "\n",
    "<img src=\"https://upload.wikimedia.org/wikipedia/commons/c/cc/Merge-sort-example-300px.gif\" width=500/>"
   ]
  },
  {
   "cell_type": "markdown",
   "metadata": {},
   "source": [
    "<br>\n",
    "\n",
    "## 6.2 병합 정렬 알고리즘 이해"
   ]
  },
  {
   "cell_type": "markdown",
   "metadata": {},
   "source": [
    "### 6.2.1 데이터가 4개일 때\n",
    "\n",
    "- 데이터 갯수에 따라 복잡도가 떨어지는 것이 아니다.\n",
    "- 그러므로 4개로 바로 로직을 이해해본다.  \n",
    "  \n",
    "  \n",
    "- ex) `data_list = [1, 9, 2, 3]`\n",
    "  - 먼저 데이터를 `[1, 9]`, `[3, 2]`로 나눈다.\n",
    "  - 다시 앞 부분은 `[1]`, `[9]`로 나눈다.\n",
    "  - 다시 정렬해서 합친다. (`[1, 9]`)\n",
    "  - 다음 `[3, 2]`를 `[3]`, `[2]`로 나눈다.\n",
    "  - 다시 정렬해서 합친다. (`[2, 3]`)\n",
    "  - 이제 `[1, 9]`와 `[2, 3]`을 합친다.\n",
    "    - `1 < 2` $\\rightarrow$ `[1]`\n",
    "    - `2 < 9` $\\rightarrow$ `[1, 2]`\n",
    "    - `9 > 3` $\\rightarrow$ `[1, 2, 3]`\n",
    "    - `9`밖에 없음 $\\rightarrow$ `[1, 2, 3, 9]`"
   ]
  },
  {
   "cell_type": "markdown",
   "metadata": {},
   "source": [
    "<br>\n",
    "\n",
    "## 6.3 알고리즘 구현"
   ]
  },
  {
   "cell_type": "markdown",
   "metadata": {},
   "source": [
    "### 6.3.1 `mergesplit()` 함수 만들기\n",
    "\n",
    "- 리스트의 개수가 1개 $\\rightarrow$ 해당 값 리턴\n",
    "- 리스트의 개수가 1개가 아님 $\\rightarrow$ 리스트를 앞뒤, 2개로 나누기\n",
    "  - `left = mergesplit[데이터 앞]`\n",
    "  - `right = mergesplit[데이터 뒤]`\n",
    "  - `merge(left, right)`"
   ]
  },
  {
   "cell_type": "markdown",
   "metadata": {},
   "source": [
    "<br>\n",
    "\n",
    "### 6.3.2 `merge()` 함수 만들기\n",
    "\n",
    "- 리스트 변수 하나 만듬 (`sorted`)\n",
    "- `left_index, right_index = 0`\n",
    "- `while left_index < len(left) or right_index < len(right):`\n",
    "  - 만약 `left_index`나 `right_index`가 이미 `left` 또는 `right` 리스트를 다 순회했다면, 그 반대쪽 데이터를 그대로 넣고, 해당 인덱스 `1` 증가\n",
    "  - `if left[left_index] < right[right_index]:`\n",
    "    - `sorted.append(left[left_index])`\n",
    "    - `left_index += 1`\n",
    "  - `else:`\n",
    "    - `sorted.append(right[right_index])`\n",
    "    - `right_index += 1`"
   ]
  },
  {
   "cell_type": "markdown",
   "metadata": {},
   "source": [
    "<br>\n",
    "\n",
    "## 6.4 작은 부분부터 작성해서 하나씩 구현하기"
   ]
  },
  {
   "cell_type": "markdown",
   "metadata": {},
   "source": [
    "### 6.4.1 리스트 분할 함수 작성\n",
    "\n",
    "- 어떤 데이터 리스트가 있을 때 리스트를 앞뒤로 자르는 코드 작성 (일반화)"
   ]
  },
  {
   "cell_type": "code",
   "execution_count": 1,
   "metadata": {},
   "outputs": [],
   "source": [
    "def split_func(data):\n",
    "    medium = int(len(data) / 2)\n",
    "    print(medium)\n",
    "    left = data[:medium]\n",
    "    right = data[medium:]\n",
    "    print(left, right)"
   ]
  },
  {
   "cell_type": "code",
   "execution_count": 2,
   "metadata": {},
   "outputs": [
    {
     "name": "stdout",
     "output_type": "stream",
     "text": [
      "2\n",
      "[1, 5] [3, 2, 4]\n"
     ]
    }
   ],
   "source": [
    "split_func([1, 5, 3, 2, 4])"
   ]
  },
  {
   "cell_type": "markdown",
   "metadata": {},
   "source": [
    "<br>\n",
    "\n",
    "### 6.4.2 `mergesplit()` 함수 구현\n",
    "\n",
    "- 재귀용법을 활용"
   ]
  },
  {
   "cell_type": "code",
   "execution_count": 3,
   "metadata": {},
   "outputs": [],
   "source": [
    "def mergesplit(data):\n",
    "    if len(data) == 1:\n",
    "        return data\n",
    "    medium = int(len(data)/2)\n",
    "    left = data[:medium]\n",
    "    right = data[medium:]\n",
    "    return merge(left, right)"
   ]
  },
  {
   "cell_type": "markdown",
   "metadata": {},
   "source": [
    "<br>\n",
    "\n",
    "### 6.4.3 `merge()` 함수 구현\n",
    "\n",
    "- 목표 : `left`와 `right`의 리스트 데이터를 정렬해서 `sorted_list` 라는 이름으로 리턴하기\n",
    "- `left`와 `right`는 이미 정렬된 상태 또는 데이터가 하나이다."
   ]
  },
  {
   "cell_type": "markdown",
   "metadata": {},
   "source": [
    "<br>\n",
    "\n",
    "#### 6.4.3.1 구현 1"
   ]
  },
  {
   "cell_type": "code",
   "execution_count": null,
   "metadata": {},
   "outputs": [],
   "source": [
    "def merge(left, right):\n",
    "    sorted_list = []\n",
    "    left > right:\n",
    "        sorted_list = left"
   ]
  },
  {
   "cell_type": "code",
   "execution_count": null,
   "metadata": {},
   "outputs": [],
   "source": [
    "left = [0]\n",
    "right = [3]\n",
    "print(merge(left, right))"
   ]
  }
 ],
 "metadata": {
  "kernelspec": {
   "display_name": "Python 3",
   "language": "python",
   "name": "python3"
  },
  "language_info": {
   "codemirror_mode": {
    "name": "ipython",
    "version": 3
   },
   "file_extension": ".py",
   "mimetype": "text/x-python",
   "name": "python",
   "nbconvert_exporter": "python",
   "pygments_lexer": "ipython3",
   "version": "3.6.9"
  }
 },
 "nbformat": 4,
 "nbformat_minor": 4
}
