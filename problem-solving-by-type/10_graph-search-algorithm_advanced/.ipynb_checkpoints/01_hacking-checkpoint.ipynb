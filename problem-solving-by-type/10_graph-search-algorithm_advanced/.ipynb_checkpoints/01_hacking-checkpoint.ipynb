{
 "cells": [
  {
   "cell_type": "markdown",
   "metadata": {},
   "source": [
    "# 1. 해킹\n",
    "\n",
    "- 난이도 : 중(Medium)\n",
    "- 유형 : 다익스트라 최단 경로\n",
    "- 추천 풀이 시간 : 50분\n",
    "- [문제 설명 링크 : https://www.acmicpc.net/problem/10282](https://www.acmicpc.net/problem/10282)"
   ]
  },
  {
   "cell_type": "markdown",
   "metadata": {},
   "source": [
    "<br>\n",
    "\n",
    "## 1.1 문제 풀이"
   ]
  },
  {
   "cell_type": "code",
   "execution_count": 1,
   "metadata": {},
   "outputs": [
    {
     "name": "stdin",
     "output_type": "stream",
     "text": [
      " 1\n",
      " 1 1 1\n"
     ]
    }
   ],
   "source": [
    "test_case = int(input())\n",
    "\n",
    "for _ in range(test_case):\n",
    "    \n",
    "    # n : 컴퓨터 개수, d : 의존성 개수, c : 해킹당한 컴퓨터 번호\n",
    "    n, d, c = map(int, input().split())\n",
    "    "
   ]
  },
  {
   "cell_type": "markdown",
   "metadata": {},
   "source": [
    "<br>\n",
    "\n",
    "## 1.2 해설"
   ]
  },
  {
   "cell_type": "markdown",
   "metadata": {},
   "source": [
    "### 1.2.1 문제 풀이 핵심 아이디어\n",
    "\n",
    "- 기본적인 다익스트라 최단 경로 알고리즘 문제이다.\n",
    "- 도달할 수 있는 정점들의 개수와 최대 거리를 출력한다.\n",
    "- 정점의 개수 N이 최대 10,000이고, 간선의 개수 D는 최대 100,000이다.\n",
    "- 우선순위 큐를 이용하여 시간 복잡도는 $O \\left( N log D \\right)$로 해결할 수 있다."
   ]
  },
  {
   "cell_type": "markdown",
   "metadata": {},
   "source": [
    "<br>\n",
    "\n",
    "### 1.2.2 그림으로 보는 예제\n",
    "\n",
    "- 정점 개수 = 3, 간선 개수 = 3, 시작 정점 번호 = 1"
   ]
  },
  {
   "cell_type": "markdown",
   "metadata": {},
   "source": [
    "<br>\n",
    "\n",
    "### 1.2.3 해설 코드"
   ]
  },
  {
   "cell_type": "code",
   "execution_count": 2,
   "metadata": {},
   "outputs": [
    {
     "name": "stdin",
     "output_type": "stream",
     "text": [
      " 2\n",
      " 3 2 2\n",
      " 2 1 5\n",
      " 3 2 5\n"
     ]
    },
    {
     "name": "stdout",
     "output_type": "stream",
     "text": [
      "2 5\n"
     ]
    },
    {
     "name": "stdin",
     "output_type": "stream",
     "text": [
      " 3 3 1\n",
      " 2 1 2\n",
      " 3 1 8\n",
      " 3 2 4\n"
     ]
    },
    {
     "name": "stdout",
     "output_type": "stream",
     "text": [
      "3 6\n"
     ]
    }
   ],
   "source": [
    "import heapq # 우선순위 큐를 활용하기 위해 heapq 라이브러리 사용\n",
    "import sys\n",
    "#input = sys.stdin.readline\n",
    "\n",
    "def dijkstra(start):\n",
    "    heap_data = []\n",
    "    heapq.heappush(heap_data, (0, start)) # (cost, node)\n",
    "    distance[start] = 0\n",
    "    \n",
    "    while heap_data:\n",
    "        dist, now = heapq.heappop(heap_data)\n",
    "        if distance[now] < dist:\n",
    "            continue\n",
    "        \n",
    "        for i in adj[now]:\n",
    "            cost = dist + i[1]\n",
    "            if distance[i[0]] > cost:\n",
    "                distance[i[0]] = cost\n",
    "                heapq.heappush(heap_data, (cost, i[0]))\n",
    "    \n",
    "for _ in range(int(input())):\n",
    "    n, m, start = map(int, input().split())\n",
    "    adj = [[] for i in range(n+1)]\n",
    "    distance = [1e9] * (n+1) # 1e9 = 10^9 : INF\n",
    "    \n",
    "    for _ in range(m):\n",
    "        x, y, cost = map(int, input().split())\n",
    "        adj[y].append((x, cost))\n",
    "    \n",
    "    dijkstra(start)\n",
    "    \n",
    "    count = 0\n",
    "    max_distance = 0\n",
    "    \n",
    "    for i in distance:\n",
    "        if i != 1e9:\n",
    "            count += 1\n",
    "            if i > max_distance:\n",
    "                max_distance = i\n",
    "    \n",
    "    print(count, max_distance)"
   ]
  },
  {
   "cell_type": "markdown",
   "metadata": {},
   "source": [
    "<br>\n",
    "\n",
    "## 1.3 코드 리펙토링"
   ]
  },
  {
   "cell_type": "code",
   "execution_count": 3,
   "metadata": {},
   "outputs": [
    {
     "name": "stdin",
     "output_type": "stream",
     "text": [
      " 2\n",
      " 3 2 2\n",
      " 2 1 5\n",
      " 3 2 5\n"
     ]
    },
    {
     "name": "stdout",
     "output_type": "stream",
     "text": [
      "2 5\n"
     ]
    },
    {
     "name": "stdin",
     "output_type": "stream",
     "text": [
      " 3 3 1\n",
      " 2 1 2\n",
      " 3 1 8\n",
      " 3 2 4\n"
     ]
    },
    {
     "name": "stdout",
     "output_type": "stream",
     "text": [
      "3 6\n"
     ]
    }
   ],
   "source": [
    "import heapq\n",
    "\n",
    "def dijkstra(start):\n",
    "    queue = []\n",
    "    heapq.heappush(queue, (0, start))\n",
    "    distances[start] = 0\n",
    "    \n",
    "    while queue:\n",
    "        distance, node = heapq.heappop(queue)\n",
    "        if distances[node] < distance:\n",
    "            continue\n",
    "        for next_node, next_distance in graph[node]:\n",
    "            new_distance = distance + next_distance\n",
    "            if new_distance < distances[next_node]:\n",
    "                distances[next_node] = new_distance\n",
    "                heapq.heappush(queue, (new_distance, next_node))\n",
    "    \n",
    "test_case = int(input())\n",
    "\n",
    "for _ in range(test_case):\n",
    "    n, d, c = map(int, input().split())\n",
    "    graph = [[] for _ in range(n+1)]\n",
    "    distances = [1e9] * (n+1)\n",
    "    \n",
    "    for _ in range(d):\n",
    "        a, b, s = map(int, input().split())\n",
    "        graph[b].append((a, s))\n",
    "        \n",
    "    dijkstra(c)\n",
    "    \n",
    "    count = 0\n",
    "    max_distance = 0\n",
    "    \n",
    "    for distance in distances:\n",
    "        if distance != 1e9:\n",
    "            count += 1\n",
    "            if max_distance < distance:\n",
    "                max_distance = distance\n",
    "                \n",
    "    print(count, max_distance)"
   ]
  }
 ],
 "metadata": {
  "kernelspec": {
   "display_name": "Python 3",
   "language": "python",
   "name": "python3"
  },
  "language_info": {
   "codemirror_mode": {
    "name": "ipython",
    "version": 3
   },
   "file_extension": ".py",
   "mimetype": "text/x-python",
   "name": "python",
   "nbconvert_exporter": "python",
   "pygments_lexer": "ipython3",
   "version": "3.6.9"
  }
 },
 "nbformat": 4,
 "nbformat_minor": 4
}
