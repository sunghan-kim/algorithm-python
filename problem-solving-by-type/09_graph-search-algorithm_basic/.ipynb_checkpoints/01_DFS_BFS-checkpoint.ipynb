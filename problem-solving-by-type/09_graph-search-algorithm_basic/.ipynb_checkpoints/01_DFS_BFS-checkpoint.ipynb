{
 "cells": [
  {
   "cell_type": "markdown",
   "metadata": {},
   "source": [
    "### 1. DFS와 BFS\n",
    "\n",
    "- 난이도 : 하(Easy)\n",
    "- 유형 : DFS, BFS\n",
    "- 추천 풀이 시간 : 30분\n",
    "- [문제 설명 링크 : https://www.acmicpc.net/problem/1260](https://www.acmicpc.net/problem/1260)"
   ]
  },
  {
   "cell_type": "markdown",
   "metadata": {},
   "source": [
    "<br>\n",
    "\n",
    "## 1.1 풀이\n",
    "\n",
    "- 성공"
   ]
  },
  {
   "cell_type": "code",
   "execution_count": 26,
   "metadata": {},
   "outputs": [
    {
     "name": "stdin",
     "output_type": "stream",
     "text": [
      " 4 5 1\n",
      " 1 2\n",
      " 1 3\n",
      " 1 4\n",
      " 2 4\n",
      " 3 4\n"
     ]
    },
    {
     "name": "stdout",
     "output_type": "stream",
     "text": [
      "1 2 4 3\n",
      "1 2 3 4\n"
     ]
    }
   ],
   "source": [
    "def dfs(adj, start_node):\n",
    "    visited = list()\n",
    "    need_visit = list()\n",
    "    \n",
    "    need_visit.append(start_node)\n",
    "    \n",
    "    for i in range(len(adj)):\n",
    "        adj[i] = sorted(adj[i], reverse=True)\n",
    "    \n",
    "    while need_visit:\n",
    "        node = need_visit.pop()\n",
    "        if node not in visited:\n",
    "            visited.append(node)\n",
    "            need_visit.extend(adj[node])\n",
    "            \n",
    "    return visited        \n",
    "\n",
    "def bfs(adj, start_node):\n",
    "    visited = list()\n",
    "    need_visit = list()\n",
    "    \n",
    "    need_visit.append(start_node)\n",
    "    \n",
    "    for i in range(len(adj)):\n",
    "        adj[i] = sorted(adj[i])\n",
    "    \n",
    "    while need_visit:\n",
    "        node = need_visit.pop(0)\n",
    "        if node not in visited:\n",
    "            visited.append(node)\n",
    "            need_visit.extend(adj[node])\n",
    "            \n",
    "    return visited\n",
    "\n",
    "n, m, v = map(int, input().split())\n",
    "graph = dict()\n",
    "graph[0] = []\n",
    "\n",
    "for i in range(1, n+1):\n",
    "    graph[i] = []\n",
    "    \n",
    "for _ in range(m):\n",
    "    v1, v2 = map(int, input().split())\n",
    "    graph[v1].append(v2)\n",
    "    graph[v2].append(v1)\n",
    "    \n",
    "dfs_result = ' '.join(map(str, dfs(graph, v)))\n",
    "bfs_result = ' '.join(map(str, bfs(graph, v)))\n",
    "print(dfs_result)\n",
    "print(bfs_result)"
   ]
  },
  {
   "cell_type": "markdown",
   "metadata": {},
   "source": [
    "<br>\n",
    "\n",
    "## 1.2 해설"
   ]
  },
  {
   "cell_type": "markdown",
   "metadata": {},
   "source": [
    "### 1.2.1 해설 내용\n",
    "\n",
    "- 기본적인 형태의 그래프를 단순히 DFS와 BFS로 탐색한다.\n",
    "- 이 문제에서는 *정점 번호가 작은 것*을 먼저 방문해야 한다.\n",
    "- 모든 노드와 간선을 차례대로 조회하여 **O(N+M)**의 시간 복잡도로 문제를 해결해야 한다.\n",
    "- 국내 코딩 테스트 합격을 위해서는 이 문제를 매우 빠르게 풀 수 있도록 숙달할 필요가 있다.\n",
    "- 큐(Queue) 구현을 위해 collections 라이브러리의 `deque`를 사용한다."
   ]
  },
  {
   "cell_type": "markdown",
   "metadata": {},
   "source": [
    "- ex) 정점 개수 = 4, 간선 개수 = 5, 시작 정점 번호 = 1\n",
    "\n",
    "<img src=\"./img/01_01.jpg\" style=\"width: 200px; margin-left: 25px\" />"
   ]
  },
  {
   "cell_type": "markdown",
   "metadata": {},
   "source": [
    "<br>\n",
    "\n",
    "### 1.2.2 해설 코드"
   ]
  },
  {
   "cell_type": "code",
   "execution_count": 29,
   "metadata": {},
   "outputs": [
    {
     "name": "stdin",
     "output_type": "stream",
     "text": [
      " 4 5 1\n",
      " 1 2\n",
      " 1 3\n",
      " 1 4\n",
      " 2 4\n",
      " 3 4\n"
     ]
    },
    {
     "name": "stdout",
     "output_type": "stream",
     "text": [
      "1 2 4 3 \n",
      "1 2 3 4 "
     ]
    }
   ],
   "source": [
    "from collections import deque\n",
    "\n",
    "def dfs(v):\n",
    "    print(v, end=' ')\n",
    "    visited[v] = True\n",
    "    for e in adj[v]:\n",
    "        if not (visited[e]):\n",
    "            dfs(e)\n",
    "\n",
    "def bfs(v):\n",
    "    q = deque([v])\n",
    "    while q:\n",
    "        v = q.popleft()\n",
    "        if not (visited[v]):\n",
    "            visited[v] = True\n",
    "            print(v, end=' ')\n",
    "            for e in adj[v]:\n",
    "                if not visited[e]:\n",
    "                    q.append(e)\n",
    "            \n",
    "n, m, v = map(int, input().split())\n",
    "adj = [[] for _ in range(n+1)]\n",
    "\n",
    "for _ in range(m):\n",
    "    x, y = map(int, input().split())\n",
    "    adj[x].append(y)\n",
    "    adj[y].append(x)\n",
    "    \n",
    "for e in adj:\n",
    "    e.sort()\n",
    "    \n",
    "visited = [False] * (n+1)\n",
    "dfs(v)\n",
    "print()\n",
    "visited = [False] * (n+1)\n",
    "bfs(v)"
   ]
  },
  {
   "cell_type": "code",
   "execution_count": null,
   "metadata": {},
   "outputs": [],
   "source": []
  }
 ],
 "metadata": {
  "kernelspec": {
   "display_name": "Python 3",
   "language": "python",
   "name": "python3"
  },
  "language_info": {
   "codemirror_mode": {
    "name": "ipython",
    "version": 3
   },
   "file_extension": ".py",
   "mimetype": "text/x-python",
   "name": "python",
   "nbconvert_exporter": "python",
   "pygments_lexer": "ipython3",
   "version": "3.6.9"
  }
 },
 "nbformat": 4,
 "nbformat_minor": 4
}
