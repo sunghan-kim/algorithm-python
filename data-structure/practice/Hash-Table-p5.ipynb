{
 "cells": [
  {
   "cell_type": "markdown",
   "metadata": {},
   "source": [
    "# 5. 해쉬 테이블 자료구조의 시간 복잡도"
   ]
  },
  {
   "cell_type": "markdown",
   "metadata": {},
   "source": [
    "## 5.1 일반적인 경우\n",
    "\n",
    "- 충돌(Collision)이 없는 경우\n",
    "- 시간 복잡도 = $O(1)$\n",
    "\n",
    "- 일반적인 경우의 시간 복잡도를 기대하고 해쉬 테이블을 사용한다."
   ]
  },
  {
   "cell_type": "markdown",
   "metadata": {},
   "source": [
    "<br>\n",
    "\n",
    "## 5.2 최악의 경우\n",
    "\n",
    "- 충돌(Collision)이 모두 발생하는 경우\n",
    "- 시간 복잡도 = $O(n)$"
   ]
  },
  {
   "cell_type": "markdown",
   "metadata": {},
   "source": [
    "<br>\n",
    "\n",
    "## 5.3 배열의 시간 복잡도 vs 해쉬 테이블의 시간 복잡도"
   ]
  },
  {
   "cell_type": "markdown",
   "metadata": {},
   "source": [
    "### 5.3.1 배열의 시간 복잡도\n",
    "\n",
    "- 16개의 배열에 데이터를 저장하고, 검색\n",
    "- 시간 복잡도 = $O(n)$"
   ]
  },
  {
   "cell_type": "markdown",
   "metadata": {},
   "source": [
    "<br>\n",
    "\n",
    "### 5.3.2 해쉬 테이블의 시간 복잡도\n",
    "\n",
    "- 16개의 데이터 저장 공간을 가진 해쉬 테이블에 데이터를 저장하고, 검색\n",
    "- 시간 복잡도 = $O(1)$"
   ]
  }
 ],
 "metadata": {
  "kernelspec": {
   "display_name": "Python 3",
   "language": "python",
   "name": "python3"
  },
  "language_info": {
   "codemirror_mode": {
    "name": "ipython",
    "version": 3
   },
   "file_extension": ".py",
   "mimetype": "text/x-python",
   "name": "python",
   "nbconvert_exporter": "python",
   "pygments_lexer": "ipython3",
   "version": "3.6.9"
  }
 },
 "nbformat": 4,
 "nbformat_minor": 4
}
