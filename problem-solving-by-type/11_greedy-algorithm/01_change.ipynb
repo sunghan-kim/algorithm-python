{
 "cells": [
  {
   "cell_type": "markdown",
   "metadata": {},
   "source": [
    "# 1. 거스름돈\n",
    "\n",
    "- 난이도 : 하(Easy)\n",
    "- 유형 : 그리디\n",
    "- 추천 풀이 시간 : 10분\n",
    "- [문제 설명 링크 : https://www.acmicpc.net/problem/5585](https://www.acmicpc.net/problem/5585)"
   ]
  },
  {
   "cell_type": "markdown",
   "metadata": {},
   "source": [
    "<br>\n",
    "\n",
    "## 1.1 문제 풀이\n",
    "\n",
    "- 성공"
   ]
  },
  {
   "cell_type": "code",
   "execution_count": 1,
   "metadata": {},
   "outputs": [
    {
     "name": "stdin",
     "output_type": "stream",
     "text": [
      " 380\n"
     ]
    },
    {
     "name": "stdout",
     "output_type": "stream",
     "text": [
      "4\n"
     ]
    }
   ],
   "source": [
    "coin_list = [500, 100, 50, 10, 5, 1] # coin_list.sort(reverse=True)\n",
    "payment = 1000\n",
    "value = int(input())\n",
    "change = payment - value\n",
    "coin_cnt = 0\n",
    "for coin in coin_list:\n",
    "    num = change // coin\n",
    "    coin_cnt += num\n",
    "    change -= coin * num\n",
    "print(coin_cnt)"
   ]
  },
  {
   "cell_type": "markdown",
   "metadata": {},
   "source": [
    "<br>\n",
    "\n",
    "## 1.2 해설"
   ]
  },
  {
   "cell_type": "markdown",
   "metadata": {},
   "source": [
    "### 1.2.1 문제 풀이 핵심 아이디어\n",
    "\n",
    "- 거스름돈의 최소 개수를 계산해야 한다.\n",
    "- 가장 기초적인 탐욕 알고리즘 문제 유형이다.\n",
    "- 단순히 '큰 화폐 단위' 순서대로 잔돈을 거슬러 주면 최적의 해를 얻을 수 있다."
   ]
  },
  {
   "cell_type": "markdown",
   "metadata": {},
   "source": [
    "<br>\n",
    "\n",
    "### 1.2.2 그림을 통한 예시 확인\n",
    "\n",
    "- 지불 금액 : 1000\n",
    "- 물건의 가치 : 380\n",
    "- **거슬러 줄 돈 : 1000 - 380 = 620**\n",
    "\n",
    "<img src=\"./img/01_01.jpg\" style=\"width: 400px; margin-left: 25px\" />"
   ]
  },
  {
   "cell_type": "markdown",
   "metadata": {},
   "source": [
    "- 거스름돈 500 1개 사용\n",
    "  - 거슬러 줄 돈 : 620 - 500 = 120\n",
    "  - 거스름 돈의 개수 : 1\n",
    "  \n",
    "<img src=\"./img/01_02.jpg\" style=\"width: 400px; margin-left: 25px\" />"
   ]
  },
  {
   "cell_type": "markdown",
   "metadata": {},
   "source": [
    "- 거스름돈 100 1개 사용\n",
    "  - 거슬러 줄 돈 : 120 - 100 = 20\n",
    "  - 거스름 돈의 개수 : 2\n",
    "  \n",
    "<img src=\"./img/01_03.jpg\" style=\"width: 400px; margin-left: 25px\" />"
   ]
  },
  {
   "cell_type": "markdown",
   "metadata": {},
   "source": [
    "- 거스름돈 50 1개 사용\n",
    "  - 거스름돈의 금액보다 거슬러 줄 돈이 더 적으므로 통과\n",
    "  - 거스름 돈의 개수 : 2\n",
    "  \n",
    "<img src=\"./img/01_04.jpg\" style=\"width: 400px; margin-left: 25px\" />"
   ]
  },
  {
   "cell_type": "markdown",
   "metadata": {},
   "source": [
    "- 거스름돈 10 2개 사용\n",
    "  - 거슬러 줄 돈 : 20 - 20 = 0\n",
    "  - 거스름 돈의 개수 : 4\n",
    "  \n",
    "<img src=\"./img/01_05.jpg\" style=\"width: 400px; margin-left: 25px\" />"
   ]
  },
  {
   "cell_type": "markdown",
   "metadata": {},
   "source": [
    "<br>\n",
    "\n",
    "### 1.2.3 해설 코드"
   ]
  },
  {
   "cell_type": "code",
   "execution_count": 2,
   "metadata": {},
   "outputs": [
    {
     "name": "stdin",
     "output_type": "stream",
     "text": [
      " 380\n"
     ]
    },
    {
     "name": "stdout",
     "output_type": "stream",
     "text": [
      "4\n"
     ]
    }
   ],
   "source": [
    "changes = 1000 - int(input())\n",
    "count = 0\n",
    "\n",
    "for i in [500, 100, 50, 10, 5, 1]:\n",
    "    count += changes // i\n",
    "    changes %= i\n",
    "    \n",
    "print(count)"
   ]
  }
 ],
 "metadata": {
  "kernelspec": {
   "display_name": "Python 3",
   "language": "python",
   "name": "python3"
  },
  "language_info": {
   "codemirror_mode": {
    "name": "ipython",
    "version": 3
   },
   "file_extension": ".py",
   "mimetype": "text/x-python",
   "name": "python",
   "nbconvert_exporter": "python",
   "pygments_lexer": "ipython3",
   "version": "3.6.9"
  }
 },
 "nbformat": 4,
 "nbformat_minor": 4
}
