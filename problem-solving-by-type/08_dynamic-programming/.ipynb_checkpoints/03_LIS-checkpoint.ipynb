{
 "cells": [
  {
   "cell_type": "markdown",
   "metadata": {},
   "source": [
    "# 3. 가장 긴 증가하는 부분 수열\n",
    "\n",
    "- 난이도 : 하(Easy)\n",
    "- 유형 : 동적 프로그래밍, LIS(Longest Increasing Subsequence)\n",
    "- 추천 풀이 시간 : 30분\n",
    "- [문제 설명 링크 : https://www.acmicpc.net/problem/11053](https://www.acmicpc.net/problem/11053)"
   ]
  },
  {
   "cell_type": "markdown",
   "metadata": {},
   "source": [
    "<br>\n",
    "\n",
    "## 3.1 풀이"
   ]
  },
  {
   "cell_type": "markdown",
   "metadata": {},
   "source": [
    "### 3.1.1 풀이 1\n",
    "\n",
    "틀림"
   ]
  },
  {
   "cell_type": "code",
   "execution_count": 6,
   "metadata": {},
   "outputs": [
    {
     "name": "stdin",
     "output_type": "stream",
     "text": [
      " 6\n",
      " 10 20 10 30 20 50\n"
     ]
    },
    {
     "name": "stdout",
     "output_type": "stream",
     "text": [
      "4\n"
     ]
    }
   ],
   "source": [
    "n = int(input())\n",
    "\n",
    "A = [int(a) for a in input().split()]\n",
    "\n",
    "result = []\n",
    "lastVal = 0\n",
    "\n",
    "for i in range(n):\n",
    "    tempVal = A[i]\n",
    "    if tempVal > lastVal:\n",
    "        result.append(tempVal)\n",
    "        lastVal = tempVal\n",
    "        \n",
    "print(len(result))"
   ]
  },
  {
   "cell_type": "markdown",
   "metadata": {},
   "source": [
    "<br>\n",
    "\n",
    "### 3.1.2 풀이 2\n",
    "\n",
    "틀림"
   ]
  },
  {
   "cell_type": "code",
   "execution_count": 16,
   "metadata": {},
   "outputs": [
    {
     "name": "stdin",
     "output_type": "stream",
     "text": [
      " 6\n",
      " 10 20 10 30 20 50\n"
     ]
    },
    {
     "name": "stdout",
     "output_type": "stream",
     "text": [
      "4\n"
     ]
    }
   ],
   "source": [
    "n = int(input())\n",
    "\n",
    "A = [int(a) for a in input().split()]\n",
    "\n",
    "result = []\n",
    "        \n",
    "for i in range(n-2):\n",
    "    tempResult = [A[i]]\n",
    "    for j in range(i, n-1):\n",
    "        if A[j] < A[j+1]:\n",
    "            tempResult.append(A[j+1])\n",
    "    if sum(result) < sum(tempResult):\n",
    "        result = tempResult\n",
    "        \n",
    "print(len(result))"
   ]
  },
  {
   "cell_type": "markdown",
   "metadata": {},
   "source": [
    "<br>\n",
    "\n",
    "### 3.1.3 풀이 3\n",
    "\n",
    "- 틀림"
   ]
  },
  {
   "cell_type": "code",
   "execution_count": 18,
   "metadata": {},
   "outputs": [
    {
     "name": "stdin",
     "output_type": "stream",
     "text": [
      " 6\n",
      " 10 20 10 30 20 50\n"
     ]
    },
    {
     "name": "stdout",
     "output_type": "stream",
     "text": [
      "4\n"
     ]
    }
   ],
   "source": [
    "n = int(input())\n",
    "\n",
    "A = [int(a) for a in input().split()]\n",
    "\n",
    "result = []\n",
    "        \n",
    "for i in range(n-2):\n",
    "    tempResult = [A[i]]\n",
    "    for j in range(i, n-1):\n",
    "        if A[j] < A[j+1]:\n",
    "            tempResult.append(A[j+1])\n",
    "    if len(result) < len(tempResult):\n",
    "        result = tempResult\n",
    "        \n",
    "print(len(result))"
   ]
  },
  {
   "cell_type": "markdown",
   "metadata": {},
   "source": [
    "<br>\n",
    "\n",
    "## 3.2 해설"
   ]
  },
  {
   "cell_type": "markdown",
   "metadata": {},
   "source": [
    "### 3.2.1 해설 내용\n",
    "\n",
    "- 가장 긴 증가하는 부분 수열(LIS) 문제는 전형적인 동적 프로그래밍 문제이다.\n",
    "- 수열의 크기가 N일 때, 기본적인 동적 프로그래밍 알고리즘으로 $O\\left(N^2\\right)$에 해결할 수 있다."
   ]
  },
  {
   "cell_type": "markdown",
   "metadata": {},
   "source": [
    "- $D[i] = array[i]$를 마지막 원소로 가지는 부분 수열의 최대 길이\n",
    "- 모든 $0 \\leq j \\lt i$에 대하여, $D[i] = max(D[i], D[j]+1) \\; \\text{ if } array[j] < array[i]$"
   ]
  },
  {
   "cell_type": "markdown",
   "metadata": {},
   "source": [
    "- N = 6 일 때, 예시 수열에 대하여 다음과 같이 계산할 수 있다."
   ]
  },
  {
   "cell_type": "markdown",
   "metadata": {},
   "source": [
    "<br>\n",
    "\n",
    "**초기화**\n",
    "\n",
    "<img src=\"./img/03_01.jpg\" style=\"width: 600px; margin-left: 25px\" />\n",
    "\n",
    "- 모든 원소들은 그 자체로 길이가 1이기 때문에 모든 값을 1로 초기화해준다."
   ]
  },
  {
   "cell_type": "markdown",
   "metadata": {},
   "source": [
    "<br>\n",
    "\n",
    "**i=1**\n",
    "\n",
    "<img src=\"./img/03_02.jpg\" style=\"width: 600px; margin-left: 25px\" />\n",
    "\n",
    "- i=1 일 때, j는 0 이 된다.\n",
    "- array\\[i\\](=20) > array\\[j\\](=10) 이기 때문에 dp\\[i\\]를 dp\\[i\\](=1)와 dp[j]+1(=1+1=2) 중 큰 값(2)으로 치환한다."
   ]
  },
  {
   "cell_type": "markdown",
   "metadata": {},
   "source": [
    "<br>\n",
    "\n",
    "**i=2**\n",
    "\n",
    "<img src=\"./img/03_03.jpg\" style=\"width: 600px; margin-left: 25px\" />\n",
    "\n",
    "- i=2 일 때, j는 0, 1 이 된다.\n",
    "- i=2, j=0\n",
    "  - array\\[i\\](=10) == array\\[j\\](=10) 이기 때문에 dp[i]의 값을 그대로 유지한다.\n",
    "- i=2, j=1\n",
    "  - array\\[i\\](=10) < array\\[j\\](=20) 이기 때문에 dp[i]의 값을 그대로 유지한다.  "
   ]
  },
  {
   "cell_type": "markdown",
   "metadata": {},
   "source": [
    "<br>\n",
    "\n",
    "**i=3**\n",
    "\n",
    "<img src=\"./img/03_04.jpg\" style=\"width: 600px; margin-left: 25px\" />\n",
    "\n",
    "- i=3 일 때, j는 0, 1, 2 이 된다.\n",
    "- i=3, j=0\n",
    "  - array\\[i\\](=30) > array\\[j\\](=10) 이기 때문에 dp\\[i\\]의 값을 dp\\[i\\](=1)와 dp[j]+1(=1+1=2) 중 큰 값(2)으로 치환한다.\n",
    "- i=3, j=1\n",
    "  - array\\[i\\](=30) > array\\[j\\](=20) 이기 때문에 dp\\[i\\]의 값을 dp\\[i\\](=2)와 dp[j]+1(=2+1=3) 중 큰 값(3)으로 치환한다.\n",
    "- i=3, j=2\n",
    "  - array\\[i\\](=30) > array\\[j\\](=10) 이기 때문에 dp\\[i\\]의 값을 dp\\[i\\](=3)와 dp[j]+1(=1+1=2) 중 큰 값(3)으로 치환한다."
   ]
  },
  {
   "cell_type": "markdown",
   "metadata": {},
   "source": [
    "<br>\n",
    "\n",
    "**i=4**\n",
    "\n",
    "<img src=\"./img/03_05.jpg\" style=\"width: 600px; margin-left: 25px\" />\n",
    "\n",
    "- i=4 일 때, j는 0, 1, 2, 3 이 된다.\n",
    "- i=4, j=0\n",
    "  - array\\[i\\](=20) > array\\[j\\](=10) 이기 때문에 dp\\[i\\]의 값을 dp\\[i\\](=1)와 dp[j]+1(=1+1=2) 중 큰 값(2)으로 치환한다.\n",
    "- i=4, j=1\n",
    "  - array\\[i\\](=20) == array\\[j\\](=20) 이기 때문에 dp\\[i\\]의 값(2)을 그대로 유지한다.\n",
    "- i=4, j=2\n",
    "  - array\\[i\\](=20) > array\\[j\\](=10) 이기 때문에 dp\\[i\\]의 값을 dp\\[i\\](=2)와 dp[j]+1(=1+1=2) 중 큰 값(2)으로 치환한다.\n",
    "- i=4, j=3\n",
    "  - array\\[i\\](=20) < array\\[j\\](=30) 이기 때문에 dp\\[i\\]의 값(2)을 그대로 유지한다."
   ]
  },
  {
   "cell_type": "markdown",
   "metadata": {},
   "source": [
    "<br>\n",
    "\n",
    "**i=5**\n",
    "\n",
    "<img src=\"./img/03_06.jpg\" style=\"width: 600px; margin-left: 25px\" />\n",
    "\n",
    "- i=5 일 때, j는 0, 1, 2, 3, 4 이 된다.\n",
    "- i=5, j=0\n",
    "  - array\\[i\\](=50) > array\\[j\\](=10) 이기 때문에 dp\\[i\\]의 값을 dp\\[i\\](=1)와 dp[j]+1(=1+1=2) 중 큰 값(2)으로 치환한다.\n",
    "- i=5, j=1\n",
    "  - array\\[i\\](=50) > array\\[j\\](=20) 이기 때문에 dp\\[i\\]의 값을 dp\\[i\\](=2)와 dp[j]+1(=2+1=3) 중 큰 값(3)으로 치환한다.\n",
    "- i=5, j=2\n",
    "  - array\\[i\\](=50) > array\\[j\\](=10) 이기 때문에 dp\\[i\\]의 값을 dp\\[i\\](=3)와 dp[j]+1(=1+1=2) 중 큰 값(3)으로 치환한다.\n",
    "- i=5, j=3\n",
    "  - array\\[i\\](=50) > array\\[j\\](=30) 이기 때문에 dp\\[i\\]의 값을 dp\\[i\\](=3)와 dp[j]+1(=3+1=4) 중 큰 값(4)으로 치환한다.\n",
    "- i=5, j=4\n",
    "  - array\\[i\\](=50) > array\\[j\\](=20) 이기 때문에 dp\\[i\\]의 값을 dp\\[i\\](=4)와 dp[j]+1(=2+1=3) 중 큰 값(4)으로 치환한다."
   ]
  },
  {
   "cell_type": "markdown",
   "metadata": {},
   "source": [
    "<br>\n",
    "\n",
    "### 3.2.2 해설 코드"
   ]
  },
  {
   "cell_type": "code",
   "execution_count": 19,
   "metadata": {},
   "outputs": [
    {
     "name": "stdin",
     "output_type": "stream",
     "text": [
      " 6\n",
      " 10 20 10 30 20 50\n"
     ]
    },
    {
     "name": "stdout",
     "output_type": "stream",
     "text": [
      "4\n"
     ]
    }
   ],
   "source": [
    "n = int(input())\n",
    "array = list(map(int, input().split()))\n",
    "dp = [1] * n\n",
    "\n",
    "for i in range(1, n):\n",
    "    for j in range(0, i):\n",
    "        if array[j] < array[i]:\n",
    "            dp[i] = max(dp[i], dp[j]+1)\n",
    "            \n",
    "print(max(dp))"
   ]
  }
 ],
 "metadata": {
  "kernelspec": {
   "display_name": "Python 3",
   "language": "python",
   "name": "python3"
  },
  "language_info": {
   "codemirror_mode": {
    "name": "ipython",
    "version": 3
   },
   "file_extension": ".py",
   "mimetype": "text/x-python",
   "name": "python",
   "nbconvert_exporter": "python",
   "pygments_lexer": "ipython3",
   "version": "3.6.9"
  }
 },
 "nbformat": 4,
 "nbformat_minor": 4
}
