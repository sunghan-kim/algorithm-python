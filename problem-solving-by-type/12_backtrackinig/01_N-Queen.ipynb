{
 "cells": [
  {
   "cell_type": "markdown",
   "metadata": {},
   "source": [
    "# 1. N-Queen\n",
    "\n",
    "- 난이도 : 중(Medium)\n",
    "- 유형 : 백트래킹\n",
    "- 추천 풀이 시간 : 40분\n",
    "- [문제 설명 링크 : https://www.acmicpc.net/problem/9663](https://www.acmicpc.net/problem/9663)"
   ]
  },
  {
   "cell_type": "markdown",
   "metadata": {},
   "source": [
    "<br>\n",
    "\n",
    "## 1.1 문제 풀이\n",
    "\n",
    "- 시간 초과"
   ]
  },
  {
   "cell_type": "code",
   "execution_count": 7,
   "metadata": {},
   "outputs": [
    {
     "name": "stdin",
     "output_type": "stream",
     "text": [
      " 8\n"
     ]
    },
    {
     "name": "stdout",
     "output_type": "stream",
     "text": [
      "92\n"
     ]
    }
   ],
   "source": [
    "def is_available(candidate, current_col):\n",
    "    current_row = len(candidate)\n",
    "    for queen_row in range(current_row):\n",
    "        # 수직 체크\n",
    "        if candidate[queen_row] == current_col or \\\n",
    "        abs(candidate[queen_row] - current_col) == current_row - queen_row: # 대각선 체크\n",
    "            return False\n",
    "    return True\n",
    "\n",
    "def DFS(N, current_row, current_candidate, final_result):\n",
    "    if current_row == N:\n",
    "        final_result.append(current_candidate[:])\n",
    "        return\n",
    "    \n",
    "    for candidate_col in range(N):\n",
    "        # 가지치기(pruning) 실행\n",
    "        if is_available(current_candidate, candidate_col):\n",
    "            current_candidate.append(candidate_col)\n",
    "            DFS(N, current_row+1, current_candidate, final_result)\n",
    "            # 백트래킹\n",
    "            current_candidate.pop()\n",
    "            \n",
    "\n",
    "N = int(input())\n",
    "final_result = []\n",
    "\n",
    "DFS(N, 0, [], final_result)\n",
    "\n",
    "print(len(final_result))"
   ]
  },
  {
   "cell_type": "markdown",
   "metadata": {},
   "source": [
    "<br>\n",
    "\n",
    "## 1.2 해설"
   ]
  },
  {
   "cell_type": "markdown",
   "metadata": {},
   "source": [
    "### 1.2.1 문제 풀이 핵심 아이디어\n",
    "\n",
    "- N x N 크기의 체스 보드 위에 퀸(Queen) N개를 서로 공격할 수 없게 배치시켜야 한다.\n",
    "- 대표적인 백트래킹(Backtracking) 문제이다.\n",
    "- N = 4 일 때는, 다음과 같은 경우가 존재한다.\n",
    "- DFS를 이용하여 간단히 백트래킹 알고리즘을 구현할 수 있다.\n",
    "\n",
    "<img src=\"./img/01_01.jpg\" style=\"width: 200px; margin-left: 25px\" />"
   ]
  },
  {
   "cell_type": "markdown",
   "metadata": {},
   "source": [
    "<br>\n",
    "\n",
    "### 1.2.2 그림을 통한 예시"
   ]
  },
  {
   "cell_type": "markdown",
   "metadata": {},
   "source": [
    "- 각 행을 차례대로 확인하면서, 각 열에 퀸(Queen)을 놓는 경우를 고려한다.\n",
    "\n",
    "<img src=\"./img/01_02.jpg\" style=\"width: 200px; margin-left: 25px\" />"
   ]
  },
  {
   "cell_type": "markdown",
   "metadata": {},
   "source": [
    "- 이 때 위쪽 행을 모두 확인하며, 현재 위치에 놓을 수 있는 지 확인한다.\n",
    "\n",
    "<img src=\"./img/01_03.jpg\" style=\"width: 200px; margin-left: 25px\" />"
   ]
  },
  {
   "cell_type": "markdown",
   "metadata": {},
   "source": [
    "<br>\n",
    "\n",
    "### 1.2.3 해설 코드"
   ]
  },
  {
   "cell_type": "code",
   "execution_count": 8,
   "metadata": {},
   "outputs": [
    {
     "name": "stdin",
     "output_type": "stream",
     "text": [
      " 8\n"
     ]
    },
    {
     "name": "stdout",
     "output_type": "stream",
     "text": [
      "92\n"
     ]
    }
   ],
   "source": [
    "# x번 째 행에 놓은 Queen에 대해서 검증\n",
    "def check(x):\n",
    "    # 이전 행에서 놓았던 모든 Queen들을 확인\n",
    "    for i in range(x):\n",
    "        # 위쪽 혹은 대각선을 확인\n",
    "        if row[x] == row[i]:\n",
    "            return False\n",
    "        if abs(row[x] - row[i]) == x - i:\n",
    "            return False\n",
    "    return True\n",
    "\n",
    "# x번 째 행에 대하여 처리\n",
    "def dfs(x):\n",
    "    global result\n",
    "    if x == n:\n",
    "        result += 1\n",
    "    else:\n",
    "        # x번 째 행의 각 열에 Queen을 둔다고 가정\n",
    "        for i in range(n):\n",
    "            row[x] = i\n",
    "            # 해당 위치에 Queen을 두어도 괜찮은 경우\n",
    "            if check(x):\n",
    "                # 다음 행으로 넘어가기\n",
    "                dfs(x+1)\n",
    "                \n",
    "n = int(input())\n",
    "row = [0] * n\n",
    "result = 0\n",
    "dfs(0)\n",
    "print(result)"
   ]
  },
  {
   "cell_type": "markdown",
   "metadata": {},
   "source": [
    "<br>\n",
    "\n",
    "### 1.2.4 한계\n",
    "\n",
    "- 백트래킹 문제는 시간 초과 때문에 되도록 파이썬을 이용하지 않도록 권장하고 있다."
   ]
  },
  {
   "cell_type": "markdown",
   "metadata": {},
   "source": [
    "<br>\n",
    "\n",
    "## 1.3 복습"
   ]
  },
  {
   "cell_type": "code",
   "execution_count": 10,
   "metadata": {},
   "outputs": [
    {
     "name": "stdin",
     "output_type": "stream",
     "text": [
      " 8\n"
     ]
    },
    {
     "name": "stdout",
     "output_type": "stream",
     "text": [
      "92\n"
     ]
    }
   ],
   "source": [
    "def check(x):\n",
    "    for i in range(x):\n",
    "        if row[x] == row[i]:\n",
    "            return False\n",
    "        if abs(row[x] - row[i]) == x - i:\n",
    "            return False\n",
    "    return True\n",
    "\n",
    "def dfs(x):\n",
    "    global result\n",
    "    if n == x:\n",
    "        result += 1\n",
    "    else:\n",
    "        for i in range(n):\n",
    "            row[x] = i\n",
    "            if check(x):\n",
    "                dfs(x+1)\n",
    "\n",
    "n = int(input())\n",
    "row = [0] * n\n",
    "result = 0\n",
    "\n",
    "dfs(0)\n",
    "\n",
    "print(result)"
   ]
  },
  {
   "cell_type": "code",
   "execution_count": 12,
   "metadata": {},
   "outputs": [
    {
     "name": "stdin",
     "output_type": "stream",
     "text": [
      " 8\n"
     ]
    },
    {
     "name": "stdout",
     "output_type": "stream",
     "text": [
      "92\n"
     ]
    }
   ],
   "source": [
    "def check(x):\n",
    "    for i in range(x):\n",
    "        if row[x] == row[i]:\n",
    "            return False\n",
    "        if abs(row[x] - row[i]) == x - i:\n",
    "            return False\n",
    "    return True\n",
    "\n",
    "def dfs(x):\n",
    "    global result\n",
    "    if n == x:\n",
    "        result += 1\n",
    "    else:\n",
    "        for i in range(n):\n",
    "            row[x] = i\n",
    "            if check(x):\n",
    "                dfs(x+1)\n",
    "\n",
    "n = int(input())\n",
    "row = [0] * n\n",
    "result = 0\n",
    "\n",
    "dfs(0)\n",
    "\n",
    "print(result)"
   ]
  }
 ],
 "metadata": {
  "kernelspec": {
   "display_name": "Python 3",
   "language": "python",
   "name": "python3"
  },
  "language_info": {
   "codemirror_mode": {
    "name": "ipython",
    "version": 3
   },
   "file_extension": ".py",
   "mimetype": "text/x-python",
   "name": "python",
   "nbconvert_exporter": "python",
   "pygments_lexer": "ipython3",
   "version": "3.6.9"
  }
 },
 "nbformat": 4,
 "nbformat_minor": 4
}
