{
 "cells": [
  {
   "cell_type": "markdown",
   "metadata": {},
   "source": [
    "# 7. 컵라면 (복습)\n",
    "\n",
    "- [문제 설명 링크 : https://www.acmicpc.net/problem/1781](https://www.acmicpc.net/problem/1781)"
   ]
  },
  {
   "cell_type": "code",
   "execution_count": 2,
   "metadata": {},
   "outputs": [
    {
     "name": "stdin",
     "output_type": "stream",
     "text": [
      " 7\n",
      " 1 6\n",
      " 1 7\n",
      " 3 2\n",
      " 3 1\n",
      " 2 4\n",
      " 2 5\n",
      " 6 1\n"
     ]
    },
    {
     "name": "stdout",
     "output_type": "stream",
     "text": [
      "15\n"
     ]
    }
   ],
   "source": [
    "import heapq\n",
    "\n",
    "n = int(input())\n",
    "array = []\n",
    "queue = []\n",
    "\n",
    "for _ in range(n):\n",
    "    a, b = map(int, input().split())\n",
    "    array.append((a, b))\n",
    "    \n",
    "array.sort()\n",
    "\n",
    "for deadline, cnt in array:\n",
    "    heapq.heappush(queue, cnt)\n",
    "    if len(queue) > deadline:\n",
    "        heapq.heappop(queue)\n",
    "        \n",
    "print(sum(queue))"
   ]
  }
 ],
 "metadata": {
  "kernelspec": {
   "display_name": "Python 3",
   "language": "python",
   "name": "python3"
  },
  "language_info": {
   "codemirror_mode": {
    "name": "ipython",
    "version": 3
   },
   "file_extension": ".py",
   "mimetype": "text/x-python",
   "name": "python",
   "nbconvert_exporter": "python",
   "pygments_lexer": "ipython3",
   "version": "3.6.9"
  }
 },
 "nbformat": 4,
 "nbformat_minor": 4
}
