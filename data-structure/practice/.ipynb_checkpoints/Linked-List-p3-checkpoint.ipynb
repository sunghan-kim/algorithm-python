{
 "cells": [
  {
   "cell_type": "markdown",
   "metadata": {},
   "source": [
    "# Node 클래스 생성"
   ]
  },
  {
   "cell_type": "code",
   "execution_count": 6,
   "metadata": {},
   "outputs": [],
   "source": [
    "class Node:\n",
    "    \n",
    "    def __init__(self, data, next=None):\n",
    "        self.data = data\n",
    "        self.next = next\n",
    "        \n",
    "def add(data):\n",
    "    node = head\n",
    "    while node.next:\n",
    "        node = node.next\n",
    "    node.next = Node(data)"
   ]
  },
  {
   "cell_type": "code",
   "execution_count": 7,
   "metadata": {},
   "outputs": [],
   "source": [
    "node1 = Node(1)\n",
    "head = node1\n",
    "\n",
    "for index in range(2, 10):\n",
    "    add(index)"
   ]
  },
  {
   "cell_type": "code",
   "execution_count": 8,
   "metadata": {},
   "outputs": [
    {
     "name": "stdout",
     "output_type": "stream",
     "text": [
      "1\n",
      "2\n",
      "3\n",
      "4\n",
      "5\n",
      "6\n",
      "7\n",
      "8\n",
      "9\n"
     ]
    }
   ],
   "source": [
    "node = head\n",
    "\n",
    "while node.next:\n",
    "    print(node.data)\n",
    "    node = node.next\n",
    "print(node.data)"
   ]
  },
  {
   "cell_type": "markdown",
   "metadata": {},
   "source": [
    "# 중간에 데이터 삽입"
   ]
  },
  {
   "cell_type": "code",
   "execution_count": 9,
   "metadata": {},
   "outputs": [],
   "source": [
    "node3 = Node(1.5)"
   ]
  },
  {
   "cell_type": "code",
   "execution_count": 10,
   "metadata": {},
   "outputs": [],
   "source": [
    "node = head\n",
    "search = True\n",
    "\n",
    "while search:\n",
    "    if node.data == 1:\n",
    "        search = False\n",
    "    else:\n",
    "        node = node.next\n",
    "    \n",
    "node_next = node.next\n",
    "node.next = node3\n",
    "node3.next = node_next"
   ]
  },
  {
   "cell_type": "code",
   "execution_count": 11,
   "metadata": {},
   "outputs": [
    {
     "name": "stdout",
     "output_type": "stream",
     "text": [
      "1\n",
      "1.5\n",
      "2\n",
      "3\n",
      "4\n",
      "5\n",
      "6\n",
      "7\n",
      "8\n",
      "9\n"
     ]
    }
   ],
   "source": [
    "node = head\n",
    "\n",
    "while node.next:\n",
    "    print(node.data)\n",
    "    node = node.next\n",
    "print(node.data)"
   ]
  },
  {
   "cell_type": "markdown",
   "metadata": {},
   "source": [
    "# `NodeMgmt` 클래스 생성"
   ]
  },
  {
   "cell_type": "code",
   "execution_count": 12,
   "metadata": {},
   "outputs": [],
   "source": [
    "class Node:\n",
    "    \n",
    "    def __init__(self, data, next=None):\n",
    "        self.data = data\n",
    "        self.next = next\n",
    "\n",
    "class NodeMgmt:\n",
    "    \n",
    "    def __init__(self, data):\n",
    "        self.head = Node(data)\n",
    "    \n",
    "    def add(self, data):\n",
    "        if self.head == '':\n",
    "            self.head = Node(data)\n",
    "        else:\n",
    "            node = self.head\n",
    "            while node.next:\n",
    "                node = node.next\n",
    "            node.next = Node(data)\n",
    "    \n",
    "    def desc(self):\n",
    "        node = self.head\n",
    "        while node.next:\n",
    "            print(node.data)\n",
    "            node = node.next\n",
    "        print(node.data)"
   ]
  },
  {
   "cell_type": "code",
   "execution_count": 14,
   "metadata": {},
   "outputs": [
    {
     "name": "stdout",
     "output_type": "stream",
     "text": [
      "0\n"
     ]
    }
   ],
   "source": [
    "linkedlist1 = NodeMgmt(0)\n",
    "linkedlist1.desc()"
   ]
  },
  {
   "cell_type": "code",
   "execution_count": 15,
   "metadata": {},
   "outputs": [
    {
     "name": "stdout",
     "output_type": "stream",
     "text": [
      "0\n",
      "1\n",
      "2\n",
      "3\n",
      "4\n",
      "5\n",
      "6\n",
      "7\n",
      "8\n",
      "9\n"
     ]
    }
   ],
   "source": [
    "for data in range(1, 10):\n",
    "    linkedlist1.add(data)\n",
    "    \n",
    "linkedlist1.desc()"
   ]
  },
  {
   "cell_type": "markdown",
   "metadata": {},
   "source": [
    "<br>\n",
    "\n",
    "# `NodeMgmt` 클래스의 `delete()` 메서드 구현"
   ]
  },
  {
   "cell_type": "code",
   "execution_count": 20,
   "metadata": {},
   "outputs": [],
   "source": [
    "class Node:\n",
    "    \n",
    "    def __init__(self, data, next=None):\n",
    "        self.data = data\n",
    "        self.next = next\n",
    "\n",
    "class NodeMgmt:\n",
    "    \n",
    "    def __init__(self, data):\n",
    "        self.head = Node(data)\n",
    "    \n",
    "    def add(self, data):\n",
    "        if self.head == '':\n",
    "            self.head = Node(data)\n",
    "        else:\n",
    "            node = self.head\n",
    "            while node.next:\n",
    "                node = node.next\n",
    "            node.next = Node(data)\n",
    "    \n",
    "    def desc(self):\n",
    "        node = self.head\n",
    "        while node.next:\n",
    "            print(node.data)\n",
    "            node = node.next\n",
    "        print(node.data)\n",
    "        \n",
    "    def delete(self, data):\n",
    "        if self.head == '':\n",
    "            print('해당 값을 가진 노드가 없습니다.')\n",
    "            return\n",
    "        \n",
    "        if self.head.data == data: # head를 삭제하는 경우\n",
    "            temp = self.head\n",
    "            self.head = self.head.next\n",
    "            del temp\n",
    "        else:\n",
    "            node = self.head\n",
    "            while node.next:\n",
    "                if node.next.data == data:\n",
    "                    temp = node.next\n",
    "                    node.next = node.next.next\n",
    "                    del temp\n",
    "                    return\n",
    "                else:\n",
    "                    node = node.next"
   ]
  },
  {
   "cell_type": "code",
   "execution_count": 21,
   "metadata": {},
   "outputs": [
    {
     "name": "stdout",
     "output_type": "stream",
     "text": [
      "0\n"
     ]
    }
   ],
   "source": [
    "linkedlist1 = NodeMgmt(0)\n",
    "linkedlist1.desc()"
   ]
  },
  {
   "cell_type": "code",
   "execution_count": 22,
   "metadata": {},
   "outputs": [
    {
     "data": {
      "text/plain": [
       "<__main__.Node at 0x19fddcad8d0>"
      ]
     },
     "execution_count": 22,
     "metadata": {},
     "output_type": "execute_result"
    }
   ],
   "source": [
    "# head 존재 여부 확인\n",
    "linkedlist1.head"
   ]
  },
  {
   "cell_type": "code",
   "execution_count": 23,
   "metadata": {},
   "outputs": [],
   "source": [
    "# head 삭제\n",
    "linkedlist1.delete(0)"
   ]
  },
  {
   "cell_type": "code",
   "execution_count": 24,
   "metadata": {},
   "outputs": [],
   "source": [
    "# 다시 head 존재 여부 확인\n",
    "linkedlist1.head"
   ]
  },
  {
   "cell_type": "markdown",
   "metadata": {},
   "source": [
    "아무 내용이 출력되지 않으므로 head가 삭제되었음을 알 수 있다."
   ]
  },
  {
   "cell_type": "code",
   "execution_count": 25,
   "metadata": {},
   "outputs": [
    {
     "name": "stdout",
     "output_type": "stream",
     "text": [
      "0\n"
     ]
    }
   ],
   "source": [
    "# 노드 생성\n",
    "linkedlist1 = NodeMgmt(0)\n",
    "linkedlist1.desc()"
   ]
  },
  {
   "cell_type": "code",
   "execution_count": 26,
   "metadata": {},
   "outputs": [
    {
     "name": "stdout",
     "output_type": "stream",
     "text": [
      "0\n",
      "1\n",
      "2\n",
      "3\n",
      "4\n",
      "5\n",
      "6\n",
      "7\n",
      "8\n",
      "9\n"
     ]
    }
   ],
   "source": [
    "# 여러 노드 추가\n",
    "for data in range(1, 10):\n",
    "    linkedlist1.add(data)\n",
    "    \n",
    "linkedlist1.desc()"
   ]
  },
  {
   "cell_type": "code",
   "execution_count": 27,
   "metadata": {},
   "outputs": [],
   "source": [
    "# 중간의 특정 노드 삭제\n",
    "linkedlist1.delete(4)"
   ]
  },
  {
   "cell_type": "code",
   "execution_count": 28,
   "metadata": {},
   "outputs": [
    {
     "name": "stdout",
     "output_type": "stream",
     "text": [
      "0\n",
      "1\n",
      "2\n",
      "3\n",
      "5\n",
      "6\n",
      "7\n",
      "8\n",
      "9\n"
     ]
    }
   ],
   "source": [
    "# 삭제 여부 확인\n",
    "linkedlist1.desc()"
   ]
  },
  {
   "cell_type": "code",
   "execution_count": 29,
   "metadata": {},
   "outputs": [],
   "source": [
    "# 마지막 노드 삭제\n",
    "linkedlist1.delete(9)"
   ]
  },
  {
   "cell_type": "code",
   "execution_count": 30,
   "metadata": {},
   "outputs": [
    {
     "name": "stdout",
     "output_type": "stream",
     "text": [
      "0\n",
      "1\n",
      "2\n",
      "3\n",
      "5\n",
      "6\n",
      "7\n",
      "8\n"
     ]
    }
   ],
   "source": [
    "# 삭제 여부 확인\n",
    "linkedlist1.desc()"
   ]
  },
  {
   "cell_type": "markdown",
   "metadata": {},
   "source": [
    "<br>\n",
    "\n",
    "# 더블 링크드 리스트"
   ]
  },
  {
   "cell_type": "code",
   "execution_count": 32,
   "metadata": {},
   "outputs": [],
   "source": [
    "class Node:\n",
    "    \n",
    "    def __init__(self, data, prev=None, next=None):\n",
    "        self.prev = prev\n",
    "        self.data = data\n",
    "        self.next = next\n",
    "        \n",
    "class NodeMgmt:\n",
    "    \n",
    "    def __init__(self, data):\n",
    "        self.head = Node(data)\n",
    "        self.tail = self.head\n",
    "        \n",
    "    def insert(self, data):\n",
    "        if self.head == None:\n",
    "            self.head = Node(data)\n",
    "            self.tail = self.head\n",
    "        else:\n",
    "            node = self.head\n",
    "            while node.next:\n",
    "                node = node.next\n",
    "            new = Node(data)\n",
    "            node.next = new\n",
    "            new.prev = node\n",
    "            self.tail = new\n",
    "            \n",
    "    def desc(self):\n",
    "        node = self.head\n",
    "        while node.next:\n",
    "            print(node.data)\n",
    "            node = node.next\n",
    "        print(node.data)"
   ]
  },
  {
   "cell_type": "code",
   "execution_count": 33,
   "metadata": {},
   "outputs": [
    {
     "name": "stdout",
     "output_type": "stream",
     "text": [
      "0\n",
      "1\n",
      "2\n",
      "3\n",
      "4\n",
      "5\n",
      "6\n",
      "7\n",
      "8\n",
      "9\n"
     ]
    }
   ],
   "source": [
    "double_linked_list = NodeMgmt(0)\n",
    "\n",
    "for data in range(1, 10):\n",
    "    double_linked_list.insert(data)\n",
    "\n",
    "double_linked_list.desc()"
   ]
  },
  {
   "cell_type": "markdown",
   "metadata": {},
   "source": [
    "<br>\n",
    "\n",
    "## 더블 링크드 리스트 연습 문제 1\n",
    "\n",
    "> 노드 데이터가 특정 숫자인 노드 앞에 데이터를 추가하는 함수 생성\n",
    "\n",
    "- 더블 링크드 리스트의 tail에서부터 뒤로 이동하며, 특정 숫자인 노드를 찾는 방식으로 함수를 구현\n",
    "- 테스트 : 임의로 0~9까지의 데이터를 링크드 리스트에 넣어보고, 데이터 값이 2인 노드 앞에 1.5 데이터 값을 가진 노드를 추가"
   ]
  },
  {
   "cell_type": "markdown",
   "metadata": {},
   "source": [
    "### `search_from_head()` 구현"
   ]
  },
  {
   "cell_type": "code",
   "execution_count": 34,
   "metadata": {},
   "outputs": [],
   "source": [
    "class Node:\n",
    "    \n",
    "    def __init__(self, data, prev=None, next=None):\n",
    "        self.prev = prev\n",
    "        self.data = data\n",
    "        self.next = next\n",
    "        \n",
    "class NodeMgmt:\n",
    "    \n",
    "    def __init__(self, data):\n",
    "        self.head = Node(data)\n",
    "        self.tail = self.head\n",
    "        \n",
    "    def insert(self, data):\n",
    "        if self.head == None:\n",
    "            self.head = Node(data)\n",
    "            self.tail = self.head\n",
    "        else:\n",
    "            node = self.head\n",
    "            while node.next:\n",
    "                node = node.next\n",
    "            new = Node(data)\n",
    "            node.next = new\n",
    "            new.prev = node\n",
    "            self.tail = new\n",
    "            \n",
    "    def desc(self):\n",
    "        node = self.head\n",
    "        while node.next:\n",
    "            print(node.data)\n",
    "            node = node.next\n",
    "        print(node.data)\n",
    "        \n",
    "    def search_from_head(self, data):\n",
    "        if self.head == None:\n",
    "            return False\n",
    "        \n",
    "        node = self.head\n",
    "        while node:\n",
    "            if node.data == data:\n",
    "                return node\n",
    "            else:\n",
    "                node = node.next\n",
    "        return False # 아무것도 검색되지 않음"
   ]
  },
  {
   "cell_type": "code",
   "execution_count": 35,
   "metadata": {},
   "outputs": [
    {
     "name": "stdout",
     "output_type": "stream",
     "text": [
      "0\n",
      "1\n",
      "2\n",
      "3\n",
      "4\n",
      "5\n",
      "6\n",
      "7\n",
      "8\n",
      "9\n"
     ]
    }
   ],
   "source": [
    "double_linked_list = NodeMgmt(0)\n",
    "\n",
    "for data in range(1, 10):\n",
    "    double_linked_list.insert(data)\n",
    "\n",
    "double_linked_list.desc()"
   ]
  },
  {
   "cell_type": "code",
   "execution_count": 41,
   "metadata": {},
   "outputs": [
    {
     "name": "stdout",
     "output_type": "stream",
     "text": [
      "3\n"
     ]
    }
   ],
   "source": [
    "node_n = double_linked_list.search_from_head(3)\n",
    "if node_n:\n",
    "    print(node_n.data)\n",
    "else:\n",
    "    print(\"No data\")"
   ]
  },
  {
   "cell_type": "code",
   "execution_count": 42,
   "metadata": {},
   "outputs": [
    {
     "name": "stdout",
     "output_type": "stream",
     "text": [
      "No data\n"
     ]
    }
   ],
   "source": [
    "node_n = double_linked_list.search_from_head(10)\n",
    "if node_n:\n",
    "    print(node_n.data)\n",
    "else:\n",
    "    print(\"No data\")"
   ]
  },
  {
   "cell_type": "markdown",
   "metadata": {},
   "source": [
    "<br>\n",
    "\n",
    "### `search_from_tail()` 구현"
   ]
  },
  {
   "cell_type": "code",
   "execution_count": 43,
   "metadata": {},
   "outputs": [],
   "source": [
    "class Node:\n",
    "    \n",
    "    def __init__(self, data, prev=None, next=None):\n",
    "        self.prev = prev\n",
    "        self.data = data\n",
    "        self.next = next\n",
    "        \n",
    "class NodeMgmt:\n",
    "    \n",
    "    def __init__(self, data):\n",
    "        self.head = Node(data)\n",
    "        self.tail = self.head\n",
    "        \n",
    "    def insert(self, data):\n",
    "        if self.head == None:\n",
    "            self.head = Node(data)\n",
    "            self.tail = self.head\n",
    "        else:\n",
    "            node = self.head\n",
    "            while node.next:\n",
    "                node = node.next\n",
    "            new = Node(data)\n",
    "            node.next = new\n",
    "            new.prev = node\n",
    "            self.tail = new\n",
    "            \n",
    "    def desc(self):\n",
    "        node = self.head\n",
    "        while node.next:\n",
    "            print(node.data)\n",
    "            node = node.next\n",
    "        print(node.data)\n",
    "        \n",
    "    def search_from_head(self, data):\n",
    "        if self.head == None:\n",
    "            return False\n",
    "        \n",
    "        node = self.head\n",
    "        while node:\n",
    "            if node.data == data:\n",
    "                return node\n",
    "            else:\n",
    "                node = node.next\n",
    "        return False # 아무것도 검색되지 않음\n",
    "    \n",
    "    def search_from_tail(self, data):\n",
    "        if self.tail == None:\n",
    "            return False\n",
    "        \n",
    "        node = self.tail\n",
    "        while node:\n",
    "            if node.data == data:\n",
    "                return node\n",
    "            else:\n",
    "                node = node.prev\n",
    "        return False # 아무것도 검색되지 않음    "
   ]
  },
  {
   "cell_type": "code",
   "execution_count": 44,
   "metadata": {},
   "outputs": [
    {
     "name": "stdout",
     "output_type": "stream",
     "text": [
      "0\n",
      "1\n",
      "2\n",
      "3\n",
      "4\n",
      "5\n",
      "6\n",
      "7\n",
      "8\n",
      "9\n"
     ]
    }
   ],
   "source": [
    "double_linked_list = NodeMgmt(0)\n",
    "\n",
    "for data in range(1, 10):\n",
    "    double_linked_list.insert(data)\n",
    "\n",
    "double_linked_list.desc()"
   ]
  },
  {
   "cell_type": "code",
   "execution_count": 45,
   "metadata": {},
   "outputs": [
    {
     "name": "stdout",
     "output_type": "stream",
     "text": [
      "3\n"
     ]
    }
   ],
   "source": [
    "node_n = double_linked_list.search_from_tail(3)\n",
    "if node_n:\n",
    "    print(node_n.data)\n",
    "else:\n",
    "    print(\"No data\")"
   ]
  },
  {
   "cell_type": "code",
   "execution_count": 46,
   "metadata": {},
   "outputs": [
    {
     "name": "stdout",
     "output_type": "stream",
     "text": [
      "No data\n"
     ]
    }
   ],
   "source": [
    "node_n = double_linked_list.search_from_tail(10)\n",
    "if node_n:\n",
    "    print(node_n.data)\n",
    "else:\n",
    "    print(\"No data\")"
   ]
  },
  {
   "cell_type": "markdown",
   "metadata": {},
   "source": [
    "<br>\n",
    "\n",
    "### `insert_before()` 구현"
   ]
  },
  {
   "cell_type": "code",
   "execution_count": 47,
   "metadata": {},
   "outputs": [],
   "source": [
    "class Node:\n",
    "    \n",
    "    def __init__(self, data, prev=None, next=None):\n",
    "        self.prev = prev\n",
    "        self.data = data\n",
    "        self.next = next\n",
    "        \n",
    "class NodeMgmt:\n",
    "    \n",
    "    def __init__(self, data):\n",
    "        self.head = Node(data)\n",
    "        self.tail = self.head\n",
    "        \n",
    "    def insert(self, data):\n",
    "        if self.head == None:\n",
    "            self.head = Node(data)\n",
    "            self.tail = self.head\n",
    "        else:\n",
    "            node = self.head\n",
    "            while node.next:\n",
    "                node = node.next\n",
    "            new = Node(data)\n",
    "            node.next = new\n",
    "            new.prev = node\n",
    "            self.tail = new\n",
    "            \n",
    "    def desc(self):\n",
    "        node = self.head\n",
    "        while node.next:\n",
    "            print(node.data)\n",
    "            node = node.next\n",
    "        print(node.data)\n",
    "        \n",
    "    def search_from_head(self, data):\n",
    "        if self.head == None:\n",
    "            return False\n",
    "        \n",
    "        node = self.head\n",
    "        while node:\n",
    "            if node.data == data:\n",
    "                return node\n",
    "            else:\n",
    "                node = node.next\n",
    "        return False # 아무것도 검색되지 않음\n",
    "    \n",
    "    def search_from_tail(self, data):\n",
    "        if self.tail == None:\n",
    "            return False\n",
    "        \n",
    "        node = self.tail\n",
    "        while node:\n",
    "            if node.data == data:\n",
    "                return node\n",
    "            else:\n",
    "                node = node.prev\n",
    "        return False # 아무것도 검색되지 않음    \n",
    "    \n",
    "    def insert_before(self, data, before_data):\n",
    "        if self.head == None:\n",
    "            self.head = Node(data)\n",
    "            return True           \n",
    "        else:\n",
    "            node = self.tail\n",
    "            while node.data != before_data:\n",
    "                node = node.prev\n",
    "                if node == None:\n",
    "                    return False\n",
    "                \n",
    "            new = Node(data)\n",
    "            \n",
    "            before_new = node.prev\n",
    "            \n",
    "            before_new.next = new\n",
    "            new.prev = before_new\n",
    "            \n",
    "            new.next = node\n",
    "            node.prev = new\n",
    "            \n",
    "            return True"
   ]
  },
  {
   "cell_type": "code",
   "execution_count": 48,
   "metadata": {},
   "outputs": [
    {
     "name": "stdout",
     "output_type": "stream",
     "text": [
      "0\n",
      "1\n",
      "2\n",
      "3\n",
      "4\n",
      "5\n",
      "6\n",
      "7\n",
      "8\n",
      "9\n"
     ]
    }
   ],
   "source": [
    "double_linked_list = NodeMgmt(0)\n",
    "\n",
    "for data in range(1, 10):\n",
    "    double_linked_list.insert(data)\n",
    "\n",
    "double_linked_list.desc()"
   ]
  },
  {
   "cell_type": "code",
   "execution_count": 49,
   "metadata": {},
   "outputs": [
    {
     "name": "stdout",
     "output_type": "stream",
     "text": [
      "0\n",
      "1\n",
      "1.5\n",
      "2\n",
      "3\n",
      "4\n",
      "5\n",
      "6\n",
      "7\n",
      "8\n",
      "9\n"
     ]
    }
   ],
   "source": [
    "double_linked_list.insert_before(1.5, 2)\n",
    "double_linked_list.desc()"
   ]
  },
  {
   "cell_type": "code",
   "execution_count": null,
   "metadata": {},
   "outputs": [],
   "source": []
  }
 ],
 "metadata": {
  "kernelspec": {
   "display_name": "Python 3",
   "language": "python",
   "name": "python3"
  },
  "language_info": {
   "codemirror_mode": {
    "name": "ipython",
    "version": 3
   },
   "file_extension": ".py",
   "mimetype": "text/x-python",
   "name": "python",
   "nbconvert_exporter": "python",
   "pygments_lexer": "ipython3",
   "version": "3.6.9"
  }
 },
 "nbformat": 4,
 "nbformat_minor": 4
}
