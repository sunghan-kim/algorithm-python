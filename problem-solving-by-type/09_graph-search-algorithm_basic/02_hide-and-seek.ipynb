{
 "cells": [
  {
   "cell_type": "markdown",
   "metadata": {},
   "source": [
    "# 2. 숨바꼭질\n",
    "\n",
    "- 난이도 : 하(Easy)\n",
    "- 유형 : BFS\n",
    "- 추천 풀이 시간 : 30분\n",
    "- [문제 설명 링크 : https://www.acmicpc.net/problem/1697](https://www.acmicpc.net/problem/1697)"
   ]
  },
  {
   "cell_type": "markdown",
   "metadata": {},
   "source": [
    "<br>\n",
    "\n",
    "## 2.1 풀이"
   ]
  },
  {
   "cell_type": "code",
   "execution_count": null,
   "metadata": {},
   "outputs": [],
   "source": [
    "n, k = map(int, input().split())\n"
   ]
  },
  {
   "cell_type": "markdown",
   "metadata": {},
   "source": [
    "<br>\n",
    "\n",
    "## 2.2 해설"
   ]
  },
  {
   "cell_type": "markdown",
   "metadata": {},
   "source": [
    "### 2.2.1 해설 내용\n",
    "\n",
    "- 특정 위치까지 이동하는 최단 시간을 계산해야 하는 문제이다.\n",
    "- 이동 시간이 모두 1초로 동일하므로, 간단히 BFS를 이용하여 해결할 수 있다.\n",
    "- 큐(Queue) 구현을 위해 `collections` 라이브러리의 `deque`를 사용한다."
   ]
  },
  {
   "cell_type": "markdown",
   "metadata": {},
   "source": [
    "- 5에서 12로 가는 최단 시간은 다음과 같이 계산할 수 있다.\n",
    "\n",
    "<img src=\"./img/02_01.jpg\" style=\"width: 600px; margin-left: 25px\" />"
   ]
  },
  {
   "cell_type": "markdown",
   "metadata": {},
   "source": [
    "<br>\n",
    "\n",
    "### 2.2.2 해설 코드"
   ]
  },
  {
   "cell_type": "code",
   "execution_count": null,
   "metadata": {},
   "outputs": [],
   "source": [
    "from collections import deque\n",
    "\n",
    "MAX = 100001\n",
    "n, k = map(int, input().split())\n",
    "array = [0] * MAX\n",
    "\n",
    "def bfs():\n",
    "    q = deque([n])\n",
    "    \n",
    "    while q:\n",
    "        now_pos = q.popleft()\n",
    "        if now_pos == k:\n",
    "            return array[now_pos]\n",
    "        for next_pos in (now_pos-1, now_pos+1, now_pos*2):\n",
    "            if 0 <= next_pos < MAX and not array[next_pos]:\n",
    "                array[next_pos] = array[now_pos]+1\n",
    "                q.append(next_pos)\n",
    "                \n",
    "print(bfs)"
   ]
  }
 ],
 "metadata": {
  "kernelspec": {
   "display_name": "Python 3",
   "language": "python",
   "name": "python3"
  },
  "language_info": {
   "codemirror_mode": {
    "name": "ipython",
    "version": 3
   },
   "file_extension": ".py",
   "mimetype": "text/x-python",
   "name": "python",
   "nbconvert_exporter": "python",
   "pygments_lexer": "ipython3",
   "version": "3.6.9"
  }
 },
 "nbformat": 4,
 "nbformat_minor": 4
}
