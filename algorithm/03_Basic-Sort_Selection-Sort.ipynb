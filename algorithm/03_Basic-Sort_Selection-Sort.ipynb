{
 "cells": [
  {
   "cell_type": "markdown",
   "metadata": {},
   "source": [
    "# 3. 선택 정렬 (Selection Sort)"
   ]
  },
  {
   "cell_type": "markdown",
   "metadata": {},
   "source": [
    "## 3.1 선택 정렬(selection sort) 이란?\n",
    "\n",
    "- 다음과 같은 순서를 반복하며 정렬하는 알고리즘\n",
    "\n",
    "1. 주어진 데이터 중 최소값을 찾음\n",
    "2. 해당 최소값을 데이터 맨 앞에 위치한 값과 교체\n",
    "3. 맨 앞의 위치를 뺀 나머지 데이터를 동일한 방법으로 반복\n",
    "\n",
    "<img src=\"https://upload.wikimedia.org/wikipedia/commons/9/94/Selection-Sort-Animation.gif\" width=100>"
   ]
  },
  {
   "cell_type": "markdown",
   "metadata": {},
   "source": [
    "<br>\n",
    "\n",
    "## 3.2 어떻게 코드로 만들까?"
   ]
  },
  {
   "cell_type": "markdown",
   "metadata": {},
   "source": [
    "### 3.2.1 데이터가 2개일 때\n",
    "\n",
    "- ex) `dataList = [9, 1]`\n",
    "- `dataList[0] > dataList[1]`이므로 `dataList[0]`의 값과 `dataList[1]`의 값을 교환"
   ]
  },
  {
   "cell_type": "code",
   "execution_count": 1,
   "metadata": {},
   "outputs": [
    {
     "data": {
      "text/plain": [
       "[1, 9]"
      ]
     },
     "execution_count": 1,
     "metadata": {},
     "output_type": "execute_result"
    }
   ],
   "source": [
    "dataList = [9, 1]\n",
    "\n",
    "if dataList[0] > dataList[1]:\n",
    "    dataList[0], dataList[1] = dataList[1], dataList[0]\n",
    "    \n",
    "dataList"
   ]
  },
  {
   "cell_type": "markdown",
   "metadata": {},
   "source": [
    "<br>\n",
    "\n",
    "### 3.2.2 데이터가 3개일 때\n",
    "\n",
    "- ex) `dataList = [9, 1, 7]`\n",
    "- 처음 한번 실행 $\\rightarrow$ `dataList = [1, 9, 7]`\n",
    "- 두 번째 실행 $\\rightarrow$ `dataList = [1, 7, 9]`"
   ]
  },
  {
   "cell_type": "code",
   "execution_count": 8,
   "metadata": {},
   "outputs": [
    {
     "data": {
      "text/plain": [
       "[1, 7, 9]"
      ]
     },
     "execution_count": 8,
     "metadata": {},
     "output_type": "execute_result"
    }
   ],
   "source": [
    "dataList = [9, 1, 7]\n",
    "\n",
    "for index in range(len(dataList) - 1):\n",
    "    minIdx = index\n",
    "    for i in range(index + 1, len(dataList)):\n",
    "        if dataList[minIdx] > dataList[i]:\n",
    "            minIdx = i\n",
    "    dataList[index], dataList[minIdx] = dataList[minIdx], dataList[index]\n",
    "    \n",
    "dataList"
   ]
  },
  {
   "cell_type": "markdown",
   "metadata": {},
   "source": [
    "<br>\n",
    "\n",
    "### 3.2.3 데이터가 4개일 때\n",
    "\n",
    "- ex) `dataList = [9, 3, 2, 1]`\n",
    "- 처음 한번 실행 $\\rightarrow$ `dataList = [1, 3, 2, 9]`\n",
    "- 두 번째 실행 $\\rightarrow$ `dataList = [1, 2, 3, 9]`\n",
    "- 세 번째 실행 $\\rightarrow$ `dataList = [1, 2, 3, 9]` (변화 없음)"
   ]
  },
  {
   "cell_type": "code",
   "execution_count": 9,
   "metadata": {},
   "outputs": [
    {
     "data": {
      "text/plain": [
       "[1, 2, 3, 9]"
      ]
     },
     "execution_count": 9,
     "metadata": {},
     "output_type": "execute_result"
    }
   ],
   "source": [
    "dataList = [9, 3, 2, 1]\n",
    "\n",
    "for stand in range(len(dataList) - 1):\n",
    "    lowest = stand\n",
    "    for index in range(stand+1, len(dataList)):\n",
    "        if edataList[lowst] > dataList[index]:\n",
    "            lowest = index\n",
    "    dataList[stand], dataList[lowest] = dataList[lowest], dataList[stand]\n",
    "    \n",
    "dataList"
   ]
  },
  {
   "cell_type": "markdown",
   "metadata": {},
   "source": [
    "<br>\n",
    "\n",
    "## 3.3 알고리즘 구현"
   ]
  },
  {
   "cell_type": "code",
   "execution_count": 10,
   "metadata": {},
   "outputs": [],
   "source": [
    "def selection_sort(data):\n",
    "    for stand in range(len(data) - 1):\n",
    "        lowest = stand\n",
    "        for index in range(stand+1, len(dataList)):\n",
    "            if data[lowest] > data[index]:\n",
    "                lowest = index\n",
    "        data[stand], data[lowest] = data[lowest], data[stand]\n",
    "    return data"
   ]
  },
  {
   "cell_type": "code",
   "execution_count": 11,
   "metadata": {},
   "outputs": [
    {
     "data": {
      "text/plain": [
       "[4, 12, 16, 25, 32, 56, 69, 70, 75, 88]"
      ]
     },
     "execution_count": 11,
     "metadata": {},
     "output_type": "execute_result"
    }
   ],
   "source": [
    "import random\n",
    "\n",
    "dataList = random.sample(range(100), 10)\n",
    "selection_sort(dataList)"
   ]
  },
  {
   "cell_type": "markdown",
   "metadata": {},
   "source": [
    "<br>\n",
    "\n",
    "## 3.4 알고리즘 분석\n",
    "\n",
    "- 반복문이 2개 $\\rightarrow$ 시간 복잡도 = $O(n^2)$\n",
    "- 실제로 상세히 계산 $\\rightarrow$ 시간 복잡도 = $\\frac{n \\times (n-1)}{2}$"
   ]
  }
 ],
 "metadata": {
  "kernelspec": {
   "display_name": "Python 3",
   "language": "python",
   "name": "python3"
  },
  "language_info": {
   "codemirror_mode": {
    "name": "ipython",
    "version": 3
   },
   "file_extension": ".py",
   "mimetype": "text/x-python",
   "name": "python",
   "nbconvert_exporter": "python",
   "pygments_lexer": "ipython3",
   "version": "3.8.10"
  }
 },
 "nbformat": 4,
 "nbformat_minor": 4
}
