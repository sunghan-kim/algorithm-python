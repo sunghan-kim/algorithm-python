{
 "cells": [
  {
   "cell_type": "markdown",
   "metadata": {},
   "source": [
    "# 5. 알고리즘 복잡도 (Algorithm Complexity)"
   ]
  },
  {
   "cell_type": "markdown",
   "metadata": {},
   "source": [
    "## 5.1 알고리즘 복잡도 계산이 필요한 이유\n",
    "\n",
    "하나의 문제를 푸는 알고리즘은 다양할 수 있음\n",
    "\n",
    "ex) 정수의 절대값 구하기 : 1, -1 $\\Rightarrow$ 1\n",
    "\n",
    "- 방법 1 : 정수 값을 제곱한 값에 다시 루트를 씌우기\n",
    "- 방법 2 : 정수가 음수인 지 확인해서 음수일 때만 -1을 곱하기\n",
    "\n",
    "다양한 알고리즘 중 어느 알고리즘이 더 좋은 지를 분석하기 위해 복잡도를 정의하고 계산함"
   ]
  },
  {
   "cell_type": "markdown",
   "metadata": {},
   "source": [
    "<br>"
   ]
  },
  {
   "cell_type": "markdown",
   "metadata": {},
   "source": [
    "## 5.2 알고리즘 복잡도 계산 항목\n",
    "\n",
    "1. **시간 복잡도** : 알고리즘 실행 속도\n",
    "2. **공간 복잡도** : 알고리즘이 사용하는 메모리 사이즈\n",
    "\n",
    "가장 중요한 시간 복잡도를 꼭 이해하고 계산할 수 있어야 함"
   ]
  },
  {
   "cell_type": "markdown",
   "metadata": {},
   "source": [
    "<br>"
   ]
  },
  {
   "cell_type": "markdown",
   "metadata": {},
   "source": [
    "## 5.3 알고리즘 시간 복잡도의 주요 오소\n",
    "\n",
    "반복문이 지배한다.\n",
    "\n",
    "**생각해보기**\n",
    "\n",
    "> 자동차로 서울에서 부산을 가기 위해, 다음과 같이 항목을 나눴을 때, 가장 총 시간에 영향을 많이 미칠 것 같은 요소는?\n",
    "\n",
    "1. 자동차 문 열기\n",
    "2. 자동차 문 닫기\n",
    "3. 자동차 운전석 등받이 조정하기\n",
    "4. 자동차 시동걸기\n",
    "5. 자동차로 서울에서 부산가기\n",
    "6. 자동차 시동끄기\n",
    "7. 자동차 문 열기\n",
    "8. 자동차 문 닫기\n",
    "\n",
    "마찬가지로, 프로그래밍에서 시간 복잡도에 가장 영향을 많이 미치는 요소는 **반복문**이다.\n",
    "\n",
    "입력의 크기가 커지면 커질수록 반복문이 알고리즘 수행 시간을 지배한다."
   ]
  },
  {
   "cell_type": "markdown",
   "metadata": {},
   "source": [
    "<br"
   ]
  }
 ],
 "metadata": {
  "kernelspec": {
   "display_name": "Python 3",
   "language": "python",
   "name": "python3"
  },
  "language_info": {
   "codemirror_mode": {
    "name": "ipython",
    "version": 3
   },
   "file_extension": ".py",
   "mimetype": "text/x-python",
   "name": "python",
   "nbconvert_exporter": "python",
   "pygments_lexer": "ipython3",
   "version": "3.6.9"
  }
 },
 "nbformat": 4,
 "nbformat_minor": 4
}
