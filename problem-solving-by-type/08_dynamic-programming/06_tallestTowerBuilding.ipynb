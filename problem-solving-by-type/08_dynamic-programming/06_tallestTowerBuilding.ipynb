{
 "cells": [
  {
   "cell_type": "markdown",
   "metadata": {},
   "source": [
    "### 6. 가장 높은 탑 쌓기\n",
    "\n",
    "- 난이도 : 상(Hard)\n",
    "- 유형 : 동적 프로그래밍, LIS\n",
    "- 추천 풀이 시간 : 50분\n",
    "- [문제 설명 링크 : https://www.acmicpc.net/problem/2655](https://www.acmicpc.net/problem/2655)"
   ]
  },
  {
   "cell_type": "markdown",
   "metadata": {},
   "source": [
    "<br>\n",
    "\n",
    "## 6.1 해설"
   ]
  },
  {
   "cell_type": "markdown",
   "metadata": {},
   "source": [
    "### 6.1.1 해설 내용\n",
    "\n",
    "- 벽돌을 가장 높에 쌓는 것이 목적이기 때문에, 가장 긴 증가하는 부분 수열(LIS) 문제의 심화 변형 문제로 볼 수 있다.\n",
    "- 벽돌의 수가 N개 일 때, 시간 복잡도 $O(N^2)$ 으로 해결할 수 있다.\n",
    "- 벽돌의 번호를 출력해야 한다는 점에서, 계산된 테이블을 역추적할 수 있어야 한다."
   ]
  },
  {
   "cell_type": "markdown",
   "metadata": {},
   "source": [
    "<br>\n",
    "\n",
    "### 6.1.2 핵심 아이디어\n",
    "\n",
    "- 가장 먼저 벽돌을 무게 기준으로 정렬한다.\n",
    "- $D[i]$ : 인덱스가 $i$인 벽돌을 가장 아래에 두었을 때의 최대 높이\n",
    "- 각 벽돌에 대해서 확인하며 $D[i]$를 갱신한다.\n",
    "- 모든 $0 \\leq j \\lt i$에 대하여, $D[i] = max \\left( D[i], \\; D[j] + height[i] \\right) \\quad \\text{if } \\; area[i] \\gt area[j]$\n",
    "  - 벽돌의 너비($area$)가 더 넣다면, 높이를 증가시킨다."
   ]
  },
  {
   "cell_type": "markdown",
   "metadata": {},
   "source": [
    "<br>\n",
    "\n",
    "### 6.1.3 그림 예시\n",
    "\n",
    "- N = 5 일 때, 예시 벽돌들에 대하여 다음과 같이 계산할 수 있다."
   ]
  },
  {
   "cell_type": "markdown",
   "metadata": {},
   "source": [
    "<br>\n",
    "\n",
    "**1) 벽돌 무게 기준 정렬**\n",
    "\n",
    "- 테이블을 잘 처리하기 위해 크기가 0인 벽돌을 넣어 준다.\n",
    "- 그런 다음 각 벽돌들을 무게 기준으로 정렬한다.\n",
    "- 각각의 벽돌을 튜플(번호, 너비, 높이, 무게)로 정의해주면 된다.\n",
    "- 오른쪽 테이블의 각 컬럼은 왼쪽에 무게 순으로 정렬된 벽돌들의 인덱스이다.\n",
    "\n",
    "<img src=\"./img/06_01.jpg\" style=\"width: 800px; margin-left: 10px\" />"
   ]
  },
  {
   "cell_type": "markdown",
   "metadata": {},
   "source": [
    "<br>\n",
    "\n",
    "**2) 0번 벽돌 (`i=0`)**\n",
    "\n",
    "- 각 벽돌 인덱스에서 쌓을 수 있는 높이를 저장한 배열의 모든 값을 0으로 초기화한다.\n",
    "\n",
    "<img src=\"./img/06_02.jpg\" style=\"width: 800px; margin-left: 10px\" />"
   ]
  },
  {
   "cell_type": "markdown",
   "metadata": {},
   "source": [
    "<br>\n",
    "\n",
    "**3) 1번 벽돌 (`i=1`)**\n",
    "\n",
    "(1) `j=0`\n",
    "\n",
    "- `block[1](=block[i])` 위에 `block[0](=block[j])`을 쌓을 수 있는 지 확인한다.\n",
    "- 벽돌들을 이미 무게 순으로 정렬했기 때문에 너비만 비교하면 된다.\n",
    "- `block[1]`의 너비(=5)가 `block[0]`의 너비(=0) 보다 크므로 벽돌을 쌓을 수 있다.\n",
    "- 그러므로 `dp[1](=dp[i]=0)`의 값과 `dp[0](=dp[j]=0) + block[1](=block[i])의 높이(=5)` 값 중 큰 값을 `dp[1](=dp[i])`에 갱신한다.\n",
    "\n",
    "<img src=\"./img/06_03.jpg\" style=\"width: 800px; margin-left: 10px\" />"
   ]
  },
  {
   "cell_type": "markdown",
   "metadata": {},
   "source": [
    "<br>\n",
    "\n",
    "**4) 2번 벽돌 (`i=2`)**"
   ]
  },
  {
   "cell_type": "markdown",
   "metadata": {},
   "source": [
    "<img src=\"./img/06_04.jpg\" style=\"width: 800px; margin-left: 10px\" />"
   ]
  },
  {
   "cell_type": "markdown",
   "metadata": {},
   "source": [
    "\n",
    "<br>\n",
    "\n",
    "**dd**\n",
    "\n",
    "<img src=\"./img/06_05.jpg\" style=\"width: 800px; margin-left: 10px\" />"
   ]
  },
  {
   "cell_type": "markdown",
   "metadata": {},
   "source": [
    "\n",
    "<br>\n",
    "\n",
    "**dd**\n",
    "\n",
    "<img src=\"./img/06_06.jpg\" style=\"width: 800px; margin-left: 10px\" />"
   ]
  },
  {
   "cell_type": "markdown",
   "metadata": {},
   "source": [
    "\n",
    "<br>\n",
    "\n",
    "**dd**\n",
    "\n",
    "<img src=\"./img/06_07.jpg\" style=\"width: 800px; margin-left: 10px\" />"
   ]
  },
  {
   "cell_type": "markdown",
   "metadata": {},
   "source": [
    "<br>\n",
    "\n",
    "- 이후에 Max Value(=10) 위치부터 테이블을 역추적한다."
   ]
  },
  {
   "cell_type": "markdown",
   "metadata": {},
   "source": [
    "<br>\n",
    "\n",
    "### 6.1.4 해설 코드"
   ]
  },
  {
   "cell_type": "code",
   "execution_count": null,
   "metadata": {},
   "outputs": [],
   "source": [
    "n = int(input())\n",
    "array = []\n",
    "\n",
    "array.append((0, 0, 0, 0))\n",
    "for i in range(1, n+1):\n",
    "    area, height, weight = map(int, input().split())\n",
    "    array.append((i, area, height, weight))\n",
    "    \n",
    "# 벽돌들을 무게를 기준으로 정렬\n",
    "array.sort(key=lambda data: data[3])\n",
    "\n",
    "dp = [0] * (n+1)\n",
    "\n",
    "for i in range(1, n+1):\n",
    "    for j in range(0, i):\n",
    "        if array[i][1] > array[j][1]: # 넓이 비교\n",
    "            dp[i] = max(dp[i], dp[j] + array[i][2]) # array[][2] : 벽돌 높이\n",
    "            \n",
    "max_value = max(dp)\n",
    "index = n\n",
    "result = []\n",
    "\n",
    "while index != 0:\n",
    "    if max_value == dp[index]:\n",
    "        result.append(array[index][0]) # array[][0] : 벽돌 인덱스\n",
    "        max_value -= array[index][2] # array[][2] : 벽돌 높이\n",
    "    index -= 1\n",
    "    \n",
    "result.reverse()\n",
    "print(len(result))\n",
    "[print(i) for i in result]"
   ]
  }
 ],
 "metadata": {
  "kernelspec": {
   "display_name": "Python 3",
   "language": "python",
   "name": "python3"
  },
  "language_info": {
   "codemirror_mode": {
    "name": "ipython",
    "version": 3
   },
   "file_extension": ".py",
   "mimetype": "text/x-python",
   "name": "python",
   "nbconvert_exporter": "python",
   "pygments_lexer": "ipython3",
   "version": "3.6.9"
  }
 },
 "nbformat": 4,
 "nbformat_minor": 4
}
