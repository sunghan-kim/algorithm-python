{
 "cells": [
  {
   "cell_type": "markdown",
   "metadata": {},
   "source": [
    "# 4. 유기농 배추\n",
    "\n",
    "- 난이도 : 하(Easy)\n",
    "- 유형 : DFS, BFS\n",
    "- 추천 풀이 시간 : 30분\n",
    "- [문제 설명 링크 : https://www.acmicpc.net/problem/1012](https://www.acmicpc.net/problem/1012)"
   ]
  },
  {
   "cell_type": "markdown",
   "metadata": {},
   "source": [
    "<br>\n",
    "\n",
    "## 4.1 직접 풀이"
   ]
  },
  {
   "cell_type": "code",
   "execution_count": null,
   "metadata": {},
   "outputs": [],
   "source": []
  },
  {
   "cell_type": "markdown",
   "metadata": {},
   "source": [
    "<br>\n",
    "\n",
    "## 4.2 해설"
   ]
  },
  {
   "cell_type": "markdown",
   "metadata": {},
   "source": [
    "### 4.2.1 해설 내용\n",
    "\n",
    "- *연결 요소의 개수를 세는 문제*이다.\n",
    "\n",
    "> m x n 개의 모든 정점에 대하여 DFS 및 BFS를 수행한다. 이 때 한 번 방문한 정점은 다시 확인하지 않는다.\n",
    "\n",
    "- 전체적으로 **DFS 및 BFS를 수행한 총 횟수를 계산**한다.  \n",
    "  \n",
    "  \n",
    "- DFS 및 BFS 응용 문제 중에서 출제 비중이 매우 높은 유형 중 하나이다.\n",
    "- DFS로 문제를 푸는 경우, `sys` 라이브러리의 `setrecursionlimit()` 함수 설정을 해 줄 필요가 있다.\n",
    "  - 재귀 함수를 오류 없이 수행하기 위해"
   ]
  },
  {
   "cell_type": "markdown",
   "metadata": {},
   "source": [
    "<br>\n",
    "\n",
    "### 4.2.2 해설 코드"
   ]
  },
  {
   "cell_type": "code",
   "execution_count": 9,
   "metadata": {},
   "outputs": [
    {
     "name": "stdin",
     "output_type": "stream",
     "text": [
      " 1\n",
      " 5 3 6\n",
      " 0 2\n",
      " 1 2\n",
      " 2 2\n",
      " 3 2\n",
      " 4 2\n",
      " 4 0\n"
     ]
    },
    {
     "name": "stdout",
     "output_type": "stream",
     "text": [
      "2\n"
     ]
    }
   ],
   "source": [
    "import sys\n",
    "\n",
    "# 별도의 설정이 없는 경우 recursion limit 은 1000 정도로 설정된다.\n",
    "sys.setrecursionlimit(100000)\n",
    "\n",
    "def dfs(x, y):\n",
    "    visited[x][y] = True\n",
    "    # 이동할 수 있는 방향 : 상, 하, 좌, 우\n",
    "    directions = [(-1, 0), (1, 0), (0, -1), (0, 1)] # 좌, 우, 하, 상\n",
    "    \n",
    "    for dx, dy in directions:\n",
    "        nx, ny = x + dx, y + dy\n",
    "        if nx < 0 or nx >= n or ny < 0 or ny >= m:\n",
    "            continue\n",
    "        if array[nx][ny] and not visited[nx][ny]:\n",
    "            dfs(nx, ny)\n",
    "    \n",
    "for _ in range(int(input())):\n",
    "    m, n, k = map(int, input().split())\n",
    "    array = [[0] * m for _ in range(n)]\n",
    "    visited = [[False] * m for _ in range(n)]\n",
    "    \n",
    "    for _ in range(k):\n",
    "        y, x = map(int, input().split())\n",
    "        array[x][y] = 1\n",
    "        \n",
    "    result = 0\n",
    "    \n",
    "    for i in range(n):\n",
    "        for j in range(m):\n",
    "            # not visited[i][j] : 해당 정점이 방문되지 않았을 때만 dfs 수행\n",
    "            if array[i][j] and not visited[i][j]:\n",
    "                dfs(i, j)\n",
    "                result += 1\n",
    "                \n",
    "    print(result)"
   ]
  }
 ],
 "metadata": {
  "kernelspec": {
   "display_name": "Python 3",
   "language": "python",
   "name": "python3"
  },
  "language_info": {
   "codemirror_mode": {
    "name": "ipython",
    "version": 3
   },
   "file_extension": ".py",
   "mimetype": "text/x-python",
   "name": "python",
   "nbconvert_exporter": "python",
   "pygments_lexer": "ipython3",
   "version": "3.8.10"
  }
 },
 "nbformat": 4,
 "nbformat_minor": 4
}
