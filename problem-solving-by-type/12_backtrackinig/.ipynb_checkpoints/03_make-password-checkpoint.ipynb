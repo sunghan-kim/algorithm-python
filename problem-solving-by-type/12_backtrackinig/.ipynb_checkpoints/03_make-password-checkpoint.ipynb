{
 "cells": [
  {
   "cell_type": "markdown",
   "metadata": {},
   "source": [
    "# 3. 암호 만들기\n",
    "\n",
    "- 난이도 : 중(Medium)\n",
    "- 유형 : 백트래킹\n",
    "- 추천 풀이 시간 : 30분\n",
    "- [문제 설명 링크 : https://www.acmicpc.net/problem/1759](https://www.acmicpc.net/problem/1759)"
   ]
  },
  {
   "cell_type": "markdown",
   "metadata": {},
   "source": [
    "<br>\n",
    "\n",
    "## 3.1 문제 풀이"
   ]
  },
  {
   "cell_type": "code",
   "execution_count": 2,
   "metadata": {},
   "outputs": [
    {
     "name": "stdin",
     "output_type": "stream",
     "text": [
      " 4 6\n",
      " a t c i s w\n"
     ]
    },
    {
     "name": "stdout",
     "output_type": "stream",
     "text": [
      "['a', 't', 'c', 'i', 's', 'w']\n"
     ]
    }
   ],
   "source": [
    "L, C = map(int, input().split())\n",
    "alphabet = [alpha for alpha in input().split()]\n",
    "print(alphabet)"
   ]
  },
  {
   "cell_type": "markdown",
   "metadata": {},
   "source": [
    "<br>\n",
    "\n",
    "## 3.2 해설"
   ]
  },
  {
   "cell_type": "markdown",
   "metadata": {},
   "source": [
    "### 3.2.1 문제 풀이 핵심 아이디어\n",
    "\n",
    "- C개의 문자들이 주어졌을 때, 가능한 L 길이의 암호를 모두 찾아야 한다.\n",
    "- 따라서 C개의 문자들 중에서 L개를 선택하는 **모든 조합(Combination)**을 고려해야 한다.\n",
    "  - Python의 조합(combinations) 라이브러리를 사용하면 간단히 해결할 수 있다.\n",
    "  - 혹은 DFS를 이용하여 조합 함수를 구현할 수 있다."
   ]
  },
  {
   "cell_type": "markdown",
   "metadata": {},
   "source": [
    "<br>\n",
    "\n",
    "### 3.2.2 그림을 통한 예시\n",
    "\n",
    "- L = 3, C = 4 인 예시는 다음과 같다.\n",
    "\n",
    "<img src=\"./img/03_01.jpg\" style=\"width: 500px; margin-left: 25px\" />"
   ]
  },
  {
   "cell_type": "markdown",
   "metadata": {},
   "source": [
    "<br>\n",
    "\n",
    "### 3.2.3 해설 코드\n",
    "\n",
    "**1) `combinations` 라이브러리 사용**"
   ]
  },
  {
   "cell_type": "code",
   "execution_count": 13,
   "metadata": {},
   "outputs": [
    {
     "name": "stdin",
     "output_type": "stream",
     "text": [
      " 4 6\n",
      " a t c i s w\n"
     ]
    },
    {
     "name": "stdout",
     "output_type": "stream",
     "text": [
      "acis\n",
      "acit\n",
      "aciw\n",
      "acst\n",
      "acsw\n",
      "actw\n",
      "aist\n",
      "aisw\n",
      "aitw\n",
      "astw\n",
      "cist\n",
      "cisw\n",
      "citw\n",
      "istw\n"
     ]
    }
   ],
   "source": [
    "from itertools import combinations\n",
    "\n",
    "vowels = ('a','e','i','o','u') # 모음\n",
    "l, c = map(int, input().split())\n",
    "\n",
    "# 가능한 암호를 사전식으로 출력해야 하므로 정렬 수행\n",
    "array = input().split()\n",
    "array.sort()\n",
    "\n",
    "# 길이가 l인 모든 암호 조합을 확인\n",
    "for password in combinations(array, l):\n",
    "    # 모음의 개수를 세기\n",
    "    count = 0\n",
    "    for i in password:\n",
    "        if i in vowels:\n",
    "            count += 1\n",
    "    \n",
    "    # 최소 한 개의 모음과 최소 두 개의 자음이 있는 경우 출력\n",
    "    if count >= 1 and l - count >= 2:\n",
    "        print(''.join(password))"
   ]
  },
  {
   "cell_type": "markdown",
   "metadata": {},
   "source": [
    "<br>\n",
    "\n",
    "**2) DFS 이용 조합 함수 구현**"
   ]
  },
  {
   "cell_type": "code",
   "execution_count": 12,
   "metadata": {},
   "outputs": [
    {
     "name": "stdin",
     "output_type": "stream",
     "text": [
      " 4 6\n",
      " a t c i s w\n"
     ]
    },
    {
     "name": "stdout",
     "output_type": "stream",
     "text": [
      "acis\n",
      "acit\n",
      "aciw\n",
      "acst\n",
      "acsw\n",
      "actw\n",
      "aist\n",
      "aisw\n",
      "aitw\n",
      "astw\n",
      "cist\n",
      "cisw\n",
      "citw\n",
      "istw\n"
     ]
    }
   ],
   "source": [
    "import copy\n",
    "\n",
    "result = []\n",
    "string = []\n",
    "visited = []\n",
    "\n",
    "# 조합(Combination) 함수 구현\n",
    "def combination(array, length, index):\n",
    "    # 길이가 length인 모든 조합 찾기\n",
    "    if len(string) == length:\n",
    "        result.append(copy.deepcopy(string))\n",
    "        return\n",
    "    # 각 원소를 한 번씩만 뽑도록 구성\n",
    "    for i in range(index, len(array)):\n",
    "        if i in visited:\n",
    "            continue\n",
    "        string.append(array[i])\n",
    "        visited.append(i)\n",
    "        combination(array, length, i+1)\n",
    "        string.pop()\n",
    "        visited.pop()\n",
    "        \n",
    "vowels = ('a','e','i','o','u')\n",
    "l, c = map(int, input().split())\n",
    "\n",
    "# 가능한 암호를 사전식으로 출력해야 하므로 정렬 수행\n",
    "array = input().split()\n",
    "array.sort()\n",
    "\n",
    "combination(array, l, 0)\n",
    "\n",
    "# 길이가 l인 모든 암호 조합을 확인\n",
    "for password in result:\n",
    "    # 모음의 개수 세기\n",
    "    count = 0\n",
    "    for i in password:\n",
    "        if i in vowels:\n",
    "            count += 1\n",
    "            \n",
    "    # 최소 한 개의 모음과 최소 두 개의 자음이 있는 경우 출력\n",
    "    if count >= 1 and l - count >= 2:\n",
    "        print(''.join(password))"
   ]
  },
  {
   "cell_type": "code",
   "execution_count": 14,
   "metadata": {},
   "outputs": [
    {
     "name": "stdout",
     "output_type": "stream",
     "text": [
      "string : []\n",
      "string : ['a']\n",
      "string : ['a', 'b']\n",
      "string : ['a', 'c']\n",
      "string : ['b']\n",
      "string : ['b', 'c']\n",
      "string : ['c']\n"
     ]
    }
   ],
   "source": [
    "import copy\n",
    "\n",
    "result = []\n",
    "string = []\n",
    "visited = []\n",
    "\n",
    "# 조합(Combination) 함수 구현\n",
    "def combination(array, length, index):\n",
    "    print(f'string : {string}')\n",
    "    # 길이가 length인 모든 조합 찾기\n",
    "    if len(string) == length:\n",
    "        result.append(copy.deepcopy(string))\n",
    "        return\n",
    "    # 각 원소를 한 번씩만 뽑도록 구성\n",
    "    for i in range(index, len(array)):\n",
    "        if i in visited:\n",
    "            continue\n",
    "        string.append(array[i])\n",
    "        visited.append(i)\n",
    "        combination(array, length, i+1)\n",
    "        string.pop()\n",
    "        visited.pop()\n",
    "        \n",
    "array = ['a','b','c']\n",
    "\n",
    "combination(array, 2, 0)"
   ]
  },
  {
   "cell_type": "markdown",
   "metadata": {},
   "source": [
    "<br>\n",
    "\n",
    "## 3.3 복습"
   ]
  },
  {
   "cell_type": "markdown",
   "metadata": {},
   "source": [
    "### 3.3.1 `combinations` 라이브러리 사용"
   ]
  },
  {
   "cell_type": "code",
   "execution_count": 16,
   "metadata": {},
   "outputs": [
    {
     "name": "stdin",
     "output_type": "stream",
     "text": [
      " 4 6\n",
      " a t c i s w\n"
     ]
    },
    {
     "name": "stdout",
     "output_type": "stream",
     "text": [
      "acis\n",
      "acit\n",
      "aciw\n",
      "acst\n",
      "acsw\n",
      "actw\n",
      "aist\n",
      "aisw\n",
      "aitw\n",
      "astw\n",
      "cist\n",
      "cisw\n",
      "citw\n",
      "istw\n"
     ]
    }
   ],
   "source": [
    "from itertools import combinations\n",
    "\n",
    "vowels = ('a','i','e','u','o')\n",
    "l, c = map(int, input().split())\n",
    "array = [v for v in input().split()]\n",
    "array.sort()\n",
    "\n",
    "for password in combinations(array, l):\n",
    "    count = 0\n",
    "    for i in password:\n",
    "        if i in vowels:\n",
    "            count += 1\n",
    "            \n",
    "    if count >= 1 and l - count >= 2:\n",
    "        print(''.join(password))"
   ]
  },
  {
   "cell_type": "markdown",
   "metadata": {},
   "source": [
    "<br>\n",
    "\n",
    "### 3.3.2 DFS를 활용한 조합 함수 구현"
   ]
  },
  {
   "cell_type": "code",
   "execution_count": 21,
   "metadata": {},
   "outputs": [
    {
     "name": "stdin",
     "output_type": "stream",
     "text": [
      " 4 6\n",
      " a t c i s w\n"
     ]
    },
    {
     "name": "stdout",
     "output_type": "stream",
     "text": [
      "acis\n",
      "acit\n",
      "aciw\n",
      "acst\n",
      "acsw\n",
      "actw\n",
      "aist\n",
      "aisw\n",
      "aitw\n",
      "astw\n",
      "cist\n",
      "cisw\n",
      "citw\n",
      "istw\n"
     ]
    }
   ],
   "source": [
    "import copy\n",
    "\n",
    "result = []\n",
    "string = []\n",
    "visited = []\n",
    "\n",
    "def combination(array, length, index):\n",
    "    if length == len(string):\n",
    "        result.append(copy.deepcopy(string))\n",
    "        return\n",
    "    for i in range(index, len(array)):\n",
    "        if i in visited:\n",
    "            continue\n",
    "        string.append(array[i])\n",
    "        visited.append(i)\n",
    "        combination(array, length, i+1)\n",
    "        string.pop()\n",
    "        visited.pop()\n",
    "\n",
    "vowels = ('a','e','i','o','u')\n",
    "l, c = map(int, input().split())\n",
    "array = input().split()\n",
    "array.sort()\n",
    "\n",
    "combination(array, l, 0)\n",
    "\n",
    "for password in result:\n",
    "    count = 0\n",
    "    for i in password:\n",
    "        if i in vowels:\n",
    "            count += 1\n",
    "            \n",
    "    if count >= 1 and l - count >= 2:\n",
    "        print(''.join(password))"
   ]
  },
  {
   "cell_type": "code",
   "execution_count": null,
   "metadata": {},
   "outputs": [],
   "source": []
  }
 ],
 "metadata": {
  "kernelspec": {
   "display_name": "Python 3",
   "language": "python",
   "name": "python3"
  },
  "language_info": {
   "codemirror_mode": {
    "name": "ipython",
    "version": 3
   },
   "file_extension": ".py",
   "mimetype": "text/x-python",
   "name": "python",
   "nbconvert_exporter": "python",
   "pygments_lexer": "ipython3",
   "version": "3.6.9"
  }
 },
 "nbformat": 4,
 "nbformat_minor": 4
}
