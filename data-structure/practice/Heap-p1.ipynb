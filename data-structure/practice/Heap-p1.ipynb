{
 "cells": [
  {
   "cell_type": "markdown",
   "metadata": {},
   "source": [
    "# 1. 힙 (Heap)"
   ]
  },
  {
   "cell_type": "markdown",
   "metadata": {},
   "source": [
    "## 1.1 힙(Heap) 이란?\n",
    "\n",
    "- 트리(Tree)를 기반으로 하여 특정한 목적에 맞게 변형된 형태의 자료구조\n",
    "- 데이터에서 최대값과 최소값을 빠르게 찾기 위해 고안된 **완전 이진 트리(Complete Binary Tree)**"
   ]
  },
  {
   "cell_type": "markdown",
   "metadata": {},
   "source": [
    "완전 이진 트리 (Complete Binary Tree)\n",
    "\n",
    "- 노드를 삽입할 때 최하단 왼쪽 노드부터 차례대로 삽입하는 트리\n",
    "\n",
    "$\\quad$ <img src=\"../img/complete_binary_tree.png\" width=\"300px\" />"
   ]
  },
  {
   "cell_type": "markdown",
   "metadata": {},
   "source": [
    "<br>\n",
    "\n",
    "## 1.2 힙을 사용하는 이유\n",
    "\n",
    "- 배열에 데이터를 넣고, 최대값과 최소값을 찾을 때의 시간 복잡도 $\\Rightarrow O(n)$\n",
    "- 이에 반해, 힙에 데이터를 넣고, 최대값과 최소값을 찾을 때의 시간 복잡도 $\\Rightarrow O(log n)$"
   ]
  },
  {
   "cell_type": "markdown",
   "metadata": {},
   "source": [
    "- 우선순위 큐와 같이 최대값 또는 최소값을 빠르게 찾아야 하는 자료 구조 및 알고리즘 구현 등에 활용됨"
   ]
  },
  {
   "cell_type": "markdown",
   "metadata": {},
   "source": [
    "<br>\n",
    "\n",
    "## 1.3 힙(Heap) 구조"
   ]
  },
  {
   "cell_type": "markdown",
   "metadata": {},
   "source": [
    "### 1.3.1 힙의 분류\n",
    "\n",
    "1. **최대 힙(Max Heap)** : 최대값을 구하기 위한 구조\n",
    "2. **최소 힙(Min Heap)** : 최소값을 구하기 위한 구조"
   ]
  },
  {
   "cell_type": "markdown",
   "metadata": {},
   "source": [
    "<br>\n",
    "\n",
    "### 1.3.2 힙의 조건\n",
    "\n",
    "- 힙은 다음과 같이 두 가지 조건을 가지고 있는 자료구조이다.\n",
    "\n",
    "1. **각 노드의 값은 해당 노드의 자식 노드가 가진 값보다 크거나 같다.** (최대 힙의 경우)\n",
    "  - 최소 힙의 경우는 각 노드의 값은 해당 노드의 자식 노드가 가진 값보다 작거나 같음\n",
    "2. **완전 이진 트리 형태를 가진다.**"
   ]
  },
  {
   "cell_type": "markdown",
   "metadata": {},
   "source": [
    "<br>\n",
    "\n",
    "## 1.4 힙과 이진 탐색 트리의 공통점과 차이점"
   ]
  },
  {
   "cell_type": "markdown",
   "metadata": {},
   "source": [
    "### 1.4.1 공통점\n",
    "\n",
    "- 힙과 이진 탐색 트리는 모두 **이진 트리(자식 노드가 최대 2개)**이다."
   ]
  },
  {
   "cell_type": "markdown",
   "metadata": {},
   "source": [
    "<br>\n",
    "\n",
    "### 1.4.2 차이점\n",
    "\n",
    "- 힙은 각 노드의 값이 자식 노드보다 크거나 같다. (Max Heap의 경우)\n",
    "- 이진 탐색 트리는 왼쪽 자식 노드의 값이 가장 작고, 그 다음 부모 노드, 그 다음 오른쪽 자식 노드의 값이 가장 크다.  \n",
    "(왼쪽 자식 노드 값 < 부모 노드 값 < 오른쪽 자식 노드 값)"
   ]
  },
  {
   "cell_type": "markdown",
   "metadata": {},
   "source": [
    "- 힙은 이진 탐색 트리의 조건인 자식 노드에서 작은 값이 왼쪽, 큰 값이 오른쪽이라는 조건이 없다.\n",
    "- 힙의 왼쪽 및 오른쪽 자식 노드의 값은 오른쪽이 클 수도 있고, 왼쪽이 클 수도 있다."
   ]
  },
  {
   "cell_type": "markdown",
   "metadata": {},
   "source": [
    "- 이진 탐색 트리는 **탐색을 위한 구조**이다.\n",
    "- 힙은 **최대/최소값 검색을 위한 구조** 중 하나이다."
   ]
  },
  {
   "cell_type": "markdown",
   "metadata": {},
   "source": [
    "$\\quad$ <img src=\"../img/heap_vs_binary_search_tree.png\" width=\"500px\" />"
   ]
  },
  {
   "cell_type": "code",
   "execution_count": null,
   "metadata": {},
   "outputs": [],
   "source": []
  }
 ],
 "metadata": {
  "kernelspec": {
   "display_name": "Python 3",
   "language": "python",
   "name": "python3"
  },
  "language_info": {
   "codemirror_mode": {
    "name": "ipython",
    "version": 3
   },
   "file_extension": ".py",
   "mimetype": "text/x-python",
   "name": "python",
   "nbconvert_exporter": "python",
   "pygments_lexer": "ipython3",
   "version": "3.6.9"
  }
 },
 "nbformat": 4,
 "nbformat_minor": 4
}
