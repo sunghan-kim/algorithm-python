{
 "cells": [
  {
   "cell_type": "markdown",
   "metadata": {},
   "source": [
    "# 3. 0 만들기\n",
    "\n",
    "- 난이도 : 중(Medium)\n",
    "- 유형 : 재귀 함수\n",
    "- 추천 풀이 시간 : 40분\n",
    "- [문제 설명 링크 : https://www.acmicpc.net/problem/7490](https://www.acmicpc.net/problem/7490)"
   ]
  },
  {
   "cell_type": "markdown",
   "metadata": {},
   "source": [
    "<br>\n",
    "\n",
    "## 3.1 문제 설명"
   ]
  },
  {
   "cell_type": "markdown",
   "metadata": {},
   "source": [
    "### 3.1.1 문제\n",
    "\n",
    "1부터 N까지의 수를 오름차순으로 쓴 수열 1 2 3 ... N을 생각하자.\n",
    "\n",
    "그리고 '+'나 '-', 또는 ' '(공백)을 숫자 사이에 삽입하자(+는 더하기, -는 빼기, 공백은 숫자를 이어 붙이는 것을 뜻한다). 이렇게 만든 수식의 값을 계산하고 그 결과가 0이 될 수 있는지를 살피자.\n",
    "\n",
    "N이 주어졌을 때 수식의 결과가 0이 되는 모든 수식을 찾는 프로그램을 작성하라."
   ]
  },
  {
   "cell_type": "markdown",
   "metadata": {},
   "source": [
    "<br>\n",
    "\n",
    "### 3.1.2 입력\n",
    "\n",
    "첫 번째 줄에 테스트 케이스의 개수가 주어진다(<10).\n",
    "\n",
    "각 테스트 케이스엔 자연수 N이 주어진다(3 <= N <= 9)."
   ]
  },
  {
   "cell_type": "markdown",
   "metadata": {},
   "source": [
    "<br>\n",
    "\n",
    "### 3.1.3 출력\n",
    "\n",
    "각 테스트 케이스에 대해 ASCII 순서에 따라 결과가 0이 되는 모든 수식을 출력한다. 각 테스트 케이스의 결과는 한 줄을 띄워 구분한다."
   ]
  },
  {
   "cell_type": "markdown",
   "metadata": {},
   "source": [
    "<br>\n",
    "\n",
    "### 3.1.4 입출력 예제\n",
    "\n",
    "**예제 입력 1**\n",
    "\n",
    "```\n",
    "3\n",
    "2\n",
    "7\n",
    "```\n",
    "\n",
    "**예제 출력 1**\n",
    "\n",
    "```\n",
    "1+2-3\n",
    "\n",
    "1+2-3+4-5-6+7\n",
    "1+2-3-4+5+6-7\n",
    "1-2 3+4+5+6+7\n",
    "1-2 3-4 5+6 7\n",
    "1-2+3+4-5+6-7\n",
    "1-2-3-4-5+6+7\n",
    "```"
   ]
  },
  {
   "cell_type": "markdown",
   "metadata": {},
   "source": [
    "<br>\n",
    "\n",
    "## 3.2 직접 구현"
   ]
  },
  {
   "cell_type": "markdown",
   "metadata": {},
   "source": [
    "### 3.2.1 직접 구현 코드"
   ]
  },
  {
   "cell_type": "code",
   "execution_count": null,
   "metadata": {},
   "outputs": [],
   "source": [
    "n = int(input())"
   ]
  },
  {
   "cell_type": "markdown",
   "metadata": {},
   "source": [
    "<br>\n",
    "\n",
    "## 3.3 해설"
   ]
  },
  {
   "cell_type": "markdown",
   "metadata": {},
   "source": [
    "### 3.3.1 해설 내용\n",
    "\n",
    "- 자연수 N의 범위($3 \\leq N \\leq 9$)가 매우 한정적이므로 완선 탐색으로 문제를 해결할 수 있다.\n",
    "- 수의 리스트와 연산자 리스트를 분리하여 모든 경우의 수를 계산한다.  \n",
    "- N=3 일 때의 예시\n",
    "  - 수의 개수 = 3 (N)\n",
    "  - 연산자 종류의 수 = 3 (+, -, '')\n",
    "  - 연산자가 들어갈 수 있는 자리의 수 = 2 (N-1)\n",
    "  - 연산자의 경우의 수 = 9 ($3^{N-1}$)\n",
    "\n",
    "$\\qquad$<img src=\"./img/make-zero_01.jpg\" width=500 />\n",
    "\n",
    "  \n",
    "- 가능한 모든 경우를 고려하여 연산자 리스트를 만드는 것이 관건이다. (재귀 함수 이용)\n",
    "\n",
    "$\\qquad$<img src=\"./img/make-zero_02.jpg\" width=500 />\n",
    "\n",
    "- 파이썬의 `eval()` 함수를 이용하여 문자열 현태의 표현식을 계산할 수 있다."
   ]
  },
  {
   "cell_type": "markdown",
   "metadata": {},
   "source": [
    "<br>\n",
    "\n",
    "### 3.3.2 해설 코드"
   ]
  },
  {
   "cell_type": "code",
   "execution_count": 3,
   "metadata": {},
   "outputs": [
    {
     "name": "stdin",
     "output_type": "stream",
     "text": [
      " 2\n",
      " 5\n"
     ]
    },
    {
     "name": "stdout",
     "output_type": "stream",
     "text": [
      "1 2-3-4-5\n",
      "\n"
     ]
    },
    {
     "name": "stdin",
     "output_type": "stream",
     "text": [
      " 7\n"
     ]
    },
    {
     "name": "stdout",
     "output_type": "stream",
     "text": [
      "1+2-3+4-5-6+7\n",
      "1+2-3-4+5+6-7\n",
      "1-2 3+4+5+6+7\n",
      "1-2 3-4 5+6 7\n",
      "1-2+3+4-5+6-7\n",
      "1-2-3-4-5+6+7\n",
      "\n"
     ]
    }
   ],
   "source": [
    "import copy\n",
    "\n",
    "def recursive(array, n):\n",
    "    if len(array) == n:\n",
    "        operators_list.append(copy.deepcopy(array)) \n",
    "        return\n",
    "    \n",
    "    array.append(' ')\n",
    "    recursive(array, n)\n",
    "    array.pop()\n",
    "    \n",
    "    array.append('+')\n",
    "    recursive(array, n)\n",
    "    array.pop()\n",
    "    \n",
    "    array.append('-')\n",
    "    recursive(array, n)\n",
    "    array.pop()\n",
    "\n",
    "test_case = int(input())\n",
    "\n",
    "for _ in range(test_case):\n",
    "    operators_list = []\n",
    "    n = int(input())\n",
    "    recursive([], n-1) # 연산자의 개수는 \"숫자의 개수 - 1\"개 이다.\n",
    "        \n",
    "    integers = [i for i in range(1, n+1)]\n",
    "    \n",
    "    # 수 리스트와 연산자 리스트 결합하기\n",
    "    for operators in operators_list:\n",
    "        string = \"\"\n",
    "        for i in range(n-1):\n",
    "            string += str(integers[i]) + operators[i]\n",
    "        string += str(integers[-1])\n",
    "        if eval(string.replace(\" \", \"\")) == 0:\n",
    "            print(string)\n",
    "    print()"
   ]
  }
 ],
 "metadata": {
  "kernelspec": {
   "display_name": "Python 3",
   "language": "python",
   "name": "python3"
  },
  "language_info": {
   "codemirror_mode": {
    "name": "ipython",
    "version": 3
   },
   "file_extension": ".py",
   "mimetype": "text/x-python",
   "name": "python",
   "nbconvert_exporter": "python",
   "pygments_lexer": "ipython3",
   "version": "3.6.9"
  }
 },
 "nbformat": 4,
 "nbformat_minor": 4
}
