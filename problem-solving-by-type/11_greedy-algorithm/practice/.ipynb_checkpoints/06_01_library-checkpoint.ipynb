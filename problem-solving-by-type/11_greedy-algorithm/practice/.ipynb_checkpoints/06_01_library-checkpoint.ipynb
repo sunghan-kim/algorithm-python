{
 "cells": [
  {
   "cell_type": "markdown",
   "metadata": {},
   "source": [
    "# 6. 도서관 (복습)\n",
    "\n",
    "- [문제 설명 링크 : https://www.acmicpc.net/problem/1461](https://www.acmicpc.net/problem/1461)"
   ]
  },
  {
   "cell_type": "code",
   "execution_count": 1,
   "metadata": {},
   "outputs": [
    {
     "name": "stdin",
     "output_type": "stream",
     "text": [
      " 7 2\n",
      " -37 2 -6 -39 -29 11 -28\n"
     ]
    },
    {
     "name": "stdout",
     "output_type": "stream",
     "text": [
      "131\n"
     ]
    }
   ],
   "source": [
    "import heapq\n",
    "\n",
    "n, m = map(int, input().split())\n",
    "array = list(map(int, input().split()))\n",
    "\n",
    "largest = max(max(array), -min(array))\n",
    "\n",
    "positive = list()\n",
    "negative = list()\n",
    "\n",
    "for a in array:\n",
    "    if a > 0:\n",
    "        heapq.heappush(positive, -a)\n",
    "    else:\n",
    "        heapq.heappush(negative, a)\n",
    "        \n",
    "result = 0\n",
    "\n",
    "while positive:\n",
    "    result += heapq.heappop(positive)\n",
    "    for _ in range(m-1):\n",
    "        if positive:\n",
    "            heapq.heappop(positive)\n",
    "            \n",
    "while negative:\n",
    "    result += heapq.heappop(negative)\n",
    "    for _ in range(m-1):\n",
    "        if negative:\n",
    "            heapq.heappop(negative)\n",
    "            \n",
    "print(-result * 2 - largest)"
   ]
  }
 ],
 "metadata": {
  "kernelspec": {
   "display_name": "Python 3",
   "language": "python",
   "name": "python3"
  },
  "language_info": {
   "codemirror_mode": {
    "name": "ipython",
    "version": 3
   },
   "file_extension": ".py",
   "mimetype": "text/x-python",
   "name": "python",
   "nbconvert_exporter": "python",
   "pygments_lexer": "ipython3",
   "version": "3.6.9"
  }
 },
 "nbformat": 4,
 "nbformat_minor": 4
}
