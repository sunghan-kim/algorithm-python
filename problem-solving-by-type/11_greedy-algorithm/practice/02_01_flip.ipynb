{
 "cells": [
  {
   "cell_type": "markdown",
   "metadata": {},
   "source": [
    "# 2. 뒤집기 (복습)\n",
    "\n",
    "- [문제 설명 링크 : https://www.acmicpc.net/problem/1439](https://www.acmicpc.net/problem/1439)"
   ]
  },
  {
   "cell_type": "code",
   "execution_count": 3,
   "metadata": {},
   "outputs": [
    {
     "name": "stdin",
     "output_type": "stream",
     "text": [
      " 0001100\n"
     ]
    },
    {
     "name": "stdout",
     "output_type": "stream",
     "text": [
      "1\n"
     ]
    }
   ],
   "source": [
    "data = input()\n",
    "\n",
    "flipTo0 = 0\n",
    "flipTo1 = 0\n",
    "\n",
    "if data[0] == '1':\n",
    "    flipTo0 += 1\n",
    "else:\n",
    "    flipTo1 += 1\n",
    "    \n",
    "for i in range(len(data)-1):\n",
    "    if data[i] != data[i+1]:\n",
    "        if data[i+1] == '1':\n",
    "            flipTo0 += 1\n",
    "        else:\n",
    "            flipTo1 += 1\n",
    "            \n",
    "print(min(flipTo0, flipTo1))            "
   ]
  }
 ],
 "metadata": {
  "kernelspec": {
   "display_name": "Python 3",
   "language": "python",
   "name": "python3"
  },
  "language_info": {
   "codemirror_mode": {
    "name": "ipython",
    "version": 3
   },
   "file_extension": ".py",
   "mimetype": "text/x-python",
   "name": "python",
   "nbconvert_exporter": "python",
   "pygments_lexer": "ipython3",
   "version": "3.6.9"
  }
 },
 "nbformat": 4,
 "nbformat_minor": 4
}
