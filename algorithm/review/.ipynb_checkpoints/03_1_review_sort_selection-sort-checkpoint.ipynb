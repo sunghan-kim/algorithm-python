{
 "cells": [
  {
   "cell_type": "markdown",
   "metadata": {},
   "source": [
    "# 3. 선택 정렬 (복습)"
   ]
  },
  {
   "cell_type": "code",
   "execution_count": 3,
   "metadata": {},
   "outputs": [
    {
     "data": {
      "text/plain": [
       "[1, 7, 9]"
      ]
     },
     "execution_count": 3,
     "metadata": {},
     "output_type": "execute_result"
    }
   ],
   "source": [
    "dataList = [9, 1, 7]\n",
    "\n",
    "for index in range(len(dataList) - 1):\n",
    "    minIdx = index\n",
    "    \n",
    "    for i in range(index + 1, len(dataList)):\n",
    "        if dataList[minIdx] > dataList[i]:\n",
    "            minIdx = i\n",
    "    \n",
    "    dataList[index], dataList[minIdx] = dataList[minIdx], dataList[index]\n",
    "    \n",
    "dataList"
   ]
  },
  {
   "cell_type": "code",
   "execution_count": 5,
   "metadata": {},
   "outputs": [
    {
     "data": {
      "text/plain": [
       "[1, 2, 3, 9]"
      ]
     },
     "execution_count": 5,
     "metadata": {},
     "output_type": "execute_result"
    }
   ],
   "source": [
    "dataList = [9, 3, 2, 1]\n",
    "\n",
    "for stand in range(len(dataList) - 1):\n",
    "    lowest = stand\n",
    "    \n",
    "    for index in range(stand+1, len(dataList)):\n",
    "        if dataList[lowest] > dataList[index]:\n",
    "            lowest = index\n",
    "    dataList[stand], dataList[lowest] = dataList[lowest], dataList[stand]\n",
    "    \n",
    "dataList"
   ]
  },
  {
   "cell_type": "code",
   "execution_count": 6,
   "metadata": {},
   "outputs": [],
   "source": [
    "def selection_sort(data):\n",
    "    for stand in range(len(data) - 1):\n",
    "        lowest = stand\n",
    "        for index in range(stand+1, len(data)):\n",
    "            if data[lowest] > data[index]:\n",
    "                lowest = index\n",
    "        data[lowest], data[stand] = data[stand], data[lowest]\n",
    "    \n",
    "    return data"
   ]
  },
  {
   "cell_type": "code",
   "execution_count": 7,
   "metadata": {},
   "outputs": [
    {
     "name": "stdout",
     "output_type": "stream",
     "text": [
      "[0, 4, 6, 15, 17, 18, 20, 21, 24, 25, 26, 27, 29, 31, 33, 34, 35, 37, 39, 40, 41, 45, 46, 50, 52, 53, 54, 55, 57, 59, 60, 62, 63, 64, 65, 69, 70, 71, 74, 78, 82, 86, 87, 88, 89, 90, 93, 95, 98, 99]\n"
     ]
    }
   ],
   "source": [
    "import random\n",
    "\n",
    "dataList = random.sample(range(100), 50)\n",
    "print(selection_sort(dataList))"
   ]
  }
 ],
 "metadata": {
  "kernelspec": {
   "display_name": "Python 3",
   "language": "python",
   "name": "python3"
  },
  "language_info": {
   "codemirror_mode": {
    "name": "ipython",
    "version": 3
   },
   "file_extension": ".py",
   "mimetype": "text/x-python",
   "name": "python",
   "nbconvert_exporter": "python",
   "pygments_lexer": "ipython3",
   "version": "3.6.9"
  }
 },
 "nbformat": 4,
 "nbformat_minor": 4
}
