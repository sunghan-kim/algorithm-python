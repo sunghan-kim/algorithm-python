{
 "cells": [
  {
   "cell_type": "markdown",
   "metadata": {},
   "source": [
    "# 6. 도서관\n",
    "\n",
    "- 난이도 : 중(Medium)\n",
    "- 유형 : 그리디\n",
    "- 추천 풀이 시간 : 40분\n",
    "- [문제 설명 링크 : https://www.acmicpc.net/problem/1461](https://www.acmicpc.net/problem/1461)"
   ]
  },
  {
   "cell_type": "markdown",
   "metadata": {},
   "source": [
    "<br>\n",
    "\n",
    "## 6.1 문제 풀이"
   ]
  },
  {
   "cell_type": "code",
   "execution_count": null,
   "metadata": {},
   "outputs": [],
   "source": []
  },
  {
   "cell_type": "markdown",
   "metadata": {},
   "source": [
    "<br>\n",
    "\n",
    "## 6.2 해설"
   ]
  },
  {
   "cell_type": "markdown",
   "metadata": {},
   "source": [
    "### 6.2.1 문제 풀이 핵심 아이디어\n",
    "\n",
    "- 일직선상의 각 책들을 원래의 위치에 놓아야 한다.\n",
    "- **0보다 큰 책들**과 **0보다 작은 책들**을 나누어 처리한다.\n",
    "- 두 개의 우선순위 큐를 이용하여 문제를 효과적으로 해결할 수 있다.\n",
    "- 마지막 책을 놓을 때는 다시 0으로 돌아올 필요가 없으므로 가장 먼 책을 마지막으로 놓는다."
   ]
  },
  {
   "cell_type": "markdown",
   "metadata": {},
   "source": [
    "<br>\n",
    "\n",
    "### 6.2.2 문제 풀이 예시\n",
    "\n",
    "- 책의 개수(N) = 7\n",
    "- 한 번에 들 수 있는 책의 개수(M) = 2  \n",
    "  \n",
    "  \n",
    "- 음수와 양수에 대하여 개별적으로, M개씩 묶어서 처리한다.\n",
    "- **M개씩의 묶음 중에서 가장 거리가 먼 책만큼 이동**해야 한다.\n",
    "  - -39, -37 -> 39 (= 39 + 2 + 37)\n",
    "  - -29, -28 -> 29 (= 29 + 1 + 28)\n",
    "- 전체의 왕복 거리의 합에서 가장 먼 책의 거리를 빼면 정답이 된다.\n",
    "\n",
    "<img src=\"./img/06_01.jpg\" style=\"width: 500px; margin-left: 25px\" />"
   ]
  },
  {
   "cell_type": "markdown",
   "metadata": {},
   "source": [
    "<br>\n",
    "\n",
    "### 6.2.3 해설 코드"
   ]
  },
  {
   "cell_type": "code",
   "execution_count": 3,
   "metadata": {},
   "outputs": [
    {
     "name": "stdin",
     "output_type": "stream",
     "text": [
      " 7 2\n",
      " -37 2 -6 -39 -29 11 -28\n"
     ]
    },
    {
     "name": "stdout",
     "output_type": "stream",
     "text": [
      "131\n"
     ]
    }
   ],
   "source": [
    "import heapq\n",
    "\n",
    "n, m = map(int, input().split())\n",
    "array = list(map(int, input().split()))\n",
    "\n",
    "positive = []\n",
    "negative = []\n",
    "\n",
    "# 가장 거리가 먼 책까지의 거리\n",
    "largest = max(max(array), -min(array))\n",
    "\n",
    "# 최대 힙(Max Heap)을 위해 원소를 음수로 구성\n",
    "for i in array:\n",
    "    if i > 0: # 책의 위치가 양수인 경우\n",
    "        heapq.heappush(positive, -i)\n",
    "    else: # 책의 위치가 음수인 경우\n",
    "        heapq.heappush(negative, i)\n",
    "        \n",
    "result = 0\n",
    "\n",
    "while positive:\n",
    "    # 한 번에 m개씩 옮길 수 있으므로 m개씩 꺼내기\n",
    "    result += heapq.heappop(positive)\n",
    "    for _ in range(m-1):\n",
    "        if positive:\n",
    "            heapq.heappop(positive)\n",
    "            \n",
    "while negative:\n",
    "    # 한 번에 m개씩 옮길 수 있으므로 m개씩 꺼내기\n",
    "    result += heapq.heappop(negative)\n",
    "    for _ in range(m-1):\n",
    "        if negative:\n",
    "            heapq.heappop(negative)\n",
    "        \n",
    "# 일반적으로 왕복 거리를 계산하지만, 가장 먼 곳은 편도 거리 계산\n",
    "print(-result * 2 - largest)"
   ]
  },
  {
   "cell_type": "code",
   "execution_count": null,
   "metadata": {},
   "outputs": [],
   "source": []
  }
 ],
 "metadata": {
  "kernelspec": {
   "display_name": "Python 3",
   "language": "python",
   "name": "python3"
  },
  "language_info": {
   "codemirror_mode": {
    "name": "ipython",
    "version": 3
   },
   "file_extension": ".py",
   "mimetype": "text/x-python",
   "name": "python",
   "nbconvert_exporter": "python",
   "pygments_lexer": "ipython3",
   "version": "3.6.9"
  }
 },
 "nbformat": 4,
 "nbformat_minor": 4
}
