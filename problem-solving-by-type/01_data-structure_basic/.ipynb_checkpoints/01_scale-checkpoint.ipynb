{
 "cells": [
  {
   "cell_type": "markdown",
   "metadata": {},
   "source": [
    "# 1. 음계\n",
    "\n",
    "- 난이도 : 하(Easy)\n",
    "- 유형 : 배열, 구현\n",
    "- 추천 풀이 시간 : 15분\n",
    "- [문제 설명 링크 : https://www.acmicpc.net/problem/2920](https://www.acmicpc.net/problem/2920)"
   ]
  },
  {
   "cell_type": "markdown",
   "metadata": {},
   "source": [
    "<br>\n",
    "\n",
    "## 1.1 직접 구현"
   ]
  },
  {
   "cell_type": "code",
   "execution_count": 41,
   "metadata": {},
   "outputs": [],
   "source": [
    "def scale(inputData):\n",
    "    data = [int(d) for d in inputData.split(\" \")]\n",
    "    gapList = []\n",
    "    pYn = False\n",
    "    nYn = False\n",
    "    for i in range(len(data)-1):\n",
    "        gap = data[i+1] - data[i]\n",
    "        if gap > 0:\n",
    "            pYn = True\n",
    "        elif gap < 0:\n",
    "            nYn = True\n",
    "    if pYn and nYn:\n",
    "        print(\"mixed\")\n",
    "    elif pYn and not nYn:\n",
    "        print(\"ascending\")\n",
    "    elif not pYn and nYn:\n",
    "        print(\"descending\")"
   ]
  },
  {
   "cell_type": "code",
   "execution_count": 42,
   "metadata": {},
   "outputs": [
    {
     "name": "stdout",
     "output_type": "stream",
     "text": [
      "ascending\n"
     ]
    }
   ],
   "source": [
    "scale(\"1 2 3 4 5 6 7 8\")"
   ]
  },
  {
   "cell_type": "code",
   "execution_count": 43,
   "metadata": {},
   "outputs": [
    {
     "name": "stdout",
     "output_type": "stream",
     "text": [
      "descending\n"
     ]
    }
   ],
   "source": [
    "scale(\"8 7 6 5 4 3 2 1\")"
   ]
  },
  {
   "cell_type": "code",
   "execution_count": 44,
   "metadata": {},
   "outputs": [
    {
     "name": "stdout",
     "output_type": "stream",
     "text": [
      "mixed\n"
     ]
    }
   ],
   "source": [
    "scale(\"8 1 7 2 6 3 5 4\")"
   ]
  },
  {
   "cell_type": "code",
   "execution_count": 45,
   "metadata": {},
   "outputs": [
    {
     "name": "stdin",
     "output_type": "stream",
     "text": [
      " 1 2 3 4 5 6 7 8\n"
     ]
    },
    {
     "name": "stdout",
     "output_type": "stream",
     "text": [
      "ascending\n"
     ]
    }
   ],
   "source": [
    "data = [int(d) for d in input().split(\" \")]\n",
    "gapList = []\n",
    "pYn = False\n",
    "nYn = False\n",
    "for i in range(len(data)-1):\n",
    "    gap = data[i+1] - data[i]\n",
    "    if gap > 0:\n",
    "        pYn = True\n",
    "    elif gap < 0:\n",
    "        nYn = True\n",
    "if pYn and nYn:\n",
    "    print(\"mixed\")\n",
    "elif pYn and not nYn:\n",
    "    print(\"ascending\")\n",
    "elif not pYn and nYn:\n",
    "    print(\"descending\")"
   ]
  },
  {
   "cell_type": "markdown",
   "metadata": {},
   "source": [
    "<br>\n",
    "\n",
    "**구현 소요 시간**\n",
    "\n",
    "- 10분"
   ]
  },
  {
   "cell_type": "markdown",
   "metadata": {},
   "source": [
    "**메모리 및 소요 시간**\n",
    "\n",
    "- 메모리 : 29380KB\n",
    "- 소요 시간 : 60ms"
   ]
  },
  {
   "cell_type": "markdown",
   "metadata": {},
   "source": [
    "<br>\n",
    "\n",
    "## 1.2 해설"
   ]
  },
  {
   "cell_type": "code",
   "execution_count": 48,
   "metadata": {},
   "outputs": [
    {
     "name": "stdin",
     "output_type": "stream",
     "text": [
      " 1 2 3 4 5 6 7 8\n"
     ]
    },
    {
     "name": "stdout",
     "output_type": "stream",
     "text": [
      "ascending\n"
     ]
    }
   ],
   "source": [
    "a = list(map(int, input().split(\" \")))\n",
    "\n",
    "ascending = True\n",
    "descending = True\n",
    "\n",
    "for i in range(1, 8):\n",
    "    if a[i] > a[i-1]:\n",
    "        descending = False\n",
    "    elif a[i] < a[i-1]:\n",
    "        ascending = False\n",
    "\n",
    "if ascending:\n",
    "    print(\"ascending\")\n",
    "elif descending:\n",
    "    print(\"descending\")\n",
    "else:\n",
    "    print(\"mixed\")"
   ]
  },
  {
   "cell_type": "markdown",
   "metadata": {},
   "source": [
    "<br>\n",
    "\n",
    "**메모리 및 소요 시간**\n",
    "\n",
    "- 메모리 : 29380KB\n",
    "- 소요 시간 : 60ms"
   ]
  }
 ],
 "metadata": {
  "kernelspec": {
   "display_name": "Python 3",
   "language": "python",
   "name": "python3"
  },
  "language_info": {
   "codemirror_mode": {
    "name": "ipython",
    "version": 3
   },
   "file_extension": ".py",
   "mimetype": "text/x-python",
   "name": "python",
   "nbconvert_exporter": "python",
   "pygments_lexer": "ipython3",
   "version": "3.6.9"
  }
 },
 "nbformat": 4,
 "nbformat_minor": 4
}
