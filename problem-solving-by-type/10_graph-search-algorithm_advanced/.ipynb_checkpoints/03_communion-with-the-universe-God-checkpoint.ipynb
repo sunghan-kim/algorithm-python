{
 "cells": [
  {
   "cell_type": "markdown",
   "metadata": {},
   "source": [
    "# 3. 우주신과의 교감\n",
    "\n",
    "- 난이도 : 중(Medium)\n",
    "- 유형 : 최소 신장 트리\n",
    "- 추천 풀이 시간 : 40분\n",
    "- [문제 설명 링크 : https://www.acmicpc.net/problem/1774](https://www.acmicpc.net/problem/1774)"
   ]
  },
  {
   "cell_type": "markdown",
   "metadata": {},
   "source": [
    "<br>\n",
    "\n",
    "## 3.1 문제 풀이"
   ]
  },
  {
   "cell_type": "code",
   "execution_count": null,
   "metadata": {},
   "outputs": [],
   "source": []
  },
  {
   "cell_type": "markdown",
   "metadata": {},
   "source": [
    "<br>\n",
    "\n",
    "## 3.2 해설"
   ]
  },
  {
   "cell_type": "markdown",
   "metadata": {},
   "source": [
    "### 3.2.1 핵심 아이디어\n",
    "\n",
    "- 2차원 좌표가 주어졌을 때, 모든 좌표를 잇는 최소 신장 트리를 만들어야 한다.\n",
    "- 따라서 2차원 좌표 상의 점을 잇는 통로들을 고려해야 한다.\n",
    "- 정점의 개수 $N$이 최대 1,000이므로, 가능한 통로의 개수는 약 $N^2$이다.\n",
    "- 크루스칼 알고리즘은 간선의 개수가 E일 때, O(ElogE)로 동작한다.\n",
    "- 따라서 이 문제는 **크루스칼 알고리즘**으로 해결할 수 있다."
   ]
  },
  {
   "cell_type": "markdown",
   "metadata": {},
   "source": [
    "<br>\n",
    "\n",
    "### 3.2.2 그림 예시\n",
    "\n",
    "- 다음과 같은 조건에서 최소 신장 트리는 오른쪽 그림과 같다.\n",
    "- 만들어야 할 최소의 통로 길이는 4.00이다.\n",
    "\n",
    "<img src=\"./img/03_01.jpg\" style=\"width: 600px; margin-left: 25px\" />"
   ]
  },
  {
   "cell_type": "markdown",
   "metadata": {},
   "source": [
    "<br>\n",
    "\n",
    "### 3.2.3 해설 코드"
   ]
  },
  {
   "cell_type": "code",
   "execution_count": 1,
   "metadata": {},
   "outputs": [
    {
     "name": "stdin",
     "output_type": "stream",
     "text": [
      " 4 1\n",
      " 1 1\n",
      " 3 1\n",
      " 2 3\n",
      " 4 3\n",
      " 1 4\n"
     ]
    },
    {
     "name": "stdout",
     "output_type": "stream",
     "text": [
      "4.00\n"
     ]
    }
   ],
   "source": [
    "import math\n",
    "#import sys\n",
    "#input = sys.stdin.readline\n",
    "\n",
    "# 두 정점 사이의 유클리드 거리를 계산하는 함수\n",
    "def get_distance(p1, p2):\n",
    "    a = p1[0] - p2[0]\n",
    "    b = p1[1] - p2[1]\n",
    "    return math.sqrt((a*a) + (b*b))\n",
    "\n",
    "# 특정 노드의 최상위 노드 반환 함수\n",
    "def get_parent(parent, n):\n",
    "    if parent[n] == n:\n",
    "        return n\n",
    "    return get_parent(parent, parent[n])\n",
    "\n",
    "# 두개의 노드를 연결하는 함수\n",
    "def union_parent(parent, a, b):\n",
    "    a = get_parent(parent, a)\n",
    "    b = get_parent(parent, b)\n",
    "    \n",
    "    if a < b:\n",
    "        parent[b] = a\n",
    "    else:\n",
    "        parent[a] = b\n",
    "\n",
    "# 두개의 노드가 서로 같은 최상위 노드를 가지고 있는 지 확인하는 함수\n",
    "#  - 같은 최상위 노드를 갖는 경우 : union 실행 x\n",
    "#  - 다른 최상위 노드를 갖는 경우 : union 실행\n",
    "def find_parent(parent, a, b):\n",
    "    a = get_parent(parent, a)\n",
    "    b = get_parent(parent, b)\n",
    "    \n",
    "    if a == b:\n",
    "        return True\n",
    "    else:\n",
    "        return False\n",
    "        \n",
    "edges = []\n",
    "parent = {}\n",
    "locations = []\n",
    "\n",
    "n, m = map(int, input().split())\n",
    "\n",
    "for _ in range(n):\n",
    "    x, y = map(int, input().split())\n",
    "    locations.append((x, y))\n",
    "    \n",
    "length = len(locations)\n",
    "\n",
    "for i in range(length - 1):\n",
    "    for j in range(i+1, length):\n",
    "        edges.append((i+1, j+1, get_distance(locations[i], locations[j])))\n",
    "        \n",
    "for i in range(1, n+1):\n",
    "    parent[i] = i\n",
    "    \n",
    "for i in range(m):\n",
    "    a, b = map(int, input().split())\n",
    "    # 이미 연결되어 있는 2개의 노드 연결\n",
    "    union_parent(parent, a, b)\n",
    "    \n",
    "edges.sort(key=lambda data: data[2])\n",
    "\n",
    "result = 0\n",
    "for a, b, cost in edges:\n",
    "    if not find_parent(parent, a, b):\n",
    "        union_parent(parent, a, b)\n",
    "        result += cost\n",
    "        \n",
    "print(\"%0.2f\" % result)"
   ]
  },
  {
   "cell_type": "markdown",
   "metadata": {},
   "source": [
    "<br>\n",
    "\n",
    "- 위의 코드와 다른 점 : `union_parent` 함수에서 최상위 노드 설정하는 부분이 다름"
   ]
  },
  {
   "cell_type": "code",
   "execution_count": null,
   "metadata": {},
   "outputs": [],
   "source": [
    "import math\n",
    "#import sys\n",
    "#input = sys.stdin.readline\n",
    "\n",
    "# 두 정점 사이의 유클리드 거리를 계산하는 함수\n",
    "def get_distance(p1, p2):\n",
    "    a = p1[0] - p2[0]\n",
    "    b = p1[1] - p2[1]\n",
    "    return math.sqrt((a*a) + (b*b))\n",
    "\n",
    "# 특정 노드의 최상위 노드 반환 함수\n",
    "def get_parent(parent, n):\n",
    "    if parent[n] == n:\n",
    "        return n\n",
    "    return get_parent(parent, parent[n])\n",
    "\n",
    "# 두개의 노드를 연결하는 함수\n",
    "def union_parent(parent, a, b):\n",
    "    a = get_parent(parent, a)\n",
    "    b = get_parent(parent, b)\n",
    "    \n",
    "    if a < b:\n",
    "        parent[a] = b\n",
    "    else:\n",
    "        parent[b] = a\n",
    "\n",
    "# 두개의 노드가 서로 같은 최상위 노드를 가지고 있는 지 확인하는 함수\n",
    "#  - 같은 최상위 노드를 갖는 경우 : union 실행 x\n",
    "#  - 다른 최상위 노드를 갖는 경우 : union 실행\n",
    "def find_parent(parent, a, b):\n",
    "    a = get_parent(parent, a)\n",
    "    b = get_parent(parent, b)\n",
    "    \n",
    "    if a == b:\n",
    "        return True\n",
    "    else:\n",
    "        return False\n",
    "        \n",
    "edges = []\n",
    "parent = {}\n",
    "locations = []\n",
    "\n",
    "n, m = map(int, input().split())\n",
    "\n",
    "for _ in range(n):\n",
    "    x, y = map(int, input().split())\n",
    "    locations.append((x, y))\n",
    "    \n",
    "length = len(locations)\n",
    "\n",
    "for i in range(length - 1):\n",
    "    for j in range(i+1, length):\n",
    "        edges.append((i+1, j+1, get_distance(locations[i], locations[j])))\n",
    "        \n",
    "for i in range(1, n+1):\n",
    "    parent[i] = i\n",
    "    \n",
    "for i in range(m):\n",
    "    a, b = map(int, input().split())\n",
    "    # 이미 연결되어 있는 2개의 노드 연결\n",
    "    union_parent(parent, a, b)\n",
    "    \n",
    "edges.sort(key=lambda data: data[2])\n",
    "\n",
    "result = 0\n",
    "for a, b, cost in edges:\n",
    "    if not find_parent(parent, a, b):\n",
    "        union_parent(parent, a, b)\n",
    "        result += cost\n",
    "        \n",
    "print(\"%0.2f\" % result)"
   ]
  }
 ],
 "metadata": {
  "kernelspec": {
   "display_name": "Python 3",
   "language": "python",
   "name": "python3"
  },
  "language_info": {
   "codemirror_mode": {
    "name": "ipython",
    "version": 3
   },
   "file_extension": ".py",
   "mimetype": "text/x-python",
   "name": "python",
   "nbconvert_exporter": "python",
   "pygments_lexer": "ipython3",
   "version": "3.6.9"
  }
 },
 "nbformat": 4,
 "nbformat_minor": 4
}
