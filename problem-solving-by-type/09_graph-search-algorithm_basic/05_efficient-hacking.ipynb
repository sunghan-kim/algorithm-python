{
 "cells": [
  {
   "cell_type": "markdown",
   "metadata": {},
   "source": [
    "# 5. 효율적인 해킹\n",
    "\n",
    "- 난이도 : 하(Easy)\n",
    "- 유형 : DFS, BFS\n",
    "- 추천 풀이 시간 : 30분\n",
    "- [문제 설명 링크 : https://www.acmicpc.net/problem/1325](https://www.acmicpc.net/problem/1325)"
   ]
  },
  {
   "cell_type": "markdown",
   "metadata": {},
   "source": [
    "<br>\n",
    "\n",
    "## 5.1 문제 풀이"
   ]
  },
  {
   "cell_type": "markdown",
   "metadata": {},
   "source": [
    "### 5.1.1 풀이 1\n",
    "\n",
    "- DFS 사용\n",
    "- 메모리 초과"
   ]
  },
  {
   "cell_type": "code",
   "execution_count": 11,
   "metadata": {},
   "outputs": [
    {
     "name": "stdin",
     "output_type": "stream",
     "text": [
      " 5 4\n",
      " 3 1\n",
      " 3 2\n",
      " 4 3\n",
      " 5 3\n"
     ]
    },
    {
     "name": "stdout",
     "output_type": "stream",
     "text": [
      "4\n",
      "1 2\n"
     ]
    }
   ],
   "source": [
    "import sys\n",
    "sys.setrecursionlimit(100000)\n",
    "\n",
    "def dfs(x):\n",
    "    global result\n",
    "    visited[x] = True\n",
    "    result += 1\n",
    "    \n",
    "    for g in graph[x]:\n",
    "        if not visited[g]:\n",
    "            dfs(g)\n",
    "\n",
    "n, m = map(int, input().split())\n",
    "graph = [[] for _ in range(n+1)]\n",
    "\n",
    "for _ in range(m):\n",
    "    x, y = map(int, input().split())\n",
    "    graph[y].append(x)\n",
    "    \n",
    "counts  = [0] * (n+1)\n",
    "maxValue = 0\n",
    "\n",
    "for i in range(1, n+1):\n",
    "    visited = [False] * (n+1)\n",
    "    result = 0\n",
    "    dfs(i)\n",
    "    counts[i] = result\n",
    "    if maxValue < result:\n",
    "        maxValue = result\n",
    "\n",
    "result = []\n",
    "for i in range(1, n+1):\n",
    "    if counts[i] == maxValue:\n",
    "        result.append(i)\n",
    "\n",
    "result.sort()\n",
    "\n",
    "print(' '.join(map(str, result)))"
   ]
  },
  {
   "cell_type": "markdown",
   "metadata": {},
   "source": [
    "<br>\n",
    "\n",
    "### 5.1.2 풀이 2\n",
    "\n",
    "- BFS 사용\n",
    "- 시간 초과"
   ]
  },
  {
   "cell_type": "code",
   "execution_count": 12,
   "metadata": {},
   "outputs": [
    {
     "name": "stdin",
     "output_type": "stream",
     "text": [
      " 5 4\n",
      " 3 1\n",
      " 3 2\n",
      " 4 3\n",
      " 5 3\n"
     ]
    },
    {
     "name": "stdout",
     "output_type": "stream",
     "text": [
      "1 2\n"
     ]
    }
   ],
   "source": [
    "from collections import deque\n",
    "\n",
    "def bfs(x):\n",
    "    global result\n",
    "    q = deque()\n",
    "    q.append(x)\n",
    "    visited[x] = True\n",
    "    result += 1\n",
    "    \n",
    "    while q:\n",
    "        now_pos = q.popleft()\n",
    "        for g in graph[now_pos]:\n",
    "            if not visited[g]:\n",
    "                visited[g] = True\n",
    "                q.append(g)\n",
    "                result += 1\n",
    "\n",
    "n, m = map(int, input().split())\n",
    "graph = [[] for _ in range(n+1)]\n",
    "\n",
    "for _ in range(m):\n",
    "    x, y = map(int, input().split())\n",
    "    graph[y].append(x)\n",
    "    \n",
    "counts  = [0] * (n+1)\n",
    "maxValue = 0\n",
    "\n",
    "for i in range(1, n+1):\n",
    "    visited = [False] * (n+1)\n",
    "    result = 0\n",
    "    bfs(i)\n",
    "    counts[i] = result\n",
    "    if maxValue < result:\n",
    "        maxValue = result\n",
    "\n",
    "result = []\n",
    "for i in range(1, n+1):\n",
    "    if counts[i] == maxValue:\n",
    "        result.append(i)\n",
    "\n",
    "result.sort()\n",
    "\n",
    "print(' '.join(map(str, result)))"
   ]
  },
  {
   "cell_type": "markdown",
   "metadata": {},
   "source": [
    "<br>\n",
    "\n",
    "## 5.2 해설"
   ]
  },
  {
   "cell_type": "markdown",
   "metadata": {},
   "source": [
    "### 5.2.1 해설 내용\n",
    "\n",
    "- 모든 정점에 대하여 DFS 및 BFS를 수행한다.\n",
    "- DFS 혹은 BFS를 수행할 때 마다 방문하게 되는 노드의 개수를 계산하면 된다.\n",
    "  - 문제에서 주어진 간선의 개수가 많기 때문에 DFS보다 BFS를 사용하는 것이 효율적이다.\n",
    "- 가장 노드의 개수가 크게 되는 시작 정점을 출력한다."
   ]
  },
  {
   "cell_type": "markdown",
   "metadata": {},
   "source": [
    "<br>\n",
    "\n",
    "### 5.2.2 해설 코드"
   ]
  },
  {
   "cell_type": "code",
   "execution_count": 13,
   "metadata": {},
   "outputs": [
    {
     "name": "stdin",
     "output_type": "stream",
     "text": [
      " 5 4\n",
      " 3 1\n",
      " 3 2\n",
      " 4 3\n",
      " 5 3\n"
     ]
    },
    {
     "name": "stdout",
     "output_type": "stream",
     "text": [
      "1 2 "
     ]
    }
   ],
   "source": [
    "from collections import deque\n",
    "\n",
    "n, m = map(int, input().split())\n",
    "adj = [[] for _ in range(n+1)]\n",
    "\n",
    "for _ in range(m):\n",
    "    x, y = map(int, input().split())\n",
    "    adj[y].append(x)\n",
    "    \n",
    "def bfs(v):\n",
    "    q = deque([v])\n",
    "    visited = [False] * (n+1)\n",
    "    visited[v] = True\n",
    "    count = 1\n",
    "    \n",
    "    while q:\n",
    "        v = q.popleft()\n",
    "        for e in adj[v]:\n",
    "            if not visited[e]:\n",
    "                q.append(e)\n",
    "                visited[e] = True\n",
    "                count += 1\n",
    "                \n",
    "    return count\n",
    "\n",
    "result = []\n",
    "max_value = -1\n",
    "\n",
    "for i in range(1, n+1):\n",
    "    c = bfs(i)\n",
    "    if c > max_value:\n",
    "        result = [i]\n",
    "        max_value = c\n",
    "    elif c == max_value:\n",
    "        result.append(i)\n",
    "        max_value = c\n",
    "        \n",
    "for e in result:\n",
    "    print(e, end=' ')"
   ]
  }
 ],
 "metadata": {
  "kernelspec": {
   "display_name": "Python 3",
   "language": "python",
   "name": "python3"
  },
  "language_info": {
   "codemirror_mode": {
    "name": "ipython",
    "version": 3
   },
   "file_extension": ".py",
   "mimetype": "text/x-python",
   "name": "python",
   "nbconvert_exporter": "python",
   "pygments_lexer": "ipython3",
   "version": "3.6.9"
  }
 },
 "nbformat": 4,
 "nbformat_minor": 4
}
