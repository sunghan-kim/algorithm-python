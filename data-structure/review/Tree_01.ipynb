{
 "cells": [
  {
   "cell_type": "markdown",
   "metadata": {},
   "source": [
    "# 1. 이진 탐색 트리 구현"
   ]
  },
  {
   "cell_type": "markdown",
   "metadata": {},
   "source": [
    "## 1.1 노드 클래스 생성"
   ]
  },
  {
   "cell_type": "code",
   "execution_count": 1,
   "metadata": {},
   "outputs": [],
   "source": [
    "class Node:\n",
    "    def __init__(self, value):\n",
    "        self.value = value\n",
    "        self.left = None\n",
    "        self.right = None"
   ]
  },
  {
   "cell_type": "markdown",
   "metadata": {},
   "source": [
    "<br>\n",
    "\n",
    "## 1.2 이진 탐색 트리 데이터 삽입"
   ]
  },
  {
   "cell_type": "code",
   "execution_count": 2,
   "metadata": {},
   "outputs": [],
   "source": [
    "class NodeMgmt:\n",
    "    def __init__(self, head):\n",
    "        self.head = head\n",
    "        \n",
    "    def insert(self, value):\n",
    "        self.current_node = self.head\n",
    "        \n",
    "        while True:\n",
    "            if value < self.current_node.value:\n",
    "                if self.current_node.left != None:\n",
    "                    self.current_node = self.current_node.left\n",
    "                else:\n",
    "                    self.current_node.left = Node(value)\n",
    "                    break\n",
    "            else:\n",
    "                if self.current_node.right != None:\n",
    "                    self.current_node = self.current_node.right\n",
    "                else:\n",
    "                    self.current_node.right = Node(value)\n",
    "                    break"
   ]
  },
  {
   "cell_type": "code",
   "execution_count": 3,
   "metadata": {},
   "outputs": [],
   "source": [
    "head = Node(1)\n",
    "BST = NodeMgmt(head)\n",
    "BST.insert(2)"
   ]
  },
  {
   "cell_type": "markdown",
   "metadata": {},
   "source": [
    "<br>\n",
    "\n",
    "## 1.3 이진 탐색 트리 데이터 탐색"
   ]
  },
  {
   "cell_type": "code",
   "execution_count": 4,
   "metadata": {},
   "outputs": [],
   "source": [
    "class NodeMgmt:\n",
    "    def __init__(self, head):\n",
    "        self.head = head\n",
    "        \n",
    "    def insert(self, value):\n",
    "        self.current_node = self.head\n",
    "        \n",
    "        while True:\n",
    "            if value < self.current_node.value:\n",
    "                if self.current_node.left != None:\n",
    "                    self.current_node = self.current_node.left\n",
    "                else:\n",
    "                    self.current_node.left = Node(value)\n",
    "                    break\n",
    "            else:\n",
    "                if self.current_node.right != None:\n",
    "                    self.current_node = self.current_node.right\n",
    "                else:\n",
    "                    self.current_node.right = Node(value)\n",
    "                    break\n",
    "    \n",
    "    def search(self, value):\n",
    "        self.current_node = self.head\n",
    "        \n",
    "        while self.current_node:\n",
    "            if self.current_node.value == value:\n",
    "                return True\n",
    "            elif value < self.current_node.value:\n",
    "                self.current_node = self.current_node.left\n",
    "            else:\n",
    "                self.current_node = self.current_node.right\n",
    "        return False"
   ]
  },
  {
   "cell_type": "code",
   "execution_count": 6,
   "metadata": {},
   "outputs": [],
   "source": [
    "head = Node(1)\n",
    "BST = NodeMgmt(head)\n",
    "BST.insert(2)\n",
    "BST.insert(3)\n",
    "BST.insert(0)\n",
    "BST.insert(4)\n",
    "BST.insert(8)"
   ]
  },
  {
   "cell_type": "code",
   "execution_count": 7,
   "metadata": {},
   "outputs": [
    {
     "data": {
      "text/plain": [
       "False"
      ]
     },
     "execution_count": 7,
     "metadata": {},
     "output_type": "execute_result"
    }
   ],
   "source": [
    "BST.search(-1)"
   ]
  },
  {
   "cell_type": "code",
   "execution_count": 8,
   "metadata": {},
   "outputs": [
    {
     "data": {
      "text/plain": [
       "True"
      ]
     },
     "execution_count": 8,
     "metadata": {},
     "output_type": "execute_result"
    }
   ],
   "source": [
    "BST.search(8)"
   ]
  }
 ],
 "metadata": {
  "kernelspec": {
   "display_name": "Python 3",
   "language": "python",
   "name": "python3"
  },
  "language_info": {
   "codemirror_mode": {
    "name": "ipython",
    "version": 3
   },
   "file_extension": ".py",
   "mimetype": "text/x-python",
   "name": "python",
   "nbconvert_exporter": "python",
   "pygments_lexer": "ipython3",
   "version": "3.6.9"
  }
 },
 "nbformat": 4,
 "nbformat_minor": 4
}
