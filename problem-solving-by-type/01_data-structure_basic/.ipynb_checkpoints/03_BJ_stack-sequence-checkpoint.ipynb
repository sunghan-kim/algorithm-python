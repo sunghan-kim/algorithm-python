{
 "cells": [
  {
   "cell_type": "markdown",
   "metadata": {},
   "source": [
    "# 3. 스택 수열\n",
    "\n",
    "- 난이도 : 하(Easy)\n",
    "- 유형 : 스택, 그리디\n",
    "- 추천 풀이 시간 : 30분\n",
    "- [문제 설명 링크 : https://www.acmicpc.net/problem/1874](https://www.acmicpc.net/problem/1874)"
   ]
  },
  {
   "cell_type": "markdown",
   "metadata": {},
   "source": [
    "<br>\n",
    "\n",
    "## 3.1 직접 구현"
   ]
  },
  {
   "cell_type": "markdown",
   "metadata": {},
   "source": [
    "### 3.1.1 실제 구현 코드\n",
    "\n",
    "- 메모리 : 37828KB\n",
    "- 시간 : 3924ms"
   ]
  },
  {
   "cell_type": "code",
   "execution_count": 1,
   "metadata": {},
   "outputs": [
    {
     "name": "stdin",
     "output_type": "stream",
     "text": [
      " 5\n",
      " 1\n",
      " 2\n",
      " 5\n",
      " 3\n",
      " 4\n"
     ]
    },
    {
     "name": "stdout",
     "output_type": "stream",
     "text": [
      "NO\n"
     ]
    }
   ],
   "source": [
    "n = int(input())\n",
    "\n",
    "sequence = []\n",
    "for i in range(n):\n",
    "    sequence.append(int(input()))\n",
    "\n",
    "num = 0\n",
    "stack = []\n",
    "sequence2 = []\n",
    "result = []\n",
    "\n",
    "for i in range(n):\n",
    "    data = sequence[i]\n",
    "    \n",
    "    while num < data:\n",
    "        num = num + 1\n",
    "        stack.append(num) # push\n",
    "        result.append(\"+\")\n",
    "      \n",
    "    if stack[-1] == data:\n",
    "        sequence2.append(stack.pop()) # pop\n",
    "        result.append(\"-\")\n",
    "        \n",
    "if sequence == sequence2:\n",
    "    for d in result:\n",
    "        print(d)\n",
    "else:\n",
    "    print(\"NO\")"
   ]
  },
  {
   "cell_type": "markdown",
   "metadata": {},
   "source": [
    "<br>\n",
    "\n",
    "### 3.1.2 코드 구현 소요 시간\n",
    "\n",
    "47분"
   ]
  },
  {
   "cell_type": "markdown",
   "metadata": {},
   "source": [
    "<br>\n",
    "\n",
    "## 3.2 해설"
   ]
  },
  {
   "cell_type": "markdown",
   "metadata": {},
   "source": [
    "### 3.2.1 해설 내용\n",
    "\n",
    "- 스택에 원소를 삽입할 때는, 단순히 특정 수에 도달할 때까지 삽입하면 된다.\n",
    "- 스택에서 원소를 연달아 빼낼 때, **내림차순을 유지**할 수 있는 지 확인한다."
   ]
  },
  {
   "cell_type": "markdown",
   "metadata": {},
   "source": [
    "<br>\n",
    "\n",
    "### 3.2.2 해설 코드\n",
    "\n",
    "- 메모리 : 31800KB\n",
    "- 시간 : 4024ms"
   ]
  },
  {
   "cell_type": "code",
   "execution_count": 1,
   "metadata": {},
   "outputs": [
    {
     "name": "stdin",
     "output_type": "stream",
     "text": [
      " 8\n",
      " 4\n",
      " 3\n",
      " 6\n",
      " 8\n",
      " 7\n",
      " 5\n",
      " 2\n",
      " 1\n"
     ]
    },
    {
     "name": "stdout",
     "output_type": "stream",
     "text": [
      "+\n",
      "+\n",
      "+\n",
      "+\n",
      "-\n",
      "-\n",
      "+\n",
      "+\n",
      "-\n",
      "+\n",
      "+\n",
      "-\n",
      "-\n",
      "-\n",
      "-\n",
      "-\n"
     ]
    }
   ],
   "source": [
    "n = int(input())\n",
    "count = 1\n",
    "stack = []\n",
    "result = []\n",
    "\n",
    "for i in range(1, n+1): # 데이터 개수만큼 반복\n",
    "    data = int(input())\n",
    "    while count <= data: # 입력 받은 데이터에 도달할 때까지 삽입\n",
    "        stack.append(count)\n",
    "        count += 1\n",
    "        result.append(\"+\")\n",
    "    if stack[-1] == data:\n",
    "        stack.pop()\n",
    "        result.append(\"-\")\n",
    "    else: # 불가능한 경우\n",
    "        print(\"NO\")\n",
    "        exit(0)\n",
    "        \n",
    "print(\"\\n\".join(result)) # 가능한 경우"
   ]
  },
  {
   "cell_type": "markdown",
   "metadata": {},
   "source": [
    "<br>\n",
    "\n",
    "## 3.3 직접 구현한 코드와 해설 코드의 차이점"
   ]
  },
  {
   "cell_type": "markdown",
   "metadata": {},
   "source": [
    "### 3.3.1 `while`문 비교 조건\n",
    "\n",
    "- 직접 구현한 코드\n",
    "  - 삽입 대상 데이터 `num`을 `0`부터 시작\n",
    "  - `num`이 수열의 데이터 `data`보다 작을 경우 `while`문 반복\n",
    "  - `while`문 안에서 `num`을 `1` 증가 후 `stack`에 `push`  \n",
    "  \n",
    "  \n",
    "- 해설 코드\n",
    "  - 삽입 대상 데이터 `count`을 `1`부터 시작\n",
    "  - `count`가 수열의 데이터 `data`보다 작거나 같을 경우 `while`문 반복\n",
    "  - `while`문 안에서 `stack`에 `push`한 후 `count`을 `1` 증가"
   ]
  },
  {
   "cell_type": "markdown",
   "metadata": {},
   "source": [
    "<br>\n",
    "\n",
    "### 3.3.2 최고점 도달 후 내림차순 정렬 여부\n",
    "\n",
    "- 직접 구현한 코드\n",
    "  - 최초 수열을 `sequence`에 저장\n",
    "  - 수열 생성 과정에서 생성된 수열을 `sequence2`에 저장\n",
    "  - 마지막에 두 수열을 비교하여 같으면 `result`를 반환\n",
    "  - 같지 않은 경우 `NO`를 출력  \n",
    "  \n",
    "  \n",
    "- 해설 코드\n",
    "  - `stack`의 `pop` 대상 데이터(최상위 데이터)가 수열의 현재 인덱스 데이터를 비교하여 내림차순 정렬 여부 확인\n",
    "  - 두 데이터가 다를 경우 내림차순 정렬이 안되어 있다고 판단\n",
    "  - `NO` 출력 후 `exit(0)`를 사용하여 반복문 종료"
   ]
  },
  {
   "cell_type": "markdown",
   "metadata": {},
   "source": [
    "<br>\n",
    "\n",
    "### 3.3.3 최종 결과 출력 방법\n",
    "\n",
    "- 직접 구현한 코드\n",
    "  - for문을 이용하여 `result`에 있는 결과 출력  \n",
    "  \n",
    "  \n",
    "- 해설 코드\n",
    "  - `join()` 함수 활용\n",
    "  - `\"\\n\".join(result)`를 사용하여 for문을 사용하지 않고 결과 출력"
   ]
  },
  {
   "cell_type": "markdown",
   "metadata": {},
   "source": [
    "<br>\n",
    "\n",
    "### 3.3.4 성능 비교\n",
    "\n",
    "- 메모리 : 해설 코드가 좀 더 적은 메모리를 사용함\n",
    "- 시간 : 직접 구현한 코드가 약간 적은 시간이 소요됨"
   ]
  }
 ],
 "metadata": {
  "kernelspec": {
   "display_name": "Python 3",
   "language": "python",
   "name": "python3"
  },
  "language_info": {
   "codemirror_mode": {
    "name": "ipython",
    "version": 3
   },
   "file_extension": ".py",
   "mimetype": "text/x-python",
   "name": "python",
   "nbconvert_exporter": "python",
   "pygments_lexer": "ipython3",
   "version": "3.6.9"
  }
 },
 "nbformat": 4,
 "nbformat_minor": 4
}
