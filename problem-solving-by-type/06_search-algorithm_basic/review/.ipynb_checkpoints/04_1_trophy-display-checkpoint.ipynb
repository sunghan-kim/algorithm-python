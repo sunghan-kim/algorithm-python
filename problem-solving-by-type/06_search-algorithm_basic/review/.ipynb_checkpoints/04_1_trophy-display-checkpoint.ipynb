{
 "cells": [
  {
   "cell_type": "markdown",
   "metadata": {},
   "source": [
    "# 4. 트로피 진열 (복습)"
   ]
  },
  {
   "cell_type": "code",
   "execution_count": 1,
   "metadata": {},
   "outputs": [
    {
     "name": "stdin",
     "output_type": "stream",
     "text": [
      " 5\n",
      " 1\n",
      " 2\n",
      " 3\n",
      " 4\n",
      " 5\n"
     ]
    },
    {
     "name": "stdout",
     "output_type": "stream",
     "text": [
      "5\n",
      "1\n"
     ]
    }
   ],
   "source": [
    "n = int(input())\n",
    "array = []\n",
    "\n",
    "for _ in range(n):\n",
    "    array.append(int(input()))\n",
    "    \n",
    "def ascending(array):\n",
    "    now = array[0]\n",
    "    result = 1\n",
    "    for i in range(1, len(array)):\n",
    "        if now < array[i]:\n",
    "            now = array[i]\n",
    "            result += 1\n",
    "    return result\n",
    "\n",
    "print(ascending(array))\n",
    "array.reverse()\n",
    "print(ascending(array))"
   ]
  },
  {
   "cell_type": "code",
   "execution_count": 2,
   "metadata": {},
   "outputs": [
    {
     "name": "stdin",
     "output_type": "stream",
     "text": [
      " 5\n",
      " 1\n",
      " 2\n",
      " 3\n",
      " 4\n",
      " 5\n"
     ]
    },
    {
     "name": "stdout",
     "output_type": "stream",
     "text": [
      "5\n",
      "1\n"
     ]
    }
   ],
   "source": [
    "n = int(input())\n",
    "array = []\n",
    "\n",
    "for _ in range(n):\n",
    "    array.append(int(input()))\n",
    "    \n",
    "def ascending(array):\n",
    "    now = array[0]\n",
    "    result = 1\n",
    "    for i in range(1, len(array)):\n",
    "        if now < array[i]:\n",
    "            result += 1\n",
    "            now = array[i]\n",
    "    return result\n",
    "\n",
    "print(ascending(array))\n",
    "array.reverse()\n",
    "print(ascending(array))"
   ]
  }
 ],
 "metadata": {
  "kernelspec": {
   "display_name": "Python 3",
   "language": "python",
   "name": "python3"
  },
  "language_info": {
   "codemirror_mode": {
    "name": "ipython",
    "version": 3
   },
   "file_extension": ".py",
   "mimetype": "text/x-python",
   "name": "python",
   "nbconvert_exporter": "python",
   "pygments_lexer": "ipython3",
   "version": "3.6.9"
  }
 },
 "nbformat": 4,
 "nbformat_minor": 4
}
