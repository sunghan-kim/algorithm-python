{
 "cells": [
  {
   "cell_type": "markdown",
   "metadata": {},
   "source": [
    "# 4. 배\n",
    "\n",
    "- 난이도 : 중(Medium)\n",
    "- 유형 : 그리디\n",
    "- 추천 풀이 시간 : 35분\n",
    "- [문제 설명 링크 : https://www.acmicpc.net/problem/1092](https://www.acmicpc.net/problem/1092)"
   ]
  },
  {
   "cell_type": "markdown",
   "metadata": {},
   "source": [
    "<br>\n",
    "\n",
    "## 4.1 문제 풀이"
   ]
  },
  {
   "cell_type": "code",
   "execution_count": null,
   "metadata": {},
   "outputs": [],
   "source": [
    "n = int(input())\n",
    "weight_limit = map(int, input().split())\n",
    "m = int(input())\n",
    "box_weight = map(int, input().split())\n",
    "\n",
    "weight_limit.sort(reverse=True)\n",
    "box_weight.sort(reverse=True)\n",
    "\n",
    "while True:\n",
    "    "
   ]
  },
  {
   "cell_type": "markdown",
   "metadata": {},
   "source": [
    "<br>\n",
    "\n",
    "## 4.2 해설"
   ]
  },
  {
   "cell_type": "markdown",
   "metadata": {},
   "source": [
    "### 4.2.1 문제 풀이 핵심 아이디어\n",
    "\n",
    "- 모든 박스를 매로 옮기는 데 드는 시간의 최솟값을 계산해야 한다.\n",
    "- 매 분마다, 모든 크레인에 대하여 옮길 수 있는 박스를 선택하여 옮기도록 한다.\n",
    "- 박스를 무게 기준으로 내림차순 정렬한 뒤에, 무거운 것부터 옮기도록 하면 된다. (최적의 해 보장)\n",
    "- 시간 복잡도 O(NM)에 문제를 해결할 수 있다. (N : 크레인 수, M : 박스의 수)"
   ]
  },
  {
   "cell_type": "markdown",
   "metadata": {},
   "source": [
    "<br>\n",
    "\n",
    "### 4.2.2 문제 풀이 예시\n",
    "\n",
    "<img src=\"./img/04_01.jpg\" style=\"width: 400px; margin-left: 25px\" />"
   ]
  },
  {
   "cell_type": "markdown",
   "metadata": {},
   "source": [
    "- 크레인과 박스를 내림차순 정렬한다.\n",
    "- 매 분마다, 모든 크레인에 대하여 옮길 수 있는 박스를 선택하여 옮기도록 한다.\n",
    "\n",
    "<img src=\"./img/04_02.jpg\" style=\"width: 400px; margin-left: 25px\" />"
   ]
  },
  {
   "cell_type": "markdown",
   "metadata": {},
   "source": [
    "- 처음 1분 동안 3개의 박스를 옮긴다.\n",
    "\n",
    "<img src=\"./img/04_03.jpg\" style=\"width: 400px; margin-left: 25px\" />"
   ]
  },
  {
   "cell_type": "markdown",
   "metadata": {},
   "source": [
    "- 다음 1분 동안 나머지 박스 2개를 옮긴다.\n",
    "\n",
    "<img src=\"./img/04_04.jpg\" style=\"width: 400px; margin-left: 25px\" />"
   ]
  },
  {
   "cell_type": "markdown",
   "metadata": {},
   "source": [
    "<br>\n",
    "\n",
    "### 4.2.3 해설 코드"
   ]
  },
  {
   "cell_type": "code",
   "execution_count": 3,
   "metadata": {},
   "outputs": [
    {
     "name": "stdin",
     "output_type": "stream",
     "text": [
      " 3\n",
      " 6 8 9\n",
      " 5\n",
      " 2 5 2 4 7\n"
     ]
    },
    {
     "name": "stdout",
     "output_type": "stream",
     "text": [
      "2\n"
     ]
    }
   ],
   "source": [
    "import sys\n",
    "\n",
    "n = int(input())\n",
    "cranes = list(map(int, input().split()))\n",
    "\n",
    "m = int(input())\n",
    "boxes = list(map(int, input().split()))\n",
    "\n",
    "# 모든 박스를 옮길 수 없는 경우\n",
    "if max(cranes) < max(boxes):\n",
    "    print(-1)\n",
    "    sys.exit()\n",
    "    \n",
    "# 각 크레인이 현재 옮겨야 하는 박스의 번호 (0부터 시작)\n",
    "positions = [0] * n\n",
    "\n",
    "# 각 박스를 옮겼는 지의 여부\n",
    "checked = [False] * m\n",
    "\n",
    "# 최적의 해를 구해야 하므로 내림차순 정렬\n",
    "cranes.sort(reverse=True)\n",
    "boxes.sort(reverse=True)\n",
    "\n",
    "result = 0\n",
    "count = 0\n",
    "\n",
    "while True:\n",
    "    # while문이 한번 실행 -> 1분이 지남\n",
    "    \n",
    "    if count == len(boxes): # 박스를 다 옮겼다면 종료\n",
    "        break\n",
    "    \n",
    "    for i in range(n): # 모든 크레인에 대하여 각각 처리\n",
    "        while positions[i] < len(boxes):\n",
    "            # 아직 안 옮긴 박스 중에서, 옮길 수 있는 박스를 만날 때 까지 반복\n",
    "            if not checked[positions[i]] and cranes[i] >= boxes[positions[i]]:\n",
    "                checked[positions[i]] = True\n",
    "                positions[i] += 1\n",
    "                count += 1\n",
    "                break\n",
    "            positions[i] += 1\n",
    "            \n",
    "    result += 1\n",
    "    \n",
    "print(result)"
   ]
  },
  {
   "cell_type": "code",
   "execution_count": null,
   "metadata": {},
   "outputs": [],
   "source": []
  }
 ],
 "metadata": {
  "kernelspec": {
   "display_name": "Python 3",
   "language": "python",
   "name": "python3"
  },
  "language_info": {
   "codemirror_mode": {
    "name": "ipython",
    "version": 3
   },
   "file_extension": ".py",
   "mimetype": "text/x-python",
   "name": "python",
   "nbconvert_exporter": "python",
   "pygments_lexer": "ipython3",
   "version": "3.6.9"
  }
 },
 "nbformat": 4,
 "nbformat_minor": 4
}
