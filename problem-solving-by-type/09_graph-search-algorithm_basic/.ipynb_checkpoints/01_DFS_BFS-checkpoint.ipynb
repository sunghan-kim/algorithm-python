{
 "cells": [
  {
   "cell_type": "markdown",
   "metadata": {},
   "source": [
    "### 1. DFS와 BFS\n",
    "\n",
    "- 난이도 : 하(Easy)\n",
    "- 유형 : DFS, BFS\n",
    "- 추천 풀이 시간 : 30분\n",
    "- [문제 설명 링크 : https://www.acmicpc.net/problem/1260](https://www.acmicpc.net/problem/1260)"
   ]
  },
  {
   "cell_type": "markdown",
   "metadata": {},
   "source": [
    "<br>\n",
    "\n",
    "## 1.1 풀이"
   ]
  },
  {
   "cell_type": "code",
   "execution_count": 8,
   "metadata": {},
   "outputs": [
    {
     "name": "stdin",
     "output_type": "stream",
     "text": [
      " 4 5 1\n",
      " 1 2\n",
      " 1 3\n",
      " 1 4\n",
      " 2 4\n",
      " 3 4\n"
     ]
    },
    {
     "name": "stdout",
     "output_type": "stream",
     "text": [
      "{0: [], 1: [2, 3, 4], 2: [1, 4], 3: [1, 4], 4: [1, 2, 3]}\n",
      "[1, 4, 3, 2]\n",
      "[1, 2, 3, 4]\n"
     ]
    }
   ],
   "source": [
    "def dfs(graph, start_node):\n",
    "    visited = list()\n",
    "    need_visit = list()\n",
    "    \n",
    "    need_visit.append(start_node)\n",
    "    \n",
    "    while need_visit:\n",
    "        node = need_visit.pop()\n",
    "        if node not in visited:\n",
    "            visited.append(node)\n",
    "            need_visit.extend(graph[node])\n",
    "            \n",
    "    return visited        \n",
    "\n",
    "def bfs(graph, start_node):\n",
    "    visited = list()\n",
    "    need_visit = list()\n",
    "    \n",
    "    need_visit.append(start_node)\n",
    "    \n",
    "    while need_visit:\n",
    "        node = need_visit.pop(0)\n",
    "        if node not in visited:\n",
    "            visited.append(node)\n",
    "            need_visit.extend(graph[node])\n",
    "            \n",
    "    return visited\n",
    "\n",
    "n, m, v = map(int, input().split())\n",
    "\n",
    "graph = dict()\n",
    "\n",
    "for i in range(n+1):\n",
    "    graph[i] = []\n",
    "\n",
    "for _ in range(m):\n",
    "    v1, v2 = map(int, input().split())\n",
    "    graph[v1].append(v2)\n",
    "    graph[v2].append(v1)\n",
    "\n",
    "print(graph)    \n",
    "    \n",
    "dfs_result = dfs(graph, v)\n",
    "bfs_result = bfs(graph, v)\n",
    "print(' '.join(dfs_result))\n",
    "print(' '.join(bfs_result))"
   ]
  },
  {
   "cell_type": "code",
   "execution_count": null,
   "metadata": {},
   "outputs": [],
   "source": []
  }
 ],
 "metadata": {
  "kernelspec": {
   "display_name": "Python 3",
   "language": "python",
   "name": "python3"
  },
  "language_info": {
   "codemirror_mode": {
    "name": "ipython",
    "version": 3
   },
   "file_extension": ".py",
   "mimetype": "text/x-python",
   "name": "python",
   "nbconvert_exporter": "python",
   "pygments_lexer": "ipython3",
   "version": "3.6.9"
  }
 },
 "nbformat": 4,
 "nbformat_minor": 4
}
