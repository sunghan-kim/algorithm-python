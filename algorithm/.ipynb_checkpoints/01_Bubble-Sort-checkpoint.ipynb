{
 "cells": [
  {
   "cell_type": "markdown",
   "metadata": {},
   "source": [
    "# 1. 버블 정렬 (bubble sort)"
   ]
  },
  {
   "cell_type": "markdown",
   "metadata": {},
   "source": [
    "## 1.1 정렬(sorting) 이란?\n",
    "\n",
    "- 정렬(sorting) : 어떤 데이터들이 주어졌을 때 이를 정해진 순서대로 나열하는 것\n",
    "- 정렬은 프로그램 작성 시 빈번하게 필요로 함\n",
    "- 다양한 알고리즘이 고안되어 있다."
   ]
  },
  {
   "cell_type": "markdown",
   "metadata": {},
   "source": [
    "- 다양한 정렬 알고리즘 이해를 통해, 동일한 문제에 대해 다양한 알고리즘이 고안될 수 있음을 이해\n",
    "- 각 알고리즘 간 성능 비교를 통해, 알고리즘 성능 분석에 대해서도 이해할 수 있음"
   ]
  },
  {
   "cell_type": "markdown",
   "metadata": {},
   "source": [
    "- 정렬 알고리즘 시각화 사이트\n",
    "  - [https://visualgo.net/en/sorting](https://visualgo.net/en/sorting)"
   ]
  },
  {
   "cell_type": "markdown",
   "metadata": {},
   "source": [
    "<br>\n",
    "\n",
    "## 1.2 버블 정렬(bubble sort) 이란?\n",
    "\n",
    "- 두 인접한 데이터를 비교\n",
    "- 앞에 있는 데이터가 뒤에 있는 데이터보다 크면 자리를 바꾸는 정렬 알고리즘\n",
    "\n",
    "<img src=\"https://upload.wikimedia.org/wikipedia/commons/c/c8/Bubble-sort-example-300px.gif\" width=600/>"
   ]
  },
  {
   "cell_type": "markdown",
   "metadata": {},
   "source": [
    "<br>\n",
    "\n",
    "## 1.3 버블 정렬 구현 순서"
   ]
  },
  {
   "cell_type": "markdown",
   "metadata": {},
   "source": [
    "### 1.3.1 데이터가 2개일 때의 버블 정렬"
   ]
  },
  {
   "cell_type": "code",
   "execution_count": 5,
   "metadata": {},
   "outputs": [
    {
     "data": {
      "text/plain": [
       "[3, 4]"
      ]
     },
     "execution_count": 5,
     "metadata": {},
     "output_type": "execute_result"
    }
   ],
   "source": [
    "dataList = [4, 3]\n",
    "\n",
    "for i in range(len(dataList)):\n",
    "    if i == len(dataList)-1:\n",
    "        break\n",
    "    else:\n",
    "        if dataList[i] > dataList[i+1]:\n",
    "            dataList[i], dataList[i+1] = dataList[i+1], dataList[i]\n",
    "\n",
    "dataList"
   ]
  },
  {
   "cell_type": "markdown",
   "metadata": {},
   "source": [
    "<br>\n",
    "\n",
    "### 1.3.2 데이터가 3개일 때의 버블 정렬"
   ]
  },
  {
   "cell_type": "code",
   "execution_count": 6,
   "metadata": {},
   "outputs": [
    {
     "data": {
      "text/plain": [
       "[2, 3, 4]"
      ]
     },
     "execution_count": 6,
     "metadata": {},
     "output_type": "execute_result"
    }
   ],
   "source": [
    "dataList = [4, 2, 3]\n",
    "\n",
    "for i in range(len(dataList)):\n",
    "    if i == len(dataList)-1:\n",
    "        break\n",
    "    else:\n",
    "        if dataList[i] > dataList[i+1]:\n",
    "            dataList[i], dataList[i+1] = dataList[i+1], dataList[i]\n",
    "\n",
    "dataList"
   ]
  },
  {
   "cell_type": "markdown",
   "metadata": {},
   "source": [
    "<br>\n",
    "\n",
    "### 1.3.3 데이터가 4개일 때의 버블 정렬"
   ]
  },
  {
   "cell_type": "code",
   "execution_count": 7,
   "metadata": {},
   "outputs": [
    {
     "data": {
      "text/plain": [
       "[1, 3, 2, 9]"
      ]
     },
     "execution_count": 7,
     "metadata": {},
     "output_type": "execute_result"
    }
   ],
   "source": [
    "dataList = [1, 9, 3, 2]\n",
    "\n",
    "for i in range(len(dataList)):\n",
    "    if i == len(dataList)-1:\n",
    "        break\n",
    "    else:\n",
    "        if dataList[i] > dataList[i+1]:\n",
    "            dataList[i], dataList[i+1] = dataList[i+1], dataList[i]\n",
    "\n",
    "dataList"
   ]
  },
  {
   "cell_type": "markdown",
   "metadata": {},
   "source": [
    "<br>\n",
    "\n",
    "### 1.3.4 데이터가 4개일 때의 경우의 수\n",
    "\n",
    "- 데이터 갯수에 따라 복잡도가 떨어지는 것은 아니다.\n",
    "- 그러므로 4개로 바로 로직을 이해해보자."
   ]
  },
  {
   "cell_type": "markdown",
   "metadata": {},
   "source": [
    "- 예 : `data_list = [1, 9, 3, 2]`"
   ]
  },
  {
   "cell_type": "markdown",
   "metadata": {},
   "source": [
    "- 1차 로직 적용\n",
    "  - `1`와 `9` 비교 $\\rightarrow$ 자리바꿈 없음 (`[1, 9, 3, 2]`)\n",
    "  - `9`와 `3` 비교 $\\rightarrow$ 자리바꿈 (`[1, 3, 9, 2]`)\n",
    "  - `9`와 `2` 비교 $\\rightarrow$ 자리바꿈 (`[1, 3, 2, 9]`)"
   ]
  },
  {
   "cell_type": "markdown",
   "metadata": {},
   "source": [
    "- 2차 로직 적용\n",
    "  - `1`와 `3` 비교 $\\rightarrow$ 자리바꿈 없음 (`[1, 3, 2, 9]`)\n",
    "  - `3`와 `2` 비교 $\\rightarrow$ 자리바꿈 (`[1, 2, 3, 9]`)\n",
    "  - `3`와 `9` 비교 $\\rightarrow$ 자리바꿈 없음 (`[1, 2, 3, 9]`)"
   ]
  },
  {
   "cell_type": "markdown",
   "metadata": {},
   "source": [
    "- 3차 로직 적용\n",
    "  - `1`와 `2` 비교 $\\rightarrow$ 자리바꿈 없음 (`[1, 2, 3, 9]`)\n",
    "  - `2`와 `3` 비교 $\\rightarrow$ 자리바꿈 없음 (`[1, 2, 3, 9]`)\n",
    "  - `3`와 `9` 비교 $\\rightarrow$ 자리바꿈 없음 (`[1, 2, 3, 9]`)"
   ]
  },
  {
   "cell_type": "markdown",
   "metadata": {},
   "source": [
    "<br>\n",
    "\n",
    "## 1.4 알고리즘 구현"
   ]
  },
  {
   "cell_type": "markdown",
   "metadata": {},
   "source": [
    "### 1.4.1 특이점 찾아보기\n",
    "\n",
    "- `n`개의 리스트가 있는 경우, 최대 `n-1`번의 로직을 적용한다.\n",
    "- 로직을 1번 적용할 때마다 가장 큰 숫자가 뒤에서부터 1개씩 결정된다.\n",
    "- 로직이 경우에 따라 일찍 끝날 수도 있다.\n",
    "- 따라서 로직을 적용할 때 한 번도 데이터가 교환된 적이 없다면 이미 정렬된 상태이므로 더 이상 로직을 반복 적용할 필요가 없다.\n",
    "\n",
    "<img src=\"https://www.fun-coding.org/00_Images/bubblealgo.png\" />"
   ]
  },
  {
   "cell_type": "markdown",
   "metadata": {},
   "source": [
    "<br>\n",
    "\n",
    "### 1.4.2 시나리오\n",
    "\n",
    "1. `for num in range(len(data_list))` 반복\n",
    "2. `swap = 0` (교환이 되었는 지를 확인하는 변수)\n",
    "3. 반복문 안에서, `for index in range(len(data_list) - num - 1)`을 `n-1`번 반복해야 한다.\n",
    "4. 반복문 안의 반복문 안에서, `if data_list[index] > data_list[index+1]` 이면\n",
    "5. `data_list[index], data_list[index+1] = data_list[inidex+1], data_list[index]`\n",
    "6. `swap += 1`\n",
    "7. 반복문 안에서, `if swap == 0`이면 `break` 끝"
   ]
  },
  {
   "cell_type": "markdown",
   "metadata": {},
   "source": [
    "<br>\n",
    "\n",
    "### 1.4.3 버블 정렬 구현"
   ]
  },
  {
   "cell_type": "code",
   "execution_count": 3,
   "metadata": {},
   "outputs": [],
   "source": [
    "def bubblesort(data):\n",
    "    for index in range(len(data) - 1):\n",
    "        swap = False\n",
    "        for index2 in range(len(data) - index - 1):\n",
    "            if data[index2] > data[index2 + 1]:\n",
    "                data[index2], data[index2+1] = data[index2+1], data[index2]\n",
    "                swap = True\n",
    "                \n",
    "        if swap == False:\n",
    "            break\n",
    "    return data"
   ]
  },
  {
   "cell_type": "code",
   "execution_count": 4,
   "metadata": {},
   "outputs": [
    {
     "name": "stdout",
     "output_type": "stream",
     "text": [
      "[0, 1, 2, 4, 7, 11, 12, 13, 16, 22, 23, 25, 30, 31, 33, 34, 37, 38, 39, 41, 50, 53, 54, 56, 58, 59, 61, 66, 67, 69, 71, 73, 75, 76, 77, 78, 79, 80, 81, 83, 84, 85, 87, 88, 89, 90, 91, 92, 95, 99]\n"
     ]
    }
   ],
   "source": [
    "import random\n",
    "\n",
    "data_list = random.sample(range(100), 50)\n",
    "print(bubblesort(data_list))"
   ]
  },
  {
   "cell_type": "markdown",
   "metadata": {},
   "source": [
    "<br>\n",
    "\n",
    "## 1.5 알고리즘 분석\n",
    "\n",
    "- 반복문이 두 개  \n",
    "$\\rightarrow$ 시간 복잡도 : $O \\left( n^2 \\right)$"
   ]
  },
  {
   "cell_type": "markdown",
   "metadata": {},
   "source": [
    "- 최악의 경우  \n",
    "$\\rightarrow$ 시간 복잡도 : $\\frac{n \\times (n-1)}{2}$"
   ]
  },
  {
   "cell_type": "markdown",
   "metadata": {},
   "source": [
    "- 완전 정렬이 되어 있는 상태(최선)  \n",
    "$\\rightarrow$ 시간 복잡도 : $O(n)$"
   ]
  }
 ],
 "metadata": {
  "kernelspec": {
   "display_name": "Python 3",
   "language": "python",
   "name": "python3"
  },
  "language_info": {
   "codemirror_mode": {
    "name": "ipython",
    "version": 3
   },
   "file_extension": ".py",
   "mimetype": "text/x-python",
   "name": "python",
   "nbconvert_exporter": "python",
   "pygments_lexer": "ipython3",
   "version": "3.6.9"
  }
 },
 "nbformat": 4,
 "nbformat_minor": 4
}
