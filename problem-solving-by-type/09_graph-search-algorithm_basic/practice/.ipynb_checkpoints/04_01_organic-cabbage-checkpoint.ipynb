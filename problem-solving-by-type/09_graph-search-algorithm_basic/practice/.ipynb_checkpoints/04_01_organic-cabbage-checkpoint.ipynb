{
 "cells": [
  {
   "cell_type": "markdown",
   "metadata": {},
   "source": [
    "# 4. 유기농 배추 (복습)\n",
    "\n",
    "- [문제 설명 링크 : https://www.acmicpc.net/problem/1012](https://www.acmicpc.net/problem/1012)"
   ]
  },
  {
   "cell_type": "code",
   "execution_count": 1,
   "metadata": {},
   "outputs": [
    {
     "name": "stdin",
     "output_type": "stream",
     "text": [
      " 1\n",
      " 5 3 6\n",
      " 0 2\n",
      " 1 2\n",
      " 2 2\n",
      " 3 2\n",
      " 4 2\n",
      " 4 0\n"
     ]
    },
    {
     "name": "stdout",
     "output_type": "stream",
     "text": [
      "2\n"
     ]
    }
   ],
   "source": [
    "import sys\n",
    "\n",
    "sys.setrecursionlimit(100000)\n",
    "\n",
    "def dfs(x, y):\n",
    "    visited[x][y] = True\n",
    "    directions = [(-1, 0), (1, 0), (0, -1), (0, 1)]\n",
    "    \n",
    "    for dx, dy in directions:\n",
    "        nx, ny = x + dx, y + dy\n",
    "        \n",
    "        if nx < 0 or nx >= m or ny < 0 or ny >= n:\n",
    "            continue\n",
    "        if graph[nx][ny] == 1 and not visited[nx][ny]:\n",
    "            dfs(nx, ny)\n",
    "    \n",
    "\n",
    "test_case = int(input())\n",
    "for _ in range(test_case):\n",
    "    m, n, k = map(int, input().split())\n",
    "    graph = [[0]*n for _ in range(m)]\n",
    "    visited = [[False]*n for _ in range(m)]\n",
    "    \n",
    "    for _ in range(k):\n",
    "        x, y = map(int, input().split())\n",
    "        graph[x][y] = 1\n",
    "        \n",
    "    result = 0\n",
    "    \n",
    "    for i in range(m):\n",
    "        for j in range(n):\n",
    "            if graph[i][j] == 1 and not visited[i][j]:\n",
    "                dfs(i, j)\n",
    "                result += 1\n",
    "                \n",
    "    print(result)"
   ]
  }
 ],
 "metadata": {
  "kernelspec": {
   "display_name": "Python 3",
   "language": "python",
   "name": "python3"
  },
  "language_info": {
   "codemirror_mode": {
    "name": "ipython",
    "version": 3
   },
   "file_extension": ".py",
   "mimetype": "text/x-python",
   "name": "python",
   "nbconvert_exporter": "python",
   "pygments_lexer": "ipython3",
   "version": "3.6.9"
  }
 },
 "nbformat": 4,
 "nbformat_minor": 4
}
