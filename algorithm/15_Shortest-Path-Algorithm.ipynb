{
 "cells": [
  {
   "cell_type": "markdown",
   "metadata": {},
   "source": [
    "# 15. 최단 경로 알고리즘의 이해"
   ]
  },
  {
   "cell_type": "markdown",
   "metadata": {},
   "source": [
    "## 15.1 최단 경로 문제란?\n",
    "\n",
    "- 두 노드를 잇는 가장 짧은 경로를 찾는 문제\n",
    "- 가중치 그래프(Weighted Graph)에서 간선(Edge)의 가중치 합이 최소가 되도록 하는 경로를 찾는 것이 목적이다."
   ]
  },
  {
   "cell_type": "markdown",
   "metadata": {},
   "source": [
    "<br>\n",
    "\n",
    "## 15.2 최단 경로 문제의 종류\n",
    "\n",
    "1. 단일 출발 및 단일 도착 최단 경로 문제  \n",
    "(single-source and single-destination shortest path problem)  \n",
    "  \n",
    "  \n",
    "2. 단일 출발 최단 경로 문제  \n",
    "(single-source shortest path problem)  \n",
    "  \n",
    "  \n",
    "3. 전체 쌍 최단 경로 문제  \n",
    "(all-pair shortest path problem)"
   ]
  },
  {
   "cell_type": "markdown",
   "metadata": {},
   "source": [
    "### 15.2.1 단일 출발 및 단일 도착 최단 경로 문제\n",
    "\n",
    "- single-source and single-destination shortest path problem\n",
    "- 그래프 내의 특정 노드 `u`에서 출발\n",
    "- 또 다른 특정 노드 `v`에 도착하는 가장 짧은 경로를 찾는 문제  \n",
    "  \n",
    "  \n",
    "- `u -> v`"
   ]
  },
  {
   "cell_type": "markdown",
   "metadata": {},
   "source": [
    "<br>\n",
    "\n",
    "### 15.2.2 단일 출발 최단 경로 문제\n",
    "\n",
    "- single-source shortest path problem\n",
    "- 그래프 내의 특정 노드 `u`와 그래프 내 다른 모든 노드 각각의 가장 짧은 경로를 찾는 문제\n",
    "- ex) `A`, `B`, `C`, `D`라는 노드를 가진 그래프\n",
    "  - 특정 노드 = `A`\n",
    "  - `A` 이외의 모든 노드인 `B`, `C`, `D` 각 노드와 `A` 간의 각각 가장 짧은 경로(`A-B`, `A-C`, `A-D`)를 찾는 문제를 의미  \n",
    "  \n",
    "  \n",
    "- `A -> B`, `A -> C`, `A -> D`"
   ]
  },
  {
   "cell_type": "markdown",
   "metadata": {},
   "source": [
    "<br>\n",
    "\n",
    "### 15.2.3 전체 쌍(all-pair) 최단 경로\n",
    "\n",
    "- 그래프 내의 모든 쌍(`u, v`)에 대한 최단 경로를 찾는 문제  \n",
    "  \n",
    "  \n",
    "- `A -> B`, `A -> C`, `A -> D`, `B -> C`, `B -> D`, `C -> D`"
   ]
  },
  {
   "cell_type": "markdown",
   "metadata": {},
   "source": [
    "<br>\n",
    "\n",
    "## 15.3 주요 최단 경로 알고리즘\n",
    "\n",
    "- 다익스트라 알고리즘 (Dijkstra Algorithm)\n",
    "  - 단일 출발 최단 경로 문제에 해당됨  \n",
    "  (하나의 정점에서 다른 모든 정점 간의 각각 **가장 짧은 거리**를 구하는 문제)"
   ]
  }
 ],
 "metadata": {
  "kernelspec": {
   "display_name": "Python 3",
   "language": "python",
   "name": "python3"
  },
  "language_info": {
   "codemirror_mode": {
    "name": "ipython",
    "version": 3
   },
   "file_extension": ".py",
   "mimetype": "text/x-python",
   "name": "python",
   "nbconvert_exporter": "python",
   "pygments_lexer": "ipython3",
   "version": "3.6.9"
  }
 },
 "nbformat": 4,
 "nbformat_minor": 4
}
