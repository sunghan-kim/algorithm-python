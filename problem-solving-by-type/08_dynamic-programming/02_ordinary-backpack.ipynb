{
 "cells": [
  {
   "cell_type": "markdown",
   "metadata": {},
   "source": [
    "# 2. 평범한 배낭\n",
    "\n",
    "- 난이도 : 하(Easy)\n",
    "- 유형 : 동적 프로그래밍\n",
    "- 추천 풀이 시간 : 30분\n",
    "- [문제 설명 링크 : https://www.acmicpc.net/problem/12865](https://www.acmicpc.net/problem/12865)"
   ]
  },
  {
   "cell_type": "markdown",
   "metadata": {},
   "source": [
    "<br>\n",
    "\n",
    "## 2.1 직접 풀이"
   ]
  },
  {
   "cell_type": "code",
   "execution_count": 5,
   "metadata": {},
   "outputs": [
    {
     "name": "stdin",
     "output_type": "stream",
     "text": [
      " 4 7\n",
      " 6 13\n",
      " 4 8\n",
      " 3 6\n",
      " 5 12\n"
     ]
    },
    {
     "name": "stdout",
     "output_type": "stream",
     "text": [
      "{6: 13, 5: 12, 4: 8, 3: 6}\n"
     ]
    }
   ],
   "source": [
    "n, k = map(int, input().split())\n",
    "#items = [{w:0, v:0} for _ in range(n)]\n",
    "items = {}\n",
    "\n",
    "for i in range(n):\n",
    "    w, v = map(int, input().split())\n",
    "    items[w] = v\n",
    "\n",
    "items = dict(sorted(items.items(), key=lambda x: x[1], reverse=True))\n",
    "print(items)"
   ]
  },
  {
   "cell_type": "markdown",
   "metadata": {},
   "source": [
    "<br>\n",
    "\n",
    "## 2.2 해설\n",
    "\n",
    "- 배낭 문제(Knapscak Problem)으로도 알려져 있는 전형적인 동적 프로그래밍 문제이다.\n",
    "- 물품의 수가 N, 배낭에 담을 수 있는 무게가 K이다.\n",
    "- 동적 프로그래밍을 이용하여 시간 복잡도 O(NK)로 문제를 해결할 수 있다."
   ]
  },
  {
   "cell_type": "markdown",
   "metadata": {},
   "source": [
    "- 핵심 아이디어 : **모든 무게**에 대하여 최대 가치 저장하기\n",
    "- D[i][j] : 배낭에 넣은 물품의 무게 합이 j일 때 얻을 수 있는 최대 가치\n",
    "- 각 물품의 번호 i에 따라서 최대 가치 테이블 D[i][j]를 갱신하여 문제를 해결할 수 있다.\n",
    "\n",
    "<img src=\"./img/02_00.jpg\" style=\"width: 600px; margin-left: 25px\" />"
   ]
  },
  {
   "cell_type": "markdown",
   "metadata": {},
   "source": [
    "- 현재 무게(j)가 새로 들어온 무게(W[j])보다 작을 경우\n",
    "  - D[i-1][j] : 이전 행(i-1)의 현재 무게(j)의 가치 값  \n",
    "  \n",
    "  \n",
    "- 현재 무게(j)가 새로 들어온 무게(W[j])보다 크거나 같을 경우\n",
    "  - D[i-1][j] : 이전 행(i-1)의 현재 무게(j)의 가치 값\n",
    "  - D[i-1][j-W[i] : 이전 행(i-1)의 현재 무게(j)에서 새로 들어온 무게(W[j])를 뺀 무게의 가치 값\n",
    "  - V[i] : 새로 들어온 가치 값\n",
    "  - D[i-1][j]과 D[i-1][j-W[i] + V[i] 중 더 큰 가치 값"
   ]
  },
  {
   "cell_type": "markdown",
   "metadata": {},
   "source": [
    "<br>\n",
    "\n",
    "**N=4, K=7 일 때의 예시**\n",
    "\n",
    "- 물건이 4개 있고, 배낭에 담을 수 있는 최대 무게가 7이다.\n",
    "- 무게 0부터 7까지 계산할 수 있도록 2차원 배열을 생성하고 0으로 초기화한다.\n",
    "- 무게가 0일 때(첫 번째 열) 어떠한 물건도 담을 수 없기 때문에 가치가 0이다.\n",
    "\n",
    "<img src=\"./img/02_01.jpg\" style=\"width: 600px; margin-left: 25px\" />\n",
    "\n",
    "- 이제 각각의 물건 당 한 행씩 차지하면서 2차원 배열을 채워 나간다."
   ]
  },
  {
   "cell_type": "markdown",
   "metadata": {},
   "source": [
    "<br>\n",
    "\n",
    "1) 무게가 6, 가치가 13인 물건\n",
    "\n",
    "<img src=\"./img/02_02.jpg\" style=\"width: 600px; margin-left: 25px\" />\n",
    "\n",
    "- 무게가 6보다 작은 열에 대해서는 이전 행의 가치 값을 채워준다.\n",
    "  - 2차원 배열의 값이 특정 무게에 대해서 가질 수 있는 최대 가치 값이기 때문이다.\n",
    "- 무게가 6보다 크거나 같은 열에 대해서는 다음과 같이 가치를 비교해서 큰 값을 채워준다.\n",
    "  - 현재 무게에서 새로 들어온 무게를 뺀 무게의 가치 값 + 새로 들어온 가치 값 vs 현재 무게의 이전 행 가치 값\n",
    "  - w=6; 0(0(=6-6)무게의 가치 값) + 13 vs 0 -> 13\n",
    "  - w=7; 0(1(=7-6)무게의 가치 값) + 13 vs 0 -> 13"
   ]
  },
  {
   "cell_type": "markdown",
   "metadata": {},
   "source": [
    "<br>\n",
    "\n",
    "2) 무게가 4, 가치가 8인 물건\n",
    "\n",
    "<img src=\"./img/02_03.jpg\" style=\"width: 600px; margin-left: 25px\" />\n",
    "\n",
    "- 무게가 4보다 작은 열에 대해서는 이전 행의 가치 값을 채워준다.\n",
    "- 무게가 4보다 크거나 같은 열에 대해서는 다음과 같이 가치를 비교해서 큰 값을 채워준다.\n",
    "  - 현재 무게에서 새로 들어온 무게를 뺀 무게의 가치 값 + 새로 들어온 가치 값 vs 현재 무게의 이전 행 가치 값\n",
    "  - w=4; 0(0(=4-4)무게의 가치 값) + 8 vs 0 -> 8\n",
    "  - w=5; 0(1(=5-4)무게의 가치 값) + 8 vs 0 -> 8\n",
    "  - w=6; 0(2(=6-4)무게의 가치 값) + 8 vs 13 -> 13\n",
    "  - w=7; 0(3(=7-4)무게의 가치 값) + 8 vs 13 -> 13"
   ]
  },
  {
   "cell_type": "markdown",
   "metadata": {},
   "source": [
    "<br>\n",
    "\n",
    "3) 무게가 3, 가치가 6인 물건\n",
    "\n",
    "<img src=\"./img/02_04.jpg\" style=\"width: 600px; margin-left: 25px\" />\n",
    "\n",
    "- 무게가 3보다 작은 열에 대해서는 이전 행의 가치 값을 채워준다.\n",
    "- 무게가 3보다 크거나 같은 열에 대해서는 다음과 같이 가치를 비교해서 큰 값을 채워준다.\n",
    "  - 현재 무게에서 새로 들어온 무게를 뺀 무게의 가치 값 + 새로 들어온 가치 값 vs 현재 무게의 이전 행 가치 값\n",
    "  - w=3; 0(0(=3-3)무게의 가치 값) + 6 vs 0 -> 6\n",
    "  - w=4; 0(1(=4-3)무게의 가치 값) + 6 vs 8 -> 8\n",
    "  - w=5; 0(2(=5-3)무게의 가치 값) + 6 vs 8 -> 8\n",
    "  - w=6; 0(3(=6-3)무게의 가치 값) + 6 vs 13 -> 13\n",
    "  - w=7; 8(4(=7-3)무게의 가치 값) + 6 vs 13 -> 14"
   ]
  },
  {
   "cell_type": "markdown",
   "metadata": {},
   "source": [
    "<br>\n",
    "\n",
    "4) 무게가 5, 가치가 12인 물건\n",
    "\n",
    "<img src=\"./img/02_05.jpg\" style=\"width: 600px; margin-left: 25px\" />"
   ]
  },
  {
   "cell_type": "markdown",
   "metadata": {},
   "source": [
    "- 무게가 5보다 작은 열에 대해서는 이전 행의 가치 값을 채워준다.\n",
    "- 무게가 5보다 크거나 같은 열에 대해서는 다음과 같이 가치를 비교해서 큰 값을 채워준다.\n",
    "  - 현재 무게에서 새로 들어온 무게를 뺀 무게의 가치 값 + 새로 들어온 가치 값 vs 현재 무게의 이전 행 가치 값\n",
    "  - w=5; 0(0(=5-5)무게의 가치 값) + 12 vs 8 -> 12\n",
    "  - w=6; 0(1(=6-5)무게의 가치 값) + 12 vs 13 -> 13\n",
    "  - w=7; 0(2(=7-5)무게의 가치 값) + 12 vs 14 -> 14"
   ]
  },
  {
   "cell_type": "markdown",
   "metadata": {},
   "source": [
    "<br>\n",
    "\n",
    "## 2.3 해설 코드"
   ]
  },
  {
   "cell_type": "code",
   "execution_count": 6,
   "metadata": {},
   "outputs": [
    {
     "name": "stdin",
     "output_type": "stream",
     "text": [
      " 4 7\n",
      " 6 13\n",
      " 4 8\n",
      " 3 6\n",
      " 5 12\n"
     ]
    },
    {
     "name": "stdout",
     "output_type": "stream",
     "text": [
      "14\n"
     ]
    }
   ],
   "source": [
    "n, k = map(int, input().split())\n",
    "dp = [[0] * (k+1) for _ in range(n+1)]\n",
    "\n",
    "for i in range(1, n+1):\n",
    "    weight, value = map(int, input().split())\n",
    "    \n",
    "    for j in range(1, k+1):\n",
    "        if j < weight:\n",
    "            dp[i][j] = dp[i-1][j]\n",
    "        else:\n",
    "            dp[i][j] = max(dp[i-1][j], dp[i-1][j - weight] + value)\n",
    "            \n",
    "print(dp[n][k])"
   ]
  }
 ],
 "metadata": {
  "kernelspec": {
   "display_name": "Python 3",
   "language": "python",
   "name": "python3"
  },
  "language_info": {
   "codemirror_mode": {
    "name": "ipython",
    "version": 3
   },
   "file_extension": ".py",
   "mimetype": "text/x-python",
   "name": "python",
   "nbconvert_exporter": "python",
   "pygments_lexer": "ipython3",
   "version": "3.6.9"
  }
 },
 "nbformat": 4,
 "nbformat_minor": 4
}
