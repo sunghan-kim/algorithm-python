{
 "cells": [
  {
   "cell_type": "markdown",
   "metadata": {},
   "source": [
    "# 5. 센서 (복습)\n",
    "\n",
    "- [문제 설명 링크 : https://www.acmicpc.net/problem/2212](https://www.acmicpc.net/problem/2212)"
   ]
  },
  {
   "cell_type": "code",
   "execution_count": 3,
   "metadata": {},
   "outputs": [
    {
     "name": "stdin",
     "output_type": "stream",
     "text": [
      " 6\n",
      " 2\n",
      " 1 6 9 3 6 7\n"
     ]
    },
    {
     "name": "stdout",
     "output_type": "stream",
     "text": [
      "5\n"
     ]
    }
   ],
   "source": [
    "import sys\n",
    "\n",
    "n = int(input())\n",
    "k = int(input())\n",
    "\n",
    "# 다음 로직이 없을 시 런타이 에러 발생\n",
    "if k >= n:\n",
    "    print(0)\n",
    "    sys.exit()\n",
    "\n",
    "array = list(map(int, input().split()))\n",
    "\n",
    "array.sort()\n",
    "\n",
    "distances = []\n",
    "for i in range(1, n):\n",
    "    distances.append(array[i] - array[i-1])\n",
    "    \n",
    "distances.sort(reverse=True)\n",
    "\n",
    "for i in range(k-1):\n",
    "    distances[i] = 0\n",
    "    \n",
    "print(sum(distances))"
   ]
  }
 ],
 "metadata": {
  "kernelspec": {
   "display_name": "Python 3",
   "language": "python",
   "name": "python3"
  },
  "language_info": {
   "codemirror_mode": {
    "name": "ipython",
    "version": 3
   },
   "file_extension": ".py",
   "mimetype": "text/x-python",
   "name": "python",
   "nbconvert_exporter": "python",
   "pygments_lexer": "ipython3",
   "version": "3.6.9"
  }
 },
 "nbformat": 4,
 "nbformat_minor": 4
}
