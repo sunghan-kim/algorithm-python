{
 "cells": [
  {
   "cell_type": "markdown",
   "metadata": {},
   "source": [
    "# 4. 재귀 용법 (recursive call, 재귀 호출)\n",
    "\n",
    "- 고급 정렬 알고리즘에서 재귀 용법을 사용하므로, 고급 정렬 알고리즘을 익히기 전에 재귀 용법을 먼저 익혀 본다."
   ]
  },
  {
   "cell_type": "markdown",
   "metadata": {},
   "source": [
    "<br>\n",
    "\n",
    "## 4.1 재귀 용법이란?\n",
    "\n",
    "- 함수 안에서 동일한 함수를 호출하는 형태\n",
    "- 여러 알고리즘 작성 시 사용되므로 익숙해져야 한다."
   ]
  },
  {
   "cell_type": "markdown",
   "metadata": {},
   "source": [
    "<br>\n",
    "\n",
    "## 4.2 예제를 통한 재귀 용법 이해\n",
    "\n",
    "- 예제를 풀어보며 재귀 용법 이해하기"
   ]
  },
  {
   "cell_type": "markdown",
   "metadata": {},
   "source": [
    "### 4.2.1 예제 문제\n",
    "\n",
    "- 팩토리얼을 구하는 알고리즘을 Recursive Call을 활용해서 알고리즘 작성하기"
   ]
  },
  {
   "cell_type": "markdown",
   "metadata": {},
   "source": [
    "<br>\n",
    "\n",
    "### 4.2.2 문제 분석"
   ]
  },
  {
   "cell_type": "markdown",
   "metadata": {},
   "source": [
    "#### 4.2.2.1 간단한 경우\n",
    "\n",
    "- 2! = 1 x 2\n",
    "- 3! = 1 x 2 x 3\n",
    "- 4! = 1 x 2 x 3 x 4 = 4 x 3!"
   ]
  },
  {
   "cell_type": "markdown",
   "metadata": {},
   "source": [
    "<br>\n",
    "\n",
    "#### 4.2.2.2 규칙 발견\n",
    "\n",
    "- $n! = n \\times (n-1)!$"
   ]
  },
  {
   "cell_type": "markdown",
   "metadata": {},
   "source": [
    "1. 함수를 하나 만든다.\n",
    "2. `함수(n)`은 `n > 1` 이면 `return n x 함수(n-1)`\n",
    "3. `함수(n)`은 `n = 1` 이면 `return n`"
   ]
  },
  {
   "cell_type": "markdown",
   "metadata": {},
   "source": [
    "<br>\n",
    "\n",
    "#### 4.2.2.3 검증\n",
    "\n",
    "- 코드로 검증하지 않고, 직접 간단한 경우부터 대입하여 검증해야 한다."
   ]
  },
  {
   "cell_type": "markdown",
   "metadata": {},
   "source": [
    "- `2!`\n",
    "  - `함수(2)` : `2 > 1` $\\rightarrow$ `2 x 함수(1)`\n",
    "  - `함수(1)` : `1 = 1` $\\rightarrow$ `1`\n",
    "  - 따라서 `return 2 x 1 = 2` (4.2.2.1의 결과와 일치)"
   ]
  },
  {
   "cell_type": "markdown",
   "metadata": {},
   "source": [
    "- `3!`\n",
    "  - `함수(3)` : `3 > 1` $\\rightarrow$ `3 x 함수(2)`\n",
    "  - 위의 `2!` 검증을 통해 `함수(2)`는 `2 x 1 = 2`이다.\n",
    "  - 따라서 `return 3 x 2 = 6` (4.2.2.1의 결과와 일치)"
   ]
  },
  {
   "cell_type": "markdown",
   "metadata": {},
   "source": [
    "- 4!\n",
    "  - `함수(4)` : `4 > 1` $\\rightarrow$ `4 x 함수(3)`\n",
    "  - 위의 `3!` 검증을 통해 `함수(3)`은 `3 x 2 x 1 = 6`이다.\n",
    "  - 따라서 `return 4 x 6 = 24` (4.2.2.1의 결과와 일치)"
   ]
  },
  {
   "cell_type": "markdown",
   "metadata": {},
   "source": [
    "<br>\n",
    "\n",
    "### 4.2.3 코드 레벨로 작성"
   ]
  },
  {
   "cell_type": "code",
   "execution_count": 3,
   "metadata": {},
   "outputs": [],
   "source": [
    "def factorial(num):\n",
    "    if num > 1:\n",
    "        return num * factorial(num-1)\n",
    "    else:\n",
    "        return num"
   ]
  },
  {
   "cell_type": "code",
   "execution_count": 4,
   "metadata": {},
   "outputs": [
    {
     "name": "stdout",
     "output_type": "stream",
     "text": [
      "0\n",
      "1\n",
      "2\n",
      "6\n",
      "24\n",
      "120\n",
      "720\n",
      "5040\n",
      "40320\n",
      "362880\n"
     ]
    }
   ],
   "source": [
    "for num in range(10):\n",
    "    print(factorial(num))"
   ]
  },
  {
   "cell_type": "markdown",
   "metadata": {},
   "source": [
    "<br>\n",
    "\n",
    "### 4.2.4 시간 복잡도와 공간 복잡도\n",
    "\n",
    "- `factorial(n)`은 `n-1`번의 `factorial()` 함수를 호출해서 곱셈을 한다.\n",
    "  - 일종의 `n-1`번 반복문을 호출하는 것과 동일\n",
    "- `factorial()` 함수를 호출할 때마다 지역 변수 `n`이 생성된다."
   ]
  },
  {
   "cell_type": "markdown",
   "metadata": {},
   "source": [
    "- 시간 복잡도와 공간 복잡도 모두 $O(n-1)$이므로, 결국 둘 다 $O(n)$이다."
   ]
  },
  {
   "cell_type": "markdown",
   "metadata": {},
   "source": [
    "<br>\n",
    "\n",
    "## 4.3 재귀 호출의 일반적인 형태"
   ]
  },
  {
   "cell_type": "markdown",
   "metadata": {},
   "source": [
    "### 4.3.1 일반적인 형태 1\n",
    "\n",
    "```python\n",
    "def function(입력):\n",
    "    if 입력 > 일정값: # 입력이 일정값 이상이면\n",
    "        return function(입력 - 1) # 입력보다 작은 값\n",
    "    else:\n",
    "        return 일정값, 입력값, 또는 특정값 # 재귀 호출 종료\n",
    "```"
   ]
  },
  {
   "cell_type": "markdown",
   "metadata": {},
   "source": [
    "<br>\n",
    "\n",
    "### 4.3.2 일반적인 형태 2\n",
    "\n",
    "```python\n",
    "def function(입력):\n",
    "    if 입력 <= 일정값: # 입력이 일정값보다 작으면\n",
    "        return 일정값, 입력값, 또는 특정값 # 재귀 호출 종료\n",
    "    function(입력보다 작은 값)\n",
    "    return 결과값\n",
    "```"
   ]
  },
  {
   "cell_type": "markdown",
   "metadata": {},
   "source": [
    "<br>\n",
    "\n",
    "### 4.3.3 \"일반적인 형태 2\"를 사용한 `factorial()` 함수 구현"
   ]
  },
  {
   "cell_type": "code",
   "execution_count": 6,
   "metadata": {},
   "outputs": [],
   "source": [
    "def factorial(num):\n",
    "    if num <= 1:\n",
    "        return num\n",
    "    return num * factorial(num - 1)"
   ]
  },
  {
   "cell_type": "code",
   "execution_count": 7,
   "metadata": {},
   "outputs": [
    {
     "name": "stdout",
     "output_type": "stream",
     "text": [
      "0\n",
      "1\n",
      "2\n",
      "6\n",
      "24\n",
      "120\n",
      "720\n",
      "5040\n",
      "40320\n",
      "362880\n"
     ]
    }
   ],
   "source": [
    "for num in range(10):\n",
    "    print(factorial(num))"
   ]
  },
  {
   "cell_type": "markdown",
   "metadata": {},
   "source": [
    "<br>\n",
    "\n",
    "## 4.4 재귀 호출은 스택의 전형적인 예\n",
    "\n",
    "- 함수는 내부적으로 스택처럼 관리된다.\n",
    "\n",
    "<img src=\"https://www.fun-coding.org/00_Images/recursivecall.png\" />"
   ]
  },
  {
   "cell_type": "markdown",
   "metadata": {},
   "source": [
    "-  [코드분석]( http://pythontutor.com/live.html#code=%23%20factorial%20%ED%95%A8%EC%88%98%20%EC%95%88%EC%97%90%EC%84%9C%20factorial%20%ED%95%A8%EC%88%98%EB%A5%BC%20%ED%98%B8%EC%B6%9C%0Adef%20factorial%28num%29%3A%0A%20%20%20%20if%20num%20%3E%201%3A%0A%20%20%20%20%20%20%20%20return%20num%20*%20factorial%28num%20-%201%29%0A%20%20%20%20else%3A%0A%20%20%20%20%20%20%20%20return%20num%0A%0Afactorial%285%29&cumulative=false&curInstr=22&heapPrimitives=false&mode=display&origin=opt-live.js&py=3&rawInputLstJSON=%5B%5D&textReferences=false)"
   ]
  },
  {
   "cell_type": "markdown",
   "metadata": {},
   "source": [
    "<br>\n",
    "\n",
    "## 4.5 파이썬에서의 재귀 호출 제한\n",
    "\n",
    "- 파이썬에서 재귀 함수는 깊이(한 번에 호출되는 횟수)가 1000회 이하여야 한다."
   ]
  },
  {
   "cell_type": "markdown",
   "metadata": {},
   "source": [
    "<br>\n",
    "\n",
    "## 4.6 재귀 용법을 활용한 프로그래밍 연습"
   ]
  },
  {
   "cell_type": "markdown",
   "metadata": {},
   "source": [
    "### 4.6.1 연습 1\n",
    "\n",
    "- 다음 함수를 재귀 함수를 활용해 완성해서 `1`부터 `num`까지의 곱이 출력되게 만들어라.\n",
    "\n",
    "```python\n",
    "def multiple(data):\n",
    "    if data return ....\n",
    "\n",
    "multiple(10)\n",
    "```"
   ]
  },
  {
   "cell_type": "code",
   "execution_count": 10,
   "metadata": {},
   "outputs": [
    {
     "data": {
      "text/plain": [
       "3628800"
      ]
     },
     "execution_count": 10,
     "metadata": {},
     "output_type": "execute_result"
    }
   ],
   "source": [
    "# 방법 1\n",
    "def multiple(data):\n",
    "    return_value = 1\n",
    "    for index in range(1, data + 1):\n",
    "        return_value = return_value * index\n",
    "    return return_value\n",
    "\n",
    "multiple(10)"
   ]
  },
  {
   "cell_type": "code",
   "execution_count": 9,
   "metadata": {},
   "outputs": [
    {
     "data": {
      "text/plain": [
       "3628800"
      ]
     },
     "execution_count": 9,
     "metadata": {},
     "output_type": "execute_result"
    }
   ],
   "source": [
    "# 방법 2\n",
    "def multiple(data):\n",
    "    if data <= 1:\n",
    "        return data\n",
    "    else:\n",
    "        return data * multiple(data-1)\n",
    "\n",
    "multiple(10)"
   ]
  },
  {
   "cell_type": "markdown",
   "metadata": {},
   "source": [
    "<br>\n",
    "\n",
    "### 4.6.2 연습 2\n",
    "\n",
    "- 숫자가 들어 있는 리스트가 주어졌을 때, 리스트의 합을 리턴하는 함수를 만들어라\n",
    "- 임의의 값으로 리스트 만들기\n",
    "  - `random.sample(0~99까지 중에서, 임의로 10개를 만듬)`\n",
    "  - 위 방법을 통해 10개 값을 가지는 리스트 변수 만들기"
   ]
  },
  {
   "cell_type": "code",
   "execution_count": 11,
   "metadata": {},
   "outputs": [
    {
     "data": {
      "text/plain": [
       "[40, 61, 81, 97, 88, 95, 73, 83, 31, 2]"
      ]
     },
     "execution_count": 11,
     "metadata": {},
     "output_type": "execute_result"
    }
   ],
   "source": [
    "import random\n",
    "\n",
    "data = random.sample(range(100), 10)\n",
    "data"
   ]
  },
  {
   "cell_type": "code",
   "execution_count": 13,
   "metadata": {},
   "outputs": [
    {
     "data": {
      "text/plain": [
       "651"
      ]
     },
     "execution_count": 13,
     "metadata": {},
     "output_type": "execute_result"
    }
   ],
   "source": [
    "def sum_list(data):\n",
    "    result = 0\n",
    "    for num in data:\n",
    "        result += num\n",
    "    return result\n",
    "\n",
    "sum_list(data)"
   ]
  },
  {
   "cell_type": "code",
   "execution_count": 15,
   "metadata": {},
   "outputs": [
    {
     "data": {
      "text/plain": [
       "651"
      ]
     },
     "execution_count": 15,
     "metadata": {},
     "output_type": "execute_result"
    }
   ],
   "source": [
    "sum(data)"
   ]
  },
  {
   "cell_type": "markdown",
   "metadata": {},
   "source": [
    "<br>\n",
    "\n",
    "### 4.6.3 연습 3\n",
    "\n",
    "- 숫자가 들어 있는 리스트가 주어졌을 때, 리스트의 합을 리턴하는 함수를 만들어라\n",
    "- 재귀 함수 사용"
   ]
  },
  {
   "cell_type": "code",
   "execution_count": 16,
   "metadata": {},
   "outputs": [
    {
     "data": {
      "text/plain": [
       "651"
      ]
     },
     "execution_count": 16,
     "metadata": {},
     "output_type": "execute_result"
    }
   ],
   "source": [
    "def sum_list(data):\n",
    "    if len(data) == 1:\n",
    "        return data[0]\n",
    "    return data[0] + sum_list(data[1:])\n",
    "\n",
    "sum_list(data)"
   ]
  },
  {
   "cell_type": "markdown",
   "metadata": {},
   "source": [
    "<br>\n",
    "\n",
    "### 4.6.4 연습 4\n",
    "\n",
    "- 화문(palindrome)은 순서를 거꾸로 읽어도 제대로 읽은 것과 같은 단어와 문장을 의미함\n",
    "\n",
    "<img src=\"https://www.fun-coding.org/00_Images/palindrome.png\" width=200/>\n",
    "\n",
    "- 화문을 판별할 수 있는 함수를 리스트 슬라이싱을 활용해서 만들어라."
   ]
  },
  {
   "cell_type": "markdown",
   "metadata": {},
   "source": [
    "- 리스트 슬라이싱\n",
    "  - `string = 'Dave'`\n",
    "  - `string[-1] == e`\n",
    "  - `string[0] == D`\n",
    "  - `string[1:-1] == av`\n",
    "  - `string[:-1] == Dav`"
   ]
  },
  {
   "cell_type": "code",
   "execution_count": 18,
   "metadata": {},
   "outputs": [],
   "source": [
    "def palindrome(string):\n",
    "    return False"
   ]
  },
  {
   "cell_type": "markdown",
   "metadata": {},
   "source": [
    "<br>\n",
    "\n",
    "### 4.6.5 연습 5\n",
    "\n",
    "- 화문(palindrome)은 순서를 거꾸로 읽어도 제대로 읽은 것과 같은 단어와 문장을 의미함\n",
    "- 화문을 판별할 수 있는 함수를 재귀 함수를 활용해 만들어보자."
   ]
  },
  {
   "cell_type": "code",
   "execution_count": 19,
   "metadata": {},
   "outputs": [],
   "source": [
    "def palindrome(string):\n",
    "    if len(string) <= 1:\n",
    "        return True\n",
    "    \n",
    "    if string[0] == string[-1]:\n",
    "        return palindrome(string[1:-1])\n",
    "    else:\n",
    "        return False"
   ]
  },
  {
   "cell_type": "markdown",
   "metadata": {},
   "source": [
    "<br>\n",
    "\n",
    "### 4.6.6 연습 6\n",
    "\n",
    "- 정수 `n`에 대해\n",
    "  - `n`이 홀수 $\\rightarrow$ `3 x n + 1`\n",
    "  - `n`이 짝수 $\\rightarrow$ `n / 2`\n",
    "- 이렇게 계속 진행해서 `n`이 결국 `1`이 될 때까지 반복한다."
   ]
  },
  {
   "cell_type": "markdown",
   "metadata": {},
   "source": [
    "- ex) `n = 3`\n",
    "  - `3`\n",
    "  - `10`\n",
    "  - `5`\n",
    "  - `16`\n",
    "  - `8`\n",
    "  - `4`\n",
    "  - `2`\n",
    "  - `1`"
   ]
  },
  {
   "cell_type": "markdown",
   "metadata": {},
   "source": [
    "- 이렇게 정수 `n`을 입력받아, 위 알고리즘에 의해 `1`이 되는 과정을 모두 출력하는 함수를 만들어라."
   ]
  },
  {
   "cell_type": "code",
   "execution_count": 21,
   "metadata": {},
   "outputs": [
    {
     "name": "stdout",
     "output_type": "stream",
     "text": [
      "3\n",
      "10\n",
      "5\n",
      "16\n",
      "8\n",
      "4\n",
      "2\n",
      "1\n"
     ]
    },
    {
     "data": {
      "text/plain": [
       "1"
      ]
     },
     "execution_count": 21,
     "metadata": {},
     "output_type": "execute_result"
    }
   ],
   "source": [
    "def func(n):\n",
    "    print(n)\n",
    "    if n == 1:\n",
    "        return n\n",
    "    \n",
    "    if n % 2 == 0:\n",
    "        return func(int(n / 2))\n",
    "    else:\n",
    "        return func(3 * n + 1)\n",
    "\n",
    "func(3)"
   ]
  },
  {
   "cell_type": "markdown",
   "metadata": {},
   "source": [
    "<br>\n",
    "\n",
    "### 4.6.7 연습 7\n",
    "\n",
    "- 정수 `4`를 `1`, `2`, `3`의 조합으로 나타내는 방법은 다음과 같이 총 7가지가 있다.\n",
    "  - `1+1+1+1`\n",
    "  - `1+1+2`\n",
    "  - `1+2+1`\n",
    "  - `2+1+1`\n",
    "  - `2+2`\n",
    "  - `1+3`\n",
    "  - `3+1`\n",
    "- 정수 `n`이 입력으로 주어졌을 때, `n`을 `1`, `2`, `3`의 합으로 나타낼 수 있는 방법의 수를 구하여라."
   ]
  },
  {
   "cell_type": "markdown",
   "metadata": {},
   "source": [
    "- 힌트\n",
    "  - `f(n)` : 정수 `n`을 만들 수 있는 경우의 수를 리턴하는 함수\n",
    "  - `f(n) = f(n-1) + f(n-2) + f(n-3)`과 동일하다는 패턴 찾기\n",
    "  - 출처 : ACM-ICPC > Regionals > Asia > Korea > Asia Regional - Taejon 2001"
   ]
  },
  {
   "cell_type": "markdown",
   "metadata": {},
   "source": [
    "*그림 붙여넣기*"
   ]
  },
  {
   "cell_type": "code",
   "execution_count": 22,
   "metadata": {},
   "outputs": [],
   "source": [
    "def func(data):\n",
    "    if data == 1:\n",
    "        return 1\n",
    "    elif data == 2:\n",
    "        return 2\n",
    "    elif data == 3:\n",
    "        return 4\n",
    "    \n",
    "    return func(data - 1) + func(data - 2) + func(data - 3)"
   ]
  },
  {
   "cell_type": "code",
   "execution_count": 23,
   "metadata": {},
   "outputs": [
    {
     "data": {
      "text/plain": [
       "7"
      ]
     },
     "execution_count": 23,
     "metadata": {},
     "output_type": "execute_result"
    }
   ],
   "source": [
    "func(4)"
   ]
  },
  {
   "cell_type": "code",
   "execution_count": 24,
   "metadata": {},
   "outputs": [
    {
     "data": {
      "text/plain": [
       "13"
      ]
     },
     "execution_count": 24,
     "metadata": {},
     "output_type": "execute_result"
    }
   ],
   "source": [
    "func(5)"
   ]
  }
 ],
 "metadata": {
  "kernelspec": {
   "display_name": "Python 3",
   "language": "python",
   "name": "python3"
  },
  "language_info": {
   "codemirror_mode": {
    "name": "ipython",
    "version": 3
   },
   "file_extension": ".py",
   "mimetype": "text/x-python",
   "name": "python",
   "nbconvert_exporter": "python",
   "pygments_lexer": "ipython3",
   "version": "3.6.9"
  }
 },
 "nbformat": 4,
 "nbformat_minor": 4
}
