{
 "cells": [
  {
   "cell_type": "markdown",
   "metadata": {},
   "source": [
    "# 1. 해킹 (복습)\n",
    "\n",
    "- [문제 설명 링크 : https://www.acmicpc.net/problem/10282](https://www.acmicpc.net/problem/10282)"
   ]
  },
  {
   "cell_type": "markdown",
   "metadata": {},
   "source": [
    "<br>\n",
    "\n",
    "## 풀이\n",
    "\n",
    "- 성공"
   ]
  },
  {
   "cell_type": "code",
   "execution_count": 1,
   "metadata": {},
   "outputs": [
    {
     "name": "stdin",
     "output_type": "stream",
     "text": [
      " 2\n",
      " 3 2 2\n",
      " 2 1 5\n",
      " 3 2 5\n"
     ]
    },
    {
     "name": "stdout",
     "output_type": "stream",
     "text": [
      "2 5\n"
     ]
    },
    {
     "name": "stdin",
     "output_type": "stream",
     "text": [
      " 3 3 1\n",
      " 2 1 2\n",
      " 3 1 8\n",
      " 3 2 4\n"
     ]
    },
    {
     "name": "stdout",
     "output_type": "stream",
     "text": [
      "3 6\n"
     ]
    }
   ],
   "source": [
    "import heapq\n",
    "\n",
    "def dijkstra(sc): # sc : start computer\n",
    "    queue = []\n",
    "    heapq.heappush(queue, (0, sc))\n",
    "    times[sc] = 0\n",
    "    \n",
    "    while queue:\n",
    "        c = heapq.heappop(queue)\n",
    "        if times[c[1]] < c[0]:\n",
    "            continue\n",
    "        for nc, nt in graph[c[1]]:\n",
    "            time = c[0] + nt\n",
    "            if times[nc] > time:\n",
    "                times[nc] = time\n",
    "                heapq.heappush(queue, (time, nc))\n",
    "\n",
    "test_case = int(input())\n",
    "\n",
    "for _ in range(test_case):\n",
    "    n, d, c = map(int, input().split())\n",
    "    graph = [[] for _ in range(n+1)]\n",
    "    times = [1e9] * (n+1)\n",
    "    \n",
    "    for _ in range(d):\n",
    "        a, b, s = map(int, input().split())\n",
    "        graph[b].append((a, s))\n",
    "        \n",
    "    dijkstra(c)\n",
    "    \n",
    "    count = 0\n",
    "    maxTime = 0\n",
    "    \n",
    "    for i in range(n+1):\n",
    "        if times[i] != 1e9:\n",
    "            count += 1\n",
    "            if times[i] > maxTime:\n",
    "                maxTime = times[i]\n",
    "                \n",
    "    print(count, maxTime)"
   ]
  }
 ],
 "metadata": {
  "kernelspec": {
   "display_name": "Python 3",
   "language": "python",
   "name": "python3"
  },
  "language_info": {
   "codemirror_mode": {
    "name": "ipython",
    "version": 3
   },
   "file_extension": ".py",
   "mimetype": "text/x-python",
   "name": "python",
   "nbconvert_exporter": "python",
   "pygments_lexer": "ipython3",
   "version": "3.6.9"
  }
 },
 "nbformat": 4,
 "nbformat_minor": 4
}
