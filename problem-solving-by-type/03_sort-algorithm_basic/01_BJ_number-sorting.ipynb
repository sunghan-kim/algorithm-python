{
 "cells": [
  {
   "cell_type": "markdown",
   "metadata": {},
   "source": [
    "# 1. 수 정렬하기\n",
    "\n",
    "- 난이도 : 하(Easy)\n",
    "- 유형 : 정렬\n",
    "- 추천 풀이 시간 : 15분\n",
    "- [문제 설명 링크 : https://www.acmicpc.net/problem/2750](https://www.acmicpc.net/problem/2750)"
   ]
  },
  {
   "cell_type": "markdown",
   "metadata": {},
   "source": [
    "<br>\n",
    "\n",
    "## 1.1 문제 설명"
   ]
  },
  {
   "cell_type": "markdown",
   "metadata": {},
   "source": [
    "### 1.1.1 문제\n",
    "\n",
    "N개의 수가 주어졌을 때, 이를 오름차순으로 정렬하는 프로그램을 작성하시오."
   ]
  },
  {
   "cell_type": "markdown",
   "metadata": {},
   "source": [
    "<br>\n",
    "\n",
    "### 1.1.2 입력\n",
    "\n",
    "첫째 줄에 수의 개수 N(1 ≤ N ≤ 1,000)이 주어진다. 둘째 줄부터 N개의 줄에는 숫자가 주어진다. 이 수는 절댓값이 1,000보다 작거나 같은 정수이다. 수는 중복되지 않는다."
   ]
  },
  {
   "cell_type": "markdown",
   "metadata": {},
   "source": [
    "<br>\n",
    "\n",
    "### 1.1.3 출력\n",
    "\n",
    "첫째 줄부터 N개의 줄에 오름차순으로 정렬한 결과를 한 줄에 하나씩 출력한다."
   ]
  },
  {
   "cell_type": "markdown",
   "metadata": {},
   "source": [
    "<br>\n",
    "\n",
    "### 1.1.4 입출력 예제\n",
    "\n",
    "**예제 입력 1**\n",
    "\n",
    "```\n",
    "5\n",
    "5\n",
    "2\n",
    "3\n",
    "4\n",
    "1\n",
    "```"
   ]
  },
  {
   "cell_type": "markdown",
   "metadata": {},
   "source": [
    "**예제 출력 1**\n",
    "\n",
    "```\n",
    "1\n",
    "2\n",
    "3\n",
    "4\n",
    "5\n",
    "```"
   ]
  },
  {
   "cell_type": "markdown",
   "metadata": {},
   "source": [
    "<br>\n",
    "\n",
    "## 1.2 직접 구현"
   ]
  },
  {
   "cell_type": "markdown",
   "metadata": {},
   "source": [
    "### 1.2.1 실제 구현 코드\n",
    "\n",
    "- 메모리 : 29380 KB\n",
    "- 시간 : 96 ms"
   ]
  },
  {
   "cell_type": "code",
   "execution_count": 11,
   "metadata": {},
   "outputs": [
    {
     "name": "stdin",
     "output_type": "stream",
     "text": [
      " 5\n",
      " 5\n",
      " 2\n",
      " 3\n",
      " 4\n",
      " 1\n"
     ]
    },
    {
     "name": "stdout",
     "output_type": "stream",
     "text": [
      "1\n",
      "2\n",
      "3\n",
      "4\n",
      "5\n"
     ]
    }
   ],
   "source": [
    "n = int(input())\n",
    "\n",
    "numList = []\n",
    "\n",
    "for _ in range(n):\n",
    "    num = int(input())\n",
    "    numList.append(num)\n",
    "\n",
    "sortedNumList = sorted(numList)\n",
    "for num in sortedNumList:\n",
    "    print(num)"
   ]
  },
  {
   "cell_type": "markdown",
   "metadata": {},
   "source": [
    "<br>\n",
    "\n",
    "## 1.3 해설"
   ]
  },
  {
   "cell_type": "markdown",
   "metadata": {},
   "source": [
    "### 1.3.1 해설 내용\n",
    "\n",
    "- 데이터의 개수가 1,000개 이하이므로 기본적인 정렬 알고리즘으로 해결할 수 있다."
   ]
  },
  {
   "cell_type": "markdown",
   "metadata": {},
   "source": [
    "<br>\n",
    "\n",
    "### 1.3.2 해설 코드"
   ]
  },
  {
   "cell_type": "markdown",
   "metadata": {},
   "source": [
    "#### 1.3.2.1 선택 정렬 활용"
   ]
  },
  {
   "cell_type": "code",
   "execution_count": 12,
   "metadata": {},
   "outputs": [
    {
     "name": "stdin",
     "output_type": "stream",
     "text": [
      " 5\n",
      " 5\n",
      " 2\n",
      " 3\n",
      " 5\n",
      " 1\n"
     ]
    },
    {
     "name": "stdout",
     "output_type": "stream",
     "text": [
      "1\n",
      "2\n",
      "3\n",
      "5\n",
      "5\n"
     ]
    }
   ],
   "source": [
    "n = int(input())\n",
    "array = list()\n",
    "\n",
    "for _ in range(n):\n",
    "    array.append(int(input()))\n",
    "    \n",
    "# 선택 정렬\n",
    "for i in range(n):\n",
    "    min_index = i\n",
    "    for j in range(i+1, n):\n",
    "        if array[min_index] > array[j]:\n",
    "            min_index = j\n",
    "    array[min_index], array[i] = array[i], array[min_index]\n",
    "    \n",
    "for i in array:\n",
    "    print(i)"
   ]
  },
  {
   "cell_type": "markdown",
   "metadata": {},
   "source": [
    "<br>\n",
    "\n",
    "#### 1.3.2.2 파이썬의 정렬 라이브러리 활용"
   ]
  },
  {
   "cell_type": "code",
   "execution_count": 13,
   "metadata": {},
   "outputs": [
    {
     "name": "stdin",
     "output_type": "stream",
     "text": [
      " 5\n",
      " 5\n",
      " 2\n",
      " 4\n",
      " 3\n",
      " 1\n"
     ]
    },
    {
     "name": "stdout",
     "output_type": "stream",
     "text": [
      "1\n",
      "2\n",
      "3\n",
      "4\n",
      "5\n"
     ]
    }
   ],
   "source": [
    "n = int(input())\n",
    "array = list()\n",
    "\n",
    "for _ in range(n):\n",
    "    array.append(int(input()))\n",
    "    \n",
    "array = sorted(array)\n",
    "\n",
    "for i in array:\n",
    "    print(i)"
   ]
  },
  {
   "cell_type": "code",
   "execution_count": 14,
   "metadata": {},
   "outputs": [
    {
     "name": "stdin",
     "output_type": "stream",
     "text": [
      " 5\n",
      " 5\n",
      " 2\n",
      " 3\n",
      " 4\n",
      " 1\n"
     ]
    },
    {
     "name": "stdout",
     "output_type": "stream",
     "text": [
      "1\n",
      "2\n",
      "3\n",
      "4\n",
      "5\n"
     ]
    }
   ],
   "source": [
    "n = int(input())\n",
    "array = list()\n",
    "\n",
    "for _ in range(n):\n",
    "    array.append(int(input()))\n",
    "    \n",
    "array.sort()\n",
    "\n",
    "for i in array:\n",
    "    print(i)"
   ]
  }
 ],
 "metadata": {
  "kernelspec": {
   "display_name": "Python 3",
   "language": "python",
   "name": "python3"
  },
  "language_info": {
   "codemirror_mode": {
    "name": "ipython",
    "version": 3
   },
   "file_extension": ".py",
   "mimetype": "text/x-python",
   "name": "python",
   "nbconvert_exporter": "python",
   "pygments_lexer": "ipython3",
   "version": "3.6.9"
  }
 },
 "nbformat": 4,
 "nbformat_minor": 4
}
