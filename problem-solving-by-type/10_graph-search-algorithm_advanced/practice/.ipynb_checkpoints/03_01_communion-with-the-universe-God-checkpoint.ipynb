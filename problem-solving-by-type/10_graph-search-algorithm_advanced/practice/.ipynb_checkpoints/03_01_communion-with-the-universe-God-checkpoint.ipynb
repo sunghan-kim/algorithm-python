{
 "cells": [
  {
   "cell_type": "markdown",
   "metadata": {},
   "source": [
    "# 3. 우주신과의 교감 (복습)\n",
    "\n",
    "- [문제 설명 링크 : https://www.acmicpc.net/problem/1774](https://www.acmicpc.net/problem/1774)"
   ]
  },
  {
   "cell_type": "code",
   "execution_count": 6,
   "metadata": {},
   "outputs": [
    {
     "name": "stdin",
     "output_type": "stream",
     "text": [
      " 4 1\n",
      " 1 1\n",
      " 3 1\n",
      " 2 3\n",
      " 4 3\n",
      " 1 4\n"
     ]
    },
    {
     "name": "stdout",
     "output_type": "stream",
     "text": [
      "4.00\n"
     ]
    }
   ],
   "source": [
    "import math\n",
    "\n",
    "def get_distance(p1, p2):\n",
    "    x = p1[0] - p2[0]\n",
    "    y = p1[1] - p2[1]\n",
    "    return math.sqrt((x*x)+(y*y))\n",
    "\n",
    "def get_parent(parent, n):\n",
    "    if parent[n] == n:\n",
    "        return n\n",
    "    return get_parent(parent, parent[n])\n",
    "\n",
    "def union_parent(parent, a, b):\n",
    "    a = get_parent(parent, a)\n",
    "    b = get_parent(parent, b)\n",
    "    \n",
    "    if a > b:\n",
    "        parent[b] = a\n",
    "    elif a < b:\n",
    "        parent[a] = b\n",
    "\n",
    "def find_parent(parent, a, b):\n",
    "    a = get_parent(parent, a)\n",
    "    b = get_parent(parent, b)\n",
    "    \n",
    "    if a == b:\n",
    "        return True\n",
    "    else:\n",
    "        return False\n",
    "        \n",
    "edges = list()\n",
    "parent = dict()\n",
    "locations = list()\n",
    "\n",
    "n, m = map(int, input().split())\n",
    "\n",
    "for i in range(n):\n",
    "    x, y = map(int, input().split())\n",
    "    locations.append((x, y))\n",
    "    \n",
    "for i in range(0, n-1):\n",
    "    for j in range(i, n):\n",
    "        edges.append((i+1, j+1, get_distance(locations[i], locations[j])))\n",
    "\n",
    "for i in range(1, n+1):\n",
    "    parent[i] = i\n",
    "        \n",
    "for _ in range(m):\n",
    "    a, b = map(int, input().split())\n",
    "    union_parent(parent, a, b)\n",
    "    \n",
    "edges.sort(key=lambda x: x[2])\n",
    "    \n",
    "result = 0\n",
    "for a, b, cost in edges:\n",
    "    if not find_parent(parent, a, b):\n",
    "        union_parent(parent, a, b)\n",
    "        result += cost\n",
    "        \n",
    "print('%0.2f' % result)"
   ]
  }
 ],
 "metadata": {
  "kernelspec": {
   "display_name": "Python 3",
   "language": "python",
   "name": "python3"
  },
  "language_info": {
   "codemirror_mode": {
    "name": "ipython",
    "version": 3
   },
   "file_extension": ".py",
   "mimetype": "text/x-python",
   "name": "python",
   "nbconvert_exporter": "python",
   "pygments_lexer": "ipython3",
   "version": "3.6.9"
  }
 },
 "nbformat": 4,
 "nbformat_minor": 4
}
