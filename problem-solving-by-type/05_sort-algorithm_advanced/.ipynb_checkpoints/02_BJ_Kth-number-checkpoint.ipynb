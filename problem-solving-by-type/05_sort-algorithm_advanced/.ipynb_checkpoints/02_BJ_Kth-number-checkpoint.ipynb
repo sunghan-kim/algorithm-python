{
 "cells": [
  {
   "cell_type": "markdown",
   "metadata": {},
   "source": [
    "# 2. K 번째 수\n",
    "\n",
    "- 난이도 : 중(Medium)\n",
    "- 유형 : 정렬\n",
    "- 추천 풀이 시간 : 25분\n",
    "- [문제 설명 링크 : https://www.acmicpc.net/problem/11004](https://www.acmicpc.net/problem/11004)"
   ]
  },
  {
   "cell_type": "markdown",
   "metadata": {},
   "source": [
    "<br>\n",
    "\n",
    "## 2.1 문제 설명"
   ]
  },
  {
   "cell_type": "markdown",
   "metadata": {},
   "source": [
    "### 2.1.1 문제\n",
    "\n",
    "수 N개 $A_1$, $A_2$, ..., $A_N$이 주어진다. A를 오름차순 정렬했을 때, 앞에서부터 K번째 있는 수를 구하는 프로그램을 작성하시오.\n",
    "\n",
    "- 시간 제한 : 2초"
   ]
  },
  {
   "cell_type": "markdown",
   "metadata": {},
   "source": [
    "<br>\n",
    "\n",
    "### 2.1.2 입력\n",
    "\n",
    "첫째 줄에 N(1 ≤ N ≤ 5,000,000)과 K (1 ≤ K ≤ N)이 주어진다.\n",
    "\n",
    "둘째에는 $A_1$, $A_2$, ..., $A_N$이 주어진다. ($-10^9$ ≤ $A_i$ ≤ $10^9$)"
   ]
  },
  {
   "cell_type": "markdown",
   "metadata": {},
   "source": [
    "<br>\n",
    "\n",
    "### 2.1.3 출력\n",
    "\n",
    "A를 정렬했을 때, 앞에서부터 K번째 있는 수를 출력한다."
   ]
  },
  {
   "cell_type": "markdown",
   "metadata": {},
   "source": [
    "<br>\n",
    "\n",
    "### 2.1.4 입출력 예제\n",
    "\n",
    "**예제 입력 1**\n",
    "\n",
    "```\n",
    "5 2\n",
    "4 1 2 3 5\n",
    "```\n",
    "\n",
    "**예제 출력 1**\n",
    "\n",
    "```\n",
    "2\n",
    "```"
   ]
  },
  {
   "cell_type": "markdown",
   "metadata": {},
   "source": [
    "<br>\n",
    "\n",
    "## 2.2 직접 구현"
   ]
  },
  {
   "cell_type": "markdown",
   "metadata": {},
   "source": [
    "### 2.2.1 직접 구현 코드\n",
    "\n",
    "- Python3 -> 598608 KB, 4776 ms\n",
    "- PyPy3 -> 707932 KB, 3176 ms"
   ]
  },
  {
   "cell_type": "code",
   "execution_count": 1,
   "metadata": {},
   "outputs": [
    {
     "name": "stdin",
     "output_type": "stream",
     "text": [
      " 5 2\n",
      " 4 1 2 3 5\n"
     ]
    },
    {
     "name": "stdout",
     "output_type": "stream",
     "text": [
      "2\n"
     ]
    }
   ],
   "source": [
    "n, k = map(int, input().split())\n",
    "array = [int(i) for i in input().split()]\n",
    "\n",
    "array = sorted(array)\n",
    "print(array[k-1])"
   ]
  },
  {
   "cell_type": "markdown",
   "metadata": {},
   "source": [
    "<br>\n",
    "\n",
    "## 2.3 해설"
   ]
  },
  {
   "cell_type": "markdown",
   "metadata": {},
   "source": [
    "### 2.3.1 해설 내용\n",
    "\n",
    "- 데이터의 개수가 최대 5,000,000개이다.\n",
    "- 시간 복잡도 $O(N log N)$의 정렬 알고리즘을 사용해야 한다.\n",
    "  - 5,000,000 x 22 = 1억  \n",
    "  (22 = $log_2 5,000,000$)\n",
    "  - 시간 제한이 2초이기 때문에 위와 같은 시간 복잡도를 갖는 알고리즘을 사용했을 때 딱 맞게 문제를 해결할 수 있다.  \n",
    "  (파이썬에서 1초에 약 5백만번의 연산이 가능하므로, 2초동안에 약 1억번의 연산이 수행 가능하다.)  \n",
    "  \n",
    "  \n",
    "- 고급 정렬 알고리즘(병합 정렬, 퀵 정렬, 힙 정렬 등)을 이용하여 문제를 해결할 수 있다.\n",
    "- 혹은 파이썬의 기본 정렬 라이브러리를 이용하여 문제를 풀 수 있다.\n",
    "- 시간적 이점을 위하여 PyPy3를 선택하여 코드를 제출한다."
   ]
  },
  {
   "cell_type": "markdown",
   "metadata": {},
   "source": [
    "<br>\n",
    "\n",
    "### 2.3.2 해설 코드"
   ]
  },
  {
   "cell_type": "markdown",
   "metadata": {},
   "source": [
    "#### 2.3.2.1 병합 정렬 사용\n",
    "\n",
    "- Python3 -> 시간 초과\n",
    "- PyPy3 -> 786016 KB, 4312 ms"
   ]
  },
  {
   "cell_type": "code",
   "execution_count": 4,
   "metadata": {},
   "outputs": [
    {
     "name": "stdin",
     "output_type": "stream",
     "text": [
      " 5 2\n",
      " 4 1 2 3 5\n"
     ]
    },
    {
     "name": "stdout",
     "output_type": "stream",
     "text": [
      "2\n"
     ]
    }
   ],
   "source": [
    "def merge_sort(array):\n",
    "    if len(array) <= 1:\n",
    "        return array\n",
    "    \n",
    "    mid = len(array) // 2\n",
    "    left = merge_sort(array[:mid])\n",
    "    right = merge_sort(array[mid:])\n",
    "    i, j, k = 0, 0, 0\n",
    "    \n",
    "    while i < len(left) and j < len(right):\n",
    "        if left[i] < right[j]:\n",
    "            array[k] = left[i]\n",
    "            i += 1\n",
    "        else:\n",
    "            array[k] = right[j]\n",
    "            j += 1\n",
    "        k += 1\n",
    "        \n",
    "    if i == len(left):\n",
    "        while j < len(right):\n",
    "            array[k] = right[j]\n",
    "            j += 1\n",
    "            k += 1\n",
    "    elif j == len(right):\n",
    "        while i < len(left):\n",
    "            array[k] = left[i]\n",
    "            i += 1\n",
    "            k += 1\n",
    "            \n",
    "    return array\n",
    "\n",
    "n, k = map(int, input().split())\n",
    "array = list(map(int, input().split()))\n",
    "\n",
    "array = merge_sort(array)\n",
    "\n",
    "print(array[k - 1])"
   ]
  },
  {
   "cell_type": "markdown",
   "metadata": {},
   "source": [
    "<br>\n",
    "\n",
    "#### 2.3.2.2 파이썬 정렬 라이브러리 사용"
   ]
  },
  {
   "cell_type": "code",
   "execution_count": 5,
   "metadata": {},
   "outputs": [
    {
     "name": "stdin",
     "output_type": "stream",
     "text": [
      " 5 2\n",
      " 4 1 2 3 5\n"
     ]
    },
    {
     "name": "stdout",
     "output_type": "stream",
     "text": [
      "2\n"
     ]
    }
   ],
   "source": [
    "n, k = map(int, input().split())\n",
    "array = list(map(int, input().split()))\n",
    "\n",
    "array = sorted(array)\n",
    "\n",
    "print(array[k - 1])"
   ]
  }
 ],
 "metadata": {
  "kernelspec": {
   "display_name": "Python 3",
   "language": "python",
   "name": "python3"
  },
  "language_info": {
   "codemirror_mode": {
    "name": "ipython",
    "version": 3
   },
   "file_extension": ".py",
   "mimetype": "text/x-python",
   "name": "python",
   "nbconvert_exporter": "python",
   "pygments_lexer": "ipython3",
   "version": "3.6.9"
  }
 },
 "nbformat": 4,
 "nbformat_minor": 4
}
