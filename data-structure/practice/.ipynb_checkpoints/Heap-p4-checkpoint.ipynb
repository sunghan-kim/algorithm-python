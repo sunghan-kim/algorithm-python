{
 "cells": [
  {
   "cell_type": "markdown",
   "metadata": {},
   "source": [
    "# 4. 힙(Heap)의 시간 복잡도\n",
    "\n",
    "- $h$ : 트리의 높이(depth)\n",
    "- $n$개의 노드를 가지는 heap에 데이터 삽입 또는 삭제 시 최악의 경우의 시간 복잡도\n",
    "  - root 노드에서 leaf 노드까지 비교 해야 한다.\n",
    "  - $h = log_2 n$에 가까움\n",
    "  - 시간 복잡도 = $O(log n)$"
   ]
  },
  {
   "cell_type": "markdown",
   "metadata": {},
   "source": [
    "참고\n",
    "\n",
    "- 빅오 표기법에서 $log n$에서의 $log$의 밑은 10이 아닌 2이다.\n",
    "- 한번 실행 시마다 50%의 시행할 수도 있는 명령을 제거한다는 의미이다.\n",
    "- 즉, 50%의 실행 시간을 단축시킬 수 있다는 것을 의미한다."
   ]
  }
 ],
 "metadata": {
  "kernelspec": {
   "display_name": "Python 3",
   "language": "python",
   "name": "python3"
  },
  "language_info": {
   "codemirror_mode": {
    "name": "ipython",
    "version": 3
   },
   "file_extension": ".py",
   "mimetype": "text/x-python",
   "name": "python",
   "nbconvert_exporter": "python",
   "pygments_lexer": "ipython3",
   "version": "3.6.9"
  }
 },
 "nbformat": 4,
 "nbformat_minor": 4
}
