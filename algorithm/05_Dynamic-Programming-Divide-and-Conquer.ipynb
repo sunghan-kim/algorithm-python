{
 "cells": [
  {
   "cell_type": "markdown",
   "metadata": {},
   "source": [
    "# 5. 동적 계획법(Dynamic Programming)과 분할 정복(Divide and Conquer)"
   ]
  },
  {
   "cell_type": "markdown",
   "metadata": {},
   "source": [
    "## 5.1 정의"
   ]
  },
  {
   "cell_type": "markdown",
   "metadata": {},
   "source": [
    "### 5.1.1 동작 계획법 (Dynamic Programming, DP)\n",
    "\n",
    "- 입력 크기가 작은 부분 문제들을 해결\n",
    "- 그런 다음 해당 부분 문제의 해를 활용해서 보다 큰 크기의 부분 문제를 해결\n",
    "- 최종적으로 전체 문제를 해결하는 알고리즘  \n",
    "  \n",
    "  \n",
    "- 상향식 접근법\n",
    "- 가장 최하위 해답을 구한 후, 이를 저장\n",
    "- 해당 결과값을 이용해서 상위 문제를 풀어가는 방식  \n",
    "  \n",
    "  \n",
    "- Momoization(메모이제이션) 기법을 사용\n",
    "  - 프로그램 실행 시 이전에 계산한 값을 저장\n",
    "  - 다시 계산하지 않도록 하여 전체 실행 속도를 빠르게 하는 기술\n",
    "  \n",
    "  \n",
    "- 문제를 잘개 쪼갤 때, 부분 문제는 중복되어 재활용됨\n",
    "  - ex) 피보나치 수열"
   ]
  },
  {
   "cell_type": "markdown",
   "metadata": {},
   "source": [
    "<br>\n",
    "\n",
    "### 5.1.2 분할 정복 (Divide and Conquer)\n",
    "\n",
    "- 문제를 나눌 수 없을 때까지 나누어서 각각 풀면서 다시 합병하여 문제의 답을 얻는 알고리즘\n",
    "- 하향식 접근법\n",
    "- 상위의 해답을 구하기 위해, 아래로 내려가면서 하위의 해답을 구하는 방식\n",
    "- 일반적으로 재귀함수로 구현  \n",
    "  \n",
    "  \n",
    "- 문제를 잘게 쪼갤 때, 부분 문제는 서로 중복되지 않음\n",
    "  - ex) 병합 정렬, 퀵 정렬 등"
   ]
  },
  {
   "cell_type": "markdown",
   "metadata": {},
   "source": [
    "<br>\n",
    "\n",
    "## 5.2 공통점과 차이점"
   ]
  },
  {
   "cell_type": "markdown",
   "metadata": {},
   "source": [
    "### 5.2.1 공통점\n",
    "\n",
    "- 문제를 잘게 쪼개서, 가장 작은 단위로 분할"
   ]
  },
  {
   "cell_type": "markdown",
   "metadata": {},
   "source": [
    "<br>\n",
    "\n",
    "### 5.2.2 차이점\n",
    "\n",
    "- 동적 계획법\n",
    "  - 부분 문제는 중복되어 상위 문제 해결 시 재활용됨\n",
    "  - Memoization 기법 사용  \n",
    "  (부분 문제의 해답을 저장해서 재활용하는 최적화 기법으로 사용)\n",
    "  \n",
    "  \n",
    "- 분할 정복\n",
    "  - 부분 문제는 서로 중복되지 않음\n",
    "  - Momoization 기법 사용 안함"
   ]
  },
  {
   "cell_type": "markdown",
   "metadata": {},
   "source": [
    "<br>\n",
    "\n",
    "## 5.3 동적 계획법 알고리즘 이해\n",
    "\n",
    "**프로그래밍 연습**\n",
    "\n",
    "- 피보나치 수열\n",
    "- `n`을 입력 받아서 다음과 같이 계산됨\n",
    "- `n`을 입력 받았을 때 피보나치 수열로 결과값을 출력\n",
    "\n",
    "<img src=\"https://www.fun-coding.org/00_Images/Fibonacci.png\" />"
   ]
  },
  {
   "cell_type": "markdown",
   "metadata": {},
   "source": [
    "- ex) 함수 `fibonacci()`\n",
    "  - `fibonacci(0) = 0`\n",
    "  - `fibonacci(1) = 1`\n",
    "  - `fibonacci(2) = 1`\n",
    "  - `fibonacci(3) = 2`\n",
    "  - `fibonacci(4) = 3`\n",
    "  - `fibonacci(5) = 5`\n",
    "  - `fibonacci(6) = 8`\n",
    "  - `fibonacci(7) = 13`\n",
    "  - `fibonacci(8) = 21`\n",
    "  - `fibonacci(9) = 34`"
   ]
  },
  {
   "cell_type": "markdown",
   "metadata": {},
   "source": [
    "<img src=\"https://www.fun-coding.org/00_Images/dp.png\" />"
   ]
  },
  {
   "cell_type": "markdown",
   "metadata": {},
   "source": [
    "<br>\n",
    "\n",
    "### 5.3.1 해법 1 : recursive call 활용"
   ]
  },
  {
   "cell_type": "code",
   "execution_count": 1,
   "metadata": {},
   "outputs": [],
   "source": [
    "def fibonacci(n):\n",
    "    if n == 0:\n",
    "        return 0\n",
    "    elif n == 1:\n",
    "        return 1\n",
    "    else:\n",
    "        return fibonacci(n-1) + fibonacci(n-2)"
   ]
  },
  {
   "cell_type": "code",
   "execution_count": 3,
   "metadata": {},
   "outputs": [],
   "source": [
    "def fibo(num):\n",
    "    if num <= 1:\n",
    "        return num\n",
    "    else:\n",
    "        return fibo(num - 1) + fibo(num - 2)"
   ]
  },
  {
   "cell_type": "code",
   "execution_count": 4,
   "metadata": {},
   "outputs": [
    {
     "name": "stdout",
     "output_type": "stream",
     "text": [
      "0\n",
      "1\n",
      "1\n",
      "2\n",
      "3\n",
      "5\n",
      "8\n",
      "13\n",
      "21\n",
      "34\n"
     ]
    }
   ],
   "source": [
    "for n in range(0, 10):\n",
    "    print(fibonacci(n))"
   ]
  },
  {
   "cell_type": "markdown",
   "metadata": {},
   "source": [
    "<br>\n",
    "\n",
    "### 5.3.2 해법 2 : 동적 계획법 활용"
   ]
  },
  {
   "cell_type": "code",
   "execution_count": 13,
   "metadata": {},
   "outputs": [],
   "source": [
    "def fibo_dp(num):\n",
    "    cache = [0 for index in range(num + 1)]\n",
    "    cache[0] = 0\n",
    "    cache[1] = 1\n",
    "    \n",
    "    for index in range(2, num + 1):\n",
    "        cache[index] = cache[index - 1] + cache[index - 2]\n",
    "\n",
    "    return cache[num]"
   ]
  },
  {
   "cell_type": "code",
   "execution_count": 17,
   "metadata": {},
   "outputs": [
    {
     "data": {
      "text/plain": [
       "34"
      ]
     },
     "execution_count": 17,
     "metadata": {},
     "output_type": "execute_result"
    }
   ],
   "source": [
    "fibo(9)"
   ]
  },
  {
   "cell_type": "code",
   "execution_count": 18,
   "metadata": {},
   "outputs": [
    {
     "data": {
      "text/plain": [
       "55"
      ]
     },
     "execution_count": 18,
     "metadata": {},
     "output_type": "execute_result"
    }
   ],
   "source": [
    "fibo(10)"
   ]
  },
  {
   "cell_type": "markdown",
   "metadata": {},
   "source": [
    "<br>\n",
    "\n",
    "### 5.3.3 해법 3 : 분할 정복 활용\n",
    "\n",
    "- 분할 정복 알고리즘의 예는 병합 정렬과 퀵 정렬을 통해 이해"
   ]
  },
  {
   "cell_type": "code",
   "execution_count": null,
   "metadata": {},
   "outputs": [],
   "source": []
  }
 ],
 "metadata": {
  "kernelspec": {
   "display_name": "Python 3",
   "language": "python",
   "name": "python3"
  },
  "language_info": {
   "codemirror_mode": {
    "name": "ipython",
    "version": 3
   },
   "file_extension": ".py",
   "mimetype": "text/x-python",
   "name": "python",
   "nbconvert_exporter": "python",
   "pygments_lexer": "ipython3",
   "version": "3.6.9"
  }
 },
 "nbformat": 4,
 "nbformat_minor": 4
}
