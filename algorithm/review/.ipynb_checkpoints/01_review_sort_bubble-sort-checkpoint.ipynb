{
 "cells": [
  {
   "cell_type": "markdown",
   "metadata": {},
   "source": [
    "# 1. 정렬 알고리즘 - 버블 정렬 (복습)"
   ]
  },
  {
   "cell_type": "code",
   "execution_count": 14,
   "metadata": {},
   "outputs": [
    {
     "name": "stdout",
     "output_type": "stream",
     "text": [
      "[80, 24, 67, 65, 76, 2, 50, 63, 78, 33, 58, 69, 7, 52, 57, 87, 13, 22, 30, 11, 97, 15, 93, 32, 96, 98, 45, 53, 73, 16, 54, 6, 18, 91, 37, 61, 29, 94, 12, 3, 89, 8, 9, 47, 46, 59, 35, 77, 49, 70]\n"
     ]
    }
   ],
   "source": [
    "import random\n",
    "\n",
    "data_list = random.sample(range(100), 50)\n",
    "print(data_list)"
   ]
  },
  {
   "cell_type": "code",
   "execution_count": 17,
   "metadata": {},
   "outputs": [],
   "source": [
    "def bubbleSort(dataList):\n",
    "    for index in range(len(dataList)-1):\n",
    "        swaped = False\n",
    "        for index2 in range(len(dataList) - index - 1):\n",
    "            if dataList[index2] > dataList[index2+1]:\n",
    "                dataList[index2], dataList[index2+1] = dataList[index2+1], dataList[index2]\n",
    "                swaped = True\n",
    "        \n",
    "        if swaped == False:\n",
    "            break\n",
    "            \n",
    "    return dataList"
   ]
  },
  {
   "cell_type": "code",
   "execution_count": 18,
   "metadata": {},
   "outputs": [
    {
     "name": "stdout",
     "output_type": "stream",
     "text": [
      "[2, 3, 6, 7, 8, 9, 11, 12, 13, 15, 16, 18, 22, 24, 29, 30, 32, 33, 35, 37, 45, 46, 47, 49, 50, 52, 53, 54, 57, 58, 59, 61, 63, 65, 67, 69, 70, 73, 76, 77, 78, 80, 87, 89, 91, 93, 94, 96, 97, 98]\n"
     ]
    }
   ],
   "source": [
    "print(bubbleSort(data_list))"
   ]
  },
  {
   "cell_type": "code",
   "execution_count": null,
   "metadata": {},
   "outputs": [],
   "source": []
  },
  {
   "cell_type": "code",
   "execution_count": null,
   "metadata": {},
   "outputs": [],
   "source": []
  }
 ],
 "metadata": {
  "kernelspec": {
   "display_name": "Python 3",
   "language": "python",
   "name": "python3"
  },
  "language_info": {
   "codemirror_mode": {
    "name": "ipython",
    "version": 3
   },
   "file_extension": ".py",
   "mimetype": "text/x-python",
   "name": "python",
   "nbconvert_exporter": "python",
   "pygments_lexer": "ipython3",
   "version": "3.6.9"
  }
 },
 "nbformat": 4,
 "nbformat_minor": 4
}
