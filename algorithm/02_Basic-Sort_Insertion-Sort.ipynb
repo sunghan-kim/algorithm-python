{
 "cells": [
  {
   "cell_type": "markdown",
   "metadata": {},
   "source": [
    "# 2. 삽입 정렬 (Insertion Sort)"
   ]
  },
  {
   "cell_type": "markdown",
   "metadata": {},
   "source": [
    "## 2.1 삽입 정렬(Insertion Sort) 이란?\n",
    "\n",
    "- 삽입 정렬은 두 번째 인덱스부터 시작\n",
    "- 해당 인덱스(key 값) 앞에 있는 데이터(B)부터 비교\n",
    "- key 값이 더 작으면 B 값을 뒤 인덱스로 복사\n",
    "- 이를 key 값이 더 큰 데이터를 만날 때 까지 반복\n",
    "- 그리고 큰 데이터를 만난 위치 바로 뒤에 key 값을 이동\n",
    "\n",
    "<img src=\"https://upload.wikimedia.org/wikipedia/commons/9/9c/Insertion-sort-example.gif\" />"
   ]
  },
  {
   "cell_type": "code",
   "execution_count": 1,
   "metadata": {},
   "outputs": [
    {
     "name": "stdout",
     "output_type": "stream",
     "text": [
      "10\n",
      "9\n",
      "8\n",
      "7\n",
      "6\n",
      "5\n",
      "4\n",
      "3\n",
      "2\n"
     ]
    }
   ],
   "source": [
    "for index in range(10, 1, -1):\n",
    "    print(index)"
   ]
  },
  {
   "cell_type": "markdown",
   "metadata": {},
   "source": [
    "<br>\n",
    "\n",
    "## 2.2 어떻게 코드로 만들까?"
   ]
  },
  {
   "cell_type": "markdown",
   "metadata": {},
   "source": [
    "### 2.2.1 데이터가 2개일 때\n",
    "\n",
    "- ex) `dataList = [9, 3]`  \n",
    "  \n",
    "  \n",
    "- 처음 실행\n",
    "  - key 값 : 9\n",
    "  - `key 값의 인덱스 - 1`이 0보다 작으므로 끝\n",
    "  - `[9, 3`]  \n",
    "  \n",
    "  \n",
    "- 두 번째 실행\n",
    "  - key 값 : 3\n",
    "  - 3은 9보다 작으므로 자리 바꾸고 끝\n",
    "  - `[3, 9]`"
   ]
  },
  {
   "cell_type": "markdown",
   "metadata": {},
   "source": [
    "<br>\n",
    "\n",
    "### 2.2.2 데이터가 3개일 때\n",
    "\n",
    "- ex) `dataList = [9, 1, 3]`  \n",
    "  \n",
    "  \n",
    "- 처음 실행\n",
    "  - key 값 : `dataList[0] = 9`\n",
    "  - `key 값의 인덱스 - 1`이 0보다 작으므로 끝\n",
    "  - `[9, 1, 3]`  \n",
    "  \n",
    "  \n",
    "- 두 번째 실행\n",
    "  - key 값 : `dataList[1] = 1`\n",
    "  - `1`이 `9`보다 작음\n",
    "  - 맨 처음 인덱스에 도달\n",
    "  - key 값을 맨 앞에 삽입하고 끝\n",
    "  - `[1, 9, 3]`  \n",
    "  \n",
    "  \n",
    "- 세 번째 실행\n",
    "  - key 값 : `dataList[2] = 3`\n",
    "  - `3`이 `9`보다 작음\n",
    "  - `3`이 `1`보다 큼\n",
    "  - key 값을 `1` 바로 뒤에 삽입하고 끝\n",
    "  - `[1, 3, 9]`"
   ]
  },
  {
   "cell_type": "markdown",
   "metadata": {},
   "source": [
    "<br>\n",
    "\n",
    "### 2.2.3 데이터가 4개일 때\n",
    "\n",
    "- ex) `dataList = [9, 3, 2, 5]`  \n",
    "  \n",
    "  \n",
    "- 처음 실행\n",
    "  - key 값 : `dataList[0] = 9`\n",
    "  - `key 값의 인덱스 - 1`이 0보다 작으므로 끝\n",
    "  - `[9, 3, 2, 5]`  \n",
    "  \n",
    "  \n",
    "- 두 번째 실행\n",
    "  - key 값 : `dataList[1] = 3`\n",
    "  - `3`이 `9`보다 작음\n",
    "  - 맨 처음 인덱스에 도달\n",
    "  - key 값을 맨 앞에 삽입하고 끝\n",
    "  - `[3, 9, 2, 5]`  \n",
    "  \n",
    "  \n",
    "- 세 번째 실행\n",
    "  - key 값 : `dataList[2] = 2`\n",
    "  - `2`가 `9`보다 작음\n",
    "  - `2`가 `3`보다 작음\n",
    "  - 맨 처음 인덱스에 도달\n",
    "  - key 값을 맨 앞에 삽입하고 끝\n",
    "  - `[2, 3, 9, 5]`  \n",
    "  \n",
    "  \n",
    "- 네 번째 실행\n",
    "  - key 값 : `dataList[3] = 5`\n",
    "  - `5`가 `9`보다 작음\n",
    "  - `5`가 `3`보다 큼\n",
    "  - key 값을 `3` 바로 뒤에 삽입하고 끝\n",
    "  - `[2, 3, 5, 9]`"
   ]
  },
  {
   "cell_type": "markdown",
   "metadata": {},
   "source": [
    "<br>\n",
    "\n",
    "## 2.3 알고리즘 구현"
   ]
  },
  {
   "cell_type": "code",
   "execution_count": 9,
   "metadata": {},
   "outputs": [],
   "source": [
    "def insertion_sort(data):\n",
    "    for index in range(len(data) - 1):\n",
    "        for index2 in range(index+1, 0, -1):\n",
    "            if data[index2] < data[index2 - 1]:\n",
    "                data[index2], data[index2 - 1] = data[index2 - 1], data[index2]\n",
    "            else:\n",
    "                break\n",
    "    return data"
   ]
  },
  {
   "cell_type": "code",
   "execution_count": 12,
   "metadata": {},
   "outputs": [
    {
     "name": "stdout",
     "output_type": "stream",
     "text": [
      "[4, 6, 8, 9, 10, 11, 12, 14, 18, 20, 22, 23, 24, 26, 27, 31, 34, 36, 38, 39, 40, 41, 42, 43, 47, 49, 52, 53, 56, 60, 61, 62, 63, 66, 67, 68, 71, 72, 73, 75, 77, 78, 85, 88, 89, 90, 91, 92, 94, 96]\n"
     ]
    }
   ],
   "source": [
    "import random\n",
    "\n",
    "dataList = random.sample(range(100), 50)\n",
    "print(insertion_sort(dataList))"
   ]
  },
  {
   "cell_type": "markdown",
   "metadata": {},
   "source": [
    "<br>\n",
    "\n",
    "## 2.4 알고리즘 분석\n",
    "\n",
    "- 반복문이 2개 $\\rightarrow$ 시간 복잡도 = $O(n^2)$\n",
    "- 최악의 경우의 시간 복잡도 = $\\frac{n \\times (n-1)}{2}$\n",
    "- 최선의 경우(완전 정렬되어 있는 상태)의 시간 복잡도 = $O(n)$"
   ]
  },
  {
   "cell_type": "markdown",
   "metadata": {},
   "source": [
    "<br>\n",
    "\n",
    "## 2.5 프로그래밍 연습"
   ]
  },
  {
   "cell_type": "code",
   "execution_count": 15,
   "metadata": {},
   "outputs": [
    {
     "name": "stdout",
     "output_type": "stream",
     "text": [
      "[1, 2, 4, 5, 7, 8, 9, 14, 16, 17, 21, 22, 24, 27, 30, 31, 32, 34, 36, 37, 39, 41, 44, 45, 47, 48, 49, 53, 59, 60, 61, 62, 64, 65, 71, 72, 78, 79, 80, 81, 82, 83, 87, 89, 90, 92, 93, 95, 98, 99]\n"
     ]
    }
   ],
   "source": [
    "import random\n",
    "data = random.sample(range(100), 50)\n",
    "\n",
    "for index in range(len(data) - 1):\n",
    "    for index2 in range(index+1, 0, -1):\n",
    "        if data[index2] < data[index2 - 1]:\n",
    "            data[index2], data[index2 - 1] = data[index2 - 1], data[index2]\n",
    "        else:\n",
    "            break\n",
    "\n",
    "print(data)"
   ]
  }
 ],
 "metadata": {
  "kernelspec": {
   "display_name": "Python 3",
   "language": "python",
   "name": "python3"
  },
  "language_info": {
   "codemirror_mode": {
    "name": "ipython",
    "version": 3
   },
   "file_extension": ".py",
   "mimetype": "text/x-python",
   "name": "python",
   "nbconvert_exporter": "python",
   "pygments_lexer": "ipython3",
   "version": "3.6.9"
  }
 },
 "nbformat": 4,
 "nbformat_minor": 4
}
