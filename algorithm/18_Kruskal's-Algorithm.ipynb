{
 "cells": [
  {
   "cell_type": "markdown",
   "metadata": {},
   "source": [
    "# 18. 크루스칼 알고리즘 (Kruskal's Algorithm)\n",
    "\n",
    "- 최소 신장 트리(MST) 알고리즘 중 하나"
   ]
  },
  {
   "cell_type": "markdown",
   "metadata": {},
   "source": [
    "<br>\n",
    "\n",
    "## 18.1 크루스칼 알고리즘 로직\n",
    "\n",
    "1. 모든 정점을 독립적인 집합으로 만든다.\n",
    "2. 모든 간선을 비용을 기준으로 정렬한다.\n",
    "3. 비용이 작은 간선부터 양 끝의 두 정점을 비교한다. (Union-Find 알고리즘의 `find` 로직 사용)\n",
    "4. 두 정점의 최상위 정점을 확인하고, 서로 다를 경우 두 정점을 연결한다. (`find` 로직)  \n",
    "(최소 신장 트리는 사이클이 없으므로, 사이클이 생기지 않도록 하는 것)"
   ]
  },
  {
   "cell_type": "markdown",
   "metadata": {},
   "source": [
    "<br>\n",
    "\n",
    "## 18.2 크루스칼 알고리즘의 특징\n",
    "\n",
    "- 크루스칼 알고리즘은 **탐욕 알고리즘**을 기초로 하고 있다.\n",
    "  - 당장 눈 앞의 최소 비용을 선택\n",
    "  - 결과적으로 최적의 솔루션을 찾음"
   ]
  },
  {
   "cell_type": "markdown",
   "metadata": {},
   "source": [
    "<br>\n",
    "\n",
    "## 18.3 크루스칼 알고리즘 과정 시각화\n",
    "\n",
    "<img src=\"https://www.fun-coding.org/00_Images/kruscal_internal1.png\" width=650>\n",
    "\n",
    "<img src=\"https://www.fun-coding.org/00_Images/kruscal_internal2.png\" width=650>"
   ]
  },
  {
   "cell_type": "markdown",
   "metadata": {},
   "source": [
    "<br>\n",
    "\n",
    "## 18.4 Union-Find 알고리즘\n",
    "\n",
    "> 사이클 존재 유무를 확인하는 알고리즘 \n",
    "\n",
    "- Disjoint Set을 표현할 때 사용하는 알고리즘\n",
    "- 트리 구조를 활용하는 알고리즘\n",
    "- 노드들 중에 연결된 노드를 찾거나, 노드들을 서로 연결할 때(합칠 때) 사용  \n",
    "  \n",
    "  \n",
    "- 현재까지 연결된 노드들을 하나의 집합(`A`)으로 하고, 연결되지 않은 노드들을 또 다른 집합(`B`)으로 한다.\n",
    "- 새로운 간선을 연결할 때, 연결되는 노드가 `A` 집합에 포함된 노드이면 해당 간선 연결 시 사이클이 발생한다고 판단한다.  \n",
    "  \n",
    "  \n",
    "- Union-Find 알고리즘은 부분 집합을 트리로 관리한다."
   ]
  },
  {
   "cell_type": "markdown",
   "metadata": {},
   "source": [
    "<br>\n",
    "\n",
    "### 18.4.1 Disjoint Set 이란?\n",
    "\n",
    "- Union-Find 알고리즘에서 집합들을 관리하는 자료구조  \n",
    "  \n",
    "  \n",
    "- 서로 중복되지 않는 부분 집합들로 나눠진 원소들에 대한 정보를 저장하고 조작하는 자료구조\n",
    "- 공통 원소가 없는(서로소) 상호 배타적인 부분 집합들로 나눠진 원소들에 대한 자료구조를 의미함  \n",
    "  \n",
    "  \n",
    "> Disjoint Set = 서로소 집합 자료구조"
   ]
  },
  {
   "cell_type": "markdown",
   "metadata": {},
   "source": [
    "<br>\n",
    "\n",
    "### 18.4.2 Union-Find 과정"
   ]
  },
  {
   "cell_type": "markdown",
   "metadata": {},
   "source": [
    "#### 18.4.2.1 초기화\n",
    "\n",
    "- n개의 원소가 개별 집합으로 이뤄지도록 초기화\n",
    "\n",
    "<img src=\"https://www.fun-coding.org/00_Images/initial_findunion.png\" width=400>"
   ]
  },
  {
   "cell_type": "markdown",
   "metadata": {},
   "source": [
    "<br>\n",
    "\n",
    "#### 18.4.2.2 Union\n",
    "\n",
    "- 두 개별 집합을 하나의 집합으로 합침\n",
    "- 각각의 집합은 트리 구조를 가짐\n",
    "- 두 트리를 하나의 트리로 만듬\n",
    "\n",
    "<img src=\"https://www.fun-coding.org/00_Images/union_findunion.png\" width=600>"
   ]
  },
  {
   "cell_type": "markdown",
   "metadata": {},
   "source": [
    "<br>\n",
    "\n",
    "### 18.4.2.3 Find\n",
    "\n",
    "- 2개의 노드가 같은 부분 집합에 속하는 지 판단  \n",
    "  \n",
    "  \n",
    "- 여러 노드가 존재할 때, 두 개의 노드를 선택\n",
    "- 현재 두 노드가 서로 같은 그래프에 속하는 지 판별하기 위해, 각 그룹의 최상단 원소(즉, 루트 노드)를 확인\n",
    "\n",
    "<img src=\"https://www.fun-coding.org/00_Images/find_findunion.png\" width=500>"
   ]
  },
  {
   "cell_type": "markdown",
   "metadata": {},
   "source": [
    "<br>\n",
    "\n",
    "### 18.4.3 Union-Find 알고리즘의 고려할 점\n",
    "\n",
    "- Union 순서에 따라서, 최악의 경우 링크드 리스트와 같은 형태가 될 수 있음\n",
    "- 이때는 Find/Union 시 계산량이 $O(N)$이 될 수 있음\n",
    "- 그러므로 해당 문제를 해결하기 위해 **union-by-rank**, **path compression** 기법을 사용한다.\n",
    "\n",
    "<img src=\"https://www.fun-coding.org/00_Images/worst_findunion.png\" width=200>`"
   ]
  },
  {
   "cell_type": "markdown",
   "metadata": {},
   "source": [
    "<br>\n",
    "\n",
    "#### 18.4.3.1 union-by-rank 기법\n",
    "\n",
    "- 각 트리에 대해 높이(rank)를 기억해 둠\n",
    "- Union 시, 두 트리의 높이(rank)가 다르면, 높이가 작은 트리를 높이가 큰 트리에 붙임\n",
    "- 즉, 높이가 큰 트리의 루트 노드가 합친 집합의 루트 노드가 되게 한다.\n",
    "\n",
    "<img src=\"https://www.fun-coding.org/00_Images/unionbyrank_findunion.png\" width=700>"
   ]
  },
  {
   "cell_type": "code",
   "execution_count": null,
   "metadata": {},
   "outputs": [],
   "source": []
  }
 ],
 "metadata": {
  "kernelspec": {
   "display_name": "Python 3",
   "language": "python",
   "name": "python3"
  },
  "language_info": {
   "codemirror_mode": {
    "name": "ipython",
    "version": 3
   },
   "file_extension": ".py",
   "mimetype": "text/x-python",
   "name": "python",
   "nbconvert_exporter": "python",
   "pygments_lexer": "ipython3",
   "version": "3.6.9"
  }
 },
 "nbformat": 4,
 "nbformat_minor": 4
}
