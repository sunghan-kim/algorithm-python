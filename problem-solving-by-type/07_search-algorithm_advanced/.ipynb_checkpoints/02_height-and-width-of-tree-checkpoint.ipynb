{
 "cells": [
  {
   "cell_type": "markdown",
   "metadata": {},
   "source": [
    "# 2. 트리의 높이와 너비\n",
    "\n",
    "- 난이도 : 중(Medium)\n",
    "- 유형 : 트리, 구현\n",
    "- 추천 풀이 시간 : 50분\n",
    "- [문제 설명 링크 : https://www.acmicpc.net/problem/2250](https://www.acmicpc.net/problem/2250)"
   ]
  },
  {
   "cell_type": "code",
   "execution_count": null,
   "metadata": {},
   "outputs": [],
   "source": [
    "class Node:\n",
    "    def __init__(self, node, leftNode, rightNode):\n",
    "        self.node = node\n",
    "        self.leftNode = leftNode\n",
    "        self.rightNode = rightNode\n",
    "\n",
    "n = int(input())\n",
    "print(n)\n",
    "\n",
    "nodes = [Node(0)]\n",
    "\n",
    "for i in range(n):\n",
    "    node, left, right = map(int, input().split())\n",
    "    nodes.append(Node(node, left, right))\n",
    "    \n",
    "print(nodes)"
   ]
  },
  {
   "cell_type": "code",
   "execution_count": 5,
   "metadata": {},
   "outputs": [
    {
     "name": "stdin",
     "output_type": "stream",
     "text": [
      " 19\n",
      " 1 2 3\n",
      " 2 4 5\n",
      " 3 6 7\n",
      " 4 8 -1\n",
      " 5 9 10\n",
      " 6 11 12\n",
      " 7 13 -1\n",
      " 8 -1 -1\n",
      " 9 14 15\n",
      " 10 -1 -1\n",
      " 11 16 -1\n",
      " 12 -1 -1\n",
      " 13 17 -1\n",
      " 14 -1 -1\n",
      " 15 18 -1\n",
      " 16 -1 -1\n",
      " 17 -1 19\n",
      " 18 -1 -1\n",
      " 19 -1 -1\n"
     ]
    },
    {
     "name": "stdout",
     "output_type": "stream",
     "text": [
      "3 18\n"
     ]
    }
   ],
   "source": [
    "class Node:\n",
    "    def __init__(self, number, left_node, right_node):\n",
    "        self.parent = -1\n",
    "        self.number = number\n",
    "        self.left_node = left_node\n",
    "        self.right_node = right_node\n",
    "        \n",
    "\n",
    "        \n",
    "n = int(input())\n",
    "tree = {}\n",
    "level_min = [n]\n",
    "level_max = [0]\n",
    "root = -1\n",
    "x = 1\n",
    "level_depth = 1\n",
    "\n",
    "for i in range(1, n+1):\n",
    "    tree[i] = Node(i, -1, -1)\n",
    "    level_min.append(n)\n",
    "    level_max.append(0)\n",
    "    \n",
    "for _ in range(n):\n",
    "    number, left_node, right_node = map(int, input().split())\n",
    "    tree[number].left_node = left_node\n",
    "    tree[number].right_node = right_node\n",
    "    if left_node != -1:\n",
    "        tree[left_node].parent = number\n",
    "    if right_node != -1:\n",
    "        tree[right_node].parent = number\n",
    "        \n",
    "for i in range(1, n+1):\n",
    "    if tree[i].parent == -1:\n",
    "        root = i\n",
    "\n",
    "def in_order(node, level):\n",
    "    global level_depth, x\n",
    "    level_depth = max(level_depth, level)\n",
    "    if node.left_node != -1:\n",
    "        in_order(tree[node.left_node], level+1)\n",
    "    level_min[level] = min(level_min[level], x)\n",
    "    level_max[level] = max(level_max[level], x)\n",
    "    x += 1\n",
    "    if node.right_node != -1:\n",
    "        in_order(tree[node.right_node], level+1)\n",
    "        \n",
    "in_order(tree[root], 1)\n",
    "\n",
    "result_level = 1\n",
    "result_width = level_max[1] - level_min[1] + 1\n",
    "for i in range(2, level_depth+1):\n",
    "    width = level_max[i] - level_min[i] + 1\n",
    "    if result_width < width:\n",
    "        result_level = i\n",
    "        result_width = width\n",
    "        \n",
    "print(result_level, result_width)"
   ]
  },
  {
   "cell_type": "code",
   "execution_count": null,
   "metadata": {},
   "outputs": [],
   "source": []
  }
 ],
 "metadata": {
  "kernelspec": {
   "display_name": "Python 3",
   "language": "python",
   "name": "python3"
  },
  "language_info": {
   "codemirror_mode": {
    "name": "ipython",
    "version": 3
   },
   "file_extension": ".py",
   "mimetype": "text/x-python",
   "name": "python",
   "nbconvert_exporter": "python",
   "pygments_lexer": "ipython3",
   "version": "3.6.9"
  }
 },
 "nbformat": 4,
 "nbformat_minor": 4
}
