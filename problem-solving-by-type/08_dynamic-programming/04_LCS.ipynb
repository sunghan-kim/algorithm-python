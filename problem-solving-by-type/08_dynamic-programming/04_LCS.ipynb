{
 "cells": [
  {
   "cell_type": "markdown",
   "metadata": {},
   "source": [
    "# 4. 가장 긴 공통 부분 수열(LCS, Longest Common Subsequence)\n",
    "\n",
    "- 난이도 : 하(Easy)\n",
    "- 유형 : 동적 프로그래밍, LCS\n",
    "- 추천 풀이 시간 : 30분\n",
    "- [문제 설명 링크 : https://www.acmicpc.net/problem/9251](https://www.acmicpc.net/problem/9251)"
   ]
  },
  {
   "cell_type": "markdown",
   "metadata": {},
   "source": [
    "<br>\n",
    "\n",
    "## 4.1 해설"
   ]
  },
  {
   "cell_type": "markdown",
   "metadata": {},
   "source": [
    "### 4.1.1 해설 내용\n",
    "\n",
    "- 두 수열이 주어졌을 때, 두 수열 모두의 부분 수열이 되는 수열 중 가장 긴 것을 찾아야 한다.\n",
    "- 가장 긴 공통 부분 수열(LCS) 문제로 알려진 대표적인 동적 프로그래밍 문제이다.\n",
    "- 두 수열의 길이가 N 미만일 때, 시간 복잡도 $O \\left( N^2 \\right)$으로 문제를 해결할 수 있다."
   ]
  },
  {
   "cell_type": "markdown",
   "metadata": {},
   "source": [
    "- 두 수열을 각각 X, Y 라고 하자.\n",
    "- D[i][j] = X[0 ... i] 와 Y[0 ... j] 의 공통 부분 수열의 최대 길이\n",
    "- 두 문자열의 길이를 조금씩 늘려가며 확인하여, 공통 부분 수열의 최대 길이를 계산한다.\n",
    "\n",
    "<img src=\"./img/04_01.jpg\" style=\"width: 600px; margin-left: 25px\" />"
   ]
  },
  {
   "cell_type": "markdown",
   "metadata": {},
   "source": [
    "<br>\n",
    "\n",
    "**X = \"ACAYKP\" 이고, Y = \"CAPCAK\" 일 때**\n",
    "\n",
    "0) 초기화\n",
    "\n",
    "<img src=\"./img/04_02.jpg\" style=\"width: 600px; margin-left: 10px\" />"
   ]
  },
  {
   "cell_type": "markdown",
   "metadata": {},
   "source": [
    "- 초기화 시 공집합($\\emptyset$)을 포함해서 초기화한다. \n",
    "  - 공집합과 각각의 문자열(C, CA, CAP, CAPC, ...)이 만들 수 있는 부분 수열이 없기 때문에 0으로 초기화한다.\n",
    "- X 문자열의 각 문자들을 행으로, Y 문자열의 각 문자들을 열로 두고 X의 문자 하나 씩(각각의 행) 확인해나간다."
   ]
  },
  {
   "cell_type": "markdown",
   "metadata": {},
   "source": [
    "<br>\n",
    "\n",
    "1) i=1 일 때\n",
    "\n",
    "<img src=\"./img/04_03.jpg\" style=\"width: 600px; margin-left: 10px\" />"
   ]
  },
  {
   "cell_type": "markdown",
   "metadata": {},
   "source": [
    "- i=1 일 때 X[1] = A 이다.\n",
    "- 이제부터 j를 1씩 늘려가며 비교한다.\n",
    "  - j=1; X[1](=A) 와 Y[1](=C) 는 서로 다르기 때문에 D[1][1-1](=0)과 D[1-1][1](=) 중 큰 값(0)을 D[1][1]에 채운다."
   ]
  },
  {
   "cell_type": "markdown",
   "metadata": {},
   "source": [
    "<br>\n",
    "\n",
    "2) i=2 일 때\n",
    "\n",
    "<img src=\"./img/04_04.jpg\" style=\"width: 800px; margin-left: 10px\" />"
   ]
  },
  {
   "cell_type": "markdown",
   "metadata": {},
   "source": []
  },
  {
   "cell_type": "markdown",
   "metadata": {},
   "source": [
    "<br>\n",
    "\n",
    "3) i=3 일 때\n",
    "\n",
    "<img src=\"./img/04_05.jpg\" style=\"width: 600px; margin-left: 10px\" />"
   ]
  },
  {
   "cell_type": "markdown",
   "metadata": {},
   "source": []
  },
  {
   "cell_type": "markdown",
   "metadata": {},
   "source": [
    "<br>\n",
    "\n",
    "4) i=4 일 때\n",
    "\n",
    "<img src=\"./img/04_06.jpg\" style=\"width: 600px; margin-left: 10px\" />"
   ]
  },
  {
   "cell_type": "markdown",
   "metadata": {},
   "source": []
  },
  {
   "cell_type": "markdown",
   "metadata": {},
   "source": [
    "<br>\n",
    "\n",
    "5) i=5 일 때\n",
    "\n",
    "<img src=\"./img/04_07.jpg\" style=\"width: 600px; margin-left: 10px\" />"
   ]
  },
  {
   "cell_type": "markdown",
   "metadata": {},
   "source": []
  },
  {
   "cell_type": "markdown",
   "metadata": {},
   "source": [
    "<br>\n",
    "\n",
    "6) i=6 일 때\n",
    "\n",
    "<img src=\"./img/04_08.jpg\" style=\"width: 800px; margin-left: 10px\" />"
   ]
  },
  {
   "cell_type": "markdown",
   "metadata": {},
   "source": []
  },
  {
   "cell_type": "markdown",
   "metadata": {},
   "source": [
    "<br>\n",
    "\n",
    "### 4.1.2 해설 코드"
   ]
  },
  {
   "cell_type": "code",
   "execution_count": null,
   "metadata": {},
   "outputs": [],
   "source": []
  }
 ],
 "metadata": {
  "kernelspec": {
   "display_name": "Python 3",
   "language": "python",
   "name": "python3"
  },
  "language_info": {
   "codemirror_mode": {
    "name": "ipython",
    "version": 3
   },
   "file_extension": ".py",
   "mimetype": "text/x-python",
   "name": "python",
   "nbconvert_exporter": "python",
   "pygments_lexer": "ipython3",
   "version": "3.6.9"
  }
 },
 "nbformat": 4,
 "nbformat_minor": 4
}
