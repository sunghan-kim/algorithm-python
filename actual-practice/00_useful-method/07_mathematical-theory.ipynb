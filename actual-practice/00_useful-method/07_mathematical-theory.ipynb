{
 "cells": [
  {
   "cell_type": "markdown",
   "metadata": {},
   "source": [
    "# 7. 코딩 테스트에 나오는 수학"
   ]
  },
  {
   "cell_type": "markdown",
   "metadata": {},
   "source": [
    "- 코딩 테스트에 나오는 수학은 **정수론** 그리고 **기하**가 대표적이다.\n",
    "- 코딩 테스트 내의 기하\n",
    "  - 피타고라스의 정리를 활용한 점 사이의 거리 등을 쉽게 알 수 있는 내용\n",
    "  - CCW, 컨벡스헐, 좌표기하 등 내용이 어려워 난이도 격차가 꽤 있는 분야"
   ]
  },
  {
   "cell_type": "markdown",
   "metadata": {},
   "source": [
    "- 다뤄볼 주제\n",
    "  - gcd, lcm\n",
    "  - 소수 체크와 소인수 분해\n",
    "  - **에라토스테네스의 체 활용**\n",
    "  - 거듭제곱 연산"
   ]
  },
  {
   "cell_type": "markdown",
   "metadata": {},
   "source": [
    "<br>\n",
    "\n",
    "## 7.1 GCD와 LCM\n",
    "\n",
    "- GCD : Greatest Common Divider, 최대 공약수\n",
    "- LCM : Least Common Multiple, 최소 공배수  \n",
    "  \n",
    "  \n",
    "- 최대 공약수 / 최소 공배수 문제의 90% 이상은 다음 알고리즘을 사용한다."
   ]
  },
  {
   "cell_type": "markdown",
   "metadata": {},
   "source": []
  }
 ],
 "metadata": {
  "kernelspec": {
   "display_name": "Python 3",
   "language": "python",
   "name": "python3"
  },
  "language_info": {
   "codemirror_mode": {
    "name": "ipython",
    "version": 3
   },
   "file_extension": ".py",
   "mimetype": "text/x-python",
   "name": "python",
   "nbconvert_exporter": "python",
   "pygments_lexer": "ipython3",
   "version": "3.6.9"
  }
 },
 "nbformat": 4,
 "nbformat_minor": 4
}
