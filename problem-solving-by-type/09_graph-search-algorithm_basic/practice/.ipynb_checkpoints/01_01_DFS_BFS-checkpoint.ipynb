{
 "cells": [
  {
   "cell_type": "markdown",
   "metadata": {},
   "source": [
    "# 1. DFS와 BFS (복습)\n",
    "\n",
    "- https://www.acmicpc.net/problem/1260"
   ]
  },
  {
   "cell_type": "code",
   "execution_count": 4,
   "metadata": {},
   "outputs": [
    {
     "name": "stdin",
     "output_type": "stream",
     "text": [
      " 4 5 1\n",
      " 1 2\n",
      " 1 3\n",
      " 1 4\n",
      " 2 4\n",
      " 3 4\n"
     ]
    },
    {
     "name": "stdout",
     "output_type": "stream",
     "text": [
      "1 2 4 3\n",
      "1 2 3 4\n"
     ]
    }
   ],
   "source": [
    "from collections import deque\n",
    "\n",
    "def dfs(v):\n",
    "    arr = graph[v]\n",
    "    visited[v] = True\n",
    "    result.append(v)\n",
    "    \n",
    "    for a in arr:\n",
    "        if not visited[a]:\n",
    "            dfs(a)\n",
    "\n",
    "def bfs(v):\n",
    "    q = deque()\n",
    "    q.append(v)\n",
    "    visited[v] = True\n",
    "    result.append(v)\n",
    "    \n",
    "    while q:\n",
    "        qval = q.popleft()\n",
    "        for a in graph[qval]:\n",
    "            if not visited[a]:\n",
    "                q.append(a)\n",
    "                visited[a] = True\n",
    "                result.append(a)\n",
    "            \n",
    "n, m, v = map(int, input().split())\n",
    "graph = [[] for _ in range(n+1)]\n",
    "\n",
    "for _ in range(m):\n",
    "    x, y = map(int, input().split())\n",
    "    graph[x].append(y)\n",
    "    graph[y].append(x)\n",
    "    \n",
    "for g in graph:\n",
    "    g.sort()\n",
    "    \n",
    "    \n",
    "visited = [False] * (n+1)\n",
    "result = []\n",
    "dfs(v)\n",
    "print(' '.join(map(str, result)))\n",
    "\n",
    "visited = [False] * (n+1)\n",
    "result = []\n",
    "bfs(v)\n",
    "print(' '.join(map(str, result)))"
   ]
  },
  {
   "cell_type": "code",
   "execution_count": null,
   "metadata": {},
   "outputs": [],
   "source": []
  }
 ],
 "metadata": {
  "kernelspec": {
   "display_name": "Python 3",
   "language": "python",
   "name": "python3"
  },
  "language_info": {
   "codemirror_mode": {
    "name": "ipython",
    "version": 3
   },
   "file_extension": ".py",
   "mimetype": "text/x-python",
   "name": "python",
   "nbconvert_exporter": "python",
   "pygments_lexer": "ipython3",
   "version": "3.6.9"
  }
 },
 "nbformat": 4,
 "nbformat_minor": 4
}
