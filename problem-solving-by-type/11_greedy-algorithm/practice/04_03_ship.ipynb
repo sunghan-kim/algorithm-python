{
 "cells": [
  {
   "cell_type": "markdown",
   "metadata": {},
   "source": [
    "# 4. 배 (복습)\n",
    "\n",
    "- [문제 설명 링크 : https://www.acmicpc.net/problem/1092](https://www.acmicpc.net/problem/1092)"
   ]
  },
  {
   "cell_type": "code",
   "execution_count": 1,
   "metadata": {},
   "outputs": [
    {
     "name": "stdin",
     "output_type": "stream",
     "text": [
      " 3\n",
      " 6 8 9\n",
      " 5\n",
      " 2 5 2 4 7\n"
     ]
    },
    {
     "name": "stdout",
     "output_type": "stream",
     "text": [
      "2\n"
     ]
    }
   ],
   "source": [
    "import sys\n",
    "\n",
    "n = int(input())\n",
    "cranes = list(map(int, input().split()))\n",
    "\n",
    "m = int(input())\n",
    "boxes = list(map(int, input().split()))\n",
    "\n",
    "if max(cranes) < max(boxes):\n",
    "    print(-1)\n",
    "    sys.exit()\n",
    "    \n",
    "cranes.sort(reverse=True)\n",
    "boxes.sort(reverse=True)\n",
    "\n",
    "positions = [0] * n\n",
    "checked = [False] * m\n",
    "\n",
    "result = 0\n",
    "count = 0\n",
    "\n",
    "while True:\n",
    "    if count == m:\n",
    "        break\n",
    "        \n",
    "    for i in range(n):\n",
    "        while positions[i] < m:\n",
    "            if not checked[positions[i]] and cranes[i] >= boxes[positions[i]]:\n",
    "                checked[positions[i]] = True\n",
    "                positions[i] += 1\n",
    "                count += 1\n",
    "                break\n",
    "            positions[i] += 1\n",
    "    result += 1\n",
    "\n",
    "print(result)"
   ]
  },
  {
   "cell_type": "code",
   "execution_count": null,
   "metadata": {},
   "outputs": [],
   "source": []
  }
 ],
 "metadata": {
  "kernelspec": {
   "display_name": "Python 3",
   "language": "python",
   "name": "python3"
  },
  "language_info": {
   "codemirror_mode": {
    "name": "ipython",
    "version": 3
   },
   "file_extension": ".py",
   "mimetype": "text/x-python",
   "name": "python",
   "nbconvert_exporter": "python",
   "pygments_lexer": "ipython3",
   "version": "3.6.9"
  }
 },
 "nbformat": 4,
 "nbformat_minor": 4
}
