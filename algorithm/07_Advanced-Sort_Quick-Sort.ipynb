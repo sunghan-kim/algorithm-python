{
 "cells": [
  {
   "cell_type": "markdown",
   "metadata": {},
   "source": [
    "# 6. 퀵 정렬 (Quick Sort)"
   ]
  },
  {
   "cell_type": "markdown",
   "metadata": {},
   "source": [
    "## 6.1 퀵 정렬(quick sort)이란?\n",
    "\n",
    "- 정렬 알고리즘의 꽃\n",
    "- 기준점(pivot 이라고 부름)을 정한다.\n",
    "- 기준점보다 작은 데이터는 왼쪽(left)으로, 큰 데이터는 오른쪽(right)으로 모으는 함수를 작성한다.\n",
    "- 각 왼쪽(left), 오른쪽(right)은 재귀용법을 사용해서 다시 동일 함수를 호출하여 위 작업을 반복한다.\n",
    "- 함수는 왼쪽(left) + 기준점(pivot) + 오른쪽(right)을 리턴한다."
   ]
  },
  {
   "cell_type": "markdown",
   "metadata": {},
   "source": [
    "<br>\n",
    "\n",
    "## 6.2 구현 방법에 대한 이해\n",
    "\n",
    "- 퀵 정렬 알고리즘을 구현하기 위한 세부 코드에 대한 이해"
   ]
  },
  {
   "cell_type": "markdown",
   "metadata": {},
   "source": [
    "<br>\n",
    "\n",
    "### 6.2.1 세부 코드 1\n",
    "\n",
    "- 다음 리스트를 리스트 슬라이싱을 이용해 3개로 잘라서 각 리스트 변수에 넣고 출력"
   ]
  },
  {
   "cell_type": "code",
   "execution_count": 1,
   "metadata": {},
   "outputs": [
    {
     "name": "stdout",
     "output_type": "stream",
     "text": [
      "[1, 2]\n",
      "3\n",
      "[4, 5]\n"
     ]
    }
   ],
   "source": [
    "data_list = [1, 2, 3, 4, 5]\n",
    "\n",
    "data1 = data_list[:2]\n",
    "data2 = data_list[2]\n",
    "data3 = data_list[3:]\n",
    "\n",
    "print(data1)\n",
    "print(data2)\n",
    "print(data3)"
   ]
  },
  {
   "cell_type": "markdown",
   "metadata": {},
   "source": [
    "<br>\n",
    "\n",
    "### 6.2.2 세부 코드 2\n",
    "\n",
    "- 다음 리스트를 맨 앞에 데이터를 기준으로 작은 데이터는 `left` 변수에, 그렇지 않은 데이터는 `right` 변수에 넣기"
   ]
  },
  {
   "cell_type": "code",
   "execution_count": 2,
   "metadata": {},
   "outputs": [
    {
     "name": "stdout",
     "output_type": "stream",
     "text": [
      "[1, 2]\n",
      "[5, 7]\n"
     ]
    }
   ],
   "source": [
    "data_list = [4, 1, 2, 5, 7]\n",
    "\n",
    "left = list()\n",
    "right = list()\n",
    "\n",
    "pivot = data_list[0]\n",
    "for index in range(len(data_list)):\n",
    "    if index != 0:\n",
    "        data = data_list[index]\n",
    "        if data < pivot:\n",
    "            left.append(data)\n",
    "        else:\n",
    "            right.append(data)\n",
    "\n",
    "print(left)\n",
    "print(right)"
   ]
  },
  {
   "cell_type": "markdown",
   "metadata": {},
   "source": [
    "<br>\n",
    "\n",
    "### 6.2.3 세부 코드 3\n",
    "\n",
    "- 다음 리스트를 맨 앞에 데이터를 `pivot` 변수에 넣음\n",
    "- `pivot` 변수 값을 기준으로 작은 데이터를 `left` 변수에, 그렇지 않은 데이터는 `right` 변수에 넣기"
   ]
  },
  {
   "cell_type": "code",
   "execution_count": 3,
   "metadata": {},
   "outputs": [
    {
     "name": "stdout",
     "output_type": "stream",
     "text": [
      "[1, 2]\n",
      "[5, 7]\n"
     ]
    }
   ],
   "source": [
    "data_list = [4, 1, 2, 5, 7]\n",
    "\n",
    "left = list()\n",
    "right = list()\n",
    "\n",
    "pivot = data_list[0]\n",
    "for index in range(len(data_list)):\n",
    "    if index != 0:\n",
    "        data = data_list[index]\n",
    "        if data < pivot:\n",
    "            left.append(data)\n",
    "        else:\n",
    "            right.append(data)\n",
    "\n",
    "print(left)\n",
    "print(right)"
   ]
  },
  {
   "cell_type": "markdown",
   "metadata": {},
   "source": [
    "<br>\n",
    "\n",
    "### 6.2.4 세부 코드 4\n",
    "\n",
    "- `data_list`가 임의의 길이일 때 리스트를 맨 앞의 데이터를 기준으로 작은 데이터는 `left` 변수에, 그렇지 않은 데이터는 `right` 변수에 넣기"
   ]
  },
  {
   "cell_type": "code",
   "execution_count": 4,
   "metadata": {},
   "outputs": [
    {
     "name": "stdout",
     "output_type": "stream",
     "text": [
      "[6]\n",
      "21\n",
      "[88, 24, 32, 56, 29, 54, 67, 90]\n"
     ]
    }
   ],
   "source": [
    "import random\n",
    "\n",
    "data_list = random.sample(range(100), 10)\n",
    "\n",
    "left = list()\n",
    "right = list()\n",
    "pivot = data_list[0]\n",
    "\n",
    "for index in range(1, len(data_list)):\n",
    "    if data_list[index] < pivot:\n",
    "        left.append(data_list[index])\n",
    "    else:\n",
    "        right.append(data_list[index])\n",
    "\n",
    "print(left)\n",
    "print(pivot)\n",
    "print(right)"
   ]
  },
  {
   "cell_type": "markdown",
   "metadata": {},
   "source": [
    "<br>\n",
    "\n",
    "### 6.2.5 세부 코드 5\n",
    "\n",
    "- `data_list`가 다음 세 데이터를 가지고 있다.\n",
    "- 이 리스트를 맨 앞에 데이터를 기준으로 작은 데이터는 `left` 변수에, 그렇지 않은 데이터는 `right` 변수에 넣는다.\n",
    "- 그리고 `left`, `right`, `pivot` 변수 값을 사용해서 정렬된 데이터 출력해보기"
   ]
  },
  {
   "cell_type": "code",
   "execution_count": 16,
   "metadata": {},
   "outputs": [
    {
     "name": "stdout",
     "output_type": "stream",
     "text": [
      "[2, 3, 4]\n"
     ]
    }
   ],
   "source": [
    "data_list = [4, 3, 2]\n",
    "\n",
    "def quick_sort(data):\n",
    "    if len(data) <= 1:\n",
    "        return data\n",
    "    \n",
    "    pivot = data[0]\n",
    "    left = list()\n",
    "    right = list()\n",
    "    \n",
    "    for index in range(1, len(data)):\n",
    "        if data[index] < pivot:\n",
    "            left.append(data[index])\n",
    "        else:\n",
    "            right.append(data[index])\n",
    "    \n",
    "    return quick_sort(left) + [pivot] + quick_sort(right)\n",
    "\n",
    "print(quick_sort(data_list))"
   ]
  },
  {
   "cell_type": "markdown",
   "metadata": {},
   "source": [
    "<br>\n",
    "\n",
    "## 6.3 알고리즘 구현"
   ]
  },
  {
   "cell_type": "markdown",
   "metadata": {},
   "source": [
    "### 6.3.1 구현 시나리오\n",
    "\n",
    "- `quicksort` 함수 만들기\n",
    "- 만약 리스트 갯수가 한 개이면 해당 리스트 리턴\n",
    "- 그렇지 않으면, 리스트 맨 앞의 데이터를 기준점(`pivot`)으로 놓기\n",
    "- `left`, `right` 변수를 만듬\n",
    "- 맨 앞의 데이터를 뺀 나머지 데이터를 기준점과 비교\n",
    "  - 기준점보다 작으면 `left.append(해당 데이터)`\n",
    "  - 기준점보다 크면 `right.append(해당 데이터)`\n",
    "- `return quicksort(left) + [pivot] + quicksort(right)`"
   ]
  },
  {
   "cell_type": "markdown",
   "metadata": {},
   "source": [
    "<br>\n",
    "\n",
    "### 6.3.2 구현 1"
   ]
  },
  {
   "cell_type": "code",
   "execution_count": 17,
   "metadata": {},
   "outputs": [],
   "source": [
    "def qsort(data):\n",
    "    if len(data) <= 1:\n",
    "        return data\n",
    "    \n",
    "    left, right = list(), list()\n",
    "    pivot = data[0]\n",
    "    \n",
    "    for i in range(1, len(data)):\n",
    "        if data[i] < pivot:\n",
    "            left.append(data[i])\n",
    "        else:\n",
    "            right.append(data[i])\n",
    "            \n",
    "    return qsort(left) + [pivot] + qsort(right)"
   ]
  },
  {
   "cell_type": "code",
   "execution_count": 18,
   "metadata": {},
   "outputs": [
    {
     "data": {
      "text/plain": [
       "[13, 27, 30, 37, 41, 46, 51, 53, 74, 81]"
      ]
     },
     "execution_count": 18,
     "metadata": {},
     "output_type": "execute_result"
    }
   ],
   "source": [
    "import random\n",
    "\n",
    "data_list = random.sample(range(100), 10)\n",
    "\n",
    "qsort(data_list)"
   ]
  },
  {
   "cell_type": "markdown",
   "metadata": {},
   "source": [
    "<br>\n",
    "\n",
    "### 6.3.3 구현 2\n",
    "\n",
    "- 위 퀵 정렬 코드를 list comprehension을 사용해섯 더 깔끔하게 작성해보기"
   ]
  },
  {
   "cell_type": "code",
   "execution_count": 19,
   "metadata": {},
   "outputs": [],
   "source": [
    "def qsort(data):\n",
    "    if len(data) <= 1:\n",
    "        return data\n",
    "    \n",
    "    pivot = data[0]\n",
    "    left = [item for item in data[1:] if item < pivot]\n",
    "    right = [item for item in data[1:] if item > pivot]\n",
    "    \n",
    "    return qsort(left) + [pivot] + qsort(right)"
   ]
  },
  {
   "cell_type": "code",
   "execution_count": 20,
   "metadata": {},
   "outputs": [
    {
     "data": {
      "text/plain": [
       "[1, 6, 20, 31, 44, 55, 58, 76, 92, 98]"
      ]
     },
     "execution_count": 20,
     "metadata": {},
     "output_type": "execute_result"
    }
   ],
   "source": [
    "import random\n",
    "\n",
    "data_list = random.sample(range(100), 10)\n",
    "\n",
    "qsort(data_list)"
   ]
  },
  {
   "cell_type": "markdown",
   "metadata": {},
   "source": [
    "<br>\n",
    "\n",
    "## 6.4 알고리즘 분석\n",
    "\n",
    "- 병합 정렬과 유사\n",
    "- 시간 복잡도 : $O(n log n)$\n",
    "- 단, 최악의 경우\n",
    "  - 맨 처음 `pivot`이 가장 크거나, 가장 작으면 모든 데이터를 비교하는 상황이 나온다.\n",
    "  - 이 때의 시간 복잡도는 $O(n^2)$가 된다.\n",
    "  \n",
    "<img src=\"https://www.fun-coding.org/00_Images/quicksortworks.jpg\" />"
   ]
  },
  {
   "cell_type": "markdown",
   "metadata": {},
   "source": [
    "<br>\n",
    "\n",
    "## 6.5 프로그래밍 연습\n",
    "\n",
    "- 지금 설명한 퀵 정렬을 스스로 작성"
   ]
  },
  {
   "cell_type": "code",
   "execution_count": 21,
   "metadata": {},
   "outputs": [],
   "source": [
    "def qsort(data):\n",
    "    if len(data) <= 1:\n",
    "        return data\n",
    "    \n",
    "    pivot = data[0]\n",
    "    left = [item for item in data[1:] if item < pivot]\n",
    "    right = [item for item in data[1:] if item > pivot]\n",
    "    \n",
    "    return qsort(left) + [pivot] + qsort(right)"
   ]
  },
  {
   "cell_type": "code",
   "execution_count": 22,
   "metadata": {},
   "outputs": [
    {
     "data": {
      "text/plain": [
       "[4, 7, 9, 10, 15, 22, 24, 32, 77, 94]"
      ]
     },
     "execution_count": 22,
     "metadata": {},
     "output_type": "execute_result"
    }
   ],
   "source": [
    "import random\n",
    "\n",
    "data_list = random.sample(range(100), 10)\n",
    "qsort(data_list)"
   ]
  }
 ],
 "metadata": {
  "kernelspec": {
   "display_name": "Python 3",
   "language": "python",
   "name": "python3"
  },
  "language_info": {
   "codemirror_mode": {
    "name": "ipython",
    "version": 3
   },
   "file_extension": ".py",
   "mimetype": "text/x-python",
   "name": "python",
   "nbconvert_exporter": "python",
   "pygments_lexer": "ipython3",
   "version": "3.6.9"
  }
 },
 "nbformat": 4,
 "nbformat_minor": 4
}
