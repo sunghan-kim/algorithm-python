{
 "cells": [
  {
   "cell_type": "markdown",
   "metadata": {},
   "source": [
    "# 7. 컵라면\n",
    "\n",
    "- 난이도 : 중(Medium)\n",
    "- 유형 : 그리디\n",
    "- 추천 풀이 시간 : 30분\n",
    "- [문제 설명 링크 : https://www.acmicpc.net/problem/1781](https://www.acmicpc.net/problem/1781)"
   ]
  },
  {
   "cell_type": "markdown",
   "metadata": {},
   "source": [
    "<br>\n",
    "\n",
    "## 7.1 문제 풀이"
   ]
  },
  {
   "cell_type": "code",
   "execution_count": null,
   "metadata": {},
   "outputs": [],
   "source": [
    "import deque\n",
    "\n",
    "n = int(input())\n",
    "\n",
    "queue = deque()\n",
    "\n",
    "for _ in range(n):\n",
    "    deadLine, "
   ]
  },
  {
   "cell_type": "markdown",
   "metadata": {},
   "source": [
    "<br>\n",
    "\n",
    "## 7.2 해설"
   ]
  },
  {
   "cell_type": "markdown",
   "metadata": {},
   "source": [
    "### 7.2.1 문제 풀이 핵심 아이디어\n",
    "\n",
    "- 데드라인을 초과하는 문제는 풀 수 없다.\n",
    "- 데이터의 개수(N)는 최대 200,000 이다.\n",
    "- 정렬 및 우선순위 큐를 이용하여 O(N logN)의 시간에 해결할 수 있다."
   ]
  },
  {
   "cell_type": "markdown",
   "metadata": {},
   "source": [
    "<br>\n",
    "\n",
    "### 7.2.2 문제 풀이 예시"
   ]
  },
  {
   "cell_type": "markdown",
   "metadata": {},
   "source": [
    "- 가장 먼저, 문제 데이터 중에서 데드라인을 기준으로 오름차순 정렬을 수행한다.\n",
    "  - 각 문제에 주어진 데드라인 안에 해당 문제를 풀 수 있다.\n",
    "  - 그러므로 데드라인 순으로 오름차순으로 정렬하여 시간 순서대로 문제들을 정렬시켜 준다.\n",
    "\n",
    "<img src=\"./img/07_01.jpg\" style=\"width: 500px; margin-left: 25px\" />"
   ]
  },
  {
   "cell_type": "markdown",
   "metadata": {},
   "source": [
    "<br>\n",
    "\n",
    "- 각 문제의 '컵라면 수'를 우선순위 큐에 넣으면서, 데드라인을 초과하는 경우에는 최소 원소를 제거한다.\n",
    "- 우선순위 큐에 들어 있는 원소의 갯수와 같은 크기의 데드라인을 만족하면서 컵라면 수가 가장 크게 되도록 문제들을 우선순위 큐에 넣는다.\n",
    "\n",
    "<img src=\"./img/07_02.jpg\" style=\"width: 500px; margin-left: 25px\" />"
   ]
  },
  {
   "cell_type": "markdown",
   "metadata": {},
   "source": [
    "<br>\n",
    "\n",
    "- 우선순위 큐에 데드라인이 1이고 컵라면 수가 6인 문제를 넣어 준다.\n",
    "- $\\text{우선순위 큐의 원소의 개수}(=1) \\leq \\text{데드라인}(=1)$을 만족하므로 그대로 진행한다.\n",
    "\n",
    "<img src=\"./img/07_03.jpg\" style=\"width: 500px; margin-left: 25px\" />"
   ]
  },
  {
   "cell_type": "markdown",
   "metadata": {},
   "source": [
    "<br>\n",
    "\n",
    "- 우선순위 큐에 데드라인이 1이고 컵라면 수가 7인 문제를 넣어 준다.\n",
    "- $\\text{우선순위 큐의 원소의 개수}(=2) \\leq \\text{데드라인}(=1)$을 만족하지 못하므로 가장 작은 컵라면 수(=6)를 갖는 원소를 제거하여 조건을 만족시킨다.\n",
    "\n",
    "<img src=\"./img/07_04.jpg\" style=\"width: 500px; margin-left: 25px\" />\n",
    "\n"
   ]
  },
  {
   "cell_type": "markdown",
   "metadata": {},
   "source": [
    "<br>\n",
    "\n",
    "- 우선순위 큐에 데드라인이 2이고 컵라면 수가 4인 문제를 넣어 준다.\n",
    "- $\\text{우선순위 큐의 원소의 개수}(=2) \\leq \\text{데드라인}(=2)$을 만족하므로 그대로 진행한다.\n",
    "\n",
    "<img src=\"./img/07_05.jpg\" style=\"width: 500px; margin-left: 25px\" />"
   ]
  },
  {
   "cell_type": "markdown",
   "metadata": {},
   "source": [
    "<br>\n",
    "\n",
    "- 우선순위 큐에 데드라인이 2이고 컵라면 수가 5인 문제를 넣어 준다.\n",
    "- $\\text{우선순위 큐의 원소의 개수}(=3) \\leq \\text{데드라인}(=2)$을 만족하지 못하므로 가장 작은 컵라면 수(=4)를 갖는 원소를 제거하여 조건을 만족시킨다.\n",
    "\n",
    "<img src=\"./img/07_06.jpg\" style=\"width: 500px; margin-left: 25px\" />"
   ]
  },
  {
   "cell_type": "markdown",
   "metadata": {},
   "source": [
    "<br>\n",
    "\n",
    "- 우선순위 큐에 데드라인이 3이고 컵라면 수가 1인 문제를 넣어 준다.\n",
    "- $\\text{우선순위 큐의 원소의 개수}(=3) \\leq \\text{데드라인}(=3)$을 만족하므로 그대로 진행한다.\n",
    "\n",
    "<img src=\"./img/07_07.jpg\" style=\"width: 500px; margin-left: 25px\" />"
   ]
  },
  {
   "cell_type": "markdown",
   "metadata": {},
   "source": [
    "<br>\n",
    "\n",
    "- 우선순위 큐에 데드라인이 3이고 컵라면 수가 2인 문제를 넣어 준다.\n",
    "- $\\text{우선순위 큐의 원소의 개수}(=4) \\leq \\text{데드라인}(=3)$을 만족하지 못하므로 가장 작은 컵라면 수(=1)를 갖는 원소를 제거하여 조건을 만족시킨다.\n",
    "\n",
    "\n",
    "<img src=\"./img/07_08.jpg\" style=\"width: 500px; margin-left: 25px\" />"
   ]
  },
  {
   "cell_type": "markdown",
   "metadata": {},
   "source": [
    "<br>\n",
    "\n",
    "- 우선순위 큐에 데드라인이 6이고 컵라면 수가 1인 문제를 넣어 준다.\n",
    "- $\\text{우선순위 큐의 원소의 개수}(=4) \\leq \\text{데드라인}(=6)$을 만족하므로 그대로 진행한다.\n",
    "- 최종적으로 우선순위 큐에 들어 있는 모든 컵라면의 수를 다 더한 값(=15)이 정답이 된다.\n",
    "\n",
    "<img src=\"./img/07_09.jpg\" style=\"width: 500px; margin-left: 25px\" />"
   ]
  },
  {
   "cell_type": "markdown",
   "metadata": {},
   "source": [
    "<br>\n",
    "\n",
    "### 7.2.3 해설 코드"
   ]
  },
  {
   "cell_type": "code",
   "execution_count": 1,
   "metadata": {},
   "outputs": [
    {
     "name": "stdin",
     "output_type": "stream",
     "text": [
      " 7\n",
      " 1 6\n",
      " 1 7\n",
      " 3 2\n",
      " 3 1\n",
      " 2 4\n",
      " 2 5\n",
      " 6 1\n"
     ]
    },
    {
     "name": "stdout",
     "output_type": "stream",
     "text": [
      "15\n"
     ]
    }
   ],
   "source": [
    "import heapq\n",
    "\n",
    "n = int(input())\n",
    "array = []\n",
    "q = []\n",
    "\n",
    "# 문제 정보를 입력 받은 이후에, 데드라인을 기준으로 정렬\n",
    "for i in range(n):\n",
    "    a, b = map(int, input().split())\n",
    "    array.append((a, b))\n",
    "    \n",
    "array.sort()\n",
    "\n",
    "for i in array:\n",
    "    a = i[0]\n",
    "    heapq.heappush(q, i[1])\n",
    "    # 데드라인을 초과하는 경우에는 최소 원소를 제거\n",
    "    if a < len(q):\n",
    "        heapq.heappop(q)\n",
    "        \n",
    "print(sum(q))"
   ]
  }
 ],
 "metadata": {
  "kernelspec": {
   "display_name": "Python 3",
   "language": "python",
   "name": "python3"
  },
  "language_info": {
   "codemirror_mode": {
    "name": "ipython",
    "version": 3
   },
   "file_extension": ".py",
   "mimetype": "text/x-python",
   "name": "python",
   "nbconvert_exporter": "python",
   "pygments_lexer": "ipython3",
   "version": "3.6.9"
  }
 },
 "nbformat": 4,
 "nbformat_minor": 4
}
