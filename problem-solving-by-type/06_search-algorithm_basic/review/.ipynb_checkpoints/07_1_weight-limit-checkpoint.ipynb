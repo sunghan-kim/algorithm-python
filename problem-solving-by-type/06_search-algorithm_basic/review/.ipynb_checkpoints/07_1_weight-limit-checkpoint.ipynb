{
 "cells": [
  {
   "cell_type": "markdown",
   "metadata": {},
   "source": [
    "# 7. 중량 제한 (복습)"
   ]
  },
  {
   "cell_type": "code",
   "execution_count": 6,
   "metadata": {},
   "outputs": [
    {
     "name": "stdin",
     "output_type": "stream",
     "text": [
      " 3 3\n",
      " 1 2 2\n",
      " 3 1 3\n",
      " 2 3 2\n",
      " 1 3\n"
     ]
    },
    {
     "name": "stdout",
     "output_type": "stream",
     "text": [
      "3\n"
     ]
    }
   ],
   "source": [
    "def bfs(c):\n",
    "    queue = [start_node]\n",
    "    visited = [False] * (n+1)\n",
    "    visited[start_node] = True\n",
    "    \n",
    "    while queue:\n",
    "        x = queue.pop(0)\n",
    "        for y, weight in adj[x]:\n",
    "            if not visited[y] and weight >= c:\n",
    "                visited[y] = True\n",
    "                queue.append(y)\n",
    "    \n",
    "    return visited[end_node]\n",
    "\n",
    "n, m = map(int, input().split())\n",
    "\n",
    "adj = [[] for _ in range(n+1)] # 0번 섬은 없으므로 빈 칸 만들기\n",
    "\n",
    "start = 1000000000\n",
    "end = 1\n",
    "\n",
    "for _ in range(m):\n",
    "    x, y, weight = map(int, input().split())\n",
    "    adj[x].append((y, weight))\n",
    "    adj[y].append((x, weight))\n",
    "    start = min(start, weight)\n",
    "    end = max(end, weight)\n",
    "    \n",
    "start_node, end_node = map(int, input().split())\n",
    "result = start\n",
    "\n",
    "while (start <= end):\n",
    "    mid = (start + end) // 2\n",
    "    if bfs(mid):\n",
    "        result = mid\n",
    "        start = mid + 1\n",
    "    else:\n",
    "        end = mid - 1\n",
    "\n",
    "print(resultWE)"
   ]
  },
  {
   "cell_type": "code",
   "execution_count": 9,
   "metadata": {},
   "outputs": [
    {
     "name": "stdin",
     "output_type": "stream",
     "text": [
      " 3 3\n",
      " 1 2 2\n",
      " 3 1 3\n",
      " 2 3 2\n",
      " 1 3\n"
     ]
    },
    {
     "name": "stdout",
     "output_type": "stream",
     "text": [
      "3\n"
     ]
    }
   ],
   "source": [
    "def bfs(c):\n",
    "    queue = [start_node]\n",
    "    visited = [False] * (n+1)\n",
    "    visited[start_node] = True\n",
    "    \n",
    "    while queue:\n",
    "        x = queue.pop(0)\n",
    "        for y, weight in adj[x]:\n",
    "            if not visited[y] and weight >= c:\n",
    "                visited[y] = True\n",
    "                queue.append(y)\n",
    "    \n",
    "    return visited[end_node]\n",
    "\n",
    "n, m = map(int, input().split())\n",
    "adj = [[] for _ in range(n+1)]\n",
    "\n",
    "start = 1000000000\n",
    "end = 1\n",
    "\n",
    "for _ in range(m):\n",
    "    x, y, weight = map(int, input().split())\n",
    "    adj[x].append((y, weight))\n",
    "    adj[y].append((x, weight))\n",
    "    start = min(start, weight)\n",
    "    end = max(end, weight)\n",
    "    \n",
    "start_node, end_node = map(int, input().split())\n",
    "result = start\n",
    "\n",
    "while (start <= end):\n",
    "    mid = (start + end) // 2\n",
    "    if bfs(mid):\n",
    "        result = mid\n",
    "        start = mid + 1\n",
    "    else:\n",
    "        end = mid - 1\n",
    "        \n",
    "print(result)"
   ]
  }
 ],
 "metadata": {
  "kernelspec": {
   "display_name": "Python 3",
   "language": "python",
   "name": "python3"
  },
  "language_info": {
   "codemirror_mode": {
    "name": "ipython",
    "version": 3
   },
   "file_extension": ".py",
   "mimetype": "text/x-python",
   "name": "python",
   "nbconvert_exporter": "python",
   "pygments_lexer": "ipython3",
   "version": "3.6.9"
  }
 },
 "nbformat": 4,
 "nbformat_minor": 4
}
