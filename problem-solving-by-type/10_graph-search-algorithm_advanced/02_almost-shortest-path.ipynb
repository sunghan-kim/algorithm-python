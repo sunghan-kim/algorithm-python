{
 "cells": [
  {
   "cell_type": "markdown",
   "metadata": {},
   "source": [
    "# 2. 거의 최단 경로\n",
    "\n",
    "- 난이도 : 중(Medium)\n",
    "- 유형 : 다익스트라 최단 경로\n",
    "- 추천 풀이 시간 : 50분\n",
    "- [문제 설명 링크 : https://www.acmicpc.net/problem/5719](https://www.acmicpc.net/problem/5719)"
   ]
  },
  {
   "cell_type": "markdown",
   "metadata": {},
   "source": [
    "<br>\n",
    "\n",
    "## 2.1 문제 풀이"
   ]
  },
  {
   "cell_type": "code",
   "execution_count": 8,
   "metadata": {},
   "outputs": [],
   "source": [
    "testData1 = \"\"\"1\n",
    "7 9\n",
    "0 6\n",
    "0 1 1\n",
    "0 2 1\n",
    "0 3 2\n",
    "0 4 3\n",
    "1 5 2\n",
    "2 6 4\n",
    "3 6 2\n",
    "4 6 4\n",
    "5 6 1\"\"\"\n",
    "\n",
    "testData2 = \"\"\"1\n",
    "4 6\n",
    "0 2\n",
    "0 1 1\n",
    "1 2 1\n",
    "1 3 1\n",
    "3 2 1\n",
    "2 0 3\n",
    "3 0 2\"\"\"\n",
    "\n",
    "testData3 = \"\"\"1\n",
    "6 8\n",
    "0 1\n",
    "0 1 1\n",
    "0 2 2\n",
    "0 3 3\n",
    "2 5 3\n",
    "3 4 2\n",
    "4 1 1\n",
    "5 1 1\n",
    "3 0 1\"\"\"\n",
    "\n",
    "testData4 = \"\"\"1\n",
    "0 0\"\"\""
   ]
  },
  {
   "cell_type": "code",
   "execution_count": 10,
   "metadata": {},
   "outputs": [
    {
     "name": "stdin",
     "output_type": "stream",
     "text": [
      " 1\n",
      " 4 6\n",
      " 0 2\n",
      " 0 1 1\n",
      " 1 2 1\n",
      " 1 3 1\n",
      " 3 2 1\n",
      " 2 0 3\n",
      " 3 0 2\n"
     ]
    },
    {
     "name": "stdout",
     "output_type": "stream",
     "text": [
      "2\n"
     ]
    }
   ],
   "source": [
    "import heapq\n",
    "\n",
    "def dijkstra(start):\n",
    "    queue = []\n",
    "    heapq.heappush(queue, (0, start))\n",
    "    distances[start] = 0\n",
    "    \n",
    "    while queue:\n",
    "        now_dist, now_pos = heapq.heappop(queue)\n",
    "        if distances[now_pos] < now_dist:\n",
    "            continue\n",
    "        for next_pos, next_dist in graph[now_pos]:\n",
    "            new_dist = now_dist + next_dist\n",
    "            if distances[next_pos] > new_dist:\n",
    "                distances[next_pos] = new_dist\n",
    "                heapq.heappush(queue, (new_dist, next_pos))\n",
    "        \n",
    "    \n",
    "\n",
    "test_case = int(input())\n",
    "\n",
    "for _ in range(test_case):\n",
    "    n, m = map(int, input().split())\n",
    "    s, d = map(int, input().split())\n",
    "    graph = [[] for _ in range(n)]\n",
    "    distances = [1e9] * n\n",
    "    \n",
    "    for _ in range(m):\n",
    "        u, v, p = map(int, input().split())\n",
    "        graph[u].append((v, p))\n",
    "        \n",
    "    dijkstra(s)\n",
    "    \n",
    "    shortestPath = distances[d]"
   ]
  },
  {
   "cell_type": "markdown",
   "metadata": {},
   "source": [
    "<br>\n",
    "\n",
    "## 2.2 해설"
   ]
  },
  {
   "cell_type": "markdown",
   "metadata": {},
   "source": [
    "### 2.2.1 문제 풀이 핵심 아이디어\n",
    "\n",
    "- 다익스트라 최단 경로 알고리즘을 수행한다.\n",
    "- 다익스트라 최단 경로에 포함되는 **모든 간선을 추적**해야 한다.\n",
    "- *초기 최단 경로에 포함된 간선을 제외한 뒤에 다시 최단 경로를 탐색*하면 된다."
   ]
  },
  {
   "cell_type": "markdown",
   "metadata": {},
   "source": [
    "<br>\n",
    "\n",
    "### 2.2.2 최단 경로를 구성하는 간선들을 찾는 방법\n",
    "\n",
    "- 다음과 같은 그래프가 있다고 하자.\n",
    "- 시작 정점은 '0'이고, 종료 정점은 '5'이다.\n",
    "\n",
    "<img src=\"./img/02_01.jpg\" style=\"width: 300px; margin-left: 25px\" />"
   ]
  },
  {
   "cell_type": "markdown",
   "metadata": {},
   "source": [
    "<br>\n",
    "\n",
    "**1) 모든 정점으로의 최단 거리 찾기**\n",
    "\n",
    "<img src=\"./img/02_02.jpg\" style=\"width: 600px; margin-left: 25px\" />"
   ]
  },
  {
   "cell_type": "markdown",
   "metadata": {},
   "source": [
    "<br>\n",
    "\n",
    "**2) BFS를 이용하여 최단 경로에 포함되어 있는 모든 간선을 역으로 추적**\n",
    "\n",
    "- 최단 거리 : 3 (0 -> 1 -> 2 -> 5)\n",
    "\n",
    "<img src=\"./img/02_03.jpg\" style=\"width: 600px; margin-left: 25px\" />\n",
    "\n",
    "<img src=\"./img/02_04.jpg\" style=\"width: 600px; margin-left: 25px\" />\n",
    "\n",
    "<img src=\"./img/02_05.jpg\" style=\"width: 600px; margin-left: 25px\" />\n",
    "\n",
    "<img src=\"./img/02_06.jpg\" style=\"width: 600px; margin-left: 25px\" />"
   ]
  },
  {
   "cell_type": "markdown",
   "metadata": {},
   "source": [
    "<br>\n",
    "\n",
    "## 2.2.3 해설 코드"
   ]
  },
  {
   "cell_type": "code",
   "execution_count": 13,
   "metadata": {},
   "outputs": [
    {
     "name": "stdin",
     "output_type": "stream",
     "text": [
      " 4 6\n",
      " 0 2\n",
      " 0 1 1\n",
      " 1 2 1\n",
      " 1 3 1\n",
      " 3 2 1\n",
      " 2 0 3\n",
      " 3 0 2\n"
     ]
    },
    {
     "name": "stdout",
     "output_type": "stream",
     "text": [
      "-1\n"
     ]
    },
    {
     "name": "stdin",
     "output_type": "stream",
     "text": [
      " 6 8\n",
      " 0 1\n",
      " 0 1 1\n",
      " 0 2 2\n",
      " 0 3 3\n",
      " 2 5 3\n",
      " 3 4 2\n",
      " 4 1 1\n",
      " 5 1 1\n",
      " 3 0 1\n"
     ]
    },
    {
     "name": "stdout",
     "output_type": "stream",
     "text": [
      "6\n"
     ]
    },
    {
     "name": "stdin",
     "output_type": "stream",
     "text": [
      " 0 0\n"
     ]
    }
   ],
   "source": [
    "import heapq\n",
    "from collections import deque\n",
    "#import sys\n",
    "#input = sys.stdin.readline\n",
    "\n",
    "def dijkstra():\n",
    "    heap_data = []\n",
    "    heapq.heappush(heap_data, (0, start))\n",
    "    distance[start] = 0\n",
    "    \n",
    "    while heap_data:\n",
    "        dist, now = heapq.heappop(heap_data)\n",
    "        if distance[now] < dist:\n",
    "            continue\n",
    "        for i in adj[now]:\n",
    "            cost = dist + i[1]\n",
    "            if distance[i[0]] > cost and not dropped[now][i[0]]:\n",
    "                distance[i[0]] = cost\n",
    "                heapq.heappush(heap_data, (cost, i[0]))\n",
    "\n",
    "def bfs():\n",
    "    q = deque()\n",
    "    q.append(end)\n",
    "    \n",
    "    while q:\n",
    "        now = q.popleft()\n",
    "        if now == start:\n",
    "            continue\n",
    "        for prev, cost in reverse_adj[now]:\n",
    "            if distance[now] == distance[prev] + cost:\n",
    "                dropped[prev][now] = True\n",
    "                q.append(prev)\n",
    "                \n",
    "while True:\n",
    "    n, m = map(int, input().split())\n",
    "    if n == 0:\n",
    "        break\n",
    "    start, end = map(int, input().split())\n",
    "    adj = [[] for _ in range(n+1)]\n",
    "    reverse_adj = [[] for _ in range(n+1)]\n",
    "    \n",
    "    for _ in range(m):\n",
    "        x, y, cost = map(int, input().split())\n",
    "        adj[x].append((y, cost))\n",
    "        reverse_adj[y].append((x, cost))\n",
    "        \n",
    "    dropped = [[False] * (n+1) for _ in range(n+1)]\n",
    "    distance = [1e9] * (n+1)\n",
    "    \n",
    "    dijkstra()\n",
    "    bfs()\n",
    "    \n",
    "    distance = [1e9] * (n+1)\n",
    "    dijkstra()\n",
    "    \n",
    "    if distance[end] != 1e9:\n",
    "        print(distance[end])\n",
    "    else:\n",
    "        print(-1)"
   ]
  }
 ],
 "metadata": {
  "kernelspec": {
   "display_name": "Python 3",
   "language": "python",
   "name": "python3"
  },
  "language_info": {
   "codemirror_mode": {
    "name": "ipython",
    "version": 3
   },
   "file_extension": ".py",
   "mimetype": "text/x-python",
   "name": "python",
   "nbconvert_exporter": "python",
   "pygments_lexer": "ipython3",
   "version": "3.6.9"
  }
 },
 "nbformat": 4,
 "nbformat_minor": 4
}
