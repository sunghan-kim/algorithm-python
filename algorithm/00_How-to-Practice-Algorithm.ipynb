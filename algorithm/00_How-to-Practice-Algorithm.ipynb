{
 "cells": [
  {
   "cell_type": "markdown",
   "metadata": {},
   "source": [
    "# 0. 알고리즘 연습 방법\n",
    "\n",
    "- 알고리즘을 잘 작성하기 위해서는 잘 작성된 알고리즘을 이해하고, 스스로 만들어봐야 한다.\n",
    "  - 모사 (그림을 잘 그리기 위해서는 잘 그린 그림을 모방하는 것 부터 시작)"
   ]
  },
  {
   "cell_type": "markdown",
   "metadata": {},
   "source": [
    "<br>\n",
    "\n",
    "## 0.1 알고리즘 연습 방법\n",
    "\n",
    "1. 연습장과 펜을 준비\n",
    "2. 알고리즘 문제를 읽고 분석\n",
    "3. 간단하게 테스트용으로 매우 간단한 경우부터 복잡한 경우 순서대로 생각해보면서, 연습장과 펜을 이용하여 알고리즘을 생각\n",
    "4. 가능한 알고리즘이 보인다면, 구현할 알고리즘을 세부 항목으로 나누고, 문장으로 세부 항목을 나누어서 적는다.\n",
    "5. 코드화하기 위해, 데이터 구조 또는 사용할 변수 정리\n",
    "6. 각 문장을 코드 레벨로 적는다.\n",
    "7. 데이터 구조 또는 사용할 변수가 코드에 따라 어떻게 변하는 지를 손으로 적음\n",
    "8. 임의 데이터로 코드가 정상 동작하는 지를 연습장과 펜으로 검증"
   ]
  }
 ],
 "metadata": {
  "kernelspec": {
   "display_name": "Python 3",
   "language": "python",
   "name": "python3"
  },
  "language_info": {
   "codemirror_mode": {
    "name": "ipython",
    "version": 3
   },
   "file_extension": ".py",
   "mimetype": "text/x-python",
   "name": "python",
   "nbconvert_exporter": "python",
   "pygments_lexer": "ipython3",
   "version": "3.6.9"
  }
 },
 "nbformat": 4,
 "nbformat_minor": 4
}
