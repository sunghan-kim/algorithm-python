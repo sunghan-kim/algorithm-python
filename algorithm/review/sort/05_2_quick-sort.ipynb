{
 "cells": [
  {
   "cell_type": "code",
   "execution_count": 1,
   "metadata": {},
   "outputs": [
    {
     "name": "stdout",
     "output_type": "stream",
     "text": [
      "[1, 2]\n",
      "[5, 7]\n"
     ]
    }
   ],
   "source": [
    "data_list = [4, 1, 2, 5, 7]\n",
    "\n",
    "left = list()\n",
    "right = list()\n",
    "\n",
    "pivot = data_list[0]\n",
    "\n",
    "for index in range(len(data_list)):\n",
    "    if index != 0:\n",
    "        data = data_list[index]\n",
    "        if data < pivot:\n",
    "            left.append(data)\n",
    "        else:\n",
    "            right.append(data)\n",
    "            \n",
    "print(left)\n",
    "print(right)"
   ]
  },
  {
   "cell_type": "code",
   "execution_count": 2,
   "metadata": {},
   "outputs": [
    {
     "name": "stdout",
     "output_type": "stream",
     "text": [
      "[2, 3, 4]\n"
     ]
    }
   ],
   "source": [
    "data_list = [4, 3, 2]\n",
    "\n",
    "def quick_sort(data):\n",
    "    if len(data) <= 1:\n",
    "        return data\n",
    "    \n",
    "    pivot = data[0]\n",
    "    left = list()\n",
    "    right = list()\n",
    "    \n",
    "    for index in range(1, len(data)):\n",
    "        if data[index] < pivot:\n",
    "            left.append(data[index])\n",
    "        else:\n",
    "            right.append(data[index])\n",
    "            \n",
    "    return quick_sort(left) + [pivot] + quick_sort(right)\n",
    "\n",
    "print(quick_sort(data_list))"
   ]
  },
  {
   "cell_type": "code",
   "execution_count": 3,
   "metadata": {},
   "outputs": [
    {
     "name": "stdout",
     "output_type": "stream",
     "text": [
      "[2, 25, 32, 44, 50, 63, 81, 86, 91, 98]\n"
     ]
    }
   ],
   "source": [
    "def qsort(data):\n",
    "    if len(data) <= 1:\n",
    "        return data\n",
    "    \n",
    "    pivot = data[0]\n",
    "    left = [item for item in data[1:] if item < pivot]\n",
    "    right = [item for item in data[1:] if item > pivot]\n",
    "    \n",
    "    return qsort(left) + [pivot] + qsort(right)\n",
    "\n",
    "import random\n",
    "\n",
    "data_list = random.sample(range(100), 10)\n",
    "print(qsort(data_list))"
   ]
  },
  {
   "cell_type": "code",
   "execution_count": null,
   "metadata": {},
   "outputs": [],
   "source": []
  }
 ],
 "metadata": {
  "kernelspec": {
   "display_name": "Python 3",
   "language": "python",
   "name": "python3"
  },
  "language_info": {
   "codemirror_mode": {
    "name": "ipython",
    "version": 3
   },
   "file_extension": ".py",
   "mimetype": "text/x-python",
   "name": "python",
   "nbconvert_exporter": "python",
   "pygments_lexer": "ipython3",
   "version": "3.6.9"
  }
 },
 "nbformat": 4,
 "nbformat_minor": 4
}
