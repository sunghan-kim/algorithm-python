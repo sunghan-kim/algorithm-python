{
 "cells": [
  {
   "cell_type": "markdown",
   "metadata": {},
   "source": [
    "# 1. 문서 검색\n",
    "\n",
    "- 난이도 : 하(Easy)\n",
    "- 유형 : 탐색\n",
    "- 추천 풀이 시간 : 20분\n",
    "- [문제 설명 링크 : https://www.acmicpc.net/problem/1543](https://www.acmicpc.net/problem/1543)"
   ]
  },
  {
   "cell_type": "markdown",
   "metadata": {},
   "source": [
    "<br>\n",
    "\n",
    "## 1.1 문제 설명\n",
    "\n",
    "- 시간 제한 : 2초\n",
    "- 메모리 제한 : 128 MB"
   ]
  },
  {
   "cell_type": "markdown",
   "metadata": {},
   "source": [
    "<br>\n",
    "\n",
    "### 1.1.1 문제\n",
    "\n",
    "세준이는 영어로만 이루어진 어떤 문서를 검색하는 함수를 만들려고 한다. 이 함수는 어떤 단어가 총 몇 번 등장하는지 세려고 한다. 그러나, 세준이의 함수는 중복되어 세는 것은 빼고 세야 한다. 예를 들어, 문서가 abababa이고, 그리고 찾으려는 ababa라면, 세준이의 이 함수는 이 단어를 0번부터 찾을 수 있고, 2번부터도 찾을 수 있다. 그러나 동시에 셀 수는 없다.\n",
    "\n",
    "세준이는 문서와 검색하려는 단어가 주어졌을 때, 그 단어가 최대 몇 번 중복되지 않게 등장하는지 구하는 프로그램을 작성하시오."
   ]
  },
  {
   "cell_type": "markdown",
   "metadata": {},
   "source": [
    "<br>\n",
    "\n",
    "### 1.1.2 입력\n",
    "\n",
    "첫째 줄에 문서가 주어진다. 문서의 길이는 최대 2500이다. 둘째 줄에 검색하고 싶은 단어가 주어진다. 이 길이는 최대 50이다. 문서와 단어는 알파벳 소문자와 공백으로 이루어져 있다."
   ]
  },
  {
   "cell_type": "markdown",
   "metadata": {},
   "source": [
    "<br>\n",
    "\n",
    "### 1.1.3 출력\n",
    "\n",
    "첫째 줄에 중복되지 않게 최대 몇 번 등장하는지 출력한다."
   ]
  },
  {
   "cell_type": "markdown",
   "metadata": {},
   "source": [
    "<br>\n",
    "\n",
    "### 1.1.4 입출력 예제\n",
    "\n",
    "**예제 입력 1**\n",
    "\n",
    "```\n",
    "ababababa\n",
    "aba\n",
    "```\n",
    "\n",
    "**예제 출력 1**\n",
    "\n",
    "```\n",
    "2\n",
    "```\n",
    "\n",
    "**예제 입력 2**\n",
    "\n",
    "```\n",
    "a a a a a\n",
    "a a\n",
    "```\n",
    "\n",
    "**예제 출력 2**\n",
    "\n",
    "```\n",
    "2\n",
    "```"
   ]
  },
  {
   "cell_type": "markdown",
   "metadata": {},
   "source": [
    "<br>\n",
    "\n",
    "## 1.2 직접 구현"
   ]
  },
  {
   "cell_type": "markdown",
   "metadata": {},
   "source": [
    "### 1.2.1 직접 구현 코드\n",
    "\n",
    "- 메모리 : 29380 KB\n",
    "- 시간 : 64 ms"
   ]
  },
  {
   "cell_type": "code",
   "execution_count": 10,
   "metadata": {},
   "outputs": [
    {
     "name": "stdin",
     "output_type": "stream",
     "text": [
      " a a a a a\n",
      " a a\n"
     ]
    },
    {
     "name": "stdout",
     "output_type": "stream",
     "text": [
      "2\n"
     ]
    }
   ],
   "source": [
    "document = input()\n",
    "word = input()\n",
    "\n",
    "doc_list = [d for d in document]\n",
    "match_count = 0\n",
    "index = 0\n",
    "\n",
    "while index < (len(doc_list) - len(word) + 1):\n",
    "    temp_word = ''.join(doc_list[index:len(word)+index])\n",
    "    \n",
    "    if temp_word == word:\n",
    "        match_count += 1\n",
    "        index += len(word)\n",
    "    else:\n",
    "        index += 1\n",
    "        \n",
    "print(match_count)"
   ]
  },
  {
   "cell_type": "code",
   "execution_count": 13,
   "metadata": {},
   "outputs": [
    {
     "name": "stdin",
     "output_type": "stream",
     "text": [
      " ababababa\n",
      " aba\n"
     ]
    },
    {
     "name": "stdout",
     "output_type": "stream",
     "text": [
      "2\n"
     ]
    }
   ],
   "source": [
    "document = input()\n",
    "word = input()\n",
    "\n",
    "result = 0\n",
    "index = 0\n",
    "\n",
    "while index < (len(document) - len(word) + 1):\n",
    "    if document[index:len(word) + index] == word:\n",
    "        result += 1\n",
    "        index += len(word)\n",
    "    else:\n",
    "        index += 1\n",
    "        \n",
    "print(result)"
   ]
  },
  {
   "cell_type": "markdown",
   "metadata": {},
   "source": [
    "<br>\n",
    "\n",
    "## 1.3 해설"
   ]
  },
  {
   "cell_type": "markdown",
   "metadata": {},
   "source": [
    "### 1.3.1 해설 내용\n",
    "\n",
    "- 문서의 길이는 최대 2,500이고, 단어의 길이는 최대 50이다.\n",
    "- 단순히 모든 경우의 수를 계산하여 문제를 해결할 수 있다.\n",
    "- 시간 복잡도 $O(N M)$의 알고리즘으로 해결할 수 있다.\n",
    "  - 2500 x 50 = 125,000"
   ]
  },
  {
   "cell_type": "markdown",
   "metadata": {},
   "source": [
    "- 문서와 단어의 위치를 맞추어서 반복적으로 비교한다.\n",
    "\n",
    "$\\qquad$ <img src=\"./img/document-search_01.jpg\" width=700 />\n",
    "\n",
    "$\\qquad$ <img src=\"./img/document-search_02.jpg\" width=700 />\n",
    "\n",
    "$\\qquad$ <img src=\"./img/document-search_03.jpg\" width=700 />\n",
    "\n",
    "$\\qquad$ <img src=\"./img/document-search_04.jpg\" width=700 />\n",
    "\n",
    "$\\qquad$ <img src=\"./img/document-search_05.jpg\" width=700 />"
   ]
  },
  {
   "cell_type": "markdown",
   "metadata": {},
   "source": [
    "<br>\n",
    "\n",
    "### 1.3.2 해설 코드"
   ]
  },
  {
   "cell_type": "code",
   "execution_count": 12,
   "metadata": {},
   "outputs": [
    {
     "name": "stdin",
     "output_type": "stream",
     "text": [
      " ababababa\n",
      " aba\n"
     ]
    },
    {
     "name": "stdout",
     "output_type": "stream",
     "text": [
      "2\n"
     ]
    }
   ],
   "source": [
    "document = input()\n",
    "word = input()\n",
    "\n",
    "index = 0\n",
    "result = 0\n",
    "\n",
    "while len(document) - index >= len(word):\n",
    "    if document[index:index + len(word)] == word: # 문서에서 보고 있는 단어가 찾고자 하는 단어인 경우\n",
    "        result += 1\n",
    "        index += len(word)\n",
    "    else:\n",
    "        index += 1\n",
    "        \n",
    "print(result)"
   ]
  }
 ],
 "metadata": {
  "kernelspec": {
   "display_name": "Python 3",
   "language": "python",
   "name": "python3"
  },
  "language_info": {
   "codemirror_mode": {
    "name": "ipython",
    "version": 3
   },
   "file_extension": ".py",
   "mimetype": "text/x-python",
   "name": "python",
   "nbconvert_exporter": "python",
   "pygments_lexer": "ipython3",
   "version": "3.6.9"
  }
 },
 "nbformat": 4,
 "nbformat_minor": 4
}
