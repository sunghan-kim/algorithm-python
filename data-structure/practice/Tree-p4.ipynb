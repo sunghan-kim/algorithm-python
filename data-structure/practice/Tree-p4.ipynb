{
 "cells": [
  {
   "cell_type": "markdown",
   "metadata": {},
   "source": [
    "# 4. 이진 탐색 트리의 시간 복잡도 및 단점"
   ]
  },
  {
   "cell_type": "markdown",
   "metadata": {},
   "source": [
    "## 4.1 BST의 시간 복잡도\n",
    "\n",
    "- **탐색(search)**할 때의 시간 복잡도 계산한다."
   ]
  },
  {
   "cell_type": "markdown",
   "metadata": {},
   "source": [
    "- BST의 시간 복잡도는 **depth(트리의 높이)**와 관련이 있다.\n",
    "- depth(트리의 높이)를 $h$라고 하면 BST의 시간 복잡도는 $O(h)$이다."
   ]
  },
  {
   "cell_type": "markdown",
   "metadata": {},
   "source": [
    "- 트리의 높이인 $h$를 노드의 개수 $n$으로 나타낼 수 있다.\n",
    "- 즉, $h = log_2 n$이라고 할 수 있다.\n",
    "  - $n=3$일 때 $\\rightarrow h = log_2 3 \\approx 2$\n",
    "  - $n=7$일 때 $\\rightarrow h = log_2 7 \\approx 3$\n",
    "  - $n=15$일 때 $\\rightarrow h = log_2 15 \\approx 4$"
   ]
  },
  {
   "cell_type": "markdown",
   "metadata": {},
   "source": [
    "- 따라서 BST의 시간 복잡도를 $n$에 대해 정의하면 $O(log n)$이 된다.\n",
    "  - 이는 한 번 실행 시마다, 실행할 수도 있는 명령들 중 50%의 명령을 제거한다는 의미이다.\n",
    "  - 즉, 50%의 실행 시간을 단축할 수 있다는 것을 의미한다."
   ]
  },
  {
   "cell_type": "markdown",
   "metadata": {},
   "source": [
    "<br>\n",
    "\n",
    "## 4.2 배열과 BST 탐색 속도 비교\n",
    "\n",
    "<img src=\"https://www.mathwarehouse.com/programming/images/binary-search-tree/binary-search-tree-sorted-array-animation.gif\" />"
   ]
  },
  {
   "cell_type": "markdown",
   "metadata": {},
   "source": [
    "<br>\n",
    "\n",
    "## 4.3 이진 탐색 트리 단점\n",
    "\n",
    "- BST의 평균 시간 복잡도는 $O(log n)$이다.\n",
    "- 하지만 이는 트리가 균형잡혀 있을 때의 시간 복잡도이다."
   ]
  },
  {
   "cell_type": "markdown",
   "metadata": {},
   "source": [
    "- 다음 그림과 같이 트리가 구성되어 있을 경우, BST의 시간 복잡도는 최악의 시간 복잡도를 갖는다.\n",
    "\n",
    "<img src=\"../img/worst_tree.png\" width=\"200px\" />\n",
    "\n",
    "- 이는 링크드 리스트 등과 동일한 성능을 보여준다.\n",
    "- 즉, BST의 최악의 시간 복잡도는 $O(n)$이다.\n",
    "\n"
   ]
  }
 ],
 "metadata": {
  "kernelspec": {
   "display_name": "Python 3",
   "language": "python",
   "name": "python3"
  },
  "language_info": {
   "codemirror_mode": {
    "name": "ipython",
    "version": 3
   },
   "file_extension": ".py",
   "mimetype": "text/x-python",
   "name": "python",
   "nbconvert_exporter": "python",
   "pygments_lexer": "ipython3",
   "version": "3.6.9"
  }
 },
 "nbformat": 4,
 "nbformat_minor": 4
}
