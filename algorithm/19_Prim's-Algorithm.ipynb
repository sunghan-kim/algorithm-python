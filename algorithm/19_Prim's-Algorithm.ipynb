{
 "cells": [
  {
   "cell_type": "markdown",
   "metadata": {},
   "source": [
    "# 19. 프림 알고리즘 (Prim's Algorithm)\n",
    "\n",
    "- 크루스칼 알고리즘과 함께 대표적인 최소 신장 트리 알고리즘"
   ]
  },
  {
   "cell_type": "markdown",
   "metadata": {},
   "source": [
    "<br>\n",
    "\n",
    "## 19.1 프림 알고리즘 로직\n",
    "\n",
    "- 시작 정점을 선택\n",
    "- 정점에 인접한 간선 중 최소 간선으로 연결된 정점을 선택\n",
    "- 해당 정점에서 다시 최소 간선으로 연결된 정점을 선택\n",
    "- 위와 같은 방식으로 최소 신장 트리를 확장해가는 방식"
   ]
  },
  {
   "cell_type": "markdown",
   "metadata": {},
   "source": [
    "<br>\n",
    "\n",
    "## 19.2 크루스칼 알고리즘과 비교"
   ]
  },
  {
   "cell_type": "markdown",
   "metadata": {},
   "source": [
    "### 19.2.1 공통점\n",
    "\n",
    "- 둘 다 **탐욕 알고리즘을 기초**로 하고 있음\n",
    "  - 당장 눈 앞의 최소 비용을 선택\n",
    "  - 결과적으로 최적의 솔루션을 찾음"
   ]
  },
  {
   "cell_type": "markdown",
   "metadata": {},
   "source": [
    "<br>\n",
    "\n",
    "### 19.2.2 크루스칼 알고리즘\n",
    "\n",
    "> 모든 간선\n",
    "\n",
    "- 모든 간선들을 추출\n",
    "- 가장 가중치가 작은 간선부터 선택하면서 MST를 구함"
   ]
  },
  {
   "cell_type": "markdown",
   "metadata": {},
   "source": [
    "<br>\n",
    "\n",
    "### 19.2.3 프림 알고리즘\n",
    "\n",
    "> 노드에 연결된 간선\n",
    "\n",
    "- 특정 정점에서 시작\n",
    "- 해당 정점에 연결된 가장 가중치가 작은 간선 선택\n",
    "- 간선으로 연결된 정점들에 연결된 간선 중에서 가장 가중치가 작은 간선 선택\n",
    "- 위와 같은 방식으로 MST를 구함"
   ]
  },
  {
   "cell_type": "markdown",
   "metadata": {},
   "source": [
    "<br>\n",
    "\n",
    "## 19.3 그림으로 이해하는 프림 알고리즘"
   ]
  },
  {
   "cell_type": "markdown",
   "metadata": {},
   "source": [
    "1. 임의의 정점을 선택하여 \"연결된 노드 집합\"에 삽입\n",
    "2. 선택된 정점에 연결된 간선들을 \"간선 리스트\"에 삽입\n",
    "3. 간선 리스트에서 최소 가중치를 가지는 간선부터 추출\n",
    "  - 해당 간선에 연결된 인접 정점이 \"연결된 노드 집합\"에 이미 들어 있음  \n",
    "  $\\rightarrow$ 스킵 (cycle 발생 방지)\n",
    "  - 해당 간선에 연결된 인접 정점이 \"연결된 노드 집합\"에 들어 있지 않음  \n",
    "  $\\rightarrow$ 해당 간선을 선택하고, 해당 간선 정보를 \"최소 신장 트리\"에 삽입\n",
    "4. 추출한 간선은 간선 리스트에서 제거\n",
    "5. 간선 리스트에 더 이상의 간선이 없을 때 까지 3-4번을 반복"
   ]
  },
  {
   "cell_type": "markdown",
   "metadata": {},
   "source": [
    "<img src=\"./img/prim_01.jpg\" width=300 />\n",
    "\n",
    "<img src=\"./img/prim_02.jpg\" width=300 />\n",
    "\n",
    "<img src=\"./img/prim_03.jpg\" width=300 />\n",
    "\n",
    "<img src=\"./img/prim_04.jpg\" width=300 />\n",
    "\n",
    "<img src=\"./img/prim_05.jpg\" width=300 />\n",
    "\n",
    "<img src=\"./img/prim_06.jpg\" width=300 />"
   ]
  },
  {
   "cell_type": "markdown",
   "metadata": {},
   "source": [
    "<br>\n",
    "\n",
    "## 19.4 프림 알고리즘(Prim's Algorithm) 코드 작성"
   ]
  },
  {
   "cell_type": "markdown",
   "metadata": {},
   "source": [
    "### 19.4.1 (참고) `heapq` 라이브러리를 활용한 우선순위 큐 사용"
   ]
  },
  {
   "cell_type": "markdown",
   "metadata": {},
   "source": [
    "#### 19.4.1.1 `heapq.heappush()`\n",
    "\n",
    "- 데이터를 heap 형태로 삽입\n",
    "- `0`번 인덱스를 우선 순위로 인지"
   ]
  },
  {
   "cell_type": "markdown",
   "metadata": {},
   "source": [
    "<br>\n",
    "\n",
    "#### 19.4.1.2 `heapq.heappop()`\n",
    "\n",
    "- 가장 우선순위가 높은 데이터 반환\n",
    "- 반환된 데이터는 삭제됨"
   ]
  },
  {
   "cell_type": "code",
   "execution_count": 1,
   "metadata": {},
   "outputs": [
    {
     "name": "stdout",
     "output_type": "stream",
     "text": [
      "[2, 'A']\n",
      "[3, 'C']\n",
      "[5, 'B']\n",
      "[]\n"
     ]
    }
   ],
   "source": [
    "import heapq\n",
    "\n",
    "queue = []\n",
    "graph_data = [[2, 'A'], [5, 'B'], [3, 'C']] # [우선순위(가중치), 노드]\n",
    "\n",
    "for edge in graph_data:\n",
    "    heapq.heappush(queue, edge) # 리스트 큐에 데이터 삽입\n",
    "    \n",
    "for index in range(len(queue)):\n",
    "    print(heapq.heappop(queue)) # 우선순위대로 pop\n",
    "    \n",
    "print(queue)"
   ]
  },
  {
   "cell_type": "markdown",
   "metadata": {},
   "source": [
    "<br>\n",
    "\n",
    "#### 19.4.1.3 `heapq.heapify()`\n",
    "\n",
    "- 리스트 데이터를 heap 형태로 한 번에 변\n",
    "- `heapq`에 데이터 삽입(`heappush`)를 한 번에 실시\n",
    "\n",
    "<div style=\"margin-left: 20px\"><img src=\"./img/heapify.jpg\" width=400 /></div>\n",
    "\n",
    "- `0`번 인덱스를 우선순위로 인지함"
   ]
  },
  {
   "cell_type": "code",
   "execution_count": 3,
   "metadata": {},
   "outputs": [
    {
     "name": "stdout",
     "output_type": "stream",
     "text": [
      "[2, 'A']\n",
      "[3, 'C']\n",
      "[5, 'B']\n",
      "[]\n"
     ]
    }
   ],
   "source": [
    "import heapq\n",
    "\n",
    "graph_data = [[2, 'A'], [5, 'B'], [3, 'C']]\n",
    "\n",
    "heapq.heapify(graph_data)\n",
    "\n",
    "for index in range(len(graph_data)):\n",
    "    print(heapq.heappop(graph_data))\n",
    "\n",
    "print(graph_data)"
   ]
  },
  {
   "cell_type": "markdown",
   "metadata": {},
   "source": [
    "<br>\n",
    "\n",
    "### 19.4.2 (참고) `collections` 라이브러리의 `defaultdict` 함수 활용\n",
    "\n",
    "- `defaultdict` 함수를 사용해서 `key`에 대한 `value`를 지정하지 않았을 시, 빈 리스트로 초기화하기\n",
    "- `defaultdict` 함수를 활용하므로서 사전 변수에서 사용할 key들을 다 초기화할 필요가 없다."
   ]
  },
  {
   "cell_type": "code",
   "execution_count": 8,
   "metadata": {},
   "outputs": [
    {
     "name": "stdout",
     "output_type": "stream",
     "text": [
      "ERROR\n"
     ]
    }
   ],
   "source": [
    "list_dict1 = dict()\n",
    "try:\n",
    "    print(list_dict1['key1'])\n",
    "except:\n",
    "    print('ERROR')"
   ]
  },
  {
   "cell_type": "code",
   "execution_count": 9,
   "metadata": {},
   "outputs": [
    {
     "name": "stdout",
     "output_type": "stream",
     "text": [
      "[]\n"
     ]
    }
   ],
   "source": [
    "from collections import defaultdict\n",
    "\n",
    "list_dict2 = defaultdict(list)\n",
    "print(list_dict2['key1'])"
   ]
  },
  {
   "cell_type": "markdown",
   "metadata": {},
   "source": [
    "- 초기화 대상으로 다양한 데이터 타입을 지정할 수 있음"
   ]
  },
  {
   "cell_type": "code",
   "execution_count": 11,
   "metadata": {},
   "outputs": [
    {
     "name": "stdout",
     "output_type": "stream",
     "text": [
      "0\n"
     ]
    }
   ],
   "source": [
    "list_dict3 = defaultdict(int)\n",
    "print(list_dict3['key1'])"
   ]
  },
  {
   "cell_type": "code",
   "execution_count": 12,
   "metadata": {},
   "outputs": [
    {
     "name": "stdout",
     "output_type": "stream",
     "text": [
      "0.0\n"
     ]
    }
   ],
   "source": [
    "list_dict4 = defaultdict(float)\n",
    "print(list_dict4['key1'])"
   ]
  },
  {
   "cell_type": "code",
   "execution_count": 14,
   "metadata": {},
   "outputs": [
    {
     "name": "stdout",
     "output_type": "stream",
     "text": [
      "set()\n"
     ]
    }
   ],
   "source": [
    "list_dict5 = defaultdict(set)\n",
    "print(list_dict5['key1'])"
   ]
  },
  {
   "cell_type": "markdown",
   "metadata": {},
   "source": [
    "<br>\n",
    "\n",
    "### 19.4.3 프림 알고리즘 파이썬 코드\n",
    "\n",
    "0. 모든 간선 정보를 저장 (`adjacent_edges`)  \n",
    "  \n",
    "  \n",
    "1. 임의의 정점을 선택, \"연결된 노드 집합(`connected_nodes`)\"에 삽입  \n",
    "  \n",
    "  \n",
    "2. 선택된 정점에 연결된 간선들을 간선 리스트(`candidate_edge_list`)에 삽입  \n",
    "  \n",
    "  \n",
    "3. 간선 리스트(`candidate_edge_list`)에서 최소 가중치를 가지는 간선부터 추출\n",
    "  - 해당 간선에 연결된 인접 정점이 \"연결된 노드 집합\"에 이미 들어 있는 경우\n",
    "    - 스킵 (cycle 발생 방지)\n",
    "  - 해당 간선에 연결된 인접 정점이 \"연결된 노드 집합\"에 들어 있지 않는 경우\n",
    "    - 해당 간선을 선택\n",
    "    - 해당 간선 정보를 \"최소 신장 트리(`mst`)\"에 삽입\n",
    "  - 해당 간선에 연결된 인접 정점의 간선들 중, \"연결된 노드 집합(`connected_nodes`)\"에 없는 노드와 연결된 간선들만 간선 리스트(`candidate_edge_list`)\"에 삽입\n",
    "    - \"연결된 노드 집합(`connected_nodes`)에 있는 노드와 연결된 간선들을 간선 리스트에 삽입해도, 해당 간선은 스킵될 것이기 때문\n",
    "    - 어차피 스킵될 간선을 간선 리스트(`candidate_edge_list`)에 넣지 않으므로 해서, 간선 리스트(`candidate_edge_list`)에서 최소 가중치를 가지는 간선부터 추출하기 위한 자료구조 유지를 위한 노력을 줄일 수 있음  \n",
    "    (ex. 최소힙 구조 사용)  \n",
    "  \n",
    "  \n",
    "4. 선택된 간선은 간선 리스트에서 제거  \n",
    "  \n",
    "  \n",
    "5. 간선 리스트에 더 이상의 간선이 없을 때 까지 3-4번을 반복"
   ]
  },
  {
   "cell_type": "markdown",
   "metadata": {},
   "source": [
    "<img src=\"./img/prim-algorithm.jpg\" width=250 />"
   ]
  },
  {
   "cell_type": "code",
   "execution_count": 15,
   "metadata": {},
   "outputs": [],
   "source": [
    "myedges = [ # 중복된 간선들은 제외\n",
    "    (7, 'A', 'B'), (5, 'A', 'D'),\n",
    "    (8, 'B', 'C'), (9, 'B', 'D'), (7, 'B', 'E'),\n",
    "    (5, 'C', 'E'),\n",
    "    (7, 'D', 'E'), (6, 'D', 'F'),\n",
    "    (8, 'E', 'F'), (9, 'E', 'G'),\n",
    "    (11, 'F', 'G')\n",
    "]"
   ]
  },
  {
   "cell_type": "code",
   "execution_count": 18,
   "metadata": {},
   "outputs": [
    {
     "data": {
      "text/plain": [
       "defaultdict(list,\n",
       "            {'A': [(7, 'A', 'B'), (5, 'A', 'D')],\n",
       "             'B': [(7, 'B', 'A'), (8, 'B', 'C'), (9, 'B', 'D'), (7, 'B', 'E')],\n",
       "             'D': [(5, 'D', 'A'), (9, 'D', 'B'), (7, 'D', 'E'), (6, 'D', 'F')],\n",
       "             'C': [(8, 'C', 'B'), (5, 'C', 'E')],\n",
       "             'E': [(7, 'E', 'B'),\n",
       "              (5, 'E', 'C'),\n",
       "              (7, 'E', 'D'),\n",
       "              (8, 'E', 'F'),\n",
       "              (9, 'E', 'G')],\n",
       "             'F': [(6, 'F', 'D'), (8, 'F', 'E'), (11, 'F', 'G')],\n",
       "             'G': [(9, 'G', 'E'), (11, 'G', 'F')]})"
      ]
     },
     "execution_count": 18,
     "metadata": {},
     "output_type": "execute_result"
    }
   ],
   "source": [
    "# defaultdict 기능 확인\n",
    "from collections import defaultdict\n",
    "\n",
    "# 각각의 노드들을 key로 갖는 dict 생성\n",
    "# 해당 노드에 연결된 간선 리스트를 value로 가짐\n",
    "# defaultdict을 사용했으므로 각각의 key들을 모두 초기화해 줄 필요 없음\n",
    "# 특정 노드를 key값으로 입력하면 해당 노드와 연결된 모든 간선 리스트들이 반환됨\n",
    "adjacent_edges = defaultdict(list)\n",
    "\n",
    "for weight, n1, n2 in myedges:\n",
    "    adjacent_edges[n1].append((weight, n1, n2))\n",
    "    adjacent_edges[n2].append((weight, n2, n1))\n",
    "\n",
    "adjacent_edges"
   ]
  },
  {
   "cell_type": "code",
   "execution_count": 19,
   "metadata": {},
   "outputs": [],
   "source": [
    "from collections import defaultdict\n",
    "from heapq import * # heapify, heappush\n",
    "\n",
    "def prim(start_node, edges):\n",
    "    \n",
    "    # 최소 신장 트리 간선 리스트들을 저장할 변수 생성\n",
    "    mst = list()\n",
    "    \n",
    "    # 각각의 노드들을 key로 갖는 dict 생성\n",
    "    # 해당 노드에 연결된 간선 리스트를 value로 가짐\n",
    "    # defaultdict을 사용했으므로 각각의 key들을 모두 초기화해 줄 필요 없음\n",
    "    # 특정 노드를 key값으로 입력하면 해당 노드와 연결된 모든 간선 리스트들이 반환됨\n",
    "    adjacent_edges = defaultdict(list)\n",
    "    \n",
    "    # 각 노드별 간선 정보들을 adjacent_edges에 저장\n",
    "    for weight, n1, n2 in edges:\n",
    "        adjacent_edges[n1].append((weight, n1, n2))\n",
    "        adjacent_edges[n2].append((weight, n2, n1))\n",
    "        \n",
    "    # 임의의 정점(start_node)를 선택\n",
    "    # 선택된 정점을 연결된 노드 집합(connected_nodes)에 저장\n",
    "    connected_nodes = set(start_node)\n",
    "    \n",
    "    # 선택된 정점에 연결된 간선들(리스트 형태)을 간선 리스트(candidate_edge_list)에 저장\n",
    "    candidate_edge_list = adjacent_edges[start_node]\n",
    "    \n",
    "    # heapify를 이용하여 간선 리스트에 포함된 모든 간선들을 가중치 순으로 정렬\n",
    "    # 간선 리스트를 최소힙(MinHeap) 구조로 변경하는 과정\n",
    "    heapify(candidate_edge_list)\n",
    "    \n",
    "    # while문을 활용해 더 이상 간선이 없을 때 까지 반복\n",
    "    while candidate_edge_list:\n",
    "        \n",
    "        # 간선 리스트(candidate_edge_list)에서 최소 가중치를 갖는 간선부터 추출\n",
    "        # n1 : 원래의 정점\n",
    "        # n2 : 원래의 정점과 간선으로 연결된 인접 정점\n",
    "        weight, n1, n2 = heappop(candidate_edge_list)\n",
    "        \n",
    "        # 해당 간선에 연결된 인접 정점(n2)이 연결된 노드 집합(connected_nodes)에 들어 있지 않은 경우\n",
    "        # 사이클 발생 방지\n",
    "        if n2 not in connected_nodes:\n",
    "            \n",
    "            # 연결된 노드 집합(connected_nodes)에 인접 정점(n2) 삽입\n",
    "            connected_nodes.add(n2)\n",
    "            \n",
    "            # 최소 신장 트리에 해당 간선 정보 삽입\n",
    "            mst.append((weight, n1, n2))\n",
    "            \n",
    "            # 인점 정점에 연결된 모든 간선들 탐색\n",
    "            for edge in adjacent_edges[n2]:\n",
    "                \n",
    "                # 인점 정점에 연결된 모든 간선들에 연결된 인접 정점이\n",
    "                # 연결된 노드 집합(connected_nodes)에 들어 있지 않은 경우\n",
    "                if edge[2] not in connected_nodes:\n",
    "                    \n",
    "                    # 간선 리스트(candidate_edge_list)에 해당 간선들을 삽입\n",
    "                    heappush(candidate_edge_list, edge)\n",
    "                    \n",
    "                    # 연결된 노드 집합(connected_nodes)에 없는 노드와 연결된 간선들만 간선 리스트에 삽입함으로서\n",
    "                    # 어차피 스킵될 간선들을 간선 리스트에 삽입되는 것을 방지함\n",
    "                    \n",
    "    return mst"
   ]
  },
  {
   "cell_type": "code",
   "execution_count": 20,
   "metadata": {},
   "outputs": [
    {
     "data": {
      "text/plain": [
       "[(5, 'A', 'D'),\n",
       " (6, 'D', 'F'),\n",
       " (7, 'A', 'B'),\n",
       " (7, 'B', 'E'),\n",
       " (5, 'E', 'C'),\n",
       " (9, 'E', 'G')]"
      ]
     },
     "execution_count": 20,
     "metadata": {},
     "output_type": "execute_result"
    }
   ],
   "source": [
    "prim('A', myedges)"
   ]
  },
  {
   "cell_type": "markdown",
   "metadata": {},
   "source": [
    "<br>\n",
    "\n",
    "## 19.5 프림 알고리즘의 시간 복잡도\n",
    "\n",
    "- 최악의 경우\n",
    "  - while 구문에서 모든 간선에 대해 반복 $\\rightarrow$ $O(E)$\n",
    "  - 최소 힙 구조를 사용 $\\rightarrow$ $O(log E)$\n",
    "  - 총 $O(E log E)$ 시간 복잡도를 가짐"
   ]
  },
  {
   "cell_type": "markdown",
   "metadata": {},
   "source": [
    "<br>\n",
    "\n",
    "## 19.6 개선된 프림 알고리즘\n",
    "\n",
    "- 간선이 아닌 **노드를 중심으로 우선순위 큐를 적용**하는 방식  \n",
    "  \n",
    "  \n",
    "- 프림 알고리즘은 최악의 경우 간선의 수 만큼 반복된다.\n",
    "- 보통 간선($E$)의 수가 노드($V$)의 수 보다 많다.\n",
    "- 우선순위 큐에서 노드를 중심으로 반복함으로서 시간 복잡도를  개선할 수 있다."
   ]
  },
  {
   "cell_type": "markdown",
   "metadata": {},
   "source": [
    "<br>\n",
    "\n",
    "### 19.6.1 개선된 프림 알고리즘 로직\n",
    "\n",
    "- 개선된 프림 알고리즘은 각 노드마다 key값을 가지고 있다.\n",
    "- 이 key값을 가지고 우선순위 큐에서도 처리를 하고, 가중치가 작은 간선도 선택을 한다.  "
   ]
  },
  {
   "cell_type": "markdown",
   "metadata": {},
   "source": [
    "**초기화**\n",
    "\n",
    "- `정점:key` 구조를 만들어 놓음\n",
    "- 특정 정점을 선택\n",
    "- 특정 정점의 key값은 `0`으로 놓음\n",
    "- 특정 정점 이외의 정점들의 key값은 무한대(`inf`)로 놓음\n",
    "- 모든 `정점:key` 값은 우선순위 큐에 넣음"
   ]
  },
  {
   "cell_type": "markdown",
   "metadata": {},
   "source": [
    "**extract min 로직**\n",
    "\n",
    "- 가장 key값이 적은 `정점:key`를 추출\n",
    "- `pop` 하므로 해당 `정점:key` 정보는 우선순위 큐에서 삭제됨"
   ]
  },
  {
   "cell_type": "markdown",
   "metadata": {},
   "source": [
    "**decrease key 로직**\n",
    "\n",
    "- 해당 정점의 인접한 정점들에 대해 key값과 연결된 가중치 값을 비교\n",
    "- 연결된 가중치 값이 key값보다 작으면 해당 `정점:key`값을 갱신\n",
    "- `정점:key`값 갱신 시, 우선순위 큐는 최소 key값을 가지는 `정점:key`를 루트 노드로 올려놓도록 재구성함"
   ]
  },
  {
   "cell_type": "markdown",
   "metadata": {},
   "source": [
    "<br>\n",
    "\n",
    "### 19.6.2 개선된 프림 알고리즘 구현 시 고려 사항\n",
    "\n",
    "- 우선순위 큐(최소힙) 구조에서, 이미 들어가 있는 데이터의 값 변경 시, 최소값을 가지는 데이터를 루트 노드로 올려놓도록 재구성하는 기능이 필요함\n",
    "- 구현 복잡도를 줄이기 위해, `heapdict` 라이브러리를 통해 해당 기능을 간단히 구현"
   ]
  },
  {
   "cell_type": "markdown",
   "metadata": {},
   "source": [
    "<br>\n",
    "\n",
    "### 19.6.3 개선된 프림 알고리즘 구현"
   ]
  },
  {
   "cell_type": "code",
   "execution_count": 5,
   "metadata": {},
   "outputs": [],
   "source": [
    "from heapdict import heapdict\n",
    "\n",
    "def prim(graph, start):\n",
    "    \n",
    "    # 최소 신장 트리 저장 변수\n",
    "    mst = list()\n",
    "    \n",
    "    # \"노드:key\" 구조를 가진 우선순위 큐(최소힙) 생성\n",
    "    keys = heapdict()\n",
    "    \n",
    "    # 특정 노드의 key값 갱신 시, \n",
    "    # 어떤 노드와 연결된 가중치가 key값으로 갱신되는 지에 대한 정보를 저장\n",
    "    # ex) pi[\"B\"] = \"A\" : B 노드의 key값은 A 노드와 연결된 간선의 가중치 값으로 갱신된다.\n",
    "    pi = dict()\n",
    "    \n",
    "    # 프림 알고리즘의 목표 : 최소 가중치 구하기\n",
    "    # 최소 가중치를 나타내는 총 가중치를 저장하는 변수\n",
    "    total_weight = 0\n",
    "    \n",
    "    # 그래프에 있는 모든 노드들 추출\n",
    "    for node in graph.keys():\n",
    "        \n",
    "        # 모든 노드의 key값을 inf로 지정\n",
    "        keys[node] = float('inf')\n",
    "        pi[node] = None\n",
    "        \n",
    "    # 현재 선택된 임의 노드(start)의 key값을 0으로 지정\n",
    "    keys[start] = 0\n",
    "    pi[start] = start\n",
    "    \n",
    "    # 우선순위 큐에 데이터가 없을 때 까지 반복\n",
    "    while keys:\n",
    "        \n",
    "        # heapdict에서 데이터를 추출할 때는 popitem() 함수 사용\n",
    "        current_node, current_key = keys.popitem()\n",
    "        \n",
    "        # 최소 신장 트리에 해당 간선 정보 삽입\n",
    "        mst.append([pi[current_node], current_node, current_key])\n",
    "        \n",
    "        # 가중치 갱신\n",
    "        total_weight += current_key\n",
    "        \n",
    "        # 현재 노드에 연결된 노드들 추출\n",
    "        for adjacent, weight in graph[current_node].items():\n",
    "            \n",
    "            # 연결된 노드가 선택되지 않은 노드이고,\n",
    "            # 해당 노드의 key값보다 현재 노드와 해당 노드가 연결된 간선의 가중치 값이 더 작은 경우\n",
    "            if adjacent in keys and weight < keys[adjacent]:\n",
    "                \n",
    "                # key값을 간선의 가중치로 갱신\n",
    "                keys[adjacent] = weight\n",
    "                pi[adjacent] = current_node\n",
    "                \n",
    "    return mst, total_weight"
   ]
  },
  {
   "cell_type": "code",
   "execution_count": 6,
   "metadata": {},
   "outputs": [],
   "source": [
    "mygraph = {\n",
    "    'A': {'B': 7, 'D': 5}, # A-B의 가중치 = 7, A-D의 가중치 = 5\n",
    "    'B': {'A': 7, 'D': 9, 'C': 8, 'E': 7},\n",
    "    'C': {'B': 8, 'E': 5},\n",
    "    'D': {'A': 5, 'B': 9, 'E': 7, 'F': 6},\n",
    "    'E': {'B': 7, 'C': 5, 'D': 7, 'F': 8, 'G': 9},\n",
    "    'F': {'D': 6, 'E': 8, 'G': 11},\n",
    "    'G': {'E': 9, 'F': 11}    \n",
    "}"
   ]
  },
  {
   "cell_type": "code",
   "execution_count": 7,
   "metadata": {},
   "outputs": [
    {
     "name": "stdout",
     "output_type": "stream",
     "text": [
      "MST :  [['A', 'A', 0], ['A', 'D', 5], ['D', 'F', 6], ['A', 'B', 7], ['D', 'E', 7], ['E', 'C', 5], ['E', 'G', 9]]\n",
      "Total Weight :  39\n"
     ]
    }
   ],
   "source": [
    "mst, total_weight = prim(mygraph, 'A')\n",
    "print('MST : ', mst)\n",
    "print('Total Weight : ', total_weight)"
   ]
  },
  {
   "cell_type": "markdown",
   "metadata": {},
   "source": [
    "<br>\n",
    "\n",
    "### 19.6.4 개선된 프림 알고리즘의 시간 복잡도\n",
    "\n",
    "- 개선된 프림 알고리즘의 시간 복잡도 : $O(E log V)$"
   ]
  },
  {
   "cell_type": "markdown",
   "metadata": {},
   "source": [
    "- 최초 key 생성 시간 복잡도\n",
    "  - $O(V)$\n",
    "  - 노드($V$)의 개수 만큼 반복  \n",
    "  \n",
    "  \n",
    "-  while 구문과 `keys.popitem()`의 시간 복잡도\n",
    "  - $O(V log V)$\n",
    "  - while 구문은 $V$(노드 갯수)번 실행 됨 $\\rightarrow$ $O(V)$\n",
    "  - heap에서 최소 key 값을 가지는 노드 정보 추출(`keys.popitem()`) ->  $O(log V)$  \n",
    "  \n",
    "  \n",
    "- for 구문의 총 시간 복잡도\n",
    "  - $O(E log V)$\n",
    "  - for 구문은 while 구문 반복 시에 결과적으로 **총 최대 간선의 수 $E$ 만큼 실행** 가능 $\\rightarrow$ $O(E)$\n",
    "  - for 구문 안에서 key값 변경 시마다 heap 구조를 변경해야 하며, heap에는 최대 $V$개의 정보가 있음  $\\rightarrow$ $O(log V)$  \n",
    "  (key값 변경 후 key값이 가장 작은 노드를 루트 노드로 옮기는 과정)  \n",
    "  \n",
    "  \n",
    "- cf) decrease key 로직\n",
    "  - 일반적인 heap 자료 구조 자체에는 본래 heap 내부의 데이터 우선순위 변경 시, 최소 우선순위 데이터를 루트 노드로 만들어주는 로직은 없음\n",
    "  - 이를 decrease key 로직이라고 부름\n",
    "  - 해당 로직은 `heapdict` 라이브러리를 활용해서 간단히 적용 가능  \n",
    "  \n",
    "  \n",
    "- 총 시간 복잡도\n",
    "  - $O(V + V log V + E log V)$\n",
    "  - 빅 오 표기법에서는 가장 최악의 시간이 걸리는 부분이 전체를 대표한다.\n",
    "  - $O(V)$는 전체 시간 복잡도에 큰 영향을 미치지 않으므로 삭제\n",
    "  - $E > V$(최대 $V^2 = E$가 될 수 있음)  \n",
    "  $\\rightarrow$ $O((V+E) log V)$는 간단하게 $O(E log V)$로 나타낼 수 있음"
   ]
  }
 ],
 "metadata": {
  "kernelspec": {
   "display_name": "Python 3",
   "language": "python",
   "name": "python3"
  },
  "language_info": {
   "codemirror_mode": {
    "name": "ipython",
    "version": 3
   },
   "file_extension": ".py",
   "mimetype": "text/x-python",
   "name": "python",
   "nbconvert_exporter": "python",
   "pygments_lexer": "ipython3",
   "version": "3.8.10"
  }
 },
 "nbformat": 4,
 "nbformat_minor": 4
}
