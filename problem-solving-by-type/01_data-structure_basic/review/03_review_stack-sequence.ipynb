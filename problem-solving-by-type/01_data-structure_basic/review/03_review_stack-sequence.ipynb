{
 "cells": [
  {
   "cell_type": "markdown",
   "metadata": {},
   "source": [
    "# 3. 스택수열 (복습)"
   ]
  },
  {
   "cell_type": "markdown",
   "metadata": {},
   "source": [
    "## 3.1 구현 코드"
   ]
  },
  {
   "cell_type": "code",
   "execution_count": 6,
   "metadata": {},
   "outputs": [
    {
     "name": "stdin",
     "output_type": "stream",
     "text": [
      " 8\n",
      " 4\n",
      " 3\n",
      " 6\n",
      " 8\n",
      " 7\n",
      " 5\n",
      " 2\n",
      " 1\n"
     ]
    },
    {
     "name": "stdout",
     "output_type": "stream",
     "text": [
      "[4, 3, 6, 8, 7, 5, 2, 1]\n",
      "+\n",
      "+\n",
      "+\n",
      "+\n",
      "-\n",
      "-\n",
      "+\n",
      "+\n",
      "-\n",
      "+\n",
      "+\n",
      "-\n",
      "-\n",
      "-\n",
      "-\n",
      "-\n"
     ]
    }
   ],
   "source": [
    "N = int(input())\n",
    "dataList = []\n",
    "for _ in range(N):\n",
    "    dataList.append(int(input()))\n",
    "\n",
    "print(dataList)\n",
    "    \n",
    "num = 0\n",
    "stack = []\n",
    "result = []\n",
    "dataList2 = []\n",
    "\n",
    "for i in range(N):\n",
    "    data = dataList[i]\n",
    "    \n",
    "    while num < data:\n",
    "        num += 1\n",
    "        stack.append(num)\n",
    "        result.append('+')\n",
    "    \n",
    "    if data == stack[-1]:\n",
    "        dataList2.append(stack.pop())\n",
    "        result.append('-')\n",
    "        \n",
    "if dataList == dataList2:\n",
    "    print('\\n'.join(result))\n",
    "else:\n",
    "    print('NO')"
   ]
  },
  {
   "cell_type": "code",
   "execution_count": null,
   "metadata": {},
   "outputs": [],
   "source": []
  }
 ],
 "metadata": {
  "kernelspec": {
   "display_name": "Python 3",
   "language": "python",
   "name": "python3"
  },
  "language_info": {
   "codemirror_mode": {
    "name": "ipython",
    "version": 3
   },
   "file_extension": ".py",
   "mimetype": "text/x-python",
   "name": "python",
   "nbconvert_exporter": "python",
   "pygments_lexer": "ipython3",
   "version": "3.6.9"
  }
 },
 "nbformat": 4,
 "nbformat_minor": 4
}
