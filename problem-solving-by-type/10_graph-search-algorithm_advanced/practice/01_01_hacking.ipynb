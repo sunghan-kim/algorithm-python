{
 "cells": [
  {
   "cell_type": "markdown",
   "metadata": {},
   "source": [
    "# 1. 해킹 (복습)\n",
    "\n",
    "- [문제 설명 링크 : https://www.acmicpc.net/problem/10282](https://www.acmicpc.net/problem/10282)"
   ]
  },
  {
   "cell_type": "code",
   "execution_count": 1,
   "metadata": {},
   "outputs": [
    {
     "name": "stdin",
     "output_type": "stream",
     "text": [
      " 2\n",
      " 3 2 2\n",
      " 2 1 5\n",
      " 3 2 5\n"
     ]
    },
    {
     "name": "stdout",
     "output_type": "stream",
     "text": [
      "2 5\n"
     ]
    },
    {
     "name": "stdin",
     "output_type": "stream",
     "text": [
      " 3 3 1\n",
      " 2 1 2\n",
      " 3 1 8\n",
      " 3 2 4\n"
     ]
    },
    {
     "name": "stdout",
     "output_type": "stream",
     "text": [
      "3 6\n"
     ]
    }
   ],
   "source": [
    "import heapq\n",
    "\n",
    "def dijkstra(start):\n",
    "    queue = []\n",
    "    heapq.heappush(queue, (0, start))\n",
    "    distances[start] = 0\n",
    "    \n",
    "    while queue:\n",
    "        distance, node = heapq.heappop(queue)\n",
    "        if distances[node] < distance:\n",
    "            continue\n",
    "        for next_node, next_distance in graph[node]:\n",
    "            new_distance = distance + next_distance\n",
    "            if new_distance < distances[next_node]:\n",
    "                distances[next_node] = new_distance\n",
    "                heapq.heappush(queue, (new_distance, next_node))\n",
    "    \n",
    "test_case = int(input())\n",
    "\n",
    "for _ in range(test_case):\n",
    "    n, d, c = map(int, input().split())\n",
    "    graph = [[] for _ in range(n+1)]\n",
    "    distances = [1e9] * (n+1)\n",
    "    \n",
    "    for _ in range(d):\n",
    "        a, b, s = map(int, input().split())\n",
    "        graph[b].append((a, s))\n",
    "        \n",
    "    dijkstra(c)\n",
    "    \n",
    "    count = 0\n",
    "    max_distance = 0\n",
    "    \n",
    "    for distance in distances:\n",
    "        if distance != 1e9:\n",
    "            count += 1\n",
    "            if max_distance < distance:\n",
    "                max_distance = distance\n",
    "                \n",
    "    print(count, max_distance)"
   ]
  },
  {
   "cell_type": "code",
   "execution_count": null,
   "metadata": {},
   "outputs": [],
   "source": []
  }
 ],
 "metadata": {
  "kernelspec": {
   "display_name": "Python 3",
   "language": "python",
   "name": "python3"
  },
  "language_info": {
   "codemirror_mode": {
    "name": "ipython",
    "version": 3
   },
   "file_extension": ".py",
   "mimetype": "text/x-python",
   "name": "python",
   "nbconvert_exporter": "python",
   "pygments_lexer": "ipython3",
   "version": "3.6.9"
  }
 },
 "nbformat": 4,
 "nbformat_minor": 4
}
