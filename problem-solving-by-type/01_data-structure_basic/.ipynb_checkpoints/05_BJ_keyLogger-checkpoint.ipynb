{
 "cells": [
  {
   "cell_type": "markdown",
   "metadata": {},
   "source": [
    "# 5. 키로거\n",
    "\n",
    "- 난이도 : 중(Medium)\n",
    "- 유형 : 스택, 구현, 그리디\n",
    "- 추천 풀이 시간 : 40분\n",
    "- [문제 설명 링크 : https://www.acmicpc.net/problem/5397](https://www.acmicpc.net/problem/5397)"
   ]
  },
  {
   "cell_type": "markdown",
   "metadata": {},
   "source": [
    "<br>\n",
    "\n",
    "## 5.1 문제 설명"
   ]
  },
  {
   "cell_type": "markdown",
   "metadata": {},
   "source": [
    "### 5.1.1 문제\n",
    "\n",
    "창영이는 강산이의 비밀번호를 훔치기 위해서 강산이가 사용하는 컴퓨터에 키로거를 설치했다. 며칠을 기다린 끝에 창영이는 강산이가 비밀번호 창에 입력하는 글자를 얻어냈다.\n",
    "\n",
    "키로거는 사용자가 키보드를 누른 명령을 모두 기록한다. 따라서, 강산이가 비밀번호를 입력할 때, 화살표나 백스페이스를 입력해도 정확한 비밀번호를 알아낼 수 있다.\n",
    "\n",
    "강산이가 비밀번호 창에서 입력한 키가 주어졌을 때, 강산이의 비밀번호를 알아내는 프로그램을 작성하시오."
   ]
  },
  {
   "cell_type": "markdown",
   "metadata": {},
   "source": [
    "<br>\n",
    "\n",
    "### 5.1.2 입력\n",
    "\n",
    "첫째 줄에 테스트 케이스의 개수가 주어진다. 각 테스트 케이스는 한줄로 이루어져 있고, 강산이가 입력한 순서대로 길이가 L인 문자열이 주어진다. (1 ≤ L의 길이 ≤ 1,000,000) 강산이가 백스페이스를 입력했다면, '-'가 주어진다. 이때 커서의 바로 앞에 글자가 존재한다면, 그 글자를 지운다. 화살표의 입력은 '<'와 '>'로 주어진다. 이때는 커서의 위치를 움직일 수 있다면, 왼쪽 또는 오른쪽으로 1만큼 움직인다. 나머지 문자는 비밀번호의 일부이다. 물론, 나중에 백스페이스를 통해서 지울 수는 있다. 만약 커서의 위치가 줄의 마지막이 아니라면, 그 문자를 입력하고, 커서는 오른쪽으로 한 칸 이동한다."
   ]
  },
  {
   "cell_type": "markdown",
   "metadata": {},
   "source": [
    "<br>\n",
    "\n",
    "### 5.1.3 출력\n",
    "\n",
    "각 테스트 케이스에 대해서, 강산이의 비밀번호를 출력한다. 비밀번호의 길이는 항상 0보다 크다."
   ]
  },
  {
   "cell_type": "markdown",
   "metadata": {},
   "source": [
    "<br>\n",
    "\n",
    "### 5.1.4 입출력 예제\n",
    "\n",
    "**예제 입력 1**\n",
    "\n",
    "```\n",
    "2\n",
    "<<BP<A>>Cd-\n",
    "ThIsIsS3Cr3t\n",
    "```\n",
    "\n",
    "**예제 출력 1**\n",
    "\n",
    "```\n",
    "BAPC\n",
    "ThIsIsS3Cr3t\n",
    "```"
   ]
  },
  {
   "cell_type": "markdown",
   "metadata": {},
   "source": [
    "<br>\n",
    "\n",
    "## 5.2 직접 구현"
   ]
  },
  {
   "cell_type": "markdown",
   "metadata": {},
   "source": [
    "### 5.2.1 구현 시 참고 사항\n",
    "\n",
    "- `-`\n",
    "  - 백스페이스 입력\n",
    "  - 이 때 커서 앞에 글자가 존재하면 해당 글자 삭제  \n",
    "  \n",
    "  \n",
    "- `<`, `>`\n",
    "  - 화살표 입력\n",
    "  - 커서의 위치를 움직일 수 있다면 왼쪽, 오른쪽으로 1만큼 이동"
   ]
  },
  {
   "cell_type": "markdown",
   "metadata": {},
   "source": [
    "<br>\n",
    "\n",
    "### 5.2.2 실제 구현 코드 1\n",
    "\n",
    "- 시간 초과"
   ]
  },
  {
   "cell_type": "code",
   "execution_count": 61,
   "metadata": {},
   "outputs": [
    {
     "name": "stdin",
     "output_type": "stream",
     "text": [
      " 2\n",
      " <<BP<A>>Cd-\n"
     ]
    },
    {
     "name": "stdout",
     "output_type": "stream",
     "text": [
      "BAPC\n"
     ]
    },
    {
     "name": "stdin",
     "output_type": "stream",
     "text": [
      " ThIsIsS3Cr3t\n"
     ]
    },
    {
     "name": "stdout",
     "output_type": "stream",
     "text": [
      "ThIsIsS3Cr3t\n"
     ]
    }
   ],
   "source": [
    "test_case = int(input())\n",
    "\n",
    "for _ in range(test_case):\n",
    "    text = input()\n",
    "    word_list = [text[i] for i in range(len(text))]\n",
    "    \n",
    "    result_list = []\n",
    "    cursor_idx = 0\n",
    "    \n",
    "    for i in range(len(word_list)):\n",
    "        \n",
    "        if word_list[i] in ['<','>','-']:\n",
    "            if len(result_list) != 0:\n",
    "                if word_list[i] == '<':\n",
    "                    cursor_idx -= 1\n",
    "                elif word_list[i] == '>':\n",
    "                    cursor_idx += 1\n",
    "                    \n",
    "                if word_list[i] == '-':\n",
    "                    result_list.pop()\n",
    "                    cursor_idx -= 1\n",
    "\n",
    "        if word_list[i] not in ['<','>','-']:\n",
    "            result_list.insert(cursor_idx, word_list[i])\n",
    "            cursor_idx += 1\n",
    "            \n",
    "    print(''.join(result_list))"
   ]
  },
  {
   "cell_type": "markdown",
   "metadata": {},
   "source": [
    "## <br>\n",
    "\n",
    "### 5.2.3 실제 구현 코드 2\n",
    "\n",
    "- 런타임 에러"
   ]
  },
  {
   "cell_type": "code",
   "execution_count": 62,
   "metadata": {},
   "outputs": [
    {
     "name": "stdin",
     "output_type": "stream",
     "text": [
      " 2\n",
      " <<BP<A>>Cd-\n"
     ]
    },
    {
     "name": "stdout",
     "output_type": "stream",
     "text": [
      "BAPC\n"
     ]
    },
    {
     "name": "stdin",
     "output_type": "stream",
     "text": [
      " ThIsIsS3Cr3t\n"
     ]
    },
    {
     "name": "stdout",
     "output_type": "stream",
     "text": [
      "ThIsIsS3Cr3t\n"
     ]
    }
   ],
   "source": [
    "test_case = int(input())\n",
    "\n",
    "for _ in range(test_case):\n",
    "    text = input()\n",
    "    word_list = [text[i] for i in range(len(text))]\n",
    "    \n",
    "    result_list = []\n",
    "    cursor_idx = 0\n",
    "    \n",
    "    for i in range(len(word_list)):\n",
    "        \n",
    "        if word_list[i] in ['<','>']:\n",
    "            if len(result_list) != 0:\n",
    "                if word_list[i] == '<':\n",
    "                    cursor_idx -= 1\n",
    "                elif word_list[i] == '>' and cursor_idx < len(result_list):\n",
    "                    cursor_idx += 1\n",
    "        \n",
    "        if word_list[i] not in ['<','>']:\n",
    "            \n",
    "            if word_list[i] == '-':\n",
    "                cursor_idx -= 1\n",
    "                result_list.pop(cursor_idx)\n",
    "            else:\n",
    "                result_list.insert(cursor_idx, word_list[i])\n",
    "                if cursor_idx <= len(result_list):\n",
    "                    cursor_idx += 1\n",
    "            \n",
    "    print(''.join(result_list))"
   ]
  },
  {
   "cell_type": "markdown",
   "metadata": {},
   "source": [
    "<br>\n",
    "\n",
    "## 5.3 해설"
   ]
  },
  {
   "cell_type": "markdown",
   "metadata": {},
   "source": [
    "### 5.3.1 해설 내용\n",
    "\n",
    "- 문자열 크기가 최대 1,000,000 이므로, 시뮬레이션 방식으로는 문제를 해결할 수 없다.\n",
    "- 스택을 활용하여 선형 시간 문제를 해결할 수 있는 알고리즘을 설계한다.  \n",
    "  \n",
    "  \n",
    "- 스택 2개를 만들고, 스택 두 개의 중간 지점을 커서(Cursor)로 간주한다.\n",
    "- 문자 입력 : 왼쪽 스택에 원소 삽입\n",
    "- `-` 입력 : 왼쪽 스택에서 원소 삭제\n",
    "- `<` 입력 : 왼쪽 스택에서 오른쪽 스택으로 원소 이동\n",
    "- `>` 입력 : 오른쪽 스택에서 왼쪽 스택으로 원소 이동"
   ]
  },
  {
   "cell_type": "markdown",
   "metadata": {},
   "source": [
    "<br>\n",
    "\n",
    "### 5.3.2 해설 코드\n",
    "\n",
    "- 메모리 : 40884KB\n",
    "- 시간 : 1260ms"
   ]
  },
  {
   "cell_type": "code",
   "execution_count": 63,
   "metadata": {},
   "outputs": [
    {
     "name": "stdin",
     "output_type": "stream",
     "text": [
      " 2\n",
      " <<BP<A>>Cd-\n"
     ]
    },
    {
     "name": "stdout",
     "output_type": "stream",
     "text": [
      "BAPC\n"
     ]
    },
    {
     "name": "stdin",
     "output_type": "stream",
     "text": [
      " ThIsIsS3Cr3t\n"
     ]
    },
    {
     "name": "stdout",
     "output_type": "stream",
     "text": [
      "ThIsIsS3Cr3t\n"
     ]
    }
   ],
   "source": [
    "test_case = int(input())\n",
    "\n",
    "for _ in range(test_case):\n",
    "    left_stack = []\n",
    "    right_stack = []\n",
    "    data = input()\n",
    "    \n",
    "    for i in data:\n",
    "        if i == '-':\n",
    "            if left_stack:\n",
    "                left_stack.pop()\n",
    "        elif i == '<':\n",
    "            if left_stack:\n",
    "                right_stack.append(left_stack.pop())\n",
    "        elif i == '>':\n",
    "            if right_stack:\n",
    "                left_stack.append(right_stack.pop())\n",
    "        else:\n",
    "            left_stack.append(i)\n",
    "        \n",
    "    left_stack.extend(reversed(right_stack))\n",
    "    print(''.join(left_stack))"
   ]
  }
 ],
 "metadata": {
  "kernelspec": {
   "display_name": "Python 3",
   "language": "python",
   "name": "python3"
  },
  "language_info": {
   "codemirror_mode": {
    "name": "ipython",
    "version": 3
   },
   "file_extension": ".py",
   "mimetype": "text/x-python",
   "name": "python",
   "nbconvert_exporter": "python",
   "pygments_lexer": "ipython3",
   "version": "3.6.9"
  }
 },
 "nbformat": 4,
 "nbformat_minor": 4
}
