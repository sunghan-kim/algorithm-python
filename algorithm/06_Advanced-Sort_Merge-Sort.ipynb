{
 "cells": [
  {
   "cell_type": "markdown",
   "metadata": {},
   "source": [
    "# 6. 병합 정렬 (Merge Sort)"
   ]
  },
  {
   "cell_type": "markdown",
   "metadata": {},
   "source": [
    "## 6.1 병합 정렬(Merge Sort) 이란?\n",
    "\n",
    "- 재귀 용법을 활용한 정렬 알고리즘  \n",
    "  \n",
    "  \n",
    "1. 리스트를 절반으로 잘라 비슷한 크기의 두 부분 리스트로 나눈다.\n",
    "2. 각 부분 리스트를 재귀적으로 합병 정렬을 이용해 정렬한다.\n",
    "3. 두 부분 리스트를 다시 하나의 정렬된 리스트로 합병한다.  \n",
    "  \n",
    "  \n",
    "- [시뮬레이션 링크](https://visualgo.net/en/sorting)\n",
    "\n",
    "<img src=\"https://upload.wikimedia.org/wikipedia/commons/c/cc/Merge-sort-example-300px.gif\" width=500/>"
   ]
  },
  {
   "cell_type": "markdown",
   "metadata": {},
   "source": [
    "<br>\n",
    "\n",
    "## 6.2 병합 정렬 알고리즘 이해"
   ]
  },
  {
   "cell_type": "markdown",
   "metadata": {},
   "source": [
    "### 6.2.1 데이터가 4개일 때\n",
    "\n",
    "- 데이터 갯수에 따라 복잡도가 떨어지는 것이 아니다.\n",
    "- 그러므로 4개로 바로 로직을 이해해본다.  \n",
    "  \n",
    "  \n",
    "- ex) `data_list = [1, 9, 2, 3]`\n",
    "  - 먼저 데이터를 `[1, 9]`, `[3, 2]`로 나눈다.\n",
    "  - 다시 앞 부분은 `[1]`, `[9]`로 나눈다.\n",
    "  - 다시 정렬해서 합친다. (`[1, 9]`)\n",
    "  - 다음 `[3, 2]`를 `[3]`, `[2]`로 나눈다.\n",
    "  - 다시 정렬해서 합친다. (`[2, 3]`)\n",
    "  - 이제 `[1, 9]`와 `[2, 3]`을 합친다.\n",
    "    - `1 < 2` $\\rightarrow$ `[1]`\n",
    "    - `2 < 9` $\\rightarrow$ `[1, 2]`\n",
    "    - `9 > 3` $\\rightarrow$ `[1, 2, 3]`\n",
    "    - `9`밖에 없음 $\\rightarrow$ `[1, 2, 3, 9]`"
   ]
  },
  {
   "cell_type": "markdown",
   "metadata": {},
   "source": [
    "<br>\n",
    "\n",
    "## 6.3 알고리즘 구현"
   ]
  },
  {
   "cell_type": "markdown",
   "metadata": {},
   "source": [
    "### 6.3.1 `mergesplit()` 함수 만들기\n",
    "\n",
    "- 리스트의 개수가 1개 $\\rightarrow$ 해당 값 리턴\n",
    "- 리스트의 개수가 1개가 아님 $\\rightarrow$ 리스트를 앞뒤, 2개로 나누기\n",
    "  - `left = mergesplit[데이터 앞]`\n",
    "  - `right = mergesplit[데이터 뒤]`\n",
    "  - `merge(left, right)`"
   ]
  },
  {
   "cell_type": "markdown",
   "metadata": {},
   "source": [
    "<br>\n",
    "\n",
    "### 6.3.2 `merge()` 함수 만들기\n",
    "\n",
    "- 리스트 변수 하나 만듬 (`sorted`)\n",
    "- `left_index, right_index = 0`\n",
    "- `while left_index < len(left) or right_index < len(right):`\n",
    "  - 만약 `left_index`나 `right_index`가 이미 `left` 또는 `right` 리스트를 다 순회했다면, 그 반대쪽 데이터를 그대로 넣고, 해당 인덱스 `1` 증가\n",
    "  - `if left[left_index] < right[right_index]:`\n",
    "    - `sorted.append(left[left_index])`\n",
    "    - `left_index += 1`\n",
    "  - `else:`\n",
    "    - `sorted.append(right[right_index])`\n",
    "    - `right_index += 1`"
   ]
  },
  {
   "cell_type": "markdown",
   "metadata": {},
   "source": [
    "<br>\n",
    "\n",
    "## 6.4 `mergesplit()` 함수 만들기"
   ]
  },
  {
   "cell_type": "markdown",
   "metadata": {},
   "source": [
    "### 6.4.1 리스트 분할 함수 작성\n",
    "\n",
    "- 어떤 데이터 리스트가 있을 때 리스트를 앞뒤로 자르는 코드 작성 (일반화)"
   ]
  },
  {
   "cell_type": "code",
   "execution_count": 1,
   "metadata": {},
   "outputs": [],
   "source": [
    "def split_func(data):\n",
    "    medium = int(len(data) / 2)\n",
    "    print(medium)\n",
    "    left = data[:medium]\n",
    "    right = data[medium:]\n",
    "    print(left, right)"
   ]
  },
  {
   "cell_type": "code",
   "execution_count": 2,
   "metadata": {},
   "outputs": [
    {
     "name": "stdout",
     "output_type": "stream",
     "text": [
      "2\n",
      "[1, 5] [3, 2, 4]\n"
     ]
    }
   ],
   "source": [
    "split_func([1, 5, 3, 2, 4])"
   ]
  },
  {
   "cell_type": "markdown",
   "metadata": {},
   "source": [
    "<br>\n",
    "\n",
    "### 6.4.2 `mergesplit()` 함수 구현\n",
    "\n",
    "- 재귀용법을 활용"
   ]
  },
  {
   "cell_type": "code",
   "execution_count": 3,
   "metadata": {},
   "outputs": [],
   "source": [
    "def mergesplit(data):\n",
    "    if len(data) == 1:\n",
    "        return data\n",
    "    medium = int(len(data)/2)\n",
    "    left = mergesplit(data[:medium])\n",
    "    right = mergesplit(data[medium:])\n",
    "    return merge(left, right)"
   ]
  },
  {
   "cell_type": "markdown",
   "metadata": {},
   "source": [
    "<br>\n",
    "\n",
    "## 6.5 `merge()` 함수 만들기"
   ]
  },
  {
   "cell_type": "markdown",
   "metadata": {},
   "source": [
    "### 6.5.1 `left`, `right` 각각 데이터가 1개일 때"
   ]
  },
  {
   "cell_type": "code",
   "execution_count": 29,
   "metadata": {},
   "outputs": [],
   "source": [
    "def merge(left, right):\n",
    "    sorted_list = list()\n",
    "    small = \"\"\n",
    "    \n",
    "    if left[0] > right[0]:\n",
    "        sorted_list.append(right[0])\n",
    "        small = \"right\"\n",
    "    else:\n",
    "        sorted_list.append(left[0])\n",
    "        small = \"left\"\n",
    "        \n",
    "    if small == \"left\":\n",
    "        sorted_list.append(right[0])\n",
    "    else:\n",
    "        sorted_list.append(left[0])\n",
    "        \n",
    "    return sorted_list"
   ]
  },
  {
   "cell_type": "code",
   "execution_count": 30,
   "metadata": {},
   "outputs": [
    {
     "data": {
      "text/plain": [
       "[0, 3]"
      ]
     },
     "execution_count": 30,
     "metadata": {},
     "output_type": "execute_result"
    }
   ],
   "source": [
    "left = [0]\n",
    "right = [3]\n",
    "merge(left, right)"
   ]
  },
  {
   "cell_type": "markdown",
   "metadata": {},
   "source": [
    "<br>\n",
    "\n",
    "### 6.5.2 `left`, `right`의 데이터가 각각 2개, 1개일 때"
   ]
  },
  {
   "cell_type": "code",
   "execution_count": 31,
   "metadata": {},
   "outputs": [],
   "source": [
    "def merge(left, right):\n",
    "    sorted_list = list()\n",
    "    left_point, right_point = 0, 0\n",
    "    \n",
    "    while len(left) > left_point and len(right) > right_point:\n",
    "        if left[left_point] > right[right_point]:\n",
    "            sorted_list.append(right[right_point])\n",
    "            right_point += 1\n",
    "        else:\n",
    "            sorted_list.append(left[left_point])\n",
    "            left_point += 1\n",
    "            \n",
    "    while len(left) > left_point:\n",
    "        sorted_list.append(left[left_point])\n",
    "        left_point += 1\n",
    "        \n",
    "    while len(right) > right_point:\n",
    "        sorted_list.append(right[right_point])\n",
    "        right_point += 1\n",
    "            \n",
    "    return sorted_list"
   ]
  },
  {
   "cell_type": "code",
   "execution_count": 32,
   "metadata": {},
   "outputs": [
    {
     "data": {
      "text/plain": [
       "[0, 1, 2]"
      ]
     },
     "execution_count": 32,
     "metadata": {},
     "output_type": "execute_result"
    }
   ],
   "source": [
    "left = [0, 2]\n",
    "right = [1]\n",
    "\n",
    "merge(left, right)"
   ]
  },
  {
   "cell_type": "markdown",
   "metadata": {},
   "source": [
    "<br>\n",
    "\n",
    "### 6.5.3 `left`, `right`의 데이터가 각각 2개일 때"
   ]
  },
  {
   "cell_type": "code",
   "execution_count": 33,
   "metadata": {},
   "outputs": [],
   "source": [
    "def merge(left, right):\n",
    "    sorted_list = list()\n",
    "    left_point, right_point = 0, 0\n",
    "    \n",
    "    while len(left) > left_point and len(right) > right_point:\n",
    "        if left[left_point] > right[right_point]:\n",
    "            sorted_list.append(right[right_point])\n",
    "            right_point += 1\n",
    "        else:\n",
    "            sorted_list.append(left[left_point])\n",
    "            left_point += 1\n",
    "            \n",
    "    while len(left) > left_point:\n",
    "        sorted_list.append(left[left_point])\n",
    "        left_point += 1\n",
    "        \n",
    "    while len(right) > right_point:\n",
    "        sorted_list.append(right[right_point])\n",
    "        right_point += 1\n",
    "            \n",
    "    return sorted_list"
   ]
  },
  {
   "cell_type": "code",
   "execution_count": 34,
   "metadata": {},
   "outputs": [
    {
     "data": {
      "text/plain": [
       "[0, 1, 2, 3]"
      ]
     },
     "execution_count": 34,
     "metadata": {},
     "output_type": "execute_result"
    }
   ],
   "source": [
    "left = [0, 2]\n",
    "right = [1, 3]\n",
    "\n",
    "merge(left, right)"
   ]
  },
  {
   "cell_type": "markdown",
   "metadata": {},
   "source": [
    "<br>\n",
    "\n",
    "### 6.5.4 일반화\n",
    "\n",
    "- `left`, `right` 리스트 변수의 데이터 수가 한 개에서 여러 개가 될 수 있을 때 작성 (일반화)  \n",
    "  \n",
    "  \n",
    "1. `sorted_list` 리스트 변수 선언\n",
    "2. `left_index`, `right_index` 를 `0`으로 초기화\n",
    "3. `while left_index < len(left) and right_index < len(right)` 이면\n",
    "  - 만약 `left_index >= len(left)` 이면\n",
    "    - `sorted_list`에 `right[right_index]`를 추가\n",
    "    - `right_index` 값을 1 증가\n",
    "  - 만약 `right_index >= len(right)` 이면\n",
    "    - `sorted_list`에 `left[left_index]`를 추가\n",
    "    - `left_index` 값을 1 증가\n",
    "  - 만약 `left[left_index] < right[right_index]`이면\n",
    "    - `sorted_list`에 `left[left_index]`를 추가\n",
    "    - `left_index` 값을 1 증가\n",
    "  - 위 3가지가 아니면\n",
    "    - `sorted_list`에 `right[right_index]`를 추가\n",
    "    - `right_index` 값을 1 증가"
   ]
  },
  {
   "cell_type": "markdown",
   "metadata": {},
   "source": [
    "<br>\n",
    "\n",
    "### 6.5.5 `merge()` 함수 구현\n",
    "\n",
    "- 목표 : `left`와 `right`의 리스트 데이터를 정렬해서 `sorted_list` 라는 이름으로 리턴하기\n",
    "- `left`와 `right`는 이미 정렬된 상태 또는 데이터가 하나이다."
   ]
  },
  {
   "cell_type": "code",
   "execution_count": 11,
   "metadata": {},
   "outputs": [],
   "source": [
    "def merge(left, right):\n",
    "    merged = list()\n",
    "    left_point, right_point = 0, 0\n",
    "    \n",
    "    # case 1 - left/right 둘 다 있을 때\n",
    "    while len(left) > left_point and len(right) > right_point:\n",
    "        if left[left_point] > right[right_point]:\n",
    "            merged.append(right[right_point])\n",
    "            right_point += 1\n",
    "        else:\n",
    "            merged.append(left[left_point])\n",
    "            left_point += 1\n",
    "            \n",
    "    # case 2 - left 데이터가 없을 때\n",
    "    while len(left) > left_point:\n",
    "        merged.append(left[left_point])\n",
    "        left_append += 1\n",
    "        \n",
    "    # case 3 - right 데이터가 없을 때\n",
    "    while len(right) > right_point:\n",
    "        merged.append(right[right_point])\n",
    "        right_point += 1\n",
    "    \n",
    "    return merged"
   ]
  },
  {
   "cell_type": "markdown",
   "metadata": {},
   "source": [
    "<br>\n",
    "\n",
    "## 6.6 최종 코드"
   ]
  },
  {
   "cell_type": "code",
   "execution_count": 23,
   "metadata": {},
   "outputs": [],
   "source": [
    "def merge(left, right):\n",
    "    merged = list()\n",
    "    left_point, right_point = 0, 0\n",
    "    \n",
    "    # case 1 - left/right 둘 다 있을 때\n",
    "    while len(left) > left_point and len(right) > right_point:\n",
    "        if left[left_point] > right[right_point]:\n",
    "            merged.append(right[right_point])\n",
    "            right_point += 1\n",
    "        else:\n",
    "            merged.append(left[left_point])\n",
    "            left_point += 1\n",
    "        \n",
    "    # case 2 - left 데이터가 없을 때\n",
    "    while len(left) > left_point:\n",
    "        merged.append(left[left_point])\n",
    "        left_point += 1\n",
    "    \n",
    "    # case 3 - right 데이터가 없을 때\n",
    "    while len(right) > right_point:\n",
    "        merged.append(right[right_point])\n",
    "        right_point += 1\n",
    "        \n",
    "    return merged\n",
    "\n",
    "def mergesplit(data):\n",
    "    if len(data) <= 1:\n",
    "        return data\n",
    "    medium = int(len(data) / 2)\n",
    "    left = mergesplit(data[:medium])\n",
    "    right = mergesplit(data[medium:])\n",
    "    return merge(left, right)"
   ]
  },
  {
   "cell_type": "code",
   "execution_count": 36,
   "metadata": {},
   "outputs": [
    {
     "name": "stdout",
     "output_type": "stream",
     "text": [
      "[64, 28, 91, 63, 20, 70, 7, 98, 71, 39]\n"
     ]
    },
    {
     "data": {
      "text/plain": [
       "[7, 20, 28, 39, 63, 64, 70, 71, 91, 98]"
      ]
     },
     "execution_count": 36,
     "metadata": {},
     "output_type": "execute_result"
    }
   ],
   "source": [
    "import random\n",
    "\n",
    "data_list = random.sample(range(100), 10)\n",
    "print(data_list)\n",
    "mergesplit(data_list)"
   ]
  },
  {
   "cell_type": "code",
   "execution_count": 22,
   "metadata": {},
   "outputs": [
    {
     "data": {
      "text/plain": [
       "[27, 28, 42, 50, 56, 60, 64, 67, 82, 89]"
      ]
     },
     "execution_count": 22,
     "metadata": {},
     "output_type": "execute_result"
    }
   ],
   "source": [
    "mergesplit(data_list)"
   ]
  },
  {
   "cell_type": "markdown",
   "metadata": {},
   "source": [
    "<br>\n",
    "\n",
    "## 6.7 알고리즘 분석\n",
    "\n",
    "- 알고리즘 분석은 쉽지 않다. (참고적으로만 알고 있으면 된다.)  \n",
    "  \n",
    "  \n",
    "- 다음을 보고 이해해보자.  \n",
    "  \n",
    "<img src=\"https://www.fun-coding.org/00_Images/mergesortcomplexity.png\" />\n",
    "  \n",
    "- 몇 단계 깊이까지 만들어지는 지 = `depth`\n",
    "- 이 `depth`를 `i`로 놓자.\n",
    "- 맨 위 단계는 `0`으로 놓자.  \n",
    "  \n",
    "  \n",
    "- 위의 그림에서 $n / 2^2$는 2단계 깊이라고 해보자.\n",
    "- 각 단계에 있는 하나의 노드 안의 리스트 길이는 $n / 2^2$가 된다.\n",
    "- 각 단계에는 $2^i$개의 노드가 있다.\n",
    "- 따라서, 각 단계는 항상 $2^i \\times \\frac{n}{2^i} = O(n)$  \n",
    "  \n",
    "  \n",
    "- 단계는 항상 $log_2 n$개 만큼 만들어진다.\n",
    "- 시간 복잡도는 결국 $O(log n)$\n",
    "- 2는 역시 상수이므로 삭제\n",
    "- 따라서, 단계별 시간 복잡도 : $O(n) \\times O(log n) = O(n log n)$"
   ]
  }
 ],
 "metadata": {
  "kernelspec": {
   "display_name": "Python 3",
   "language": "python",
   "name": "python3"
  },
  "language_info": {
   "codemirror_mode": {
    "name": "ipython",
    "version": 3
   },
   "file_extension": ".py",
   "mimetype": "text/x-python",
   "name": "python",
   "nbconvert_exporter": "python",
   "pygments_lexer": "ipython3",
   "version": "3.6.9"
  }
 },
 "nbformat": 4,
 "nbformat_minor": 4
}
