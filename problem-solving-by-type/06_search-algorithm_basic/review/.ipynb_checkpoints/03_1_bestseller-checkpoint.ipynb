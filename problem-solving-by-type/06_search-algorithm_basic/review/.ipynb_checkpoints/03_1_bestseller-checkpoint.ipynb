{
 "cells": [
  {
   "cell_type": "markdown",
   "metadata": {},
   "source": [
    "# 3. 베스트셀러"
   ]
  },
  {
   "cell_type": "code",
   "execution_count": 3,
   "metadata": {},
   "outputs": [
    {
     "name": "stdin",
     "output_type": "stream",
     "text": [
      " 5\n",
      " top\n",
      " top\n",
      " top\n",
      " top\n",
      " kimtop\n"
     ]
    },
    {
     "name": "stdout",
     "output_type": "stream",
     "text": [
      "{'kimtop': 1, 'top': 4}\n"
     ]
    }
   ],
   "source": [
    "n = int(input())\n",
    "array = []\n",
    "\n",
    "for _ in range(n):\n",
    "    array.append(input())\n",
    "    \n",
    "books = {b : 0 for b in list(set(array))}\n",
    "\n",
    "for book in array:\n",
    "    books[book] += 1\n",
    "\n",
    "books = sorted(books, key=lambda x: x[1])\n",
    "p"
   ]
  },
  {
   "cell_type": "code",
   "execution_count": 4,
   "metadata": {},
   "outputs": [
    {
     "name": "stdin",
     "output_type": "stream",
     "text": [
      " 5\n",
      " top\n",
      " top\n",
      " top\n",
      " top\n",
      " kimtop\n"
     ]
    },
    {
     "name": "stdout",
     "output_type": "stream",
     "text": [
      "top\n"
     ]
    }
   ],
   "source": [
    "n = int(input())\n",
    "\n",
    "books = {}\n",
    "\n",
    "for _ in range(n):\n",
    "    book = input()\n",
    "    if book not in books:\n",
    "        books[book] = 1\n",
    "    else:\n",
    "        books[book] += 1\n",
    "        \n",
    "max_count = max(books.values())\n",
    "array = []\n",
    "\n",
    "for book in books.keys():\n",
    "    if books[book] == max_count:\n",
    "        array.append(book)\n",
    "        \n",
    "print(sorted(array)[0])"
   ]
  }
 ],
 "metadata": {
  "kernelspec": {
   "display_name": "Python 3",
   "language": "python",
   "name": "python3"
  },
  "language_info": {
   "codemirror_mode": {
    "name": "ipython",
    "version": 3
   },
   "file_extension": ".py",
   "mimetype": "text/x-python",
   "name": "python",
   "nbconvert_exporter": "python",
   "pygments_lexer": "ipython3",
   "version": "3.6.9"
  }
 },
 "nbformat": 4,
 "nbformat_minor": 4
}
