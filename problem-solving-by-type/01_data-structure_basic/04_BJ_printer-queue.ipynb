{
 "cells": [
  {
   "cell_type": "markdown",
   "metadata": {},
   "source": [
    "# 4. 프린터 큐\n",
    "\n",
    "- 난이도 : 하(Easy)\n",
    "- 유형 : 큐, 구현, 그리디\n",
    "- 추천 풀이 시간 : 25분\n",
    "- [문제 설명 링크 : https://www.acmicpc.net/problem/1966](https://www.acmicpc.net/problem/1966)"
   ]
  },
  {
   "cell_type": "markdown",
   "metadata": {},
   "source": [
    "<br>\n",
    "\n",
    "## 4.1 문제 설명"
   ]
  },
  {
   "cell_type": "markdown",
   "metadata": {},
   "source": [
    "### 4.1.1 문제\n",
    "\n",
    "여러분도 알다시피 여러분의 프린터 기기는 여러분이 인쇄하고자 하는 문서를 인쇄 명령을 받은 ‘순서대로’, 즉 먼저 요청된 것을 먼저 인쇄한다. 여러 개의 문서가 쌓인다면 Queue 자료구조에 쌓여서 FIFO - First In First Out - 에 따라 인쇄가 되게 된다. 하지만 상근이는 새로운 프린터기 내부 소프트웨어를 개발하였는데, 이 프린터기는 다음과 같은 조건에 따라 인쇄를 하게 된다.\n",
    "\n",
    "1. 현재 Queue의 가장 앞에 있는 문서의 ‘중요도’를 확인한다.\n",
    "2. 나머지 문서들 중 현재 문서보다 중요도가 높은 문서가 하나라도 있다면, 이 문서를 인쇄하지 않고 Queue의 가장 뒤에 재배치 한다. 그렇지 않다면 바로 인쇄를 한다.\n",
    "\n",
    "예를 들어 Queue에 4개의 문서(A B C D)가 있고, 중요도가 2 1 4 3 라면 C를 인쇄하고, 다음으로 D를 인쇄하고 A, B를 인쇄하게 된다.\n",
    "\n",
    "여러분이 할 일은, 현재 Queue에 있는 문서의 수와 중요도가 주어졌을 때, 어떤 한 문서가 몇 번째로 인쇄되는지 알아내는 것이다. 예를 들어 위의 예에서 C문서는 1번째로, A문서는 3번째로 인쇄되게 된다."
   ]
  },
  {
   "cell_type": "markdown",
   "metadata": {},
   "source": [
    "<br>\n",
    "\n",
    "### 4.1.2 입력\n",
    "\n",
    "첫 줄에 test case의 수가 주어진다. 각 test case에 대해서 문서의 수 N(100이하)와 몇 번째로 인쇄되었는지 궁금한 문서가 현재 Queue의 어떤 위치에 있는지를 알려주는 M(0이상 N미만)이 주어진다. 다음줄에 N개 문서의 중요도가 주어지는데, 중요도는 1 이상 9 이하이다. 중요도가 같은 문서가 여러 개 있을 수도 있다. 위의 예는 N=4, M=0(A문서가 궁금하다면), 중요도는 2 1 4 3이 된다."
   ]
  },
  {
   "cell_type": "markdown",
   "metadata": {},
   "source": [
    "<br>\n",
    "\n",
    "### 4.1.3 출력\n",
    "\n",
    "각 test case에 대해 문서가 몇 번째로 인쇄되는지 출력한다."
   ]
  },
  {
   "cell_type": "markdown",
   "metadata": {},
   "source": [
    "<br>\n",
    "\n",
    "### 4.1.4 입출력 예제\n",
    "\n",
    "**예제 입력 1**\n",
    "\n",
    "```\n",
    "3\n",
    "1 0\n",
    "5\n",
    "4 2\n",
    "1 2 3 4\n",
    "6 0\n",
    "1 1 9 1 1 1\n",
    "```\n",
    "\n",
    "**예제 출력 1**\n",
    "\n",
    "```\n",
    "1\n",
    "2\n",
    "5\n",
    "```"
   ]
  },
  {
   "cell_type": "markdown",
   "metadata": {},
   "source": [
    "<br>\n",
    "\n",
    "## 4.2 직접 구현"
   ]
  },
  {
   "cell_type": "markdown",
   "metadata": {},
   "source": [
    "### 4.2.1 실제 구현 코드\n",
    "\n",
    "- 메모리 : 29380KB\n",
    "- 시간 : 80ms"
   ]
  },
  {
   "cell_type": "code",
   "execution_count": 2,
   "metadata": {},
   "outputs": [
    {
     "name": "stdin",
     "output_type": "stream",
     "text": [
      " 3\n",
      " 1 0\n",
      " 5\n"
     ]
    },
    {
     "name": "stdout",
     "output_type": "stream",
     "text": [
      "1\n"
     ]
    },
    {
     "name": "stdin",
     "output_type": "stream",
     "text": [
      " 4 2\n",
      " 1 2 3 4\n"
     ]
    },
    {
     "name": "stdout",
     "output_type": "stream",
     "text": [
      "2\n"
     ]
    },
    {
     "name": "stdin",
     "output_type": "stream",
     "text": [
      " 6 0\n",
      " 1 1 9 1 1 1\n"
     ]
    },
    {
     "name": "stdout",
     "output_type": "stream",
     "text": [
      "5\n"
     ]
    }
   ],
   "source": [
    "case = int(input())\n",
    "\n",
    "for _ in range(case):\n",
    "    # \n",
    "    N, M = map(int, input().split())\n",
    "    print_list = list(map(int, input().split()))\n",
    "    prior_number = []\n",
    "    \n",
    "    # 우선 순위를 탐색하기 위한 리스트\n",
    "    for doc in print_list:\n",
    "        prior_number.append(doc)\n",
    "        \n",
    "    # 큐 안에 index를 넣어 탐색\n",
    "    result = [0 for _ in range(N)]\n",
    "    queue = [i for i in range(N)]\n",
    "    sequence = 1\n",
    "    \n",
    "    while queue:\n",
    "        if print_list[queue[0]] == max(prior_number):\n",
    "            prior_number.remove(max(prior_number))\n",
    "            result[queue.pop(0)] = sequence\n",
    "            sequence += 1\n",
    "        else:\n",
    "            queue.append(queue.pop(0))\n",
    "    \n",
    "    print(result[M])"
   ]
  },
  {
   "cell_type": "markdown",
   "metadata": {},
   "source": [
    "<br>\n",
    "\n",
    "## 4.3 해설"
   ]
  },
  {
   "cell_type": "markdown",
   "metadata": {},
   "source": [
    "### 4.3.1 해설 내용\n",
    "\n",
    "- 데이터의 개수(N <= 100)가 많지 않으므로, 단순히 문제에서 요구하는 대로 구현한다.\n",
    "- 현재 리스트에서 가장 큰 수가 앞에 올 때까지 회전시킨 뒤에 추출한다.\n",
    "- 가장 큰 수가 M이면서 가장 앞에 있을 때 프로그램을 종료한다."
   ]
  },
  {
   "cell_type": "markdown",
   "metadata": {},
   "source": [
    "<br>\n",
    "\n",
    "### 4.3.2 해설 코드\n",
    "\n",
    "- 메모리 : 29380KB\n",
    "- 시간 : 112ms"
   ]
  },
  {
   "cell_type": "code",
   "execution_count": 1,
   "metadata": {},
   "outputs": [
    {
     "name": "stdin",
     "output_type": "stream",
     "text": [
      " 3\n",
      " 1 0\n",
      " 5\n"
     ]
    },
    {
     "name": "stdout",
     "output_type": "stream",
     "text": [
      "1\n"
     ]
    },
    {
     "name": "stdin",
     "output_type": "stream",
     "text": [
      " 4 2\n",
      " 1 2 3 4\n"
     ]
    },
    {
     "name": "stdout",
     "output_type": "stream",
     "text": [
      "2\n"
     ]
    },
    {
     "name": "stdin",
     "output_type": "stream",
     "text": [
      " 6 0\n",
      " 1 1 9 1 1 1\n"
     ]
    },
    {
     "name": "stdout",
     "output_type": "stream",
     "text": [
      "5\n"
     ]
    }
   ],
   "source": [
    "test_case = int(input())\n",
    "\n",
    "for _ in range(test_case):\n",
    "    n, m = list(map(int, input().split(' ')))\n",
    "    queue = list(map(int, input().split(' ')))\n",
    "    queue = [(i, idx) for idx, i in enumerate(queue)] # (우선순위, 인덱스)\n",
    "    \n",
    "    # count : 현재 출력된 문서의 개수\n",
    "    count = 0\n",
    "    while True:\n",
    "        # queue[0][0] : 가장 앞 쪽에 있는 원소의 중요도\n",
    "        # max(queue, key=lambda x: x[0]) : 큐에서 중요도가 가장 큰 원소의 중요도\n",
    "        # 가장 앞 쪽에 있는 원소의 중요도가 큐에서 중요도가 가장 큰 원소의 중요도와 같을 경우\n",
    "        if queue[0][0] == max(queue, key=lambda x: x[0])[0]:\n",
    "            # 출력된 문서의 개수 증가\n",
    "            count += 1\n",
    "            \n",
    "            # 출력되는 원소의 인덱스가 M과 동일한 경우\n",
    "            if queue[0][1] == m:\n",
    "                # 출력 및 while문 종료\n",
    "                print(count)\n",
    "                break\n",
    "            else: # 출력되는 원소의 인덱스가 M과 동일하지 않은 경우\n",
    "                # 큐에서 해당 원소(맨 앞에 있으면서 중요도가 가장 큰 원소) 제거\n",
    "                queue.pop(0)\n",
    "        else: # 맨 앞에 있는 원소의 중요도가 큐에서 가장 큰 중요도와 같지 않을 경우\n",
    "            # 큐의 맨 앞에 있는 원소를 맨 뒤로 이동\n",
    "            queue.append(queue.pop(0))"
   ]
  }
 ],
 "metadata": {
  "kernelspec": {
   "display_name": "Python 3",
   "language": "python",
   "name": "python3"
  },
  "language_info": {
   "codemirror_mode": {
    "name": "ipython",
    "version": 3
   },
   "file_extension": ".py",
   "mimetype": "text/x-python",
   "name": "python",
   "nbconvert_exporter": "python",
   "pygments_lexer": "ipython3",
   "version": "3.6.9"
  }
 },
 "nbformat": 4,
 "nbformat_minor": 4
}
