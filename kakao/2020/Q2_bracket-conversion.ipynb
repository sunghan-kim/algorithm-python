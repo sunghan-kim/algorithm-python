{
 "cells": [
  {
   "cell_type": "markdown",
   "metadata": {},
   "source": [
    "# 2. 괄호 변환"
   ]
  },
  {
   "cell_type": "code",
   "execution_count": 1,
   "metadata": {},
   "outputs": [],
   "source": [
    "data = [\n",
    "    \"(()())()\", # \"(()())()\"\n",
    "    \")(\",       # \"()\"\n",
    "    \"()))((()\"  # \"()(())()\"\n",
    "]"
   ]
  },
  {
   "cell_type": "code",
   "execution_count": 4,
   "metadata": {},
   "outputs": [],
   "source": [
    "def solution(p):\n",
    "    return makeCorrect(p)\n",
    "\n",
    "def makeCorrect(w):\n",
    "    if w == \"\":\n",
    "        return w\n",
    "    \n",
    "    cut = division(w)\n",
    "    u = w[:cut]\n",
    "    v = w[cut:]\n",
    "    \n",
    "    if (isCorrect(u)):\n",
    "        return u + makeCorrect(v)\n",
    "    else:\n",
    "        temp = '(' + makeCorrect(v) + ')'\n",
    "        u = u[1:-1]\n",
    "        u = reverse(u)\n",
    "        return temp + u\n",
    "    \n",
    "def division(w):\n",
    "    openCnt, closeCnt = 0, 0\n",
    "    idx = 0;\n",
    "    for i in range(len(w)):\n",
    "        if w[i] == '(':\n",
    "            openCnt += 1\n",
    "        else:\n",
    "            closeCnt += 1\n",
    "        if openCnt == closeCnt:\n",
    "            return idx+1;\n",
    "        idx += 1\n",
    "        \n",
    "    return idx\n",
    "\n",
    "def isCorrect(u):\n",
    "    cnt = 0\n",
    "    for i in range(len(u)):\n",
    "        if u[i] == '(':\n",
    "            cnt += 1\n",
    "        else:\n",
    "            cnt -= 1\n",
    "        if cnt < 0:\n",
    "            return False;\n",
    "    return cnt == 0\n",
    "\n",
    "def reverse(u):\n",
    "    result = ''\n",
    "    for i in range(len(u)):\n",
    "        if u[i] == '(':\n",
    "            result += ')'\n",
    "        else:\n",
    "            result += '('\n",
    "    return result"
   ]
  },
  {
   "cell_type": "code",
   "execution_count": 5,
   "metadata": {},
   "outputs": [
    {
     "name": "stdout",
     "output_type": "stream",
     "text": [
      "(()())()\n",
      "()\n",
      "()(())()\n"
     ]
    }
   ],
   "source": [
    "for ex in data:\n",
    "    print(solution(ex))"
   ]
  }
 ],
 "metadata": {
  "kernelspec": {
   "display_name": "Python 3",
   "language": "python",
   "name": "python3"
  },
  "language_info": {
   "codemirror_mode": {
    "name": "ipython",
    "version": 3
   },
   "file_extension": ".py",
   "mimetype": "text/x-python",
   "name": "python",
   "nbconvert_exporter": "python",
   "pygments_lexer": "ipython3",
   "version": "3.8.10"
  }
 },
 "nbformat": 4,
 "nbformat_minor": 4
}
