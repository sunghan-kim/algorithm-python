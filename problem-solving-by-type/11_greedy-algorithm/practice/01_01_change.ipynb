{
 "cells": [
  {
   "cell_type": "markdown",
   "metadata": {},
   "source": [
    "# 1. 거스름돈 (복습)\n",
    "\n",
    "- [문제 설명 링크 : https://www.acmicpc.net/problem/5585](https://www.acmicpc.net/problem/5585)"
   ]
  },
  {
   "cell_type": "code",
   "execution_count": 1,
   "metadata": {},
   "outputs": [
    {
     "name": "stdin",
     "output_type": "stream",
     "text": [
      " 380\n"
     ]
    },
    {
     "name": "stdout",
     "output_type": "stream",
     "text": [
      "4\n"
     ]
    }
   ],
   "source": [
    "changes = 1000 - int(input())\n",
    "\n",
    "count = 0\n",
    "\n",
    "for coin in [500, 100, 50, 10, 5, 1]:\n",
    "    cnt = changes // coin\n",
    "    count += cnt\n",
    "    changes -= coin * cnt\n",
    "    \n",
    "print(count)"
   ]
  }
 ],
 "metadata": {
  "kernelspec": {
   "display_name": "Python 3",
   "language": "python",
   "name": "python3"
  },
  "language_info": {
   "codemirror_mode": {
    "name": "ipython",
    "version": 3
   },
   "file_extension": ".py",
   "mimetype": "text/x-python",
   "name": "python",
   "nbconvert_exporter": "python",
   "pygments_lexer": "ipython3",
   "version": "3.6.9"
  }
 },
 "nbformat": 4,
 "nbformat_minor": 4
}
