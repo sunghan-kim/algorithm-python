{
 "cells": [
  {
   "cell_type": "markdown",
   "metadata": {},
   "source": [
    "# 1. 버블 정렬 (bubble sort)"
   ]
  },
  {
   "cell_type": "markdown",
   "metadata": {},
   "source": [
    "## 1.1 정렬(sorting) 이란?\n",
    "\n",
    "- 정렬(sorting) : 어떤 데이터들이 주어졌을 때 이를 정해진 순서대로 나열하는 것\n",
    "- 정렬은 프로그램 작성 시 빈번하게 필요로 함\n",
    "- 다양한 알고리즘이 고안되어 있다."
   ]
  },
  {
   "cell_type": "markdown",
   "metadata": {},
   "source": [
    "- 다양한 정렬 알고리즘 이해를 통해, 동일한 문제에 대해 다양한 알고리즘이 고안될 수 있음을 이해\n",
    "- 각 알고리즘 간 성능 비교를 통해, 알고리즘 성능 분석에 대해서도 이해할 수 있음"
   ]
  },
  {
   "cell_type": "markdown",
   "metadata": {},
   "source": [
    "- 정렬 알고리즘 시각화 사이트\n",
    "  - [https://visualgo.net/en/sorting](https://visualgo.net/en/sorting)"
   ]
  },
  {
   "cell_type": "markdown",
   "metadata": {},
   "source": [
    "<br>\n",
    "\n",
    "## 1.2 버블 정렬(bubble sort) 이란?\n",
    "\n",
    "- 두 인접한 데이터를 비교\n",
    "- 앞에 있는 데이터가 뒤에 있는 데이터보다 크면 자리를 바꾸는 정렬 알고리즘\n",
    "\n",
    "<img src=\"https://upload.wikimedia.org/wikipedia/commons/c/c8/Bubble-sort-example-300px.gif\" width=600/>"
   ]
  },
  {
   "cell_type": "markdown",
   "metadata": {},
   "source": [
    "<br>\n",
    "\n",
    "## 1.3 버블 정렬 구현 순서"
   ]
  },
  {
   "cell_type": "markdown",
   "metadata": {},
   "source": [
    "### 1.3.1 데이터가 2개일 때의 버블 정렬"
   ]
  },
  {
   "cell_type": "code",
   "execution_count": 5,
   "metadata": {},
   "outputs": [
    {
     "data": {
      "text/plain": [
       "[3, 4]"
      ]
     },
     "execution_count": 5,
     "metadata": {},
     "output_type": "execute_result"
    }
   ],
   "source": [
    "dataList = [4, 3]\n",
    "\n",
    "for i in range(len(dataList)):\n",
    "    if i == len(dataList)-1:\n",
    "        break\n",
    "    else:\n",
    "        if dataList[i] > dataList[i+1]:\n",
    "            dataList[i], dataList[i+1] = dataList[i+1], dataList[i]\n",
    "\n",
    "dataList"
   ]
  },
  {
   "cell_type": "markdown",
   "metadata": {},
   "source": [
    "<br>\n",
    "\n",
    "### 1.3.2 데이터가 3개일 때의 버블 정렬"
   ]
  },
  {
   "cell_type": "code",
   "execution_count": 6,
   "metadata": {},
   "outputs": [
    {
     "data": {
      "text/plain": [
       "[2, 3, 4]"
      ]
     },
     "execution_count": 6,
     "metadata": {},
     "output_type": "execute_result"
    }
   ],
   "source": [
    "dataList = [4, 2, 3]\n",
    "\n",
    "for i in range(len(dataList)):\n",
    "    if i == len(dataList)-1:\n",
    "        break\n",
    "    else:\n",
    "        if dataList[i] > dataList[i+1]:\n",
    "            dataList[i], dataList[i+1] = dataList[i+1], dataList[i]\n",
    "\n",
    "dataList"
   ]
  },
  {
   "cell_type": "markdown",
   "metadata": {},
   "source": [
    "<br>\n",
    "\n",
    "### 1.3.3 데이터가 4개일 때의 버블 정렬"
   ]
  },
  {
   "cell_type": "code",
   "execution_count": 7,
   "metadata": {},
   "outputs": [
    {
     "data": {
      "text/plain": [
       "[1, 3, 2, 9]"
      ]
     },
     "execution_count": 7,
     "metadata": {},
     "output_type": "execute_result"
    }
   ],
   "source": [
    "dataList = [1, 9, 3, 2]\n",
    "\n",
    "for i in range(len(dataList)):\n",
    "    if i == len(dataList)-1:\n",
    "        break\n",
    "    else:\n",
    "        if dataList[i] > dataList[i+1]:\n",
    "            dataList[i], dataList[i+1] = dataList[i+1], dataList[i]\n",
    "\n",
    "dataList"
   ]
  },
  {
   "cell_type": "code",
   "execution_count": null,
   "metadata": {},
   "outputs": [],
   "source": []
  }
 ],
 "metadata": {
  "kernelspec": {
   "display_name": "Python 3",
   "language": "python",
   "name": "python3"
  },
  "language_info": {
   "codemirror_mode": {
    "name": "ipython",
    "version": 3
   },
   "file_extension": ".py",
   "mimetype": "text/x-python",
   "name": "python",
   "nbconvert_exporter": "python",
   "pygments_lexer": "ipython3",
   "version": "3.6.9"
  }
 },
 "nbformat": 4,
 "nbformat_minor": 4
}
