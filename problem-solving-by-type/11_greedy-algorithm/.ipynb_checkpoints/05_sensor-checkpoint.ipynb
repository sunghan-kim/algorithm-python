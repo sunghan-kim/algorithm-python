{
 "cells": [
  {
   "cell_type": "markdown",
   "metadata": {},
   "source": [
    "# 5. 센서\n",
    "\n",
    "- 난이도 : 하(Easy)\n",
    "- 유형 : 그리디\n",
    "- 추천 풀이 시간 : 30분\n",
    "- [문제 설명 링크 : https://www.acmicpc.net/problem/2212](https://www.acmicpc.net/problem/2212)"
   ]
  },
  {
   "cell_type": "markdown",
   "metadata": {},
   "source": [
    "<br>\n",
    "\n",
    "## 5.1 문제 풀이"
   ]
  },
  {
   "cell_type": "code",
   "execution_count": null,
   "metadata": {},
   "outputs": [],
   "source": []
  },
  {
   "cell_type": "markdown",
   "metadata": {},
   "source": [
    "<br>\n",
    "\n",
    "## 5.2 해설"
   ]
  },
  {
   "cell_type": "markdown",
   "metadata": {},
   "source": [
    "### 5.2.1 문제 풀이 핵심 아이디어\n",
    "\n",
    "- 최대 K개의 집중국을 설치해야 한다.\n",
    "- 집중국들의 수신 가능 영역의 길이의 합을 최소화하는 것이 목표이다.\n",
    "- 사실상 정렬만 수행하면 되므로 O(NlogN)으로 문제를 해결할 수 있다."
   ]
  },
  {
   "cell_type": "markdown",
   "metadata": {},
   "source": [
    "<br>\n",
    "\n",
    "### 5.2.2 문제 풀이 예시\n",
    "\n",
    "- 각 센서들을 위치를 기준으로 오름차순 정렬한다.\n",
    "\n",
    "<img src=\"./img/05_01.jpg\" style=\"width: 400px; margin-left: 25px\" />"
   ]
  },
  {
   "cell_type": "markdown",
   "metadata": {},
   "source": [
    "- 문제의 요구 사항은, **정렬된 센서들을 최대 K개의 영역으로 나누는 것과 동일**하다.\n",
    "- K=2 일 때, 각 집중국의 수신 가능 영역은 다음과 같다.\n",
    "\n",
    "<img src=\"./img/05_02.jpg\" style=\"width: 400px; margin-left: 25px\" />"
   ]
  },
  {
   "cell_type": "markdown",
   "metadata": {},
   "source": [
    "- 따라서 문제의 알고리즘은 다음과 같다.\n",
    "  - 각 센서를 오름차순 정렬한다.\n",
    "  - 각 센서 사이의 거리를 계산한다.\n",
    "  - **가장 거리가 먼 순서대로 K-1개의 연결 고리를 제거한다.**\n",
    "  - 남아 있는 모든 거리들의 합이 정답이 된다.\n",
    "  \n",
    "<img src=\"./img/05_03.jpg\" style=\"width: 400px; margin-left: 25px\" />\n",
    "\n",
    "<img src=\"./img/05_04.jpg\" style=\"width: 400px; margin-left: 25px\" />"
   ]
  },
  {
   "cell_type": "markdown",
   "metadata": {},
   "source": [
    "<br>\n",
    "\n",
    "### 5.2.3 해설 코드"
   ]
  },
  {
   "cell_type": "code",
   "execution_count": 2,
   "metadata": {},
   "outputs": [
    {
     "name": "stdin",
     "output_type": "stream",
     "text": [
      " 6\n",
      " 2\n",
      " 1 6 9 3 6 7\n"
     ]
    },
    {
     "name": "stdout",
     "output_type": "stream",
     "text": [
      "5\n"
     ]
    }
   ],
   "source": [
    "import sys\n",
    "\n",
    "n = int(input()) # 센서 개수\n",
    "k = int(input()) # 집중국 개수\n",
    "\n",
    "# 집중국의 개수가 센서의 개수보다 클 경우\n",
    "if k >= n:\n",
    "    print(0) # 각 센서의 위치에 집중국을 설치하면 된다.\n",
    "    sys.exit()\n",
    "    \n",
    "# 모든 센서의 위치를 입력 받아 오름차순 정렬\n",
    "array = list(map(int, input().split()))\n",
    "array.sort()\n",
    "\n",
    "# 각 센서 간의 거리를 계산하여 내림차순 정렬\n",
    "distances = []\n",
    "for i in range(1, n):\n",
    "    distances.append(array[i] - array[i-1])\n",
    "distances.sort(reverse=True)\n",
    "\n",
    "# 가장 긴 거리부터 하나 씩 제거\n",
    "for i in range(k-1):\n",
    "    distances[i] = 0\n",
    "    \n",
    "print(sum(distances))"
   ]
  }
 ],
 "metadata": {
  "kernelspec": {
   "display_name": "Python 3",
   "language": "python",
   "name": "python3"
  },
  "language_info": {
   "codemirror_mode": {
    "name": "ipython",
    "version": 3
   },
   "file_extension": ".py",
   "mimetype": "text/x-python",
   "name": "python",
   "nbconvert_exporter": "python",
   "pygments_lexer": "ipython3",
   "version": "3.6.9"
  }
 },
 "nbformat": 4,
 "nbformat_minor": 4
}
