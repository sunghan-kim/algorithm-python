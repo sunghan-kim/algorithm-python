{
 "cells": [
  {
   "cell_type": "markdown",
   "metadata": {},
   "source": [
    "# 20. 백트래킹 (Backtracking)"
   ]
  },
  {
   "cell_type": "markdown",
   "metadata": {},
   "source": [
    "## 20.1 백트래킹이란?\n",
    "\n",
    "- 백트래킹(backtracking) 또는 퇴각 검색(backtrack)으로 부름\n",
    "- 문제를 푸는 전략 중 하나 (알고리즘은 아님)"
   ]
  },
  {
   "cell_type": "markdown",
   "metadata": {},
   "source": [
    "<br>\n",
    "\n",
    "### 20.1.1 제약 조건 만족 문제(Constraint Satisfaction Problem)\n",
    "\n",
    "- 백트래킹은 **제약 조건 만족 문제(Constraint Satisfaction Problem)에서 해를 찾기 위한 전략**\n",
    "  - 해를 찾기 위해 후보군에 제약 조건을 점진적으로 체크\n",
    "  - 해당 후보군이 제약 조건을 만족할 수 없다고 판단되는 즉시 backtrack 함  \n",
    "  (backtrack : 다시는 이 후보군을 체크하지 않을 것을 표기)\n",
    "  - 바로 다른 후보군으로 넘어감\n",
    "  - 결국 최적의 해를 찾는 방법"
   ]
  },
  {
   "cell_type": "markdown",
   "metadata": {},
   "source": [
    "<br>\n",
    "\n",
    "### 20.1.2 백트래킹 실제 구현"
   ]
  },
  {
   "cell_type": "markdown",
   "metadata": {},
   "source": [
    "#### 20.1.2.1 상태 공간 트리(State Space Tree)\n",
    "\n",
    "- 백트래킹 실제 구현 시, 고려할 수 있는 모든 경우의 수(후보군)를 **상태 공간 트리(State Space Tree)**를 통해 표현\n",
    "  - 각 후보군을 DFS 방식으로 확인\n",
    "  - 상태 공간 트리를 탐색하면서 제약이 맞지 않으면 해의 후보가 될만한 곳으로 바로 넘어가서 탐색"
   ]
  },
  {
   "cell_type": "markdown",
   "metadata": {},
   "source": [
    "#### 20.1.2.2 Promising\n",
    "\n",
    "- 해당 루트가 조건에 맞는 지를 검사하는 기법  "
   ]
  },
  {
   "cell_type": "markdown",
   "metadata": {},
   "source": [
    "#### 20.1.2.3 Pruning (가지치기)\n",
    "\n",
    "- 조건에 맞지 않으면 포기하고 다른 루트로 바로 돌아섬\n",
    "- 탐색의 시간을 절약하는 기법  "
   ]
  },
  {
   "cell_type": "markdown",
   "metadata": {},
   "source": [
    "<br>\n",
    "\n",
    "### 20.1.3 백트래킹 요약\n",
    "\n",
    "- 백트래킹은 트리 구조를 기반으로 DFS로 깊이 탐색을 진행하면서 각 루트에 대해 조건에 부합하는 지를 체크(Promising)\n",
    "- 만약, 해당 트리(나무)에서 조건에 맞지 않는 노드는 더 이상 DFS로 깊이 탐색을 진행하지 않고, 가지를 쳐버림(Pruning)"
   ]
  },
  {
   "cell_type": "markdown",
   "metadata": {},
   "source": [
    "<br>\n",
    "\n",
    "### 20.1.4 상태 공간 트리 (State Space Tree)\n",
    "\n",
    "- 문제 해결 과정의 중간 상태를 각각의 노드로 나타낸 트리\n",
    "- 각각의 노드가 경우의 수를 나타낸다.\n",
    "- 하위 노드로 이동하면서 각각의 조건에 맞는 지 확인한다.\n",
    "- 조건과 일치하면 하위 노드로 이동한다.\n",
    "\n",
    "<div style=\"margin-left:20px\">\n",
    "<img src=\"https://www.fun-coding.org/00_Images/statespacetree.png\" width=300>\n",
    "</div>\n",
    "\n",
    "- 예를 들어, `a` 노드에서 시작하여 `b` 노드의 조건을 확인한다고 하자.\n",
    "- `b` 노드가 조건을 만족하지 못한다면 `b` 노드 하위에 연결된 다른 노드들(`e`, `f`, `g`, `h`, `i`, `j`)은 조건을 확인해볼 필요가 없다.\n",
    "- 따라서 `b` 노드의 하위 노드들에 대해서는 조건을 확인하지 않고, 다른 후보군인 `c` 노드의 조건을 확인한다."
   ]
  },
  {
   "cell_type": "markdown",
   "metadata": {},
   "source": [
    "<br>\n",
    "\n",
    "## 20.2 N Queen 문제 이해\n",
    "\n",
    "- 대표적인 백트래킹 문제\n",
    "- N x N 크기의 체스판에 N개의 퀸을 서로 공격할 수 없도록 배치하는 경우의 수를 찾는 문제\n",
    "  - ex) 4x4 크기의 체스판에 4개의 퀸을 배치할 수 있는 경우의 수\n",
    "- 퀸은 다음과 같이 이동할 수 있으므로, 배치된 퀸 간에 공격할 수 없는 위치로 배치해야 함\n",
    "\n",
    "<div style=\"margin-left:20px\">\n",
    "    <img src=\"https://www.fun-coding.org/00_Images/queen_move.png\" width=600>\n",
    "</div>\n",
    "\n",
    "- N Queen 문제의 제약 조건\n",
    "  - 퀸이 서로를 공격할 수 없는 위치에 배치시켜야 함"
   ]
  },
  {
   "cell_type": "markdown",
   "metadata": {},
   "source": [
    "<br>\n",
    "\n",
    "### 20.2.1 상태 공간 트리 for N Queen 문제\n",
    "\n",
    "- 각각의 칸에 `(행 인덱스, 열 인덱스)` 형태의 좌표를 부여\n",
    "- 해당 좌표를 트리로 표현\n",
    "  - 특정 좌표를 노드로 표현\n",
    "  - 해당 좌표(노드)에서 퀸이 이동할 수 있는 칸의 좌표를 해당 노드와 연결된 노드로 표현  \n",
    "  \n",
    "  \n",
    "- 한 행에는 하나의 퀸 밖에 위치할 수 없음 (퀸은 수평 이동이 가능하기 때문)\n",
    "- 맨 위에 있는 행부터 퀸을 배치 (`(0,1)` 좌표)\n",
    "- 다음 행에 해당 퀸이 이동할 수 없는 위치를 찾아 퀸을 배치\n",
    "  \n",
    "<div style=\"margin-left:20px\">\n",
    "    <img src=\"https://www.fun-coding.org/00_Images/backtracking.png\" width=600 >\n",
    "</div>"
   ]
  },
  {
   "cell_type": "markdown",
   "metadata": {},
   "source": [
    "<br>\n",
    "\n",
    "### 20.2.2 Pruning(가지치기) for N Queen 문제\n",
    "\n",
    "- 만약 앞선 행에 배치한 퀸으로 인해, 다음 행에 해당 퀸들이 이동할 수 없는 위치가 없을 경우\n",
    "  - 더 이상 퀸을 배치하지 않음\n",
    "  - 이전 행의 퀸의 위치를 바꿈  \n",
    "\n",
    "<div style=\"margin-left:20px\">\n",
    "    <img src=\"./img/pruning.jpg\" width=600 >\n",
    "</div>\n",
    "\n",
    "- 위 그림에서 첫 행에 `(0,1)` 좌표 칸에 퀸을 배치했으므로 `(1,0)`, `(1,1)`, `(1,2)`에는 다음 퀸을 배치할 수 없음\n",
    "- 그러므로 `(1,0)`, `(1,1)`, `(1,2)`에 해당하는 노드에 연결된 모든 노드들을 탐색 대상에서 제외 (가지치기, pruning)"
   ]
  },
  {
   "cell_type": "markdown",
   "metadata": {},
   "source": [
    "- 즉, 맨 위의 행부터 전체 행까지 퀸의 배치가 가능한 경우의 수를 상태 공간 트리 형태로 만듬\n",
    "- 각 경우를 맨 위의 행부터 DFS 방식으로 접근\n",
    "- 해당 경우가 진행이 어려울 경우, 더 이상 진행하지 않고 다른 경우를 체크하는 방식"
   ]
  },
  {
   "cell_type": "markdown",
   "metadata": {},
   "source": [
    "<br>\n",
    "\n",
    "### 20.2.3 Promising for N Queen 문제\n",
    "\n",
    "- 해당 루트가 조건에 맞는 지를 검사하는 기법을 활용\n",
    "- 현재까지 앞선 행에서 배치한 퀸이 이동할 수 없는 위치가 있는 지를 다음과 같은 조건으로 확인\n",
    "- 한 행에 어차피 하나의 퀸만 배치가 가능하므로 수평 체크는 별도로 필요하지 않음\n",
    "- **수직 체크**와 **대각선 체크**만 실시하면 된다."
   ]
  },
  {
   "cell_type": "markdown",
   "metadata": {},
   "source": [
    "<br>\n",
    "\n",
    "#### 20.2.3.1 수직 체크\n",
    "\n",
    "- 퀸이 놓여진 좌표와 후보군의 열의 좌표가 동일한 지 체크\n",
    "- 현재 열 좌표 - 놓여진 퀸의 열 좌표 == 0\n",
    "- `current_col - queen_col == 0`\n",
    "\n",
    "<div style=\"margin-left:20px\">\n",
    "    <img src=\"./img/vertical-check.jpg\" width=300>\n",
    "</div>"
   ]
  },
  {
   "cell_type": "markdown",
   "metadata": {},
   "source": [
    "<br>\n",
    "\n",
    "#### 20.2.3.2 대각선 체크\n",
    "\n",
    "- 퀸 좌표와 후보군 좌표의 행, 열 각각의 차이(gap)가 같은 지 체크\n",
    "- 같다면 대각선에 위치한다고 판단\n",
    "- `abs(queen_col - current_col) == current_row - queen_row`\n",
    "  - 열 좌표의 gap 계산 시 절대값(`abs`) 사용\n",
    "  - 후보군의 행 좌표는 항상 놓여진 퀸의 행 좌표보다 크므로 절대값 사용 안해도 됨\n",
    "\n",
    "<div style=\"margin-left:20px\">\n",
    "    <img src=\"./img/diagonal-check.jpg\" width=300>\n",
    "</div>"
   ]
  },
  {
   "cell_type": "markdown",
   "metadata": {},
   "source": [
    "<br>\n",
    "\n",
    "### 20.2.4 N Queen 문제 파이썬 코드 작성"
   ]
  },
  {
   "cell_type": "code",
   "execution_count": 4,
   "metadata": {},
   "outputs": [],
   "source": [
    "# NxN 크기의 체스판에 N개의 퀸을 배치할 수 있는 경우의 수를 구하는 함수\n",
    "def solve_n_queens(N):\n",
    "    # 퀸을 배치한 형태 (리스트 안에 리스트)\n",
    "    final_result = []\n",
    "    \n",
    "    # DFS 탐색\n",
    "    # current_row = 0 : 첫 번째 행 부터 시작\n",
    "    # current_candidate = [] : 현재까지 배치된 퀸의 좌표는 없음\n",
    "    DFS(N, 0, [], final_result)\n",
    "    \n",
    "    # 경우의 수 반환\n",
    "    # ex) [1, 3, 0, 2]\n",
    "    #  - 첫 번째 행(인덱스=0)의 두 번째 열(인덱스=1)에 퀸 배치\n",
    "    #  - 두 번째 행(인덱스=1)의 네 번째 열(인덱스=3)에 퀸 배치\n",
    "    #  - 세 번째 행(인덱스=2)의 첫 번째 열(인덱스=0)에 퀸 배치\n",
    "    #  - 네 번째 행(인덱스=3)의 세 번째 열(인덱스=2)에 퀸 배치\n",
    "    return final_result  \n",
    "\n",
    "# DFS 함수는 재귀적으로  실행될 예정\n",
    "def DFS(N, current_row, current_candidate, final_result):\n",
    "    # N : 퀸의 개수\n",
    "    # current_row : 현재 처리해야 하는 행의 인덱스\n",
    "    # current_candidate : 현재까지 퀸이 배치된 좌표\n",
    "    # final_result : 퀸이 배치될 수 있는 경우의 수\n",
    "    \n",
    "    # 배치가 끝난 경우\n",
    "    if current_row == N: \n",
    "        \n",
    "        # 지금까지 배치된 결과(current_candidate[:])를 경우의 수로 등록\n",
    "        # [:]\n",
    "        #  - 얇은 복사\n",
    "        #  - current_candidate에 백트래킹으로 인한 변화가 발생해도 final_result에 영향을 주지 않기 위해\n",
    "        #    얇은 복사 실시\n",
    "        final_result.append(current_candidate[:])\n",
    "        \n",
    "        # 함수 벗어나기\n",
    "        return\n",
    "    \n",
    "    # 각각의 행에서 모든 후보군의 열 좌표(candidate_col)를 반복\n",
    "    for candidate_col in range(N):\n",
    "        \n",
    "        # pruning 실시\n",
    "        if is_available(current_candidate, candidate_col):\n",
    "            # 해당 후보군이 퀸이 배치될 수 있는 좌표인 경우\n",
    "            \n",
    "            # current_candidate에 현재 행의 퀸이 배치될 수 있는 열 좌표 등록\n",
    "            current_candidate.append(candidate_col)\n",
    "            \n",
    "            # 다음 행 탐색\n",
    "            DFS(N, current_row + 1, current_candidate, final_result)\n",
    "            \n",
    "            # 백트래킹\n",
    "            # 가장 최근에 append된 값 제거\n",
    "            # 현재 pruning을 실시하고 있는 행의 후보군 모두 퀸이 배치될 수 없는 경우, 이전 행의 퀸의 배치 변경\n",
    "            current_candidate.pop()\n",
    "\n",
    "# pruning 함수\n",
    "# 해당 후보군이 퀸이 배치될 수 있는 지 확인\n",
    "# candidate : 현재까지 퀸이 배치된 자표\n",
    "# current_col : 현재 후보군의 열 좌표\n",
    "def is_available(candidate, current_col):\n",
    "    \n",
    "    # 후보군의 행 좌표 계산\n",
    "    current_row = len(candidate)\n",
    "    \n",
    "    # 현재까지 배치된 퀸의 행 좌표(queen_row) 반복\n",
    "    for queen_row in range(current_row):\n",
    "        # queen_row : 배치된 퀸의 행 좌표\n",
    "        # candidate[queen_row] : 배치된 퀸의 열 좌표\n",
    "        \n",
    "        # promising\n",
    "        # 수직 체크 : candidate[queen_row] == current_col\n",
    "        # 대각선 체크 : abs(candidate[queen_row] - current_col) == current_row - queen_row\n",
    "        if candidate[queen_row] == current_col or abs(candidate[queen_row] - current_col) == current_row - queen_row:\n",
    "            # 수직 체크 및 대각선 체크에 해당할 경우, 해당 후보군의 열 좌표에 퀸을 배치할 수 없음\n",
    "            return False\n",
    "    \n",
    "    # promising에 걸리지 않은 경우, 해당 후보군의 열 좌표에는 퀸을 배치할 수 있음\n",
    "    return True"
   ]
  },
  {
   "cell_type": "code",
   "execution_count": 5,
   "metadata": {},
   "outputs": [
    {
     "data": {
      "text/plain": [
       "[[1, 3, 0, 2], [2, 0, 3, 1]]"
      ]
     },
     "execution_count": 5,
     "metadata": {},
     "output_type": "execute_result"
    }
   ],
   "source": [
    "solve_n_queens(4)"
   ]
  },
  {
   "cell_type": "code",
   "execution_count": 6,
   "metadata": {},
   "outputs": [
    {
     "data": {
      "text/plain": [
       "[[0, 2, 4, 1, 3],\n",
       " [0, 3, 1, 4, 2],\n",
       " [1, 3, 0, 2, 4],\n",
       " [1, 4, 2, 0, 3],\n",
       " [2, 0, 3, 1, 4],\n",
       " [2, 4, 1, 3, 0],\n",
       " [3, 0, 2, 4, 1],\n",
       " [3, 1, 4, 2, 0],\n",
       " [4, 1, 3, 0, 2],\n",
       " [4, 2, 0, 3, 1]]"
      ]
     },
     "execution_count": 6,
     "metadata": {},
     "output_type": "execute_result"
    }
   ],
   "source": [
    "solve_n_queens(5)"
   ]
  }
 ],
 "metadata": {
  "kernelspec": {
   "display_name": "Python 3",
   "language": "python",
   "name": "python3"
  },
  "language_info": {
   "codemirror_mode": {
    "name": "ipython",
    "version": 3
   },
   "file_extension": ".py",
   "mimetype": "text/x-python",
   "name": "python",
   "nbconvert_exporter": "python",
   "pygments_lexer": "ipython3",
   "version": "3.6.9"
  }
 },
 "nbformat": 4,
 "nbformat_minor": 4
}
