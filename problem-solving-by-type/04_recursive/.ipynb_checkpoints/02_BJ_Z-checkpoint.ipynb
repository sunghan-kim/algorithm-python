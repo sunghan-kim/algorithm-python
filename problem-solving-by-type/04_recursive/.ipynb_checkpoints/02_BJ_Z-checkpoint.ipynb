{
 "cells": [
  {
   "cell_type": "markdown",
   "metadata": {},
   "source": [
    "# 2. Z\n",
    "\n",
    "- 난이도 : 중(Medium)\n",
    "- 유형 : 재귀 함수\n",
    "- 추천 풀이 시간 : 40분\n",
    "- [문제 설명 링크 : https://www.acmicpc.net/problem/1074](https://www.acmicpc.net/problem/1074)"
   ]
  },
  {
   "cell_type": "markdown",
   "metadata": {},
   "source": [
    "<br>\n",
    "\n",
    "## 2.1 문제 설명"
   ]
  },
  {
   "cell_type": "markdown",
   "metadata": {},
   "source": [
    "### 2.1.1 문제\n",
    "\n",
    "한수는 2차원 배열 (항상 $2^N \\times 2^N$ 크기이다)을 Z모양으로 탐색하려고 한다. 예를 들어, $2 \\times 2$배열을 왼쪽 위칸, 오른쪽 위칸, 왼쪽 아래칸, 오른쪽 아래칸 순서대로 방문하면 Z모양이다.\n",
    "\n",
    "<span style=\"margin-left: 20px\">\n",
    "  <img src=\"https://www.acmicpc.net/upload/201003/z1.JPG\" />\n",
    "</span>\n",
    "\n",
    "\n",
    "만약, 2차원 배열의 크기가 $2^N \\times 2^N$라서 왼쪽 위에 있는 칸이 하나가 아니라면, 배열을 4등분 한 후에 (크기가 같은 $2^{(N-1)}$로) 재귀적으로 순서대로 방문한다.\n",
    "\n",
    "다음 예는 $2^2 \\times 2^2$ 크기의 배열을 방문한 순서이다.\n",
    "\n",
    "<span style=\"margin-left: 20px\">\n",
    "  <img src=\"https://www.acmicpc.net/upload/201003/z2.JPG\" />\n",
    "</span>\n",
    "\n",
    "\n",
    "N이 주어졌을 때, (r, c)를 몇 번째로 방문하는지 출력하는 프로그램을 작성하시오.\n",
    "\n",
    "다음 그림은 N=3일 때의 예이다.\n",
    "\n",
    "<span style=\"margin-left: 20px\">\n",
    "  <img src=\"https://www.acmicpc.net/upload/201003/z3.JPG\" />\n",
    "</span>"
   ]
  },
  {
   "cell_type": "markdown",
   "metadata": {},
   "source": [
    "<br>\n",
    "\n",
    "### 2.1.2 입력\n",
    "\n",
    "첫째 줄에 N r c가 주어진다. N은 15보다 작거나 같은 자연수이고, r과 c는 0보다 크거나 같고, 2^N-1보다 작거나 같은 정수이다"
   ]
  },
  {
   "cell_type": "markdown",
   "metadata": {},
   "source": [
    "<br>\n",
    "\n",
    "### 2.1.3 출력\n",
    "\n",
    "첫째 줄에 문제의 정답을 출력한다."
   ]
  },
  {
   "cell_type": "markdown",
   "metadata": {},
   "source": [
    "<br>\n",
    "\n",
    "### 2.1.4 입출력 예제\n",
    "\n",
    "**예제 입력 1**\n",
    "\n",
    "```\n",
    "2 3 1\n",
    "```\n",
    "\n",
    "**예제 출력 1**\n",
    "\n",
    "```\n",
    "11\n",
    "```\n",
    "\n",
    "**예제 입력 2**\n",
    "\n",
    "```\n",
    "3 7 7\n",
    "```\n",
    "\n",
    "**예제 출력 2**\n",
    "\n",
    "```\n",
    "63\n",
    "```"
   ]
  },
  {
   "cell_type": "markdown",
   "metadata": {},
   "source": [
    "<br>\n",
    "\n",
    "## 2.2 직접 구현"
   ]
  },
  {
   "cell_type": "markdown",
   "metadata": {},
   "source": [
    "### 2.2.1 직접 구현 코드"
   ]
  },
  {
   "cell_type": "code",
   "execution_count": 1,
   "metadata": {},
   "outputs": [
    {
     "name": "stdin",
     "output_type": "stream",
     "text": [
      " 2 3 1\n"
     ]
    },
    {
     "name": "stdout",
     "output_type": "stream",
     "text": [
      "n :  2\n",
      "r :  3\n",
      "c :  1\n"
     ]
    }
   ],
   "source": [
    "n, r, c = map(int, input().split())\n",
    "\n",
    "print('n : ', n)\n",
    "print('r : ', r)\n",
    "print('c : ', c)"
   ]
  },
  {
   "cell_type": "code",
   "execution_count": null,
   "metadata": {},
   "outputs": [],
   "source": []
  }
 ],
 "metadata": {
  "kernelspec": {
   "display_name": "Python 3",
   "language": "python",
   "name": "python3"
  },
  "language_info": {
   "codemirror_mode": {
    "name": "ipython",
    "version": 3
   },
   "file_extension": ".py",
   "mimetype": "text/x-python",
   "name": "python",
   "nbconvert_exporter": "python",
   "pygments_lexer": "ipython3",
   "version": "3.6.9"
  }
 },
 "nbformat": 4,
 "nbformat_minor": 4
}
