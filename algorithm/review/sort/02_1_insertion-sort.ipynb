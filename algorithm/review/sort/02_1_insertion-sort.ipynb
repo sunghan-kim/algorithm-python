{
 "cells": [
  {
   "cell_type": "markdown",
   "metadata": {},
   "source": [
    "# 2. 삽입 정렬 (복습)"
   ]
  },
  {
   "cell_type": "code",
   "execution_count": 1,
   "metadata": {},
   "outputs": [],
   "source": [
    "def insertion_sort(data):\n",
    "    for index in range(len(data) - 1):\n",
    "        for index2 in range(index+1, 0, -1):\n",
    "            if data[index2] < data[index2 - 1]:\n",
    "                data[index2], data[index2 - 1] = data[index2 - 1], data[index2]\n",
    "            else:\n",
    "                break\n",
    "    return data"
   ]
  },
  {
   "cell_type": "code",
   "execution_count": 2,
   "metadata": {},
   "outputs": [
    {
     "name": "stdout",
     "output_type": "stream",
     "text": [
      "[5, 6, 7, 8, 9, 10, 11, 14, 16, 17, 18, 20, 21, 22, 23, 30, 31, 33, 35, 36, 41, 44, 45, 46, 49, 50, 51, 56, 57, 59, 61, 63, 64, 65, 67, 71, 72, 74, 76, 78, 80, 82, 85, 87, 89, 90, 91, 92, 94, 96]\n"
     ]
    }
   ],
   "source": [
    "import random\n",
    "\n",
    "dataList = random.sample(range(100), 50)\n",
    "print(insertion_sort(dataList))"
   ]
  },
  {
   "cell_type": "code",
   "execution_count": 3,
   "metadata": {},
   "outputs": [],
   "source": [
    "def insertion_sort(data):\n",
    "    for index in range(len(data) - 1):\n",
    "        for index2 in range(index+1, 0, -1):\n",
    "            if data[index2] < data[index2 - 1]:\n",
    "                data[index2], data[index2 - 1] = data[index2 - 1], data[index2]\n",
    "            else:\n",
    "                break\n",
    "    return data"
   ]
  },
  {
   "cell_type": "code",
   "execution_count": 4,
   "metadata": {},
   "outputs": [
    {
     "name": "stdout",
     "output_type": "stream",
     "text": [
      "[57, 12, 98, 82, 42, 97, 40, 27, 77, 44, 96, 61, 63, 1, 20, 60, 33, 99, 38, 55, 14, 67, 62, 89, 72, 66, 92, 50, 54, 84, 26, 81, 19, 5, 59, 95, 47, 13, 46, 64, 28, 71, 2, 88, 75, 41, 51, 86, 52, 76]\n"
     ]
    }
   ],
   "source": [
    "import random\n",
    "\n",
    "dataList = random.sample(range(100), 50)\n",
    "print(dataList)"
   ]
  },
  {
   "cell_type": "code",
   "execution_count": 5,
   "metadata": {},
   "outputs": [],
   "source": [
    "def insertion_sort(data):\n",
    "    for index in range(len(data)-1):\n",
    "        for index2 in range(index+1, 0, -1):\n",
    "            if data[index2] < data[index2-1]:\n",
    "                data[index2], data[index2 - 1] = data[index2 - 1], data[index2]\n",
    "            else:\n",
    "                break\n",
    "    return data"
   ]
  },
  {
   "cell_type": "code",
   "execution_count": 6,
   "metadata": {},
   "outputs": [
    {
     "name": "stdout",
     "output_type": "stream",
     "text": [
      "[1, 2, 5, 12, 13, 14, 19, 20, 26, 27, 28, 33, 38, 40, 41, 42, 44, 46, 47, 50, 51, 52, 54, 55, 57, 59, 60, 61, 62, 63, 64, 66, 67, 71, 72, 75, 76, 77, 81, 82, 84, 86, 88, 89, 92, 95, 96, 97, 98, 99]\n"
     ]
    }
   ],
   "source": [
    "print(insertion_sort(dataList))"
   ]
  },
  {
   "cell_type": "code",
   "execution_count": null,
   "metadata": {},
   "outputs": [],
   "source": []
  }
 ],
 "metadata": {
  "kernelspec": {
   "display_name": "Python 3",
   "language": "python",
   "name": "python3"
  },
  "language_info": {
   "codemirror_mode": {
    "name": "ipython",
    "version": 3
   },
   "file_extension": ".py",
   "mimetype": "text/x-python",
   "name": "python",
   "nbconvert_exporter": "python",
   "pygments_lexer": "ipython3",
   "version": "3.6.9"
  }
 },
 "nbformat": 4,
 "nbformat_minor": 4
}
