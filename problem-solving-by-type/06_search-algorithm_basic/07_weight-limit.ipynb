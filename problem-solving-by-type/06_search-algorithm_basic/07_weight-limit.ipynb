{
 "cells": [
  {
   "cell_type": "markdown",
   "metadata": {},
   "source": [
    "# 7. 중량제한\n",
    "\n",
    "- 난이도 : 중상(Hard)\n",
    "- 유형 : 이진 탐색\n",
    "- 추천 풀이 시간 : 1시간\n",
    "- [문제 설명 링크 : https://www.acmicpc.net/problem/1939](https://www.acmicpc.net/problem/1939)"
   ]
  },
  {
   "cell_type": "markdown",
   "metadata": {},
   "source": [
    "<br>\n",
    "\n",
    "## 7.1 문제 설명\n",
    "\n",
    "- 제한 시간 : 1초\n",
    "- 메모리 제한 : 128 MB"
   ]
  },
  {
   "cell_type": "markdown",
   "metadata": {},
   "source": [
    "<br>\n",
    "\n",
    "### 7.1.1 문제\n",
    "\n",
    "N(2 ≤ N ≤ 10,000)개의 섬으로 이루어진 나라가 있다. 이들 중 몇 개의 섬 사이에는 다리가 설치되어 있어서 차들이 다닐 수 있다.\n",
    "\n",
    "영식 중공업에서는 두 개의 섬에 공장을 세워 두고 물품을 생산하는 일을 하고 있다. 물품을 생산하다 보면 공장에서 다른 공장으로 생산 중이던 물품을 수송해야 할 일이 생기곤 한다. 그런데 각각의 다리마다 중량제한이 있기 때문에 무턱대고 물품을 옮길 순 없다. 만약 중량제한을 초과하는 양의 물품이 다리를 지나게 되면 다리가 무너지게 된다.\n",
    "\n",
    "한 번의 이동에서 옮길 수 있는 물품들의 중량의 최댓값을 구하는 프로그램을 작성하시오."
   ]
  },
  {
   "cell_type": "markdown",
   "metadata": {},
   "source": [
    "<br>\n",
    "\n",
    "### 7.1.2 입력\n",
    "\n",
    "첫째 줄에 N, M(1 ≤ M ≤ 100,000)이 주어진다. 다음 M개의 줄에는 다리에 대한 정보를 나타내는 세 정수 A, B(1 ≤ A, B ≤ N), C(1 ≤ C ≤ 1,000,000,000)가 주어진다. 이는 A번 섬과 B번 섬 사이에 중량제한이 C인 다리가 존재한다는 의미이다. 서로 같은 두 도시 사이에 여러 개의 다리가 있을 수도 있으며, 모든 다리는 양방향이다. 마지막 줄에는 공장이 위치해 있는 섬의 번호를 나타내는 서로 다른 두 정수가 주어진다. 공장이 있는 두 섬을 연결하는 경로는 항상 존재하는 데이터만 입력으로 주어진다."
   ]
  },
  {
   "cell_type": "markdown",
   "metadata": {},
   "source": [
    "<br>\n",
    "\n",
    "### 7.1.3 출력\n",
    "\n",
    "첫째 줄에 답을 출력한다."
   ]
  },
  {
   "cell_type": "markdown",
   "metadata": {},
   "source": [
    "<br>\n",
    "\n",
    "### 7.1.4 입출력 예제\n",
    "\n",
    "**예제 입력 1**\n",
    "\n",
    "```\n",
    "3 3\n",
    "1 2 2\n",
    "3 1 3\n",
    "2 3 2\n",
    "1 3\n",
    "```\n",
    "\n",
    "**예제 출력 1**\n",
    "\n",
    "```\n",
    "3\n",
    "```"
   ]
  },
  {
   "cell_type": "markdown",
   "metadata": {},
   "source": [
    "<br>\n",
    "\n",
    "## 7.2 직접 구현"
   ]
  },
  {
   "cell_type": "markdown",
   "metadata": {},
   "source": [
    "### 7.2.1 직접 구현 코드"
   ]
  },
  {
   "cell_type": "code",
   "execution_count": 1,
   "metadata": {},
   "outputs": [
    {
     "name": "stdout",
     "output_type": "stream",
     "text": [
      "a\n"
     ]
    }
   ],
   "source": [
    "n, m = map(int, input().split())\n"
   ]
  },
  {
   "cell_type": "markdown",
   "metadata": {},
   "source": [
    "<br>\n",
    "\n",
    "## 7.3 해설"
   ]
  },
  {
   "cell_type": "markdown",
   "metadata": {},
   "source": [
    "### 7.3.1 해설 내용\n",
    "\n",
    "..."
   ]
  },
  {
   "cell_type": "markdown",
   "metadata": {},
   "source": [
    "<br>\n",
    "\n",
    "### 7.3.2 해설 코드"
   ]
  },
  {
   "cell_type": "code",
   "execution_count": 1,
   "metadata": {},
   "outputs": [
    {
     "name": "stdin",
     "output_type": "stream",
     "text": [
      " 3 3\n",
      " 1 2 2\n",
      " 3 1 3\n",
      " 2 3 2\n",
      " 1 3\n"
     ]
    },
    {
     "name": "stdout",
     "output_type": "stream",
     "text": [
      "3\n"
     ]
    }
   ],
   "source": [
    "from collections import deque\n",
    "\n",
    "n, m = map(int, input().split())\n",
    "adj = [[] for _ in range(n+1)]\n",
    "start = 1000000000 # c\n",
    "end = 1\n",
    "\n",
    "for _ in range(m):\n",
    "    x, y, weight = map(int, input().split())\n",
    "    adj[x].append((y, weight))\n",
    "    adj[y].append((x, weight))\n",
    "    start = min(start, weight)\n",
    "    end = max(end, weight)\n",
    "\n",
    "start_node, end_node = map(int, input().split())\n",
    "\n",
    "result = start\n",
    "\n",
    "def bfs(c):\n",
    "    queue = deque([start_node])\n",
    "    visited = [False] * (n+1)\n",
    "    visited[start_node] = True\n",
    "    \n",
    "    while queue:\n",
    "        x = queue.popleft()\n",
    "        for y, weight in adj[x]:\n",
    "            if not visited[y] and weight >= c:\n",
    "                visited[y] = True\n",
    "                queue.append(y)\n",
    "    \n",
    "    return visited[end_node]\n",
    "\n",
    "while (start <= end):\n",
    "    mid = (start + end) // 2\n",
    "    if bfs(mid):\n",
    "        result = mid\n",
    "        start = mid + 1\n",
    "    else:\n",
    "        end = mid - 1\n",
    "        \n",
    "print(result)"
   ]
  },
  {
   "cell_type": "code",
   "execution_count": null,
   "metadata": {},
   "outputs": [],
   "source": []
  }
 ],
 "metadata": {
  "kernelspec": {
   "display_name": "Python 3",
   "language": "python",
   "name": "python3"
  },
  "language_info": {
   "codemirror_mode": {
    "name": "ipython",
    "version": 3
   },
   "file_extension": ".py",
   "mimetype": "text/x-python",
   "name": "python",
   "nbconvert_exporter": "python",
   "pygments_lexer": "ipython3",
   "version": "3.6.9"
  }
 },
 "nbformat": 4,
 "nbformat_minor": 4
}
