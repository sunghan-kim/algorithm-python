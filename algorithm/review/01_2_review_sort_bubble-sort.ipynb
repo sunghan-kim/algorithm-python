{
 "cells": [
  {
   "cell_type": "markdown",
   "metadata": {},
   "source": [
    "# 1. 버블 정렬 (복습)"
   ]
  },
  {
   "cell_type": "code",
   "execution_count": 6,
   "metadata": {},
   "outputs": [
    {
     "name": "stdout",
     "output_type": "stream",
     "text": [
      "[91, 28, 71, 58, 9, 93, 86, 26, 69, 83, 20, 24, 14, 51, 85, 47, 54, 59, 39, 30, 77, 1, 35, 8, 40, 60, 88, 68, 66, 23, 13, 42, 11, 5, 16, 98, 89, 67, 95, 6, 72, 94, 27, 87, 41, 64, 34, 90, 76, 22]\n"
     ]
    }
   ],
   "source": [
    "import random\n",
    "\n",
    "dataList = random.sample(range(100), 50)\n",
    "print(dataList)"
   ]
  },
  {
   "cell_type": "code",
   "execution_count": 9,
   "metadata": {},
   "outputs": [],
   "source": [
    "def bubble_sort(dataList):\n",
    "    for i in  range(len(dataList) - 1):\n",
    "        swap = False\n",
    "        for i2 in range(len(dataList) - i - 1):\n",
    "            if dataList[i2] > dataList[i2+1]:\n",
    "                dataList[i2], dataList[i2+1] = dataList[i2+1], dataList[i2]\n",
    "                swap = True\n",
    "        if swap == False:\n",
    "            break\n",
    "    print(dataList)"
   ]
  },
  {
   "cell_type": "code",
   "execution_count": 10,
   "metadata": {},
   "outputs": [
    {
     "name": "stdout",
     "output_type": "stream",
     "text": [
      "[1, 5, 6, 8, 9, 11, 13, 14, 16, 20, 22, 23, 24, 26, 27, 28, 30, 34, 35, 39, 40, 41, 42, 47, 51, 54, 58, 59, 60, 64, 66, 67, 68, 69, 71, 72, 76, 77, 83, 85, 86, 87, 88, 89, 90, 91, 93, 94, 95, 98]\n"
     ]
    }
   ],
   "source": [
    "bubble_sort(dataList)"
   ]
  },
  {
   "cell_type": "code",
   "execution_count": null,
   "metadata": {},
   "outputs": [],
   "source": []
  }
 ],
 "metadata": {
  "kernelspec": {
   "display_name": "Python 3",
   "language": "python",
   "name": "python3"
  },
  "language_info": {
   "codemirror_mode": {
    "name": "ipython",
    "version": 3
   },
   "file_extension": ".py",
   "mimetype": "text/x-python",
   "name": "python",
   "nbconvert_exporter": "python",
   "pygments_lexer": "ipython3",
   "version": "3.6.9"
  }
 },
 "nbformat": 4,
 "nbformat_minor": 4
}
