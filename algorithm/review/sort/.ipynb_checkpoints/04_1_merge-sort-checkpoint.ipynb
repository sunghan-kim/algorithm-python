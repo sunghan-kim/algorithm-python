{
 "cells": [
  {
   "cell_type": "markdown",
   "metadata": {},
   "source": [
    "# 4. 병합 정렬 (복습)"
   ]
  },
  {
   "cell_type": "code",
   "execution_count": 3,
   "metadata": {},
   "outputs": [],
   "source": [
    "def split_func(data):\n",
    "    medium = int(len(data)/2)\n",
    "    print(medium)\n",
    "    left = data[:medium]\n",
    "    right = data[medium:]\n",
    "    print(left, right)"
   ]
  },
  {
   "cell_type": "code",
   "execution_count": 4,
   "metadata": {},
   "outputs": [
    {
     "name": "stdout",
     "output_type": "stream",
     "text": [
      "2\n",
      "[1, 5] [3, 2, 4]\n"
     ]
    }
   ],
   "source": [
    "split_func([1, 5, 3, 2, 4])"
   ]
  },
  {
   "cell_type": "code",
   "execution_count": 5,
   "metadata": {},
   "outputs": [],
   "source": [
    "def mergesplit(data):\n",
    "    if len(data) == 1:\n",
    "        return data\n",
    "    medium = int(len(data)/2)\n",
    "    left = mergesplit(data[:medium])\n",
    "    right = mergesplit(data[medium:])\n",
    "    return merge(left, right)"
   ]
  },
  {
   "cell_type": "code",
   "execution_count": 6,
   "metadata": {},
   "outputs": [],
   "source": [
    "# merge() / left : 1, right : 1\n",
    "def merge(left, right):\n",
    "    sorted_list = list()\n",
    "    small = \"\"\n",
    "    \n",
    "    if left[0] > right[0]:\n",
    "        sorted_list.append(right[0])\n",
    "        small = \"right\"\n",
    "    else:\n",
    "        sorted_list.append(left[0])\n",
    "        small = \"left\"\n",
    "        \n",
    "    if small == \"left\":\n",
    "        sorted_list.append(right[0])\n",
    "    else:\n",
    "        sorted_list.append(left[0])\n",
    "        \n",
    "    return sorted_list"
   ]
  },
  {
   "cell_type": "code",
   "execution_count": 7,
   "metadata": {},
   "outputs": [
    {
     "data": {
      "text/plain": [
       "[0, 3]"
      ]
     },
     "execution_count": 7,
     "metadata": {},
     "output_type": "execute_result"
    }
   ],
   "source": [
    "left = [0]\n",
    "right = [3]\n",
    "merge(left, right)"
   ]
  },
  {
   "cell_type": "code",
   "execution_count": 9,
   "metadata": {},
   "outputs": [],
   "source": [
    "# merge() / left : 2, right : 1\n",
    "def merge(left, right):\n",
    "    sorted_list = list()\n",
    "    left_point, right_point = 0, 0\n",
    "    \n",
    "    while len(left) > left_point and len(right) > right_point:\n",
    "        if left[left_point] > right[right_point]:\n",
    "            sorted_list.append(right[right_point])\n",
    "            right_point += 1\n",
    "        else:\n",
    "            sorted_list.append(left[left_point])\n",
    "            left_point += 1\n",
    "            \n",
    "    while len(left) > left_point:\n",
    "        sorted_list.append(left[left_point])\n",
    "        left_point += 1\n",
    "    \n",
    "    while len(right) > right_point:\n",
    "        sorted_list.append(right[right_point])\n",
    "        right_point += 1\n",
    "        \n",
    "    return sorted_list"
   ]
  },
  {
   "cell_type": "code",
   "execution_count": 10,
   "metadata": {},
   "outputs": [
    {
     "data": {
      "text/plain": [
       "[0, 1, 2]"
      ]
     },
     "execution_count": 10,
     "metadata": {},
     "output_type": "execute_result"
    }
   ],
   "source": [
    "left = [0, 2]\n",
    "right = [1]\n",
    "\n",
    "merge(left, right)"
   ]
  },
  {
   "cell_type": "code",
   "execution_count": 11,
   "metadata": {},
   "outputs": [],
   "source": [
    "# merge() / left : 2, right : 2\n",
    "def merge(left, right):\n",
    "    sorted_list = list()\n",
    "    left_point, right_point = 0, 0\n",
    "    \n",
    "    while len(left) > left_point and len(right) > right_point:\n",
    "        if left[left_point] > right[right_point]:\n",
    "            sorted_list.append(right[right_point])\n",
    "            right_point += 1\n",
    "        else:\n",
    "            sorted_list.append(left[left_point])\n",
    "            left_point += 1\n",
    "            \n",
    "    while len(left) > left_point:\n",
    "        sorted_list.append(left[left_point])\n",
    "        left_point += 1\n",
    "        \n",
    "    while len(right) > right_point:\n",
    "        sorted_list.append(right[right_point])\n",
    "        right_point += 1\n",
    "            \n",
    "    return sorted_list"
   ]
  },
  {
   "cell_type": "code",
   "execution_count": 12,
   "metadata": {},
   "outputs": [
    {
     "data": {
      "text/plain": [
       "[0, 1, 2, 3]"
      ]
     },
     "execution_count": 12,
     "metadata": {},
     "output_type": "execute_result"
    }
   ],
   "source": [
    "left = [0, 2]\n",
    "right = [1, 3]\n",
    "\n",
    "merge(left, right)"
   ]
  },
  {
   "cell_type": "code",
   "execution_count": 18,
   "metadata": {},
   "outputs": [],
   "source": [
    "def merge(left, right):\n",
    "    merged = list()\n",
    "    left_point, right_point = 0, 0\n",
    "    \n",
    "    # case 1 - left/right 둘 다 있을 때\n",
    "    while len(left) > left_point and len(right) > right_point:\n",
    "        if left[left_point] > right[right_point]:\n",
    "            merged.append(right[right_point])\n",
    "            right_point += 1\n",
    "        else:\n",
    "            merged.append(left[left_point])\n",
    "            left_point += 1\n",
    "            \n",
    "    # case 2 - left 데이터가 없을 때\n",
    "    while len(left) > left_point:\n",
    "        merged.append(left[left_point])\n",
    "        left_append += 1\n",
    "        \n",
    "    # case 3 - right 데이터가 없을 때\n",
    "    while len(right) > right_point:\n",
    "        merged.append(right[right_point])\n",
    "        right_point += 1\n",
    "    \n",
    "    return merged"
   ]
  },
  {
   "cell_type": "code",
   "execution_count": 19,
   "metadata": {},
   "outputs": [
    {
     "data": {
      "text/plain": [
       "[1, 3, 2, 4, 5, 9, 10, 11]"
      ]
     },
     "execution_count": 19,
     "metadata": {},
     "output_type": "execute_result"
    }
   ],
   "source": [
    "left = [3, 2, 5, 9]\n",
    "right = [1, 4, 10, 11]\n",
    "\n",
    "merge(left, right)"
   ]
  },
  {
   "cell_type": "code",
   "execution_count": 20,
   "metadata": {},
   "outputs": [],
   "source": [
    "def merge(left, right):\n",
    "    merged = list()\n",
    "    left_point, right_point = 0, 0\n",
    "    \n",
    "    # case 1 - left/right 둘 다 있을 때\n",
    "    while len(left) > left_point and len(right) > right_point:\n",
    "        if left[left_point] > right[right_point]:\n",
    "            merged.append(right[right_point])\n",
    "            right_point += 1\n",
    "        else:\n",
    "            merged.append(left[left_point])\n",
    "            left_point += 1\n",
    "        \n",
    "    # case 2 - left 데이터가 없을 때\n",
    "    while len(left) > left_point:\n",
    "        merged.append(left[left_point])\n",
    "        left_point += 1\n",
    "    \n",
    "    # case 3 - right 데이터가 없을 때\n",
    "    while len(right) > right_point:\n",
    "        merged.append(right[right_point])\n",
    "        right_point += 1\n",
    "        \n",
    "    return merged\n",
    "\n",
    "def mergesplit(data):\n",
    "    if len(data) <= 1:\n",
    "        return data\n",
    "    medium = int(len(data) / 2)\n",
    "    left = mergesplit(data[:medium])\n",
    "    right = mergesplit(data[medium:])\n",
    "    return merge(left, right)"
   ]
  },
  {
   "cell_type": "code",
   "execution_count": 21,
   "metadata": {},
   "outputs": [
    {
     "name": "stdout",
     "output_type": "stream",
     "text": [
      "[94, 19, 23, 13, 27, 89, 70, 45, 76, 54]\n"
     ]
    },
    {
     "data": {
      "text/plain": [
       "[13, 19, 23, 27, 45, 54, 70, 76, 89, 94]"
      ]
     },
     "execution_count": 21,
     "metadata": {},
     "output_type": "execute_result"
    }
   ],
   "source": [
    "import random\n",
    "\n",
    "data_list = random.sample(range(100), 10)\n",
    "print(data_list)\n",
    "mergesplit(data_list)"
   ]
  },
  {
   "cell_type": "code",
   "execution_count": null,
   "metadata": {},
   "outputs": [],
   "source": []
  }
 ],
 "metadata": {
  "kernelspec": {
   "display_name": "Python 3",
   "language": "python",
   "name": "python3"
  },
  "language_info": {
   "codemirror_mode": {
    "name": "ipython",
    "version": 3
   },
   "file_extension": ".py",
   "mimetype": "text/x-python",
   "name": "python",
   "nbconvert_exporter": "python",
   "pygments_lexer": "ipython3",
   "version": "3.6.9"
  }
 },
 "nbformat": 4,
 "nbformat_minor": 4
}
